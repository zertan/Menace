{
 "cells": [
  {
   "cell_type": "markdown",
   "metadata": {},
   "source": [
    "# Community Sampling"
   ]
  },
  {
   "cell_type": "code",
   "execution_count": 1,
   "metadata": {
    "collapsed": false
   },
   "outputs": [],
   "source": [
    "from collections import namedtuple\n",
    "from itertools import cycle\n",
    "\n",
    "from os.path import join, exists\n",
    "from os import makedirs, chdir,getcwd,fchmod\n",
    "from glob import glob\n",
    "import shutil\n",
    "\n",
    "import time\n",
    "\n",
    "import numpy as np\n",
    "\n",
    "import pandas as pd\n",
    "\n",
    "import re\n",
    "\n",
    "import scipy as sc\n",
    "from scipy.stats import norm\n",
    "from scipy.stats import expon\n",
    "import scipy.interpolate as interpolate\n",
    "import scipy.integrate\n",
    "from scipy.fftpack import fft, ifft\n",
    "\n",
    "from lmfit.models import Model\n",
    "from lmfit import conf_interval\n",
    "\n",
    "%matplotlib inline\n",
    "import matplotlib\n",
    "import matplotlib.pyplot as plt\n",
    "\n",
    "from Bio import SeqIO\n",
    "from Bio.SeqRecord import SeqRecord\n",
    "\n",
    "from Bio.Seq import MutableSeq\n",
    "from Bio.Alphabet import IUPAC\n",
    "\n",
    "import docker\n",
    "\n",
    "import configparser\n",
    "\n",
    "import seaborn as sns\n",
    "sns.set_context(\"paper\")"
   ]
  },
  {
   "cell_type": "markdown",
   "metadata": {},
   "source": [
    "## Definitions"
   ]
  },
  {
   "cell_type": "code",
   "execution_count": 2,
   "metadata": {
    "collapsed": true
   },
   "outputs": [],
   "source": [
    "def create_mount_run(image,mount_dir,cmd,envs):\n",
    "    if envs:    \n",
    "        container = cli.create_container(\n",
    "            image=image, command=cmd, volumes=['/mnt/vol'],\n",
    "            host_config=cli.create_host_config(binds={\n",
    "                mount_dir: {\n",
    "                    'bind': '/mnt/vol',\n",
    "                    'mode': 'rw',\n",
    "                }\n",
    "            }),\n",
    "            environment=envs\n",
    "        )\n",
    "    else:\n",
    "        container = cli.create_container(\n",
    "            image=image, command=cmd, volumes=['/mnt/vol'],\n",
    "            host_config=cli.create_host_config(binds={\n",
    "                mount_dir: {\n",
    "                    'bind': '/mnt/vol',\n",
    "                    'mode': 'rw',\n",
    "                }\n",
    "            })\n",
    "        )\n",
    "    ctr=container.get('Id')\n",
    "    cli.start(ctr)\n",
    "    cli.wait(ctr,60*60*24*10)\n",
    "    return cli.logs(ctr)"
   ]
  },
  {
   "cell_type": "code",
   "execution_count": 3,
   "metadata": {
    "collapsed": false
   },
   "outputs": [],
   "source": [
    "def Gekv(B,C):\n",
    "    return 2**(1 - B)/(C*np.log(2))*(1 - 2**(-C))"
   ]
  },
  {
   "cell_type": "code",
   "execution_count": 4,
   "metadata": {
    "collapsed": false
   },
   "outputs": [],
   "source": [
    "def Gekv(C,D):\n",
    "    return 2**(C + D)/(C*np.log(2))*(1 - 2**(-C))"
   ]
  },
  {
   "cell_type": "code",
   "execution_count": 5,
   "metadata": {
    "collapsed": true
   },
   "outputs": [],
   "source": [
    "def Asnok(R,C,D,l):\n",
    "    return R/(Gekv(C,D) * l)\n",
    "    #R_{ij} & = G_{eqv,ij} \\, l_{ij} \\, A_{ij}"
   ]
  },
  {
   "cell_type": "code",
   "execution_count": 6,
   "metadata": {
    "collapsed": false
   },
   "outputs": [
    {
     "data": {
      "text/plain": [
       "0.40776824535522777"
      ]
     },
     "execution_count": 6,
     "metadata": {},
     "output_type": "execute_result"
    }
   ],
   "source": [
    "Asnok(.6,.5,.3,1)"
   ]
  },
  {
   "cell_type": "code",
   "execution_count": 7,
   "metadata": {
    "collapsed": false
   },
   "outputs": [
    {
     "data": {
      "text/plain": [
       "0.38168014374858189"
      ]
     },
     "execution_count": 7,
     "metadata": {},
     "output_type": "execute_result"
    },
    {
     "data": {
      "image/png": "[encoded data removed]",
      "text/plain": [
       "<matplotlib.figure.Figure at 0x10db18190>"
      ]
     },
     "metadata": {},
     "output_type": "display_data"
    }
   ],
   "source": [
    "cc=np.linspace(0.1,.7,10)\n",
    "plt.plot(cc,np.abs(Asnok(.6,.3,.5,1)-Asnok(.6,.3,cc,1))/Asnok(.6,.3,.5,1))\n",
    "Asnok(.6,.3,.5,1)"
   ]
  },
  {
   "cell_type": "code",
   "execution_count": 8,
   "metadata": {
    "collapsed": false
   },
   "outputs": [],
   "source": [
    "#create_mount_run('sysbio-chalmers/menace',td,['ptr_pipeline.py -c /mnt/vol/comm0/project.conf fetch-references','-s',join('/mnt/vol/comm0/','acc')],'')"
   ]
  },
  {
   "cell_type": "code",
   "execution_count": 9,
   "metadata": {
    "collapsed": false
   },
   "outputs": [],
   "source": [
    "#create_mount_run('sysbio-chalmers/menace',td,'python ptr_pipeline.py -c /mnt/vol/comm0/project.conf -h','')"
   ]
  },
  {
   "cell_type": "code",
   "execution_count": 36,
   "metadata": {
    "collapsed": false
   },
   "outputs": [],
   "source": [
    "class Community:\n",
    "    \"A community defined by genome references (Biopython SeqRecords) and corresponding growth parameters.\"\n",
    "    def __init__(self,name,acc,growth_param,td,mapper,image,env,email):\n",
    "        self.name = name\n",
    "        self.conf = local_conf(join(td,name),mapper,email)\n",
    "        self.d_conf = local_conf(join('/mnt/vol',name),mapper,email)\n",
    "        self.args0=['menace','-c',join(self.d_conf['node_path'],'project.conf')]\n",
    "        self.env=env\n",
    "        self.image=image\n",
    "        \n",
    "        self.create_dirs(True)\n",
    "        save_config(self.conf,self.d_conf)\n",
    "        self.fetch_ref(acc)\n",
    "        \n",
    "        self.pop = self.init_population(acc,growth_param)\n",
    "        self.distribution = self.community_distribution()\n",
    "        self.samples = []\n",
    "        \n",
    "    def init_population(self,acc,growth_param):\n",
    "        records=open_records(glob(join(self.conf['ref_path'],'Fasta','*.fasta')))\n",
    "        population = namedtuple(\"population\", \"B C D l seq cells\")\n",
    "        \n",
    "        #refId=[x.id for x in records]\n",
    "        #acc=keys(comm)\n",
    "        #refInd=[acc.index(x) for x in refId]\n",
    "        \n",
    "        pop = {}\n",
    "        \n",
    "        #for i,rec in enumerate(records):\n",
    "        # add [:-2] to a if . removed \n",
    "        for i,a in enumerate(acc): \n",
    "            pop[a]=population(B = growth_param[i][0],C = growth_param[i][1],\n",
    "                             D = growth_param[i][2], l = len(records[a]),\n",
    "                             seq = records[a], cells=growth_param[i][3])\n",
    "        return pop\n",
    "    \n",
    "    def ptr(self):\n",
    "        for i,a in enumerate(self.pop.keys()):\n",
    "            print a+\": \"+str(2**growth_param[i][1])\n",
    "    \n",
    "    def community_distribution(self):\n",
    "        d=np.array([Gekv(p.B,p.C)*p.l*p.cells for p in self.pop.values()])\n",
    "        return d/d.sum()\n",
    "\n",
    "    #def ab_(self):   \n",
    "    #    return \n",
    "    \n",
    "    def sample(self,nr_samples):\n",
    "        nr_samples=np.array(nr_samples*self.distribution)\n",
    "        nr_samples=nr_samples.astype(np.int)\n",
    "        \n",
    "        samp_run=[]\n",
    "        for i,p in enumerate(self.pop.keys()):\n",
    "            samp_run.append(inverse_transform_sampling(self.pop[p].C,nr_samples[i],self.pop[p].l))\n",
    "        \n",
    "        self.samples.append(samp_run)\n",
    "    \n",
    "    def write_reads(self):\n",
    "        for i,samp in enumerate(self.samples):\n",
    "            write_reads(samp,self,self.conf['data_path'],self.name+str(i))\n",
    "    \n",
    "    def compare_fit(self):\n",
    "        if not self.samples:\n",
    "            print \"The community is not sampled, please run community.sample(nr_samples)\"\n",
    "            return;\n",
    "        \n",
    "        err_hfit=[]\n",
    "        err_pfit=[]\n",
    "        res_fit=[]\n",
    "        \n",
    "        for i,samp in enumerate(self.samples):\n",
    "            for acc in self.pop.keys():\n",
    "                try:\n",
    "                    depth_file=join(self.conf['output_path'],self.name+str(i),'npy',acc+'.depth.npy')\n",
    "                    best_file=join(self.conf['output_path'],self.name+str(i),'npy',acc+'.depth.best.npy')\n",
    "\n",
    "                    signal=2**(np.load(depth_file))\n",
    "                    signal=signal/(signal.sum()/len(signal))#*self.pop[acc].l)\n",
    "                    from_ptr=np.load(best_file)\n",
    "\n",
    "                    res=fit_signal(signal,self.pop[acc].l)\n",
    "                    res_fit.append(res)\n",
    "                    \n",
    "                    err_hfit.append((self.pop[acc].C-res.best_values['C'])/self.pop[acc].C)\n",
    "\n",
    "                    err_pfit.append((self.pop[acc].C-from_ptr[2]+from_ptr[3])/self.pop[acc].C)\n",
    "                    print \"Simulated value: \"+str(self.pop[acc].C)\n",
    "                    print \"Error from this fit: \"+str(err_hfit[-1])+ ' value: ' + str(res.best_values['C'])\n",
    "                    print \"Error from initial PTR fit \"+str(err_pfit[-1])+' value: ' + str(from_ptr[2]-from_ptr[3])\n",
    "                except Exception as Ex:\n",
    "                    print \"Ex\"\n",
    "                    pass\n",
    "        return [res_fit,err_hfit,err_pfit]\n",
    "    \n",
    "    \n",
    "    def fetch_ref(self,acc=''):\n",
    "        acc_path = join(self.conf['node_path'],\"acc\")\n",
    "        f = open(acc_path, \"w\")\n",
    "        \n",
    "        if not acc:\n",
    "            f.write(\"\\n\".join(self.pop.keys()))\n",
    "        else:\n",
    "            f.write(\"\\n\".join(acc))\n",
    "        f.close()\n",
    "        \n",
    "        create_mount_run(self.image,td,self.args0+['fetch-references','-s',join(self.d_conf['node_path'],'acc')],self.env)\n",
    "\n",
    "    def build_index(self):\n",
    "        create_mount_run(self.image,td,self.args0+['build-index'],self.env)\n",
    "\n",
    "    def run_pipeline(self):\n",
    "        create_mount_run(self.image,td,\" \".join(['/bin/bash -c \"']+self.args0+['make']+[';']+self.args0+['run\"']),self.env)\n",
    "        \n",
    "    def collect(self):\n",
    "        create_mount_run(self.image,td,self.args0+['collect'],self.env)\n",
    "        \n",
    "    def create_dirs(self,from_init=False):\n",
    "        if exists(self.conf['node_path']) and from_init:\n",
    "            shutil.rmtree(self.conf['node_path'])\n",
    "        \n",
    "        for d in [self.conf['node_path'],self.conf['data_path'],self.conf['output_path'],self.conf['ref_path']]:\n",
    "            if not exists(d):\n",
    "                makedirs(d)\n",
    "\n",
    "    #def complexity(self):\n",
    "        #len(self.pop)\n",
    "        #return complexity"
   ]
  },
  {
   "cell_type": "code",
   "execution_count": 11,
   "metadata": {
    "collapsed": true
   },
   "outputs": [],
   "source": [
    "import numpy as np\n",
    "\n",
    "def cartesian(arrays, out=None):\n",
    "    \"\"\"\n",
    "    Generate a cartesian product of input arrays.\n",
    "\n",
    "    Parameters\n",
    "    ----------\n",
    "    arrays : list of array-like\n",
    "        1-D arrays to form the cartesian product of.\n",
    "    out : ndarray\n",
    "        Array to place the cartesian product in.\n",
    "\n",
    "    Returns\n",
    "    -------\n",
    "    out : ndarray\n",
    "        2-D array of shape (M, len(arrays)) containing cartesian products\n",
    "        formed of input arrays.\n",
    "\n",
    "    Examples\n",
    "    --------\n",
    "    >>> cartesian(([1, 2, 3], [4, 5], [6, 7]))\n",
    "    array([[1, 4, 6],\n",
    "           [1, 4, 7],\n",
    "           [1, 5, 6],\n",
    "           [1, 5, 7],\n",
    "           [2, 4, 6],\n",
    "           [2, 4, 7],\n",
    "           [2, 5, 6],\n",
    "           [2, 5, 7],\n",
    "           [3, 4, 6],\n",
    "           [3, 4, 7],\n",
    "           [3, 5, 6],\n",
    "           [3, 5, 7]])\n",
    "\n",
    "    \"\"\"\n",
    "\n",
    "    arrays = [np.asarray(x) for x in arrays]\n",
    "    dtype = arrays[0].dtype\n",
    "\n",
    "    n = np.prod([x.size for x in arrays])\n",
    "    if out is None:\n",
    "        out = np.zeros([n, len(arrays)], dtype=dtype)\n",
    "\n",
    "    m = n / arrays[0].size\n",
    "    out[:,0] = np.repeat(arrays[0], m)\n",
    "    if arrays[1:]:\n",
    "        cartesian(arrays[1:], out=out[0:m,1:])\n",
    "        for j in xrange(1, arrays[0].size):\n",
    "            out[j*m:(j+1)*m,1:] = out[0:m,1:]\n",
    "    return out"
   ]
  },
  {
   "cell_type": "code",
   "execution_count": 12,
   "metadata": {
    "collapsed": false
   },
   "outputs": [],
   "source": [
    "def pxn(x, C, l):\n",
    "    return (2**(1 + C - (2*C*x)/float(l))*C*np.log(2))/(float(l)*(-1 + 2**C))"
   ]
  },
  {
   "cell_type": "code",
   "execution_count": 13,
   "metadata": {
    "collapsed": true
   },
   "outputs": [],
   "source": [
    "def pxn2(x, C):\n",
    "    return (2**(1 + C - (2*C*x))*C*np.log(2))/((-1 + 2**C));"
   ]
  },
  {
   "cell_type": "code",
   "execution_count": 14,
   "metadata": {
    "collapsed": true
   },
   "outputs": [],
   "source": [
    "def piecewise_prob(x,C,l):\n",
    "    conds=[(0 < x) & (x <= float(l)/2), x > float(l)/2]\n",
    "    funcs=[lambda x: pxn(x,C,l)/float(2),lambda x: pxn((l-x),C,l)/float(2)]\n",
    "    return np.piecewise(x,conds,funcs)"
   ]
  },
  {
   "cell_type": "code",
   "execution_count": 15,
   "metadata": {
    "collapsed": true
   },
   "outputs": [],
   "source": [
    "def piecewise_prob2(x,C):\n",
    "    conds=[(0 < x) & (x <= float(1)/2), x > float(1)/2]\n",
    "    funcs=[lambda x: pxn(x,C,1)/float(2),lambda x: pxn2((1-x),C,1)/float(2)]\n",
    "    return np.piecewise(x,conds,funcs)"
   ]
  },
  {
   "cell_type": "code",
   "execution_count": 16,
   "metadata": {
    "collapsed": false
   },
   "outputs": [],
   "source": [
    "def inverse_transform_sampling(C,n_samples,l=1):\n",
    "    x = np.linspace(0, float(1)/1.7, 100)\n",
    "    y = np.linspace(pxn(.5,C,1),pxn(0,C,1),100)\n",
    "\n",
    "    pdf=interpolate.interp1d(x,pxn(x,C,1))\n",
    "    cdf = [scipy.integrate.quad(lambda x: pdf(x),0,i)[0] for i in np.linspace(0,.5,100)]\n",
    "    inv_cdf = interpolate.interp1d(cdf, np.linspace(0,.5,100))\n",
    "    \n",
    "    r = np.random.rand(n_samples)\n",
    "    v=l*np.round(inv_cdf(r[:int(n_samples/2)]),4)\n",
    "    v2=l*(1-np.round(inv_cdf(r[int(n_samples/2):]),4))\n",
    "    v=np.concatenate([v,v2])\n",
    "    \n",
    "    return v.astype(np.int)"
   ]
  },
  {
   "cell_type": "code",
   "execution_count": 17,
   "metadata": {
    "collapsed": false
   },
   "outputs": [],
   "source": [
    "def read_pair(header,ind,seq,pos,l):\n",
    "    def circular_yield(x,pos,sub,l):\n",
    "        if (pos>l):\n",
    "            return x[pos-l:pos-l+sub]\n",
    "        elif (pos+sub>l):\n",
    "            r=pos+sub-l\n",
    "            x2=x[pos:pos+sub-r]\n",
    "            return x2+x[0:r]\n",
    "        else:\n",
    "            return x[pos:pos+sub]\n",
    "\n",
    "    #base_error_rate = .02\n",
    "    #mutation_rate = .001\n",
    "    #nuc=[\"A\",\"C\",\"G\",\"T\"]\n",
    "    \n",
    "    # generate a normally distributued insert size of mean 300 and sd 40 \n",
    "    #insert_size = int(norm.rvs(size=1,loc=300,scale=30)[0])\n",
    "    insert_size = int(500)\n",
    "    \n",
    "    r1 = circular_yield(seq,pos,100,l)\n",
    "    r2 = circular_yield(seq,pos+insert_size,100,l)\n",
    "    \n",
    "    # flip reads according to seqs error and mutation rate\n",
    "    #ra=[]\n",
    "    #for r in [r1,r2]:\n",
    "    #    rr=np.random.random(100)\n",
    "    #    m_ind=[i for i,j in enumerate(rr) if j < base_error_rate]\n",
    "    #    char=np.random.choice(nuc,len(m_ind))\n",
    "    #    a=list(r)\n",
    "    #    for i,ind in enumerate(m_ind):\n",
    "    #        a[ind]=char[i] \n",
    "    #    ra.append(\"\".join(a))\n",
    "        #r_tmp=r_tmp[:m_ind[0]]\n",
    "        #for i,index in enumerate(m_ind[1:]):\n",
    "        #    r_tmp = r_tmp[:index] + char[i] + r[index + 1:]\n",
    "    #[r1,r2]=ra\n",
    "\n",
    "    #nrs=[str(np.random.randint(low=1000,high=2000)),str(np.random.randint(low=10**4,high=2*10**4)),str(np.random.randint(low=10**5,high=2*10**5))]\n",
    "    rec1=SeqRecord(r1,id=header+\"_\"+str(pos)+\".\"+str(ind),description=\"RANDXXLAB\"+str(pos)+\"_\"+str(pos+insert_size+100)+\":0:0\"+\"/1\")\n",
    "    rec2=SeqRecord(r2,id=header+\"_\"+str(pos)+\".\"+str(ind),description=\"RANDXXLAB\"+str(pos)+\"_\"+str(pos+insert_size+100)+\":0:0\"+\"/2\")\n",
    "    #rec1=SeqRecord(r1,id=header+\".\"+str(ind),description=\"FCB00YLABXX:6:\"+nrs[0]+\":\"+nrs[1]+\":\"+nrs[2]+\"/1\")\n",
    "    #rec2=SeqRecord(r2,id=header+\".\"+str(ind),description=\"FCB00YLABXX:6:\"+nrs[0]+\":\"+nrs[1]+\":\"+nrs[2]+\"/2\")\n",
    "    \n",
    "    #rec1=SeqRecord(r1,id=header+\"_\"+str(pos)+\"_\"+str(pos+insert_size)+\"/1\",description=\"\")\n",
    "    #rec2=SeqRecord(r2,id=header+\"_\"+str(pos)+\"_\"+str(pos+insert_size)+\"/2\",description=\"\")\n",
    "    rec2=rec2.reverse_complement(id=header+\"_\"+str(pos)+\".\"+str(ind),description=\"RANDXXLAB\"+str(pos)+\"_\"+str(pos+insert_size+100)+\":0:0\"+\"/2\")\n",
    "    #rec2=SeqRecord(r2,id=header+\".\"+str(ind)+\"/2\",description=\"\")\n",
    "    rec1.letter_annotations['phred_quality']=[17]*100\n",
    "    rec2.letter_annotations['phred_quality']=[17]*100\n",
    "    \n",
    "    #rec1.description=\n",
    "    \n",
    "    return(rec1,rec2)\n",
    "    "
   ]
  },
  {
   "cell_type": "code",
   "execution_count": 18,
   "metadata": {
    "collapsed": true
   },
   "outputs": [],
   "source": [
    "def open_records(fasta):\n",
    "    records={};\n",
    "    for f in fasta:\n",
    "        handle = open(f, \"rU\")\n",
    "        tmp=list(SeqIO.parse(handle, \"fasta\"))\n",
    "        m=re.match('.*(N[CTZ]_([A-Z]{2})*[0-9]{6}).*',tmp[0].id)\n",
    "        records[m.group(0)]=tmp[0].seq\n",
    "        handle.close()\n",
    "    \n",
    "    return records"
   ]
  },
  {
   "cell_type": "code",
   "execution_count": 19,
   "metadata": {
    "collapsed": true
   },
   "outputs": [],
   "source": [
    "def write_reads(samples,comm,directory,name):\n",
    "    f1 = open(join(directory,name+\"_1.fastq\"), \"w\")\n",
    "    f2 = open(join(directory,name+\"_2.fastq\"), \"w\")\n",
    "    \n",
    "    for i,p in enumerate(comm.pop.keys()):\n",
    "        for j,pos in enumerate( samples[i].tolist()):\n",
    "            r1,r2 = read_pair(name+\"_\"+p,str(j+1),comm.pop[p].seq,pos,comm.pop[p].l)\n",
    "\n",
    "            SeqIO.write(r1, f1, \"fastq\")\n",
    "            SeqIO.write(r2, f2, \"fastq\")\n",
    "    \n",
    "    f1.close()\n",
    "    f2.close()"
   ]
  },
  {
   "cell_type": "code",
   "execution_count": 20,
   "metadata": {
    "collapsed": false,
    "scrolled": true
   },
   "outputs": [],
   "source": [
    "def plot_samples(samples):\n",
    "    y=[np.bincount(s) for s in samples]\n",
    "    for p in y:\n",
    "        plt.plot(p/float(p.sum()),marker='.',linestyle='None')"
   ]
  },
  {
   "cell_type": "code",
   "execution_count": 21,
   "metadata": {
    "collapsed": false
   },
   "outputs": [],
   "source": [
    "def local_conf(td,mapper,email):   \n",
    "    return {\n",
    "            'project': 'ptr_simulation',\n",
    "            'cluster': '',\n",
    "            'job_name': 'ptr_simulation',\n",
    "            'job_nodes': '1',\n",
    "            'cpu_cores': '4',\n",
    "            'estimated_time': '',\n",
    "\n",
    "            'node_path': td,\n",
    "            'ref_path': join(td,'References'),\n",
    "            'data_path': join(td,'Data'),\n",
    "            'output_path': join(td,'Out'),\n",
    "            'doric_path': join(td,'DoriC'),\n",
    "\n",
    "            'mapper': mapper,\n",
    "            'ref_name': 'sim',\n",
    "            'nr_samples': '1',\n",
    "            'samples_per_node': '1',\n",
    "            'email': email,\n",
    "            'data_prefix': '',\n",
    "            'start_ind': '1',\n",
    "            'job_range': '1',\n",
    "\n",
    "            'ftp_url': '',\n",
    "            'data_url': ''\n",
    "        }"
   ]
  },
  {
   "cell_type": "code",
   "execution_count": 22,
   "metadata": {
    "collapsed": false
   },
   "outputs": [],
   "source": [
    "def run_community_analysis(exec_string,td,mapper,acc,growth_param,community,nr_samples,topname):\n",
    "    chdir(td)\n",
    "    comm=[]\n",
    "    docker_td='/mnt/vol'\n",
    "    \n",
    "    for i,c in enumerate(community):\n",
    "        accs=[acc[x] for x in c]\n",
    "        grs=[growth_param[x] for x in c]\n",
    "\n",
    "        wd='comm_'+str(topname)+str(i)\n",
    "        docker_fd=join(docker_td,wd)\n",
    "        fd=join(td,wd)\n",
    "        \n",
    "        # create dirs\n",
    "        if 'd' in exec_string:\n",
    "            if exists(fd):\n",
    "                shutil.rmtree(fd)\n",
    "            for d in [wd,join(wd,'Data'),join(wd,'Out')]:\n",
    "                if not exists(d):\n",
    "                    makedirs(d)\n",
    "        \n",
    "        chdir(wd)\n",
    "        lconf=local_conf(fd,mapper)\n",
    "        conf=local_conf(docker_fd,mapper)\n",
    "        save_config(lconf,conf)\n",
    "        \n",
    "        args0=['/home/Programs/PTR-Pipeline/ptr_pipeline.py','-c',join(conf['node_path'],'project.conf'),'-e','hedani@chalmers.se']\n",
    "        \n",
    "        if 'f' in exec_string:\n",
    "            f = open(\"acc\", \"w\")\n",
    "            f.write(\"\\n\".join(accs))\n",
    "            f.close()\n",
    "\n",
    "            create_mount_run('centos/hedani',td,args0+['fetch-references','-s',join(conf['node_path'],'acc')])\n",
    "\n",
    "        if 's' in exec_string:\n",
    "            # create community and sample\n",
    "            # name,acc,growth_param,td,mapper\n",
    "            comm.append(Community(wd,accs,grs,td,'bowtie2'))\n",
    "            comm[i].sample(nr_samples)\n",
    "            comm[i].write_reads()\n",
    "\n",
    "        if 'b' in exec_string: create_mount_run('centos/hedani',conf['node_path'],args0+['build-index'])\n",
    "\n",
    "        if 'm' in exec_string: create_mount_run('centos/hedani',conf['node_path'],args0+['make'])\n",
    "\n",
    "        if 'r' in exec_string: create_mount_run('centos/hedani',conf['node_path'],args0+['run'])\n",
    "\n",
    "        #chdir('..')\n",
    "        \n",
    "    return comm"
   ]
  },
  {
   "cell_type": "code",
   "execution_count": 23,
   "metadata": {
    "collapsed": false
   },
   "outputs": [],
   "source": [
    "def fit_signal(signal,l):\n",
    "    x1=np.linspace(0,1,len(signal))\n",
    "    \n",
    "    piecewiseModel=Model(piecewise_prob)\n",
    "    piecewiseModel.set_param_hint('l',     value=1,vary=False)\n",
    "    piecewiseModel.set_param_hint('C',   vary=True,  value=.1,min=0,max=1)\n",
    "    piecewiseModel.make_params()\n",
    "    \n",
    "    res=piecewiseModel.fit(signal,x=x1,weights=np.sin(1.5*x1)+1.5)\n",
    "    return res"
   ]
  },
  {
   "cell_type": "code",
   "execution_count": 24,
   "metadata": {
    "collapsed": true
   },
   "outputs": [],
   "source": [
    "def save_config(lconf,conf):\n",
    "    Config = configparser.ConfigParser()\n",
    "    Config.optionxform = str\n",
    "    \n",
    "    cfgfile = open(join(lconf['node_path'],'project.conf'),'w')\n",
    "\n",
    "    Config.add_section('Project')\n",
    "    Config.set('Project','ProjectID',conf['project'])\n",
    "    Config.set('Project','Cluster',conf['cluster'])\n",
    "    Config.set('Project','JobName',conf['job_name'])\n",
    "    Config.set('Project','JobNodes',conf['job_nodes'])\n",
    "    Config.set('Project','CpuCores',conf['cpu_cores'])\n",
    "    Config.set('Project','EstimatedTime',conf['estimated_time'])\n",
    "    \n",
    "    Config.add_section('Directories')\n",
    "    Config.set('Directories','Node',conf['node_path'])\n",
    "    Config.set('Directories','References',conf['ref_path'])\n",
    "    Config.set('Directories','Data',conf['data_path'])\n",
    "    Config.set('Directories','Output',conf['output_path'])\n",
    "    Config.set('Directories','DoriC',conf['doric_path'])\n",
    "    \n",
    "    Config.add_section('Other')\n",
    "    Config.set('Other','Mapper',conf['mapper'])\n",
    "    Config.set('Other','RefName',conf['ref_name'])\n",
    "    Config.set('Other','NrSamples',conf['nr_samples'])\n",
    "    Config.set('Other','SamplesPerNode',conf['samples_per_node'])\n",
    "    Config.set('Other','Email',conf['email'])\n",
    "    Config.set('Other','DataPrefix',conf['data_prefix'])\n",
    "    Config.set('Other','StartInd',conf['start_ind'])\n",
    "    Config.set('Other','JobRange',conf['job_range'])\n",
    "    Config.set('Other','FtpURL',conf['ftp_url'])\n",
    "    Config.set('Other','DataURL',conf['data_url'])\n",
    "    \n",
    "    Config.write(cfgfile)\n",
    "    cfgfile.close()"
   ]
  },
  {
   "cell_type": "code",
   "execution_count": 25,
   "metadata": {
    "collapsed": true
   },
   "outputs": [],
   "source": [
    "def mutation_run():\n",
    "    rec.seq=mutateSeq(mutable_seq,.01)\n",
    "    \n",
    "    MutableSeq(str(rec.seq), IUPAC.unambiguous_dna)\n",
    "    \n",
    "    rec.id=\"mut_\"+rec.id\n",
    "    rec.description=\"mut_\"+rec.description\n",
    "    rec.name=\"mut_\"+rec.name\n",
    "    with open(sys.argv[2], \"w\") as output_handle:\n",
    "        SeqIO.write(rec, output_handle, \"fasta\")"
   ]
  },
  {
   "cell_type": "code",
   "execution_count": 26,
   "metadata": {
    "collapsed": true
   },
   "outputs": [],
   "source": [
    "def compare_fit(c):\n",
    "    err_hfit=[]\n",
    "    err_pfit=[]\n",
    "    res_fit=[]\n",
    "    \n",
    "    header=['C','Error','ACC','Coverage','Method','Sample']\n",
    "    df=pd.DataFrame([],columns=header)\n",
    "    \n",
    "    #ab=pd.read_csv(join(c.conf['output_path'],'Collect','Abundance.csv'),sep=';')\n",
    "    \n",
    "    for i,samp in enumerate(c.samples):\n",
    "        #ab_t=ab[c.name+str(i)]\n",
    "        res_fit_tmp=[]\n",
    "        err_hfit_tmp=[]\n",
    "        err_pfit_tmp=[]\n",
    "        \n",
    "        for acc in c.pop.keys():\n",
    "            try:\n",
    "                depth_file=join(c.conf['output_path'],c.name+str(i),'npy',acc+'.depth.npy')\n",
    "                best_file=join(c.conf['output_path'],c.name+str(i),'npy',acc+'.depth.best.npy')\n",
    "\n",
    "                signal=2**(np.load(depth_file))\n",
    "                signal=signal/(signal.sum()/len(signal))#*self.pop[acc].l)\n",
    "                \n",
    "                # extra deblurring\n",
    "                signal=smooth_signal(signal,10**3)\n",
    "                signal=sharpen_filter(signal)\n",
    "                \n",
    "                from_ptr=np.load(best_file)\n",
    "\n",
    "                res=fit_signal(signal,c.pop[acc].l)\n",
    "                #res_fit_tmp.append(res.best_values['C'])\n",
    "\n",
    "                err_hfit_tmp=np.abs(c.pop[acc].C-res.best_values['C'])/c.pop[acc].C\n",
    "                df=df.append(pd.DataFrame([[res.best_values['C'],err_hfit_tmp,acc,c.samples[0][i].size/float(c.pop[acc].l),'H',i]],columns=header),ignore_index=True)\n",
    "                #err_pfit_tmp.append((c.pop[acc].C-from_ptr[2]+from_ptr[3])/c.pop[acc].C)\n",
    "                #print \"Simulated value: \"+str(c.pop[acc].C)\n",
    "                #print \"Error from this fit: \"+str(err_hfit_tmp[-1])+ ' value: ' + str(res.best_values['C'])\n",
    "                #print \"Error from initial PTR fit \"+str(err_pfit_tmp[-1])+' value: ' + str(from_ptr[2]-from_ptr[3])\n",
    "            except Exception as Ex:\n",
    "                print Ex\n",
    "                pass\n",
    "        \n",
    "        #res_fit.append(res_fit_tmp)\n",
    "        #err_hfit.append(err_hfit_tmp)\n",
    "        #err_pfit.append(err_pfit_tmp)\n",
    "    return df#[res_fit,np.abs(err_hfit),np.abs(err_pfit)]"
   ]
  },
  {
   "cell_type": "code",
   "execution_count": 27,
   "metadata": {
    "collapsed": false
   },
   "outputs": [],
   "source": [
    "#cmd=['/bin/bash -c \"']+['cd /mnt/vol ; /home/Programs/PTR-Pipeline/extra/ptrc_commands.sh']+['comm00_1.fastq']+['comm0_2.fastq\"']\n",
    "#create_mount_run('centos/hedani',td,\" \".join(cmd),envs)"
   ]
  },
  {
   "cell_type": "code",
   "execution_count": 28,
   "metadata": {
    "collapsed": false
   },
   "outputs": [],
   "source": [
    "def compare_fit_ptrc(c):\n",
    "    #ptrc=[]\n",
    "    #ptre=[]\n",
    "    \n",
    "    header=['C','Error','ACC','Coverage','Method','Sample']\n",
    "    df=pd.DataFrame([],columns=header)\n",
    "    \n",
    "    for i,samp in enumerate(c.samples):\n",
    "        ptrc_tmp=[]\n",
    "        ptre_tmp=[]\n",
    "        cmd=['/bin/bash -c \"']+['cd /mnt/vol ; /home/Programs/PTR-Pipeline/extra/ptrc_commands.sh']+[c.name+str(i)+'_1.fastq']+[c.name+str(i)+'_2.fastq\"']\n",
    "        create_mount_run('centos/hedani',td,\" \".join(cmd),envs)\n",
    "        ptr_file=join(c.conf['output_path'],'ptrc_out')\n",
    "        ptrc_frame=pd.read_pickle(ptr_file)\n",
    "        ind_val=ptrc_frame.index.values\n",
    "        for ind in ind_val:#range(ptrc_frame.shape[0]):\n",
    "            ptrc_tmp=ptrc_frame.loc[ind]['sm']#.ix[i]['sm'])\n",
    "            ptre_tmp=np.abs(np.log2(ptrc_frame.loc[ind]['sm'])-c.pop[ind[:-1]].C)/c.pop[ind[:-1]].C\n",
    "            df=df.append(pd.DataFrame([[np.log2(ptrc_tmp),ptre_tmp,ind[:-1],c.samples[0][i].size/float(c.pop[ind[:-1]].l),'K',i]],columns=header),ignore_index=True)\n",
    "            \n",
    "        #ptrc.append(ptrc_tmp)\n",
    "        #ptre.append(ptre_tmp)\n",
    "       \n",
    "    return df"
   ]
  },
  {
   "cell_type": "code",
   "execution_count": 29,
   "metadata": {
    "collapsed": false
   },
   "outputs": [],
   "source": [
    "def mv_filt(L,omega):\n",
    "    return (1/float(L))*(1-np.exp(-omega*1j*L))/(1-np.exp(-omega*1j))"
   ]
  },
  {
   "cell_type": "code",
   "execution_count": 30,
   "metadata": {
    "collapsed": true
   },
   "outputs": [],
   "source": [
    "def smooth_signal(signal,length):\n",
    "    xi=np.linspace(0,1,len(signal))\n",
    "    xi2=np.linspace(0,1,length)\n",
    "    iss=scipy.interpolate.UnivariateSpline(xi,signal,k=3)\n",
    "    iss.set_smoothing_factor(.00001)\n",
    "    return iss(xi2)"
   ]
  },
  {
   "cell_type": "code",
   "execution_count": 31,
   "metadata": {
    "collapsed": true
   },
   "outputs": [],
   "source": [
    "def sharpen_filter(signal):\n",
    "    x = np.linspace(-0.00001*np.pi/float(1), 1*np.pi/float(1),10**3)\n",
    "    return np.roll(ifft(fft(signal,10**3)/mv_filt(1.27,x))[0:len(signal)],np.int64(-125/2))"
   ]
  },
  {
   "cell_type": "code",
   "execution_count": 32,
   "metadata": {
    "collapsed": true
   },
   "outputs": [],
   "source": [
    "def triangle(length, amplitude, y_offset):\n",
    "    section = length // 4\n",
    "    for direction in (1, -1):\n",
    "        for i in range(section):\n",
    "            yield y_offset + i * (amplitude / section) * direction\n",
    "        for i in range(section):\n",
    "            yield y_offset + (amplitude - (i * (amplitude / section))) * direction"
   ]
  },
  {
   "cell_type": "code",
   "execution_count": 91,
   "metadata": {
    "collapsed": false
   },
   "outputs": [
    {
     "data": {
      "text/html": [
       "<div>\n",
       "<table border=\"1\" class=\"dataframe\">\n",
       "  <thead>\n",
       "    <tr style=\"text-align: right;\">\n",
       "      <th></th>\n",
       "      <th>A</th>\n",
       "      <th>B</th>\n",
       "    </tr>\n",
       "  </thead>\n",
       "  <tbody>\n",
       "    <tr>\n",
       "      <th>0</th>\n",
       "      <td>5.0</td>\n",
       "      <td>6.0</td>\n",
       "    </tr>\n",
       "    <tr>\n",
       "      <th>1</th>\n",
       "      <td>7.0</td>\n",
       "      <td>8.0</td>\n",
       "    </tr>\n",
       "  </tbody>\n",
       "</table>\n",
       "</div>"
      ],
      "text/plain": [
       "     A    B\n",
       "0  5.0  6.0\n",
       "1  7.0  8.0"
      ]
     },
     "execution_count": 91,
     "metadata": {},
     "output_type": "execute_result"
    }
   ],
   "source": [
    "df = pd.DataFrame([], columns=list('AB'))\n",
    "df2 = pd.DataFrame([[5, 6], [7, 8]], columns=list('AB'))\n",
    "df.append(df2)"
   ]
  },
  {
   "cell_type": "code",
   "execution_count": null,
   "metadata": {
    "collapsed": true
   },
   "outputs": [],
   "source": [
    "real_c=np.tile([growth_param[sel[0][1]][1],growth_param[sel[0][0]][1]],(5,1))\n",
    "ptrc_e=np.abs(np.log2(ptrc)-real_c)/real_c"
   ]
  },
  {
   "cell_type": "code",
   "execution_count": 119,
   "metadata": {
    "collapsed": false
   },
   "outputs": [
    {
     "data": {
      "text/plain": [
       "'HOSTNAME=32f1e4ebca92\\nBITSEQ_DIR=/opt/BitSeq\\nPATH=/opt/conda/bin:/opt/PTR-Pipeline:/usr/local/sbin:/usr/local/bin:/usr/sbin:/usr/bin:/sbin:/bin\\nPWD=/\\nLANG=C.UTF-8\\nMENACE_DIR=/opt/PTR-Pipeline\\nSHLVL=1\\nHOME=/root\\nCONDA_DIR=/opt/conda\\nCONDA_VER=4.2.12\\n_=/usr/bin/env\\n'"
      ]
     },
     "execution_count": 119,
     "metadata": {},
     "output_type": "execute_result"
    }
   ],
   "source": [
    "create_mount_run('menace',td,\" \".join(cmd),'')"
   ]
  },
  {
   "cell_type": "code",
   "execution_count": 101,
   "metadata": {
    "collapsed": false
   },
   "outputs": [],
   "source": [
    "cmd=['/bin/bash -c \"']+['cd /mnt/vol/comm0 ; ptr_pipeline.py -c project.conf fetch-references -s acc\"']"
   ]
  },
  {
   "cell_type": "code",
   "execution_count": 118,
   "metadata": {
    "collapsed": true
   },
   "outputs": [],
   "source": [
    "cmd=['/bin/bash -c \"']+['env\"']"
   ]
  },
  {
   "cell_type": "code",
   "execution_count": 29,
   "metadata": {
    "collapsed": false
   },
   "outputs": [],
   "source": [
    "cmd=['/bin/bash -c \"']+['cd /mnt/vol ; /home/Programs/PTR-Pipeline/extra/ptrc_commands.sh']+[c.name+str(0)+'_1.fastq']+[c.name+str(0)+'_1.fastq\"']"
   ]
  },
  {
   "cell_type": "code",
   "execution_count": 30,
   "metadata": {
    "collapsed": false
   },
   "outputs": [
    {
     "data": {
      "text/plain": [
       "'/bin/bash -c \" cd /mnt/vol ; /home/Programs/PTR-Pipeline/extra/ptrc_commands.sh comm00_1.fastq comm00_1.fastq\"'"
      ]
     },
     "execution_count": 30,
     "metadata": {},
     "output_type": "execute_result"
    }
   ],
   "source": [
    "\" \".join(cmd)"
   ]
  },
  {
   "cell_type": "code",
   "execution_count": 35,
   "metadata": {
    "collapsed": false
   },
   "outputs": [],
   "source": [
    "ptrc=pd.read_pickle(ptr_file)"
   ]
  },
  {
   "cell_type": "code",
   "execution_count": 36,
   "metadata": {
    "collapsed": false
   },
   "outputs": [
    {
     "data": {
      "text/plain": [
       "array(['NC_000913.3\\n'], dtype=object)"
      ]
     },
     "execution_count": 36,
     "metadata": {},
     "output_type": "execute_result"
    }
   ],
   "source": [
    "ptrc.index.values"
   ]
  },
  {
   "cell_type": "code",
   "execution_count": 34,
   "metadata": {
    "collapsed": false
   },
   "outputs": [],
   "source": [
    "ptr_file=join(c.conf['output_path'],'ptrc_out')"
   ]
  },
  {
   "cell_type": "code",
   "execution_count": 716,
   "metadata": {
    "collapsed": false
   },
   "outputs": [
    {
     "data": {
      "text/plain": [
       "1.3020408163265316"
      ]
     },
     "execution_count": 716,
     "metadata": {},
     "output_type": "execute_result"
    }
   ],
   "source": [
    "ptrc.loc['Escherichia coli\\n']['sm']"
   ]
  },
  {
   "cell_type": "code",
   "execution_count": 662,
   "metadata": {
    "collapsed": false
   },
   "outputs": [],
   "source": [
    "ptrc=compare_fit_ptrc(c)"
   ]
  },
  {
   "cell_type": "code",
   "execution_count": null,
   "metadata": {
    "collapsed": false
   },
   "outputs": [],
   "source": [
    "ab=pd.read_csv(join(c.conf['output_path'],'Collect','Abundance.csv'),sep=';')"
   ]
  },
  {
   "cell_type": "code",
   "execution_count": 176,
   "metadata": {
    "collapsed": false
   },
   "outputs": [
    {
     "data": {
      "text/html": [
       "<div>\n",
       "<table border=\"1\" class=\"dataframe\">\n",
       "  <thead>\n",
       "    <tr style=\"text-align: right;\">\n",
       "      <th></th>\n",
       "      <th>Name</th>\n",
       "      <th>ut/comm00</th>\n",
       "      <th>ut/comm01</th>\n",
       "      <th>ut/comm02</th>\n",
       "    </tr>\n",
       "  </thead>\n",
       "  <tbody>\n",
       "    <tr>\n",
       "      <th>0</th>\n",
       "      <td>Escherichia coli</td>\n",
       "      <td>1.0</td>\n",
       "      <td>1.0</td>\n",
       "      <td>1.0</td>\n",
       "    </tr>\n",
       "  </tbody>\n",
       "</table>\n",
       "</div>"
      ],
      "text/plain": [
       "               Name  ut/comm00  ut/comm01  ut/comm02\n",
       "0  Escherichia coli        1.0        1.0        1.0"
      ]
     },
     "execution_count": 176,
     "metadata": {},
     "output_type": "execute_result"
    }
   ],
   "source": [
    "ab"
   ]
  },
  {
   "cell_type": "code",
   "execution_count": 100,
   "metadata": {
    "collapsed": false
   },
   "outputs": [
    {
     "ename": "KeyError",
     "evalue": "'NC_000913.3'",
     "output_type": "error",
     "traceback": [
      "\u001b[0;31m---------------------------------------------------------------------------\u001b[0m",
      "\u001b[0;31mKeyError\u001b[0m                                  Traceback (most recent call last)",
      "\u001b[0;32m<ipython-input-100-8005d172c621>\u001b[0m in \u001b[0;36m<module>\u001b[0;34m()\u001b[0m\n\u001b[0;32m----> 1\u001b[0;31m \u001b[0mc\u001b[0m\u001b[0;34m=\u001b[0m\u001b[0mCommunity\u001b[0m\u001b[0;34m(\u001b[0m\u001b[0;34m'comm0'\u001b[0m\u001b[0;34m,\u001b[0m\u001b[0;34m[\u001b[0m\u001b[0macc\u001b[0m\u001b[0;34m[\u001b[0m\u001b[0ms\u001b[0m\u001b[0;34m]\u001b[0m \u001b[0;32mfor\u001b[0m \u001b[0ms\u001b[0m \u001b[0;32min\u001b[0m \u001b[0msel\u001b[0m\u001b[0;34m[\u001b[0m\u001b[0;36m0\u001b[0m\u001b[0;34m]\u001b[0m\u001b[0;34m]\u001b[0m\u001b[0;34m,\u001b[0m\u001b[0;34m[\u001b[0m\u001b[0mgrowth_param\u001b[0m\u001b[0;34m[\u001b[0m\u001b[0ms\u001b[0m\u001b[0;34m]\u001b[0m \u001b[0;32mfor\u001b[0m \u001b[0ms\u001b[0m \u001b[0;32min\u001b[0m \u001b[0msel\u001b[0m\u001b[0;34m[\u001b[0m\u001b[0;36m0\u001b[0m\u001b[0;34m]\u001b[0m\u001b[0;34m]\u001b[0m\u001b[0;34m,\u001b[0m\u001b[0mtd\u001b[0m\u001b[0;34m,\u001b[0m\u001b[0;34m'bowtie2'\u001b[0m\u001b[0;34m,\u001b[0m\u001b[0;34m'sysbio-chalmers/menace'\u001b[0m\u001b[0;34m,\u001b[0m\u001b[0menvs\u001b[0m\u001b[0;34m,\u001b[0m\u001b[0;34m'hedani@chalmers.se'\u001b[0m\u001b[0;34m)\u001b[0m\u001b[0;34m\u001b[0m\u001b[0m\n\u001b[0m",
      "\u001b[0;32m<ipython-input-88-66a0252464ad>\u001b[0m in \u001b[0;36m__init__\u001b[0;34m(self, name, acc, growth_param, td, mapper, image, env, email)\u001b[0m\n\u001b[1;32m     13\u001b[0m         \u001b[0mself\u001b[0m\u001b[0;34m.\u001b[0m\u001b[0mfetch_ref\u001b[0m\u001b[0;34m(\u001b[0m\u001b[0macc\u001b[0m\u001b[0;34m)\u001b[0m\u001b[0;34m\u001b[0m\u001b[0m\n\u001b[1;32m     14\u001b[0m \u001b[0;34m\u001b[0m\u001b[0m\n\u001b[0;32m---> 15\u001b[0;31m         \u001b[0mself\u001b[0m\u001b[0;34m.\u001b[0m\u001b[0mpop\u001b[0m \u001b[0;34m=\u001b[0m \u001b[0mself\u001b[0m\u001b[0;34m.\u001b[0m\u001b[0minit_population\u001b[0m\u001b[0;34m(\u001b[0m\u001b[0macc\u001b[0m\u001b[0;34m,\u001b[0m\u001b[0mgrowth_param\u001b[0m\u001b[0;34m)\u001b[0m\u001b[0;34m\u001b[0m\u001b[0m\n\u001b[0m\u001b[1;32m     16\u001b[0m         \u001b[0mself\u001b[0m\u001b[0;34m.\u001b[0m\u001b[0mdistribution\u001b[0m \u001b[0;34m=\u001b[0m \u001b[0mself\u001b[0m\u001b[0;34m.\u001b[0m\u001b[0mcommunity_distribution\u001b[0m\u001b[0;34m(\u001b[0m\u001b[0;34m)\u001b[0m\u001b[0;34m\u001b[0m\u001b[0m\n\u001b[1;32m     17\u001b[0m         \u001b[0mself\u001b[0m\u001b[0;34m.\u001b[0m\u001b[0msamples\u001b[0m \u001b[0;34m=\u001b[0m \u001b[0;34m[\u001b[0m\u001b[0;34m]\u001b[0m\u001b[0;34m\u001b[0m\u001b[0m\n",
      "\u001b[0;32m<ipython-input-88-66a0252464ad>\u001b[0m in \u001b[0;36minit_population\u001b[0;34m(self, acc, growth_param)\u001b[0m\n\u001b[1;32m     31\u001b[0m         \u001b[0;32mfor\u001b[0m \u001b[0mi\u001b[0m\u001b[0;34m,\u001b[0m\u001b[0ma\u001b[0m \u001b[0;32min\u001b[0m \u001b[0menumerate\u001b[0m\u001b[0;34m(\u001b[0m\u001b[0macc\u001b[0m\u001b[0;34m)\u001b[0m\u001b[0;34m:\u001b[0m\u001b[0;34m\u001b[0m\u001b[0m\n\u001b[1;32m     32\u001b[0m             pop[a]=population(B = growth_param[i][0],C = growth_param[i][1],\n\u001b[0;32m---> 33\u001b[0;31m                              \u001b[0mD\u001b[0m \u001b[0;34m=\u001b[0m \u001b[0mgrowth_param\u001b[0m\u001b[0;34m[\u001b[0m\u001b[0mi\u001b[0m\u001b[0;34m]\u001b[0m\u001b[0;34m[\u001b[0m\u001b[0;36m2\u001b[0m\u001b[0;34m]\u001b[0m\u001b[0;34m,\u001b[0m \u001b[0ml\u001b[0m \u001b[0;34m=\u001b[0m \u001b[0mlen\u001b[0m\u001b[0;34m(\u001b[0m\u001b[0mrecords\u001b[0m\u001b[0;34m[\u001b[0m\u001b[0ma\u001b[0m\u001b[0;34m]\u001b[0m\u001b[0;34m)\u001b[0m\u001b[0;34m,\u001b[0m\u001b[0;34m\u001b[0m\u001b[0m\n\u001b[0m\u001b[1;32m     34\u001b[0m                              seq = records[a], cells=growth_param[i][3])\n\u001b[1;32m     35\u001b[0m         \u001b[0;32mreturn\u001b[0m \u001b[0mpop\u001b[0m\u001b[0;34m\u001b[0m\u001b[0m\n",
      "\u001b[0;31mKeyError\u001b[0m: 'NC_000913.3'"
     ]
    }
   ],
   "source": [
    "c=Community('comm0',[acc[s] for s in sel[0]],[growth_param[s] for s in sel[0]],td,'bowtie2','sysbio-chalmers/menace',envs,'hedani@chalmers.se')"
   ]
  },
  {
   "cell_type": "markdown",
   "metadata": {},
   "source": [
    "## Run"
   ]
  },
  {
   "cell_type": "code",
   "execution_count": 33,
   "metadata": {
    "collapsed": false
   },
   "outputs": [],
   "source": [
    "acc=['NC_000913.3','NC_007779.1','NC_002655.2','NC_009614.1','NC_017218.1']\n",
    "growth_param=[[.2, .5, .3, 100],[.2, .5, .3, 100],[.2, .5, .3,100],[0.0001, .8, .2, 100],[.1, .7, .2,100]]\n",
    "sel=[[0]]\n",
    "td='/Users/Shared/CommTest'\n",
    "accessions=[acc[s] for s in sel[0]]\n",
    "community_params=[growth_param[s] for s in sel[0]]"
   ]
  },
  {
   "cell_type": "code",
   "execution_count": 80,
   "metadata": {
    "collapsed": false
   },
   "outputs": [
    {
     "ename": "NameError",
     "evalue": "name 'c' is not defined",
     "output_type": "error",
     "traceback": [
      "\u001b[0;31m---------------------------------------------------------------------------\u001b[0m",
      "\u001b[0;31mNameError\u001b[0m                                 Traceback (most recent call last)",
      "\u001b[0;32m<ipython-input-80-41690c6579d6>\u001b[0m in \u001b[0;36m<module>\u001b[0;34m()\u001b[0m\n\u001b[0;32m----> 1\u001b[0;31m \u001b[0mc\u001b[0m\u001b[0;34m.\u001b[0m\u001b[0mdistribution\u001b[0m\u001b[0;34m\u001b[0m\u001b[0m\n\u001b[0m",
      "\u001b[0;31mNameError\u001b[0m: name 'c' is not defined"
     ]
    }
   ],
   "source": [
    "c.distribution"
   ]
  },
  {
   "cell_type": "code",
   "execution_count": 519,
   "metadata": {
    "collapsed": false
   },
   "outputs": [
    {
     "data": {
      "text/plain": [
       "'NC_017218.1'"
      ]
     },
     "execution_count": 519,
     "metadata": {},
     "output_type": "execute_result"
    }
   ],
   "source": [
    "c.pop.keys()[0]"
   ]
  },
  {
   "cell_type": "code",
   "execution_count": 451,
   "metadata": {
    "collapsed": false
   },
   "outputs": [
    {
     "data": {
      "text/plain": [
       "[0.7, 0.8, 0.5]"
      ]
     },
     "execution_count": 451,
     "metadata": {},
     "output_type": "execute_result"
    }
   ],
   "source": [
    "[c.pop[i].C for i in c.pop.keys()]"
   ]
  },
  {
   "cell_type": "code",
   "execution_count": 521,
   "metadata": {
    "collapsed": false
   },
   "outputs": [
    {
     "data": {
      "text/plain": [
       "0.008124625132975752"
      ]
     },
     "execution_count": 521,
     "metadata": {},
     "output_type": "execute_result"
    }
   ],
   "source": [
    "c.samples[0][0].size/float(c.pop[c.pop.keys()[0]].l)"
   ]
  },
  {
   "cell_type": "code",
   "execution_count": 525,
   "metadata": {
    "collapsed": false
   },
   "outputs": [
    {
     "data": {
      "text/plain": [
       "5163189"
      ]
     },
     "execution_count": 525,
     "metadata": {},
     "output_type": "execute_result"
    }
   ],
   "source": [
    "c.pop[c.pop.keys()[1]].l"
   ]
  },
  {
   "cell_type": "code",
   "execution_count": 34,
   "metadata": {
    "collapsed": false,
    "scrolled": true
   },
   "outputs": [],
   "source": [
    "cli = docker.Client(base_url='unix://var/run/docker.sock')\n",
    "img = 'centos/hedani'\n",
    "envs = docker.utils.parse_env_file(join(td,'env_centos'))\n",
    "#envs=''"
   ]
  },
  {
   "cell_type": "code",
   "execution_count": 105,
   "metadata": {
    "collapsed": false
   },
   "outputs": [],
   "source": [
    "community_arguments={\"name\":'comm0',\n",
    "                     \"acc\":accessions,\n",
    "                     \"growth_param\":community_params,\n",
    "                     \"td\":td,\n",
    "                     \"mapper\":\"bowtie2\",\n",
    "                     \"image\":\"sysbio-chalmers/menace\",\n",
    "                     \"env\":\"\",\n",
    "                     \"email\":\"hedani@chalmers.se\"}"
   ]
  },
  {
   "cell_type": "code",
   "execution_count": 37,
   "metadata": {
    "collapsed": false
   },
   "outputs": [
    {
     "name": "stderr",
     "output_type": "stream",
     "text": [
      "/System/Library/Frameworks/Python.framework/Versions/2.7/Extras/lib/python/scipy/integrate/quadpack.py:293: UserWarning: The maximum number of subdivisions (50) has been achieved.\n",
      "  If increasing the limit yields no improvement it is advised to analyze \n",
      "  the integrand in order to determine the difficulties.  If the position of a \n",
      "  local difficulty can be determined (singularity, discontinuity) one will \n",
      "  probably gain from splitting up the interval and calling the integrator \n",
      "  on the subranges.  Perhaps a special-purpose integrator should be used.\n",
      "  warnings.warn(msg)\n",
      "/System/Library/Frameworks/Python.framework/Versions/2.7/Extras/lib/python/scipy/integrate/quadpack.py:293: UserWarning: The occurrence of roundoff error is detected, which prevents \n",
      "  the requested tolerance from being achieved.  The error may be \n",
      "  underestimated.\n",
      "  warnings.warn(msg)\n"
     ]
    }
   ],
   "source": [
    "c=Community('comm0',[acc[s] for s in sel[0]],[growth_param[s] for s in sel[0]],td,'bowtie2',img,envs,'hedani@chalmers.se')\n",
    "c.build_index()\n",
    "tot_reads=np.linspace(10**5,10**5,1)\n",
    "for nr in tot_reads:\n",
    "    c.sample(nr)\n",
    "c.write_reads()\n",
    "c.run_pipeline()\n",
    "c.collect()"
   ]
  },
  {
   "cell_type": "code",
   "execution_count": 126,
   "metadata": {
    "collapsed": true
   },
   "outputs": [],
   "source": [
    "c=Community('comm0',[acc[s] for s in sel[0]],[growth_param[s] for s in sel[0]],td,'bowtie2','menace',envs,'hedani@chalmers.se')\n",
    "c.sample(10**4)"
   ]
  },
  {
   "cell_type": "code",
   "execution_count": 88,
   "metadata": {
    "collapsed": true
   },
   "outputs": [],
   "source": [
    "c.write_reads()"
   ]
  },
  {
   "cell_type": "code",
   "execution_count": null,
   "metadata": {
    "collapsed": true
   },
   "outputs": [],
   "source": [
    "c.build_index()"
   ]
  },
  {
   "cell_type": "code",
   "execution_count": null,
   "metadata": {
    "collapsed": true
   },
   "outputs": [],
   "source": [
    "c.run_pipeline()"
   ]
  },
  {
   "cell_type": "code",
   "execution_count": 335,
   "metadata": {
    "collapsed": true
   },
   "outputs": [],
   "source": [
    "c.collect()"
   ]
  },
  {
   "cell_type": "code",
   "execution_count": 89,
   "metadata": {
    "collapsed": false
   },
   "outputs": [],
   "source": [
    "totH=compare_fit(c)"
   ]
  },
  {
   "cell_type": "code",
   "execution_count": 90,
   "metadata": {
    "collapsed": false
   },
   "outputs": [],
   "source": [
    "totK=compare_fit_ptrc(c)"
   ]
  },
  {
   "cell_type": "code",
   "execution_count": 91,
   "metadata": {
    "collapsed": false
   },
   "outputs": [
    {
     "data": {
      "text/html": [
       "<div>\n",
       "<table border=\"1\" class=\"dataframe\">\n",
       "  <thead>\n",
       "    <tr style=\"text-align: right;\">\n",
       "      <th></th>\n",
       "      <th>C</th>\n",
       "      <th>Error</th>\n",
       "      <th>ACC</th>\n",
       "      <th>Coverage</th>\n",
       "      <th>Method</th>\n",
       "      <th>Sample</th>\n",
       "    </tr>\n",
       "  </thead>\n",
       "  <tbody>\n",
       "    <tr>\n",
       "      <th>0</th>\n",
       "      <td>0.458089</td>\n",
       "      <td>0.083823</td>\n",
       "      <td>NC_000913.3</td>\n",
       "      <td>0.021544</td>\n",
       "      <td>H</td>\n",
       "      <td>0.0</td>\n",
       "    </tr>\n",
       "  </tbody>\n",
       "</table>\n",
       "</div>"
      ],
      "text/plain": [
       "          C     Error          ACC  Coverage Method  Sample\n",
       "0  0.458089  0.083823  NC_000913.3  0.021544      H     0.0"
      ]
     },
     "execution_count": 91,
     "metadata": {},
     "output_type": "execute_result"
    }
   ],
   "source": [
    "totH"
   ]
  },
  {
   "cell_type": "code",
   "execution_count": 92,
   "metadata": {
    "collapsed": false
   },
   "outputs": [
    {
     "data": {
      "text/html": [
       "<div>\n",
       "<table border=\"1\" class=\"dataframe\">\n",
       "  <thead>\n",
       "    <tr style=\"text-align: right;\">\n",
       "      <th></th>\n",
       "      <th>C</th>\n",
       "      <th>Error</th>\n",
       "      <th>ACC</th>\n",
       "      <th>Coverage</th>\n",
       "      <th>Method</th>\n",
       "      <th>Sample</th>\n",
       "    </tr>\n",
       "  </thead>\n",
       "  <tbody>\n",
       "    <tr>\n",
       "      <th>0</th>\n",
       "      <td>0.034108</td>\n",
       "      <td>0.931784</td>\n",
       "      <td>NC_000913.3</td>\n",
       "      <td>0.021544</td>\n",
       "      <td>K</td>\n",
       "      <td>0.0</td>\n",
       "    </tr>\n",
       "  </tbody>\n",
       "</table>\n",
       "</div>"
      ],
      "text/plain": [
       "          C     Error          ACC  Coverage Method  Sample\n",
       "0  0.034108  0.931784  NC_000913.3  0.021544      K     0.0"
      ]
     },
     "execution_count": 92,
     "metadata": {},
     "output_type": "execute_result"
    }
   ],
   "source": [
    "totK"
   ]
  },
  {
   "cell_type": "code",
   "execution_count": 48,
   "metadata": {
    "collapsed": false
   },
   "outputs": [
    {
     "data": {
      "text/plain": [
       "'/bin/echo: /bin/echo: cannot execute binary file\\n'"
      ]
     },
     "execution_count": 48,
     "metadata": {},
     "output_type": "execute_result"
    }
   ],
   "source": [
    "create_mount_run('sysbio-chalmers/menace',td,'echo hej','')"
   ]
  },
  {
   "cell_type": "code",
   "execution_count": 36,
   "metadata": {
    "collapsed": false
   },
   "outputs": [
    {
     "ename": "APIError",
     "evalue": "500 Server Error: Internal Server Error (\"json: cannot unmarshal object into Go value of type string\")",
     "output_type": "error",
     "traceback": [
      "\u001b[0;31m---------------------------------------------------------------------------\u001b[0m",
      "\u001b[0;31mAPIError\u001b[0m                                  Traceback (most recent call last)",
      "\u001b[0;32m<ipython-input-36-687c57cdd391>\u001b[0m in \u001b[0;36m<module>\u001b[0;34m()\u001b[0m\n\u001b[1;32m      4\u001b[0m \u001b[0mtot\u001b[0m \u001b[0;34m=\u001b[0m \u001b[0mpd\u001b[0m\u001b[0;34m.\u001b[0m\u001b[0mDataFrame\u001b[0m\u001b[0;34m(\u001b[0m\u001b[0;34m[\u001b[0m\u001b[0;34m]\u001b[0m\u001b[0;34m,\u001b[0m \u001b[0mcolumns\u001b[0m\u001b[0;34m=\u001b[0m\u001b[0mheader\u001b[0m\u001b[0;34m)\u001b[0m\u001b[0;34m\u001b[0m\u001b[0m\n\u001b[1;32m      5\u001b[0m \u001b[0;32mfor\u001b[0m \u001b[0mi\u001b[0m \u001b[0;32min\u001b[0m \u001b[0mrange\u001b[0m\u001b[0;34m(\u001b[0m\u001b[0;36m1\u001b[0m\u001b[0;34m)\u001b[0m\u001b[0;34m:\u001b[0m\u001b[0;34m\u001b[0m\u001b[0m\n\u001b[0;32m----> 6\u001b[0;31m     \u001b[0mc\u001b[0m\u001b[0;34m=\u001b[0m\u001b[0mCommunity\u001b[0m\u001b[0;34m(\u001b[0m\u001b[0;34m'comm0'\u001b[0m\u001b[0;34m,\u001b[0m\u001b[0;34m[\u001b[0m\u001b[0macc\u001b[0m\u001b[0;34m[\u001b[0m\u001b[0ms\u001b[0m\u001b[0;34m]\u001b[0m \u001b[0;32mfor\u001b[0m \u001b[0ms\u001b[0m \u001b[0;32min\u001b[0m \u001b[0msel\u001b[0m\u001b[0;34m[\u001b[0m\u001b[0;36m0\u001b[0m\u001b[0;34m]\u001b[0m\u001b[0;34m]\u001b[0m\u001b[0;34m,\u001b[0m\u001b[0;34m[\u001b[0m\u001b[0mgrowth_param\u001b[0m\u001b[0;34m[\u001b[0m\u001b[0ms\u001b[0m\u001b[0;34m]\u001b[0m \u001b[0;32mfor\u001b[0m \u001b[0ms\u001b[0m \u001b[0;32min\u001b[0m \u001b[0msel\u001b[0m\u001b[0;34m[\u001b[0m\u001b[0;36m0\u001b[0m\u001b[0;34m]\u001b[0m\u001b[0;34m]\u001b[0m\u001b[0;34m,\u001b[0m\u001b[0mtd\u001b[0m\u001b[0;34m,\u001b[0m\u001b[0;34m'bowtie2'\u001b[0m\u001b[0;34m,\u001b[0m\u001b[0menvs\u001b[0m\u001b[0;34m,\u001b[0m\u001b[0;34m'sysbio-chalmers/menace'\u001b[0m\u001b[0;34m,\u001b[0m\u001b[0;34m'hedani@chalmers.se'\u001b[0m\u001b[0;34m)\u001b[0m\u001b[0;34m\u001b[0m\u001b[0m\n\u001b[0m\u001b[1;32m      7\u001b[0m \u001b[0;34m\u001b[0m\u001b[0m\n\u001b[1;32m      8\u001b[0m     \u001b[0mc\u001b[0m\u001b[0;34m.\u001b[0m\u001b[0mbuild_index\u001b[0m\u001b[0;34m(\u001b[0m\u001b[0;34m)\u001b[0m\u001b[0;34m\u001b[0m\u001b[0m\n",
      "\u001b[0;32m<ipython-input-8-66a0252464ad>\u001b[0m in \u001b[0;36m__init__\u001b[0;34m(self, name, acc, growth_param, td, mapper, image, env, email)\u001b[0m\n\u001b[1;32m     11\u001b[0m         \u001b[0mself\u001b[0m\u001b[0;34m.\u001b[0m\u001b[0mcreate_dirs\u001b[0m\u001b[0;34m(\u001b[0m\u001b[0mTrue\u001b[0m\u001b[0;34m)\u001b[0m\u001b[0;34m\u001b[0m\u001b[0m\n\u001b[1;32m     12\u001b[0m         \u001b[0msave_config\u001b[0m\u001b[0;34m(\u001b[0m\u001b[0mself\u001b[0m\u001b[0;34m.\u001b[0m\u001b[0mconf\u001b[0m\u001b[0;34m,\u001b[0m\u001b[0mself\u001b[0m\u001b[0;34m.\u001b[0m\u001b[0md_conf\u001b[0m\u001b[0;34m)\u001b[0m\u001b[0;34m\u001b[0m\u001b[0m\n\u001b[0;32m---> 13\u001b[0;31m         \u001b[0mself\u001b[0m\u001b[0;34m.\u001b[0m\u001b[0mfetch_ref\u001b[0m\u001b[0;34m(\u001b[0m\u001b[0macc\u001b[0m\u001b[0;34m)\u001b[0m\u001b[0;34m\u001b[0m\u001b[0m\n\u001b[0m\u001b[1;32m     14\u001b[0m \u001b[0;34m\u001b[0m\u001b[0m\n\u001b[1;32m     15\u001b[0m         \u001b[0mself\u001b[0m\u001b[0;34m.\u001b[0m\u001b[0mpop\u001b[0m \u001b[0;34m=\u001b[0m \u001b[0mself\u001b[0m\u001b[0;34m.\u001b[0m\u001b[0minit_population\u001b[0m\u001b[0;34m(\u001b[0m\u001b[0macc\u001b[0m\u001b[0;34m,\u001b[0m\u001b[0mgrowth_param\u001b[0m\u001b[0;34m)\u001b[0m\u001b[0;34m\u001b[0m\u001b[0m\n",
      "\u001b[0;32m<ipython-input-8-66a0252464ad>\u001b[0m in \u001b[0;36mfetch_ref\u001b[0;34m(self, acc)\u001b[0m\n\u001b[1;32m    104\u001b[0m         \u001b[0mf\u001b[0m\u001b[0;34m.\u001b[0m\u001b[0mclose\u001b[0m\u001b[0;34m(\u001b[0m\u001b[0;34m)\u001b[0m\u001b[0;34m\u001b[0m\u001b[0m\n\u001b[1;32m    105\u001b[0m \u001b[0;34m\u001b[0m\u001b[0m\n\u001b[0;32m--> 106\u001b[0;31m         \u001b[0mcreate_mount_run\u001b[0m\u001b[0;34m(\u001b[0m\u001b[0mself\u001b[0m\u001b[0;34m.\u001b[0m\u001b[0mimage\u001b[0m\u001b[0;34m,\u001b[0m\u001b[0mtd\u001b[0m\u001b[0;34m,\u001b[0m\u001b[0mself\u001b[0m\u001b[0;34m.\u001b[0m\u001b[0margs0\u001b[0m\u001b[0;34m+\u001b[0m\u001b[0;34m[\u001b[0m\u001b[0;34m'fetch-references'\u001b[0m\u001b[0;34m,\u001b[0m\u001b[0;34m'-s'\u001b[0m\u001b[0;34m,\u001b[0m\u001b[0mjoin\u001b[0m\u001b[0;34m(\u001b[0m\u001b[0mself\u001b[0m\u001b[0;34m.\u001b[0m\u001b[0md_conf\u001b[0m\u001b[0;34m[\u001b[0m\u001b[0;34m'node_path'\u001b[0m\u001b[0;34m]\u001b[0m\u001b[0;34m,\u001b[0m\u001b[0;34m'acc'\u001b[0m\u001b[0;34m)\u001b[0m\u001b[0;34m]\u001b[0m\u001b[0;34m,\u001b[0m\u001b[0mself\u001b[0m\u001b[0;34m.\u001b[0m\u001b[0menv\u001b[0m\u001b[0;34m)\u001b[0m\u001b[0;34m\u001b[0m\u001b[0m\n\u001b[0m\u001b[1;32m    107\u001b[0m \u001b[0;34m\u001b[0m\u001b[0m\n\u001b[1;32m    108\u001b[0m     \u001b[0;32mdef\u001b[0m \u001b[0mbuild_index\u001b[0m\u001b[0;34m(\u001b[0m\u001b[0mself\u001b[0m\u001b[0;34m)\u001b[0m\u001b[0;34m:\u001b[0m\u001b[0;34m\u001b[0m\u001b[0m\n",
      "\u001b[0;32m<ipython-input-2-80ddf06e139f>\u001b[0m in \u001b[0;36mcreate_mount_run\u001b[0;34m(image, mount_dir, cmd, envs)\u001b[0m\n\u001b[1;32m      8\u001b[0m             }\n\u001b[1;32m      9\u001b[0m         }),\n\u001b[0;32m---> 10\u001b[0;31m         \u001b[0menvironment\u001b[0m\u001b[0;34m=\u001b[0m\u001b[0menvs\u001b[0m\u001b[0;34m\u001b[0m\u001b[0m\n\u001b[0m\u001b[1;32m     11\u001b[0m     )\n\u001b[1;32m     12\u001b[0m     \u001b[0mctr\u001b[0m\u001b[0;34m=\u001b[0m\u001b[0mcontainer\u001b[0m\u001b[0;34m.\u001b[0m\u001b[0mget\u001b[0m\u001b[0;34m(\u001b[0m\u001b[0;34m'Id'\u001b[0m\u001b[0;34m)\u001b[0m\u001b[0;34m\u001b[0m\u001b[0m\n",
      "\u001b[0;32m/Library/Python/2.7/site-packages/docker/api/container.pyc\u001b[0m in \u001b[0;36mcreate_container\u001b[0;34m(self, image, command, hostname, user, detach, stdin_open, tty, mem_limit, ports, environment, dns, volumes, volumes_from, network_disabled, name, entrypoint, cpu_shares, working_dir, domainname, memswap_limit, cpuset, host_config, mac_address, labels, volume_driver, stop_signal, networking_config)\u001b[0m\n\u001b[1;32m    133\u001b[0m             \u001b[0mvolume_driver\u001b[0m\u001b[0;34m,\u001b[0m \u001b[0mstop_signal\u001b[0m\u001b[0;34m,\u001b[0m \u001b[0mnetworking_config\u001b[0m\u001b[0;34m,\u001b[0m\u001b[0;34m\u001b[0m\u001b[0m\n\u001b[1;32m    134\u001b[0m         )\n\u001b[0;32m--> 135\u001b[0;31m         \u001b[0;32mreturn\u001b[0m \u001b[0mself\u001b[0m\u001b[0;34m.\u001b[0m\u001b[0mcreate_container_from_config\u001b[0m\u001b[0;34m(\u001b[0m\u001b[0mconfig\u001b[0m\u001b[0;34m,\u001b[0m \u001b[0mname\u001b[0m\u001b[0;34m)\u001b[0m\u001b[0;34m\u001b[0m\u001b[0m\n\u001b[0m\u001b[1;32m    136\u001b[0m \u001b[0;34m\u001b[0m\u001b[0m\n\u001b[1;32m    137\u001b[0m     \u001b[0;32mdef\u001b[0m \u001b[0mcreate_container_config\u001b[0m\u001b[0;34m(\u001b[0m\u001b[0mself\u001b[0m\u001b[0;34m,\u001b[0m \u001b[0;34m*\u001b[0m\u001b[0margs\u001b[0m\u001b[0;34m,\u001b[0m \u001b[0;34m**\u001b[0m\u001b[0mkwargs\u001b[0m\u001b[0;34m)\u001b[0m\u001b[0;34m:\u001b[0m\u001b[0;34m\u001b[0m\u001b[0m\n",
      "\u001b[0;32m/Library/Python/2.7/site-packages/docker/api/container.pyc\u001b[0m in \u001b[0;36mcreate_container_from_config\u001b[0;34m(self, config, name)\u001b[0m\n\u001b[1;32m    144\u001b[0m         }\n\u001b[1;32m    145\u001b[0m         \u001b[0mres\u001b[0m \u001b[0;34m=\u001b[0m \u001b[0mself\u001b[0m\u001b[0;34m.\u001b[0m\u001b[0m_post_json\u001b[0m\u001b[0;34m(\u001b[0m\u001b[0mu\u001b[0m\u001b[0;34m,\u001b[0m \u001b[0mdata\u001b[0m\u001b[0;34m=\u001b[0m\u001b[0mconfig\u001b[0m\u001b[0;34m,\u001b[0m \u001b[0mparams\u001b[0m\u001b[0;34m=\u001b[0m\u001b[0mparams\u001b[0m\u001b[0;34m)\u001b[0m\u001b[0;34m\u001b[0m\u001b[0m\n\u001b[0;32m--> 146\u001b[0;31m         \u001b[0;32mreturn\u001b[0m \u001b[0mself\u001b[0m\u001b[0;34m.\u001b[0m\u001b[0m_result\u001b[0m\u001b[0;34m(\u001b[0m\u001b[0mres\u001b[0m\u001b[0;34m,\u001b[0m \u001b[0mTrue\u001b[0m\u001b[0;34m)\u001b[0m\u001b[0;34m\u001b[0m\u001b[0m\n\u001b[0m\u001b[1;32m    147\u001b[0m \u001b[0;34m\u001b[0m\u001b[0m\n\u001b[1;32m    148\u001b[0m     \u001b[0;32mdef\u001b[0m \u001b[0mcreate_host_config\u001b[0m\u001b[0;34m(\u001b[0m\u001b[0mself\u001b[0m\u001b[0;34m,\u001b[0m \u001b[0;34m*\u001b[0m\u001b[0margs\u001b[0m\u001b[0;34m,\u001b[0m \u001b[0;34m**\u001b[0m\u001b[0mkwargs\u001b[0m\u001b[0;34m)\u001b[0m\u001b[0;34m:\u001b[0m\u001b[0;34m\u001b[0m\u001b[0m\n",
      "\u001b[0;32m/Library/Python/2.7/site-packages/docker/client.pyc\u001b[0m in \u001b[0;36m_result\u001b[0;34m(self, response, json, binary)\u001b[0m\n\u001b[1;32m    176\u001b[0m     \u001b[0;32mdef\u001b[0m \u001b[0m_result\u001b[0m\u001b[0;34m(\u001b[0m\u001b[0mself\u001b[0m\u001b[0;34m,\u001b[0m \u001b[0mresponse\u001b[0m\u001b[0;34m,\u001b[0m \u001b[0mjson\u001b[0m\u001b[0;34m=\u001b[0m\u001b[0mFalse\u001b[0m\u001b[0;34m,\u001b[0m \u001b[0mbinary\u001b[0m\u001b[0;34m=\u001b[0m\u001b[0mFalse\u001b[0m\u001b[0;34m)\u001b[0m\u001b[0;34m:\u001b[0m\u001b[0;34m\u001b[0m\u001b[0m\n\u001b[1;32m    177\u001b[0m         \u001b[0;32massert\u001b[0m \u001b[0;32mnot\u001b[0m \u001b[0;34m(\u001b[0m\u001b[0mjson\u001b[0m \u001b[0;32mand\u001b[0m \u001b[0mbinary\u001b[0m\u001b[0;34m)\u001b[0m\u001b[0;34m\u001b[0m\u001b[0m\n\u001b[0;32m--> 178\u001b[0;31m         \u001b[0mself\u001b[0m\u001b[0;34m.\u001b[0m\u001b[0m_raise_for_status\u001b[0m\u001b[0;34m(\u001b[0m\u001b[0mresponse\u001b[0m\u001b[0;34m)\u001b[0m\u001b[0;34m\u001b[0m\u001b[0m\n\u001b[0m\u001b[1;32m    179\u001b[0m \u001b[0;34m\u001b[0m\u001b[0m\n\u001b[1;32m    180\u001b[0m         \u001b[0;32mif\u001b[0m \u001b[0mjson\u001b[0m\u001b[0;34m:\u001b[0m\u001b[0;34m\u001b[0m\u001b[0m\n",
      "\u001b[0;32m/Library/Python/2.7/site-packages/docker/client.pyc\u001b[0m in \u001b[0;36m_raise_for_status\u001b[0;34m(self, response, explanation)\u001b[0m\n\u001b[1;32m    172\u001b[0m             \u001b[0;32mif\u001b[0m \u001b[0me\u001b[0m\u001b[0;34m.\u001b[0m\u001b[0mresponse\u001b[0m\u001b[0;34m.\u001b[0m\u001b[0mstatus_code\u001b[0m \u001b[0;34m==\u001b[0m \u001b[0;36m404\u001b[0m\u001b[0;34m:\u001b[0m\u001b[0;34m\u001b[0m\u001b[0m\n\u001b[1;32m    173\u001b[0m                 \u001b[0;32mraise\u001b[0m \u001b[0merrors\u001b[0m\u001b[0;34m.\u001b[0m\u001b[0mNotFound\u001b[0m\u001b[0;34m(\u001b[0m\u001b[0me\u001b[0m\u001b[0;34m,\u001b[0m \u001b[0mresponse\u001b[0m\u001b[0;34m,\u001b[0m \u001b[0mexplanation\u001b[0m\u001b[0;34m=\u001b[0m\u001b[0mexplanation\u001b[0m\u001b[0;34m)\u001b[0m\u001b[0;34m\u001b[0m\u001b[0m\n\u001b[0;32m--> 174\u001b[0;31m             \u001b[0;32mraise\u001b[0m \u001b[0merrors\u001b[0m\u001b[0;34m.\u001b[0m\u001b[0mAPIError\u001b[0m\u001b[0;34m(\u001b[0m\u001b[0me\u001b[0m\u001b[0;34m,\u001b[0m \u001b[0mresponse\u001b[0m\u001b[0;34m,\u001b[0m \u001b[0mexplanation\u001b[0m\u001b[0;34m=\u001b[0m\u001b[0mexplanation\u001b[0m\u001b[0;34m)\u001b[0m\u001b[0;34m\u001b[0m\u001b[0m\n\u001b[0m\u001b[1;32m    175\u001b[0m \u001b[0;34m\u001b[0m\u001b[0m\n\u001b[1;32m    176\u001b[0m     \u001b[0;32mdef\u001b[0m \u001b[0m_result\u001b[0m\u001b[0;34m(\u001b[0m\u001b[0mself\u001b[0m\u001b[0;34m,\u001b[0m \u001b[0mresponse\u001b[0m\u001b[0;34m,\u001b[0m \u001b[0mjson\u001b[0m\u001b[0;34m=\u001b[0m\u001b[0mFalse\u001b[0m\u001b[0;34m,\u001b[0m \u001b[0mbinary\u001b[0m\u001b[0;34m=\u001b[0m\u001b[0mFalse\u001b[0m\u001b[0;34m)\u001b[0m\u001b[0;34m:\u001b[0m\u001b[0;34m\u001b[0m\u001b[0m\n",
      "\u001b[0;31mAPIError\u001b[0m: 500 Server Error: Internal Server Error (\"json: cannot unmarshal object into Go value of type string\")"
     ]
    }
   ],
   "source": [
    "header=['C','Error','ACC','Coverage','Method','Sample']\n",
    "totH = pd.DataFrame([], columns=header)\n",
    "totK = pd.DataFrame([], columns=header)\n",
    "tot = pd.DataFrame([], columns=header)\n",
    "for i in range(1):\n",
    "    c=Community('comm0',[acc[s] for s in sel[0]],[growth_param[s] for s in sel[0]],td,'bowtie2',envs,'sysbio-chalmers/menace','hedani@chalmers.se')\n",
    "\n",
    "    c.build_index()\n",
    "\n",
    "    tot_reads=np.linspace(10**5,10**5,1)\n",
    "    for nr in tot_reads:\n",
    "        c.sample(nr)\n",
    "\n",
    "    c.write_reads()\n",
    "\n",
    "    totK=totK.append(compare_fit_ptrc(c),ignore_index=True)\n",
    "    #[k_c,k_err]=\n",
    "\n",
    "    c.run_pipeline()\n",
    "\n",
    "    #[res,hfit,pfit]=\n",
    "    \n",
    "    \n",
    "    totH=totH.append(compare_fit(c),ignore_index=True)\n",
    "\n",
    "tot=totH\n",
    "tot=tot.append(totK,ignore_index=True)"
   ]
  },
  {
   "cell_type": "code",
   "execution_count": 428,
   "metadata": {
    "collapsed": true
   },
   "outputs": [],
   "source": [
    "tot=totH\n",
    "tot=tot.append(totK,ignore_index=True)"
   ]
  },
  {
   "cell_type": "code",
   "execution_count": 209,
   "metadata": {
    "collapsed": false
   },
   "outputs": [
    {
     "ename": "ValueError",
     "evalue": "labels ['CError'] not contained in axis",
     "output_type": "error",
     "traceback": [
      "\u001b[0;31m---------------------------------------------------------------------------\u001b[0m",
      "\u001b[0;31mValueError\u001b[0m                                Traceback (most recent call last)",
      "\u001b[0;32m<ipython-input-209-55051ac17cbd>\u001b[0m in \u001b[0;36m<module>\u001b[0;34m()\u001b[0m\n\u001b[0;32m----> 1\u001b[0;31m \u001b[0mtotK\u001b[0m\u001b[0;34m.\u001b[0m\u001b[0mdrop\u001b[0m\u001b[0;34m(\u001b[0m\u001b[0;34m'CError'\u001b[0m\u001b[0;34m,\u001b[0m \u001b[0maxis\u001b[0m\u001b[0;34m=\u001b[0m\u001b[0;36m1\u001b[0m\u001b[0;34m,\u001b[0m \u001b[0minplace\u001b[0m\u001b[0;34m=\u001b[0m\u001b[0mTrue\u001b[0m\u001b[0;34m)\u001b[0m\u001b[0;34m\u001b[0m\u001b[0m\n\u001b[0m",
      "\u001b[0;32m/Library/Python/2.7/site-packages/pandas/core/generic.pyc\u001b[0m in \u001b[0;36mdrop\u001b[0;34m(self, labels, axis, level, inplace, errors)\u001b[0m\n\u001b[1;32m   1871\u001b[0m                 \u001b[0mnew_axis\u001b[0m \u001b[0;34m=\u001b[0m \u001b[0maxis\u001b[0m\u001b[0;34m.\u001b[0m\u001b[0mdrop\u001b[0m\u001b[0;34m(\u001b[0m\u001b[0mlabels\u001b[0m\u001b[0;34m,\u001b[0m \u001b[0mlevel\u001b[0m\u001b[0;34m=\u001b[0m\u001b[0mlevel\u001b[0m\u001b[0;34m,\u001b[0m \u001b[0merrors\u001b[0m\u001b[0;34m=\u001b[0m\u001b[0merrors\u001b[0m\u001b[0;34m)\u001b[0m\u001b[0;34m\u001b[0m\u001b[0m\n\u001b[1;32m   1872\u001b[0m             \u001b[0;32melse\u001b[0m\u001b[0;34m:\u001b[0m\u001b[0;34m\u001b[0m\u001b[0m\n\u001b[0;32m-> 1873\u001b[0;31m                 \u001b[0mnew_axis\u001b[0m \u001b[0;34m=\u001b[0m \u001b[0maxis\u001b[0m\u001b[0;34m.\u001b[0m\u001b[0mdrop\u001b[0m\u001b[0;34m(\u001b[0m\u001b[0mlabels\u001b[0m\u001b[0;34m,\u001b[0m \u001b[0merrors\u001b[0m\u001b[0;34m=\u001b[0m\u001b[0merrors\u001b[0m\u001b[0;34m)\u001b[0m\u001b[0;34m\u001b[0m\u001b[0m\n\u001b[0m\u001b[1;32m   1874\u001b[0m             \u001b[0mdropped\u001b[0m \u001b[0;34m=\u001b[0m \u001b[0mself\u001b[0m\u001b[0;34m.\u001b[0m\u001b[0mreindex\u001b[0m\u001b[0;34m(\u001b[0m\u001b[0;34m**\u001b[0m\u001b[0;34m{\u001b[0m\u001b[0maxis_name\u001b[0m\u001b[0;34m:\u001b[0m \u001b[0mnew_axis\u001b[0m\u001b[0;34m}\u001b[0m\u001b[0;34m)\u001b[0m\u001b[0;34m\u001b[0m\u001b[0m\n\u001b[1;32m   1875\u001b[0m             \u001b[0;32mtry\u001b[0m\u001b[0;34m:\u001b[0m\u001b[0;34m\u001b[0m\u001b[0m\n",
      "\u001b[0;32m/Library/Python/2.7/site-packages/pandas/indexes/base.pyc\u001b[0m in \u001b[0;36mdrop\u001b[0;34m(self, labels, errors)\u001b[0m\n\u001b[1;32m   2964\u001b[0m             \u001b[0;32mif\u001b[0m \u001b[0merrors\u001b[0m \u001b[0;34m!=\u001b[0m \u001b[0;34m'ignore'\u001b[0m\u001b[0;34m:\u001b[0m\u001b[0;34m\u001b[0m\u001b[0m\n\u001b[1;32m   2965\u001b[0m                 raise ValueError('labels %s not contained in axis' %\n\u001b[0;32m-> 2966\u001b[0;31m                                  labels[mask])\n\u001b[0m\u001b[1;32m   2967\u001b[0m             \u001b[0mindexer\u001b[0m \u001b[0;34m=\u001b[0m \u001b[0mindexer\u001b[0m\u001b[0;34m[\u001b[0m\u001b[0;34m~\u001b[0m\u001b[0mmask\u001b[0m\u001b[0;34m]\u001b[0m\u001b[0;34m\u001b[0m\u001b[0m\n\u001b[1;32m   2968\u001b[0m         \u001b[0;32mreturn\u001b[0m \u001b[0mself\u001b[0m\u001b[0;34m.\u001b[0m\u001b[0mdelete\u001b[0m\u001b[0;34m(\u001b[0m\u001b[0mindexer\u001b[0m\u001b[0;34m)\u001b[0m\u001b[0;34m\u001b[0m\u001b[0m\n",
      "\u001b[0;31mValueError\u001b[0m: labels ['CError'] not contained in axis"
     ]
    }
   ],
   "source": [
    "totK.drop('CError', axis=1, inplace=True)"
   ]
  },
  {
   "cell_type": "code",
   "execution_count": 205,
   "metadata": {
    "collapsed": true
   },
   "outputs": [],
   "source": [
    "totH.drop('Error', axis=1, inplace=True)"
   ]
  },
  {
   "cell_type": "code",
   "execution_count": 469,
   "metadata": {
    "collapsed": true
   },
   "outputs": [],
   "source": [
    "tot_nopatho=totH_nopatho\n",
    "tot_nopatho=tot_nopatho.append(totK_nopatho,ignore_index=True)"
   ]
  },
  {
   "cell_type": "code",
   "execution_count": 509,
   "metadata": {
    "collapsed": true
   },
   "outputs": [],
   "source": [
    "tot_nopatho_nomult=totH\n",
    "tot_nopatho_nomult=tot_nopatho_nomult.append(totK,ignore_index=True)"
   ]
  },
  {
   "cell_type": "code",
   "execution_count": 512,
   "metadata": {
    "collapsed": false
   },
   "outputs": [
    {
     "data": {
      "text/html": [
       "<div>\n",
       "<table border=\"1\" class=\"dataframe\">\n",
       "  <thead>\n",
       "    <tr style=\"text-align: right;\">\n",
       "      <th></th>\n",
       "      <th>C</th>\n",
       "      <th>Error</th>\n",
       "      <th>ACC</th>\n",
       "      <th>Coverage</th>\n",
       "      <th>Method</th>\n",
       "      <th>Sample</th>\n",
       "    </tr>\n",
       "  </thead>\n",
       "  <tbody>\n",
       "    <tr>\n",
       "      <th>0</th>\n",
       "      <td>0.569772</td>\n",
       "      <td>0.186040</td>\n",
       "      <td>NC_017218.1</td>\n",
       "      <td>0.008125</td>\n",
       "      <td>H</td>\n",
       "      <td>0.0</td>\n",
       "    </tr>\n",
       "    <tr>\n",
       "      <th>1</th>\n",
       "      <td>0.800628</td>\n",
       "      <td>0.000785</td>\n",
       "      <td>NC_009614.1</td>\n",
       "      <td>0.003662</td>\n",
       "      <td>H</td>\n",
       "      <td>0.0</td>\n",
       "    </tr>\n",
       "    <tr>\n",
       "      <th>2</th>\n",
       "      <td>0.445322</td>\n",
       "      <td>0.109357</td>\n",
       "      <td>NC_000913.3</td>\n",
       "      <td>0.004074</td>\n",
       "      <td>H</td>\n",
       "      <td>0.0</td>\n",
       "    </tr>\n",
       "    <tr>\n",
       "      <th>3</th>\n",
       "      <td>0.358048</td>\n",
       "      <td>0.283905</td>\n",
       "      <td>NC_000913.3</td>\n",
       "      <td>0.004074</td>\n",
       "      <td>K</td>\n",
       "      <td>0.0</td>\n",
       "    </tr>\n",
       "    <tr>\n",
       "      <th>4</th>\n",
       "      <td>0.592122</td>\n",
       "      <td>0.259847</td>\n",
       "      <td>NC_009614.1</td>\n",
       "      <td>0.003662</td>\n",
       "      <td>K</td>\n",
       "      <td>0.0</td>\n",
       "    </tr>\n",
       "    <tr>\n",
       "      <th>5</th>\n",
       "      <td>0.399270</td>\n",
       "      <td>0.429614</td>\n",
       "      <td>NC_017218.1</td>\n",
       "      <td>0.008125</td>\n",
       "      <td>K</td>\n",
       "      <td>0.0</td>\n",
       "    </tr>\n",
       "  </tbody>\n",
       "</table>\n",
       "</div>"
      ],
      "text/plain": [
       "          C     Error          ACC  Coverage Method  Sample\n",
       "0  0.569772  0.186040  NC_017218.1  0.008125      H     0.0\n",
       "1  0.800628  0.000785  NC_009614.1  0.003662      H     0.0\n",
       "2  0.445322  0.109357  NC_000913.3  0.004074      H     0.0\n",
       "3  0.358048  0.283905  NC_000913.3  0.004074      K     0.0\n",
       "4  0.592122  0.259847  NC_009614.1  0.003662      K     0.0\n",
       "5  0.399270  0.429614  NC_017218.1  0.008125      K     0.0"
      ]
     },
     "execution_count": 512,
     "metadata": {},
     "output_type": "execute_result"
    }
   ],
   "source": [
    "tot_nopatho_nomult"
   ]
  },
  {
   "cell_type": "code",
   "execution_count": 210,
   "metadata": {
    "collapsed": false
   },
   "outputs": [],
   "source": [
    "totH=totH.rename(index=str, columns={\"C\": \"C\", \"CError\": \"Error\",\"ACC\":\"ACC\",\"Coverage\":\"Coverage\",\"Method\":\"Method\"})"
   ]
  },
  {
   "cell_type": "code",
   "execution_count": 354,
   "metadata": {
    "collapsed": false
   },
   "outputs": [],
   "source": [
    "tot2['Coverage']=tot2['Coverage'].round(3)\n",
    "totH['Coverage']=totH['Coverage'].round(3)"
   ]
  },
  {
   "cell_type": "code",
   "execution_count": 305,
   "metadata": {
    "collapsed": false
   },
   "outputs": [],
   "source": [
    "meanErr=np.array(list(tot2[tot2['ACC']=='NC_017218.1']['Error'])+list(tot2[tot2['ACC']=='NC_000913.3']['Error']))/2"
   ]
  },
  {
   "cell_type": "code",
   "execution_count": 279,
   "metadata": {
    "collapsed": false
   },
   "outputs": [],
   "source": [
    "to_pickle('/Users/hedani/Documents/Projects/.pickle')"
   ]
  },
  {
   "cell_type": "code",
   "execution_count": 224,
   "metadata": {
    "collapsed": true
   },
   "outputs": [],
   "source": [
    "import pickle"
   ]
  },
  {
   "cell_type": "code",
   "execution_count": 480,
   "metadata": {
    "collapsed": true
   },
   "outputs": [],
   "source": [
    "pkl_file = open('/Users/hedani/Documents/Projects/df_long_run2.pickle', 'rb')"
   ]
  },
  {
   "cell_type": "code",
   "execution_count": 481,
   "metadata": {
    "collapsed": false
   },
   "outputs": [],
   "source": [
    "tot2=pickle.load(pkl_file)"
   ]
  },
  {
   "cell_type": "code",
   "execution_count": 239,
   "metadata": {
    "collapsed": true
   },
   "outputs": [],
   "source": [
    "ax.get_figure().savefig('/Users/Shared/output.pdf')"
   ]
  },
  {
   "cell_type": "code",
   "execution_count": null,
   "metadata": {
    "collapsed": true
   },
   "outputs": [],
   "source": [
    "tot2.drop('ACC', axis=1)"
   ]
  },
  {
   "cell_type": "code",
   "execution_count": 492,
   "metadata": {
    "collapsed": false
   },
   "outputs": [
    {
     "data": {
      "text/html": [
       "<div>\n",
       "<table border=\"1\" class=\"dataframe\">\n",
       "  <thead>\n",
       "    <tr style=\"text-align: right;\">\n",
       "      <th></th>\n",
       "      <th>C</th>\n",
       "      <th>Error</th>\n",
       "      <th>ACC</th>\n",
       "      <th>Coverage</th>\n",
       "      <th>Method</th>\n",
       "      <th>Sample</th>\n",
       "    </tr>\n",
       "  </thead>\n",
       "  <tbody>\n",
       "    <tr>\n",
       "      <th>0</th>\n",
       "      <td>0.557952</td>\n",
       "      <td>0.202926</td>\n",
       "      <td>NC_017218.1</td>\n",
       "      <td>0.008125</td>\n",
       "      <td>H</td>\n",
       "      <td>0.0</td>\n",
       "    </tr>\n",
       "    <tr>\n",
       "      <th>1</th>\n",
       "      <td>0.764662</td>\n",
       "      <td>0.044173</td>\n",
       "      <td>NC_009614.1</td>\n",
       "      <td>0.003662</td>\n",
       "      <td>H</td>\n",
       "      <td>0.0</td>\n",
       "    </tr>\n",
       "    <tr>\n",
       "      <th>2</th>\n",
       "      <td>0.470411</td>\n",
       "      <td>0.059177</td>\n",
       "      <td>NC_000913.3</td>\n",
       "      <td>0.004074</td>\n",
       "      <td>H</td>\n",
       "      <td>0.0</td>\n",
       "    </tr>\n",
       "    <tr>\n",
       "      <th>3</th>\n",
       "      <td>0.358048</td>\n",
       "      <td>0.283905</td>\n",
       "      <td>NC_000913.3</td>\n",
       "      <td>0.004074</td>\n",
       "      <td>K</td>\n",
       "      <td>0.0</td>\n",
       "    </tr>\n",
       "    <tr>\n",
       "      <th>4</th>\n",
       "      <td>0.592122</td>\n",
       "      <td>0.259847</td>\n",
       "      <td>NC_009614.1</td>\n",
       "      <td>0.003662</td>\n",
       "      <td>K</td>\n",
       "      <td>0.0</td>\n",
       "    </tr>\n",
       "    <tr>\n",
       "      <th>5</th>\n",
       "      <td>0.399270</td>\n",
       "      <td>0.429614</td>\n",
       "      <td>NC_017218.1</td>\n",
       "      <td>0.008125</td>\n",
       "      <td>K</td>\n",
       "      <td>0.0</td>\n",
       "    </tr>\n",
       "  </tbody>\n",
       "</table>\n",
       "</div>"
      ],
      "text/plain": [
       "          C     Error          ACC  Coverage Method  Sample\n",
       "0  0.557952  0.202926  NC_017218.1  0.008125      H     0.0\n",
       "1  0.764662  0.044173  NC_009614.1  0.003662      H     0.0\n",
       "2  0.470411  0.059177  NC_000913.3  0.004074      H     0.0\n",
       "3  0.358048  0.283905  NC_000913.3  0.004074      K     0.0\n",
       "4  0.592122  0.259847  NC_009614.1  0.003662      K     0.0\n",
       "5  0.399270  0.429614  NC_017218.1  0.008125      K     0.0"
      ]
     },
     "execution_count": 492,
     "metadata": {},
     "output_type": "execute_result"
    }
   ],
   "source": [
    "tot"
   ]
  },
  {
   "cell_type": "code",
   "execution_count": 528,
   "metadata": {
    "collapsed": false
   },
   "outputs": [
    {
     "data": {
      "text/plain": [
       "(0, 0.6)"
      ]
     },
     "execution_count": 528,
     "metadata": {},
     "output_type": "execute_result"
    },
    {
     "data": {
      "image/png": "[encoded data removed]",
      "text/plain": [
       "<matplotlib.figure.Figure at 0x117594950>"
      ]
     },
     "metadata": {},
     "output_type": "display_data"
    }
   ],
   "source": [
    "import matplotlib.pyplot as plt\n",
    "fig, ax = plt.subplots()\n",
    "#data=tot.drop('ACC', axis=1)\n",
    "ax = sns.boxplot(x=\"Coverage\", y=\"Error\", hue=\"Method\",data=tot.drop('ACC', axis=1), linewidth=2,fliersize=0,ax=ax)\n",
    "#g = sns.jointplot(x=\"Coverage\", y=\"Error\", data=tot2)\n",
    "#plt.xticks(rotation=45)\n",
    "ax.set_ylim(0,.6)\n",
    "#plt.xticks(FormatStrFormatter('%.2f'))\n",
    "#ax.set(xlabel='Error', ylabel='Coverage')\n",
    "#ax.fig.get_axes()[0].set_xticklabels([\"Menace\", \"Ptr\"])"
   ]
  },
  {
   "cell_type": "code",
   "execution_count": 490,
   "metadata": {
    "collapsed": false
   },
   "outputs": [
    {
     "data": {
      "text/plain": [
       "array([ 0.18910612,  0.4355671 ,  0.37532678])"
      ]
     },
     "execution_count": 490,
     "metadata": {},
     "output_type": "execute_result"
    }
   ],
   "source": [
    "c.distribution"
   ]
  },
  {
   "cell_type": "code",
   "execution_count": 2,
   "metadata": {
    "collapsed": false
   },
   "outputs": [
    {
     "ename": "NameError",
     "evalue": "name 'tot' is not defined",
     "output_type": "error",
     "traceback": [
      "\u001b[0;31m---------------------------------------------------------------------------\u001b[0m",
      "\u001b[0;31mNameError\u001b[0m                                 Traceback (most recent call last)",
      "\u001b[0;32m<ipython-input-2-0f7d5df9902e>\u001b[0m in \u001b[0;36m<module>\u001b[0;34m()\u001b[0m\n\u001b[0;32m----> 1\u001b[0;31m \u001b[0mtot\u001b[0m\u001b[0;34m\u001b[0m\u001b[0m\n\u001b[0m",
      "\u001b[0;31mNameError\u001b[0m: name 'tot' is not defined"
     ]
    }
   ],
   "source": [
    "tot"
   ]
  },
  {
   "cell_type": "code",
   "execution_count": 529,
   "metadata": {
    "collapsed": false
   },
   "outputs": [
    {
     "data": {
      "image/png": "[encoded data removed]",
      "text/plain": [
       "<matplotlib.figure.Figure at 0x11d0cc750>"
      ]
     },
     "metadata": {},
     "output_type": "display_data"
    }
   ],
   "source": [
    "fig, ax = plt.subplots()\n",
    "ax = sns.boxplot(x=\"ACC\", y=\"Error\", hue=\"Method\",data=tot, linewidth=2,fliersize=0,ax=ax)"
   ]
  },
  {
   "cell_type": "code",
   "execution_count": 510,
   "metadata": {
    "collapsed": false
   },
   "outputs": [
    {
     "data": {
      "image/png": "[encoded data removed]",
      "text/plain": [
       "<matplotlib.figure.Figure at 0x11d3f8cd0>"
      ]
     },
     "metadata": {},
     "output_type": "display_data"
    }
   ],
   "source": [
    "fig, ax = plt.subplots()\n",
    "#data=tot.drop('ACC', axis=1)\n",
    "ax = sns.boxplot(x=\"Coverage\", y=\"Error\", hue=\"Method\",data=tot_nopatho_nomult.drop('ACC', axis=1), linewidth=2,fliersize=0,ax=ax)\n",
    "#g = sns.jointplot(x=\"Coverage\", y=\"Error\", data=tot2)\n",
    "#plt.xticks(rotatio"
   ]
  },
  {
   "cell_type": "code",
   "execution_count": 534,
   "metadata": {
    "collapsed": false
   },
   "outputs": [
    {
     "data": {
      "image/png": "[encoded data removed]",
      "text/plain": [
       "<matplotlib.figure.Figure at 0x117508150>"
      ]
     },
     "metadata": {},
     "output_type": "display_data"
    }
   ],
   "source": [
    "tot_piv = totH.ix[0:9].pivot(\"ACC\", \"Sample\", \"C\")\n",
    "ax = sns.heatmap(tot_piv)"
   ]
  },
  {
   "cell_type": "code",
   "execution_count": 486,
   "metadata": {
    "collapsed": false
   },
   "outputs": [
    {
     "data": {
      "text/html": [
       "<div>\n",
       "<table border=\"1\" class=\"dataframe\">\n",
       "  <thead>\n",
       "    <tr style=\"text-align: right;\">\n",
       "      <th></th>\n",
       "      <th>C</th>\n",
       "      <th>Error</th>\n",
       "      <th>Coverage</th>\n",
       "      <th>Sample</th>\n",
       "    </tr>\n",
       "  </thead>\n",
       "  <tbody>\n",
       "    <tr>\n",
       "      <th>C</th>\n",
       "      <td>1.000000</td>\n",
       "      <td>-0.632426</td>\n",
       "      <td>-0.301773</td>\n",
       "      <td>NaN</td>\n",
       "    </tr>\n",
       "    <tr>\n",
       "      <th>Error</th>\n",
       "      <td>-0.632426</td>\n",
       "      <td>1.000000</td>\n",
       "      <td>0.549970</td>\n",
       "      <td>NaN</td>\n",
       "    </tr>\n",
       "    <tr>\n",
       "      <th>Coverage</th>\n",
       "      <td>-0.301773</td>\n",
       "      <td>0.549970</td>\n",
       "      <td>1.000000</td>\n",
       "      <td>NaN</td>\n",
       "    </tr>\n",
       "    <tr>\n",
       "      <th>Sample</th>\n",
       "      <td>NaN</td>\n",
       "      <td>NaN</td>\n",
       "      <td>NaN</td>\n",
       "      <td>NaN</td>\n",
       "    </tr>\n",
       "  </tbody>\n",
       "</table>\n",
       "</div>"
      ],
      "text/plain": [
       "                 C     Error  Coverage  Sample\n",
       "C         1.000000 -0.632426 -0.301773     NaN\n",
       "Error    -0.632426  1.000000  0.549970     NaN\n",
       "Coverage -0.301773  0.549970  1.000000     NaN\n",
       "Sample         NaN       NaN       NaN     NaN"
      ]
     },
     "execution_count": 486,
     "metadata": {},
     "output_type": "execute_result"
    }
   ],
   "source": [
    "tot.corr()"
   ]
  },
  {
   "cell_type": "code",
   "execution_count": 267,
   "metadata": {
    "collapsed": false
   },
   "outputs": [
    {
     "ename": "ValueError",
     "evalue": "Could not interpret input 'Coverage'",
     "output_type": "error",
     "traceback": [
      "\u001b[0;31m---------------------------------------------------------------------------\u001b[0m",
      "\u001b[0;31mValueError\u001b[0m                                Traceback (most recent call last)",
      "\u001b[0;32m<ipython-input-267-d23fd91bcdd8>\u001b[0m in \u001b[0;36m<module>\u001b[0;34m()\u001b[0m\n\u001b[1;32m      1\u001b[0m \u001b[0mg\u001b[0m \u001b[0;34m=\u001b[0m \u001b[0msns\u001b[0m\u001b[0;34m.\u001b[0m\u001b[0mFacetGrid\u001b[0m\u001b[0;34m(\u001b[0m\u001b[0mtot2\u001b[0m\u001b[0;34m,\u001b[0m \u001b[0mcol\u001b[0m\u001b[0;34m=\u001b[0m\u001b[0;34m\"ACC\"\u001b[0m\u001b[0;34m,\u001b[0m \u001b[0mrow\u001b[0m\u001b[0;34m=\u001b[0m\u001b[0;34m\"Method\"\u001b[0m\u001b[0;34m,\u001b[0m \u001b[0mmargin_titles\u001b[0m\u001b[0;34m=\u001b[0m\u001b[0mTrue\u001b[0m\u001b[0;34m)\u001b[0m\u001b[0;34m\u001b[0m\u001b[0m\n\u001b[0;32m----> 2\u001b[0;31m \u001b[0mg\u001b[0m\u001b[0;34m.\u001b[0m\u001b[0mmap\u001b[0m\u001b[0;34m(\u001b[0m\u001b[0msns\u001b[0m\u001b[0;34m.\u001b[0m\u001b[0mboxplot\u001b[0m\u001b[0;34m,\u001b[0m\u001b[0my\u001b[0m\u001b[0;34m=\u001b[0m\u001b[0;34m\"Error\"\u001b[0m\u001b[0;34m,\u001b[0m\u001b[0mx\u001b[0m\u001b[0;34m=\u001b[0m\u001b[0;34m\"Coverage\"\u001b[0m\u001b[0;34m,\u001b[0m \u001b[0mdata\u001b[0m\u001b[0;34m=\u001b[0m\u001b[0mtot\u001b[0m\u001b[0;34m)\u001b[0m\u001b[0;34m\u001b[0m\u001b[0m\n\u001b[0m",
      "\u001b[0;32m/Users/hedani/Library/Python/2.7/lib/python/site-packages/seaborn/axisgrid.pyc\u001b[0m in \u001b[0;36mmap\u001b[0;34m(self, func, *args, **kwargs)\u001b[0m\n\u001b[1;32m    725\u001b[0m \u001b[0;34m\u001b[0m\u001b[0m\n\u001b[1;32m    726\u001b[0m             \u001b[0;31m# Draw the plot\u001b[0m\u001b[0;34m\u001b[0m\u001b[0;34m\u001b[0m\u001b[0m\n\u001b[0;32m--> 727\u001b[0;31m             \u001b[0mself\u001b[0m\u001b[0;34m.\u001b[0m\u001b[0m_facet_plot\u001b[0m\u001b[0;34m(\u001b[0m\u001b[0mfunc\u001b[0m\u001b[0;34m,\u001b[0m \u001b[0max\u001b[0m\u001b[0;34m,\u001b[0m \u001b[0mplot_args\u001b[0m\u001b[0;34m,\u001b[0m \u001b[0mkwargs\u001b[0m\u001b[0;34m)\u001b[0m\u001b[0;34m\u001b[0m\u001b[0m\n\u001b[0m\u001b[1;32m    728\u001b[0m \u001b[0;34m\u001b[0m\u001b[0m\n\u001b[1;32m    729\u001b[0m         \u001b[0;31m# Finalize the annotations and layout\u001b[0m\u001b[0;34m\u001b[0m\u001b[0;34m\u001b[0m\u001b[0m\n",
      "\u001b[0;32m/Users/hedani/Library/Python/2.7/lib/python/site-packages/seaborn/axisgrid.pyc\u001b[0m in \u001b[0;36m_facet_plot\u001b[0;34m(self, func, ax, plot_args, plot_kwargs)\u001b[0m\n\u001b[1;32m    809\u001b[0m \u001b[0;34m\u001b[0m\u001b[0m\n\u001b[1;32m    810\u001b[0m         \u001b[0;31m# Draw the plot\u001b[0m\u001b[0;34m\u001b[0m\u001b[0;34m\u001b[0m\u001b[0m\n\u001b[0;32m--> 811\u001b[0;31m         \u001b[0mfunc\u001b[0m\u001b[0;34m(\u001b[0m\u001b[0;34m*\u001b[0m\u001b[0mplot_args\u001b[0m\u001b[0;34m,\u001b[0m \u001b[0;34m**\u001b[0m\u001b[0mplot_kwargs\u001b[0m\u001b[0;34m)\u001b[0m\u001b[0;34m\u001b[0m\u001b[0m\n\u001b[0m\u001b[1;32m    812\u001b[0m \u001b[0;34m\u001b[0m\u001b[0m\n\u001b[1;32m    813\u001b[0m         \u001b[0;31m# Sort out the supporting information\u001b[0m\u001b[0;34m\u001b[0m\u001b[0;34m\u001b[0m\u001b[0m\n",
      "\u001b[0;32m/Users/hedani/Library/Python/2.7/lib/python/site-packages/seaborn/categorical.pyc\u001b[0m in \u001b[0;36mboxplot\u001b[0;34m(x, y, hue, data, order, hue_order, orient, color, palette, saturation, width, fliersize, linewidth, whis, notch, ax, **kwargs)\u001b[0m\n\u001b[1;32m   2127\u001b[0m     plotter = _BoxPlotter(x, y, hue, data, order, hue_order,\n\u001b[1;32m   2128\u001b[0m                           \u001b[0morient\u001b[0m\u001b[0;34m,\u001b[0m \u001b[0mcolor\u001b[0m\u001b[0;34m,\u001b[0m \u001b[0mpalette\u001b[0m\u001b[0;34m,\u001b[0m \u001b[0msaturation\u001b[0m\u001b[0;34m,\u001b[0m\u001b[0;34m\u001b[0m\u001b[0m\n\u001b[0;32m-> 2129\u001b[0;31m                           width, fliersize, linewidth)\n\u001b[0m\u001b[1;32m   2130\u001b[0m \u001b[0;34m\u001b[0m\u001b[0m\n\u001b[1;32m   2131\u001b[0m     \u001b[0;32mif\u001b[0m \u001b[0max\u001b[0m \u001b[0;32mis\u001b[0m \u001b[0mNone\u001b[0m\u001b[0;34m:\u001b[0m\u001b[0;34m\u001b[0m\u001b[0m\n",
      "\u001b[0;32m/Users/hedani/Library/Python/2.7/lib/python/site-packages/seaborn/categorical.pyc\u001b[0m in \u001b[0;36m__init__\u001b[0;34m(self, x, y, hue, data, order, hue_order, orient, color, palette, saturation, width, fliersize, linewidth)\u001b[0m\n\u001b[1;32m    420\u001b[0m                  width, fliersize, linewidth):\n\u001b[1;32m    421\u001b[0m \u001b[0;34m\u001b[0m\u001b[0m\n\u001b[0;32m--> 422\u001b[0;31m         \u001b[0mself\u001b[0m\u001b[0;34m.\u001b[0m\u001b[0mestablish_variables\u001b[0m\u001b[0;34m(\u001b[0m\u001b[0mx\u001b[0m\u001b[0;34m,\u001b[0m \u001b[0my\u001b[0m\u001b[0;34m,\u001b[0m \u001b[0mhue\u001b[0m\u001b[0;34m,\u001b[0m \u001b[0mdata\u001b[0m\u001b[0;34m,\u001b[0m \u001b[0morient\u001b[0m\u001b[0;34m,\u001b[0m \u001b[0morder\u001b[0m\u001b[0;34m,\u001b[0m \u001b[0mhue_order\u001b[0m\u001b[0;34m)\u001b[0m\u001b[0;34m\u001b[0m\u001b[0m\n\u001b[0m\u001b[1;32m    423\u001b[0m         \u001b[0mself\u001b[0m\u001b[0;34m.\u001b[0m\u001b[0mestablish_colors\u001b[0m\u001b[0;34m(\u001b[0m\u001b[0mcolor\u001b[0m\u001b[0;34m,\u001b[0m \u001b[0mpalette\u001b[0m\u001b[0;34m,\u001b[0m \u001b[0msaturation\u001b[0m\u001b[0;34m)\u001b[0m\u001b[0;34m\u001b[0m\u001b[0m\n\u001b[1;32m    424\u001b[0m \u001b[0;34m\u001b[0m\u001b[0m\n",
      "\u001b[0;32m/Users/hedani/Library/Python/2.7/lib/python/site-packages/seaborn/categorical.pyc\u001b[0m in \u001b[0;36mestablish_variables\u001b[0;34m(self, x, y, hue, data, orient, order, hue_order, units)\u001b[0m\n\u001b[1;32m    145\u001b[0m                 \u001b[0;32mif\u001b[0m \u001b[0misinstance\u001b[0m\u001b[0;34m(\u001b[0m\u001b[0minput\u001b[0m\u001b[0;34m,\u001b[0m \u001b[0mstring_types\u001b[0m\u001b[0;34m)\u001b[0m\u001b[0;34m:\u001b[0m\u001b[0;34m\u001b[0m\u001b[0m\n\u001b[1;32m    146\u001b[0m                     \u001b[0merr\u001b[0m \u001b[0;34m=\u001b[0m \u001b[0;34m\"Could not interpret input '{}'\"\u001b[0m\u001b[0;34m.\u001b[0m\u001b[0mformat\u001b[0m\u001b[0;34m(\u001b[0m\u001b[0minput\u001b[0m\u001b[0;34m)\u001b[0m\u001b[0;34m\u001b[0m\u001b[0m\n\u001b[0;32m--> 147\u001b[0;31m                     \u001b[0;32mraise\u001b[0m \u001b[0mValueError\u001b[0m\u001b[0;34m(\u001b[0m\u001b[0merr\u001b[0m\u001b[0;34m)\u001b[0m\u001b[0;34m\u001b[0m\u001b[0m\n\u001b[0m\u001b[1;32m    148\u001b[0m \u001b[0;34m\u001b[0m\u001b[0m\n\u001b[1;32m    149\u001b[0m             \u001b[0;31m# Figure out the plotting orientation\u001b[0m\u001b[0;34m\u001b[0m\u001b[0;34m\u001b[0m\u001b[0m\n",
      "\u001b[0;31mValueError\u001b[0m: Could not interpret input 'Coverage'"
     ]
    },
    {
     "data": {
      "image/png": "[encoded data removed]",
      "text/plain": [
       "<matplotlib.figure.Figure at 0x11bb075d0>"
      ]
     },
     "metadata": {},
     "output_type": "display_data"
    }
   ],
   "source": [
    "g = sns.FacetGrid(tot2, col=\"ACC\", row=\"Method\", margin_titles=True)\n",
    "g.map(sns.boxplot,y=\"Error\",x=\"Coverage\", data=tot)"
   ]
  },
  {
   "cell_type": "code",
   "execution_count": 237,
   "metadata": {
    "collapsed": false
   },
   "outputs": [
    {
     "data": {
      "text/plain": [
       "<matplotlib.figure.Figure at 0x118a50210>"
      ]
     },
     "metadata": {},
     "output_type": "display_data"
    }
   ],
   "source": [
    "plt.savefig('/Users/Shared/output.png')"
   ]
  },
  {
   "cell_type": "code",
   "execution_count": 240,
   "metadata": {
    "collapsed": false
   },
   "outputs": [
    {
     "ename": "TypeError",
     "evalue": "load_dataset() takes at least 1 argument (0 given)",
     "output_type": "error",
     "traceback": [
      "\u001b[0;31m---------------------------------------------------------------------------\u001b[0m",
      "\u001b[0;31mTypeError\u001b[0m                                 Traceback (most recent call last)",
      "\u001b[0;32m<ipython-input-240-fefecdc76b8c>\u001b[0m in \u001b[0;36m<module>\u001b[0;34m()\u001b[0m\n\u001b[0;32m----> 1\u001b[0;31m \u001b[0mtips\u001b[0m \u001b[0;34m=\u001b[0m \u001b[0msns\u001b[0m\u001b[0;34m.\u001b[0m\u001b[0mload_dataset\u001b[0m\u001b[0;34m(\u001b[0m\u001b[0mx\u001b[0m\u001b[0;34m=\u001b[0m\u001b[0;34m\"Reads\"\u001b[0m\u001b[0;34m,\u001b[0m \u001b[0my\u001b[0m\u001b[0;34m=\u001b[0m\u001b[0;34m\"Cerr\"\u001b[0m\u001b[0;34m,\u001b[0m \u001b[0mhue\u001b[0m\u001b[0;34m=\u001b[0m\u001b[0;34m\"Method\"\u001b[0m\u001b[0;34m)\u001b[0m\u001b[0;34m\u001b[0m\u001b[0m\n\u001b[0m",
      "\u001b[0;31mTypeError\u001b[0m: load_dataset() takes at least 1 argument (0 given)"
     ]
    }
   ],
   "source": [
    "tips = sns.load_dataset(\"tips\")"
   ]
  },
  {
   "cell_type": "code",
   "execution_count": 726,
   "metadata": {
    "collapsed": false
   },
   "outputs": [
    {
     "ename": "KeyboardInterrupt",
     "evalue": "",
     "output_type": "error",
     "traceback": [
      "\u001b[0;31m---------------------------------------------------------------------------\u001b[0m",
      "\u001b[0;31mKeyboardInterrupt\u001b[0m                         Traceback (most recent call last)",
      "\u001b[0;32m<ipython-input-726-5d15a506d581>\u001b[0m in \u001b[0;36m<module>\u001b[0;34m()\u001b[0m\n\u001b[0;32m----> 1\u001b[0;31m \u001b[0;34m[\u001b[0m\u001b[0mk_c\u001b[0m\u001b[0;34m,\u001b[0m\u001b[0mk_err\u001b[0m\u001b[0;34m]\u001b[0m\u001b[0;34m=\u001b[0m\u001b[0mcompare_fit_ptrc\u001b[0m\u001b[0;34m(\u001b[0m\u001b[0mc\u001b[0m\u001b[0;34m)\u001b[0m\u001b[0;34m\u001b[0m\u001b[0m\n\u001b[0m",
      "\u001b[0;32m<ipython-input-724-5b0971b9bed4>\u001b[0m in \u001b[0;36mcompare_fit_ptrc\u001b[0;34m(c)\u001b[0m\n\u001b[1;32m      6\u001b[0m         \u001b[0mptre_tmp\u001b[0m\u001b[0;34m=\u001b[0m\u001b[0;34m[\u001b[0m\u001b[0;34m]\u001b[0m\u001b[0;34m\u001b[0m\u001b[0m\n\u001b[1;32m      7\u001b[0m         \u001b[0mcmd\u001b[0m\u001b[0;34m=\u001b[0m\u001b[0;34m[\u001b[0m\u001b[0;34m'/bin/bash -c \"'\u001b[0m\u001b[0;34m]\u001b[0m\u001b[0;34m+\u001b[0m\u001b[0;34m[\u001b[0m\u001b[0;34m'cd /mnt/vol ; /home/Programs/PTR-Pipeline/extra/ptrc_commands.sh'\u001b[0m\u001b[0;34m]\u001b[0m\u001b[0;34m+\u001b[0m\u001b[0;34m[\u001b[0m\u001b[0mc\u001b[0m\u001b[0;34m.\u001b[0m\u001b[0mname\u001b[0m\u001b[0;34m+\u001b[0m\u001b[0mstr\u001b[0m\u001b[0;34m(\u001b[0m\u001b[0mi\u001b[0m\u001b[0;34m)\u001b[0m\u001b[0;34m+\u001b[0m\u001b[0;34m'_1.fastq'\u001b[0m\u001b[0;34m]\u001b[0m\u001b[0;34m+\u001b[0m\u001b[0;34m[\u001b[0m\u001b[0mc\u001b[0m\u001b[0;34m.\u001b[0m\u001b[0mname\u001b[0m\u001b[0;34m+\u001b[0m\u001b[0mstr\u001b[0m\u001b[0;34m(\u001b[0m\u001b[0mi\u001b[0m\u001b[0;34m)\u001b[0m\u001b[0;34m+\u001b[0m\u001b[0;34m'_2.fastq\"'\u001b[0m\u001b[0;34m]\u001b[0m\u001b[0;34m\u001b[0m\u001b[0m\n\u001b[0;32m----> 8\u001b[0;31m         \u001b[0mcreate_mount_run\u001b[0m\u001b[0;34m(\u001b[0m\u001b[0;34m'centos/hedani'\u001b[0m\u001b[0;34m,\u001b[0m\u001b[0mtd\u001b[0m\u001b[0;34m,\u001b[0m\u001b[0;34m\" \"\u001b[0m\u001b[0;34m.\u001b[0m\u001b[0mjoin\u001b[0m\u001b[0;34m(\u001b[0m\u001b[0mcmd\u001b[0m\u001b[0;34m)\u001b[0m\u001b[0;34m,\u001b[0m\u001b[0menvs\u001b[0m\u001b[0;34m)\u001b[0m\u001b[0;34m\u001b[0m\u001b[0m\n\u001b[0m\u001b[1;32m      9\u001b[0m         \u001b[0mptr_file\u001b[0m\u001b[0;34m=\u001b[0m\u001b[0mjoin\u001b[0m\u001b[0;34m(\u001b[0m\u001b[0mc\u001b[0m\u001b[0;34m.\u001b[0m\u001b[0mconf\u001b[0m\u001b[0;34m[\u001b[0m\u001b[0;34m'output_path'\u001b[0m\u001b[0;34m]\u001b[0m\u001b[0;34m,\u001b[0m\u001b[0;34m'ptrc_out'\u001b[0m\u001b[0;34m)\u001b[0m\u001b[0;34m\u001b[0m\u001b[0m\n\u001b[1;32m     10\u001b[0m         \u001b[0mptrc_frame\u001b[0m\u001b[0;34m=\u001b[0m\u001b[0mpd\u001b[0m\u001b[0;34m.\u001b[0m\u001b[0mread_pickle\u001b[0m\u001b[0;34m(\u001b[0m\u001b[0mptr_file\u001b[0m\u001b[0;34m)\u001b[0m\u001b[0;34m\u001b[0m\u001b[0m\n",
      "\u001b[0;32m<ipython-input-521-80ddf06e139f>\u001b[0m in \u001b[0;36mcreate_mount_run\u001b[0;34m(image, mount_dir, cmd, envs)\u001b[0m\n\u001b[1;32m     12\u001b[0m     \u001b[0mctr\u001b[0m\u001b[0;34m=\u001b[0m\u001b[0mcontainer\u001b[0m\u001b[0;34m.\u001b[0m\u001b[0mget\u001b[0m\u001b[0;34m(\u001b[0m\u001b[0;34m'Id'\u001b[0m\u001b[0;34m)\u001b[0m\u001b[0;34m\u001b[0m\u001b[0m\n\u001b[1;32m     13\u001b[0m     \u001b[0mcli\u001b[0m\u001b[0;34m.\u001b[0m\u001b[0mstart\u001b[0m\u001b[0;34m(\u001b[0m\u001b[0mctr\u001b[0m\u001b[0;34m)\u001b[0m\u001b[0;34m\u001b[0m\u001b[0m\n\u001b[0;32m---> 14\u001b[0;31m     \u001b[0mcli\u001b[0m\u001b[0;34m.\u001b[0m\u001b[0mwait\u001b[0m\u001b[0;34m(\u001b[0m\u001b[0mctr\u001b[0m\u001b[0;34m,\u001b[0m\u001b[0;36m60\u001b[0m\u001b[0;34m*\u001b[0m\u001b[0;36m60\u001b[0m\u001b[0;34m*\u001b[0m\u001b[0;36m24\u001b[0m\u001b[0;34m*\u001b[0m\u001b[0;36m10\u001b[0m\u001b[0;34m)\u001b[0m\u001b[0;34m\u001b[0m\u001b[0m\n\u001b[0m\u001b[1;32m     15\u001b[0m     \u001b[0;32mreturn\u001b[0m \u001b[0mcli\u001b[0m\u001b[0;34m.\u001b[0m\u001b[0mlogs\u001b[0m\u001b[0;34m(\u001b[0m\u001b[0mctr\u001b[0m\u001b[0;34m)\u001b[0m\u001b[0;34m\u001b[0m\u001b[0m\n",
      "\u001b[0;32m/Library/Python/2.7/site-packages/docker/utils/decorators.pyc\u001b[0m in \u001b[0;36mwrapped\u001b[0;34m(self, resource_id, *args, **kwargs)\u001b[0m\n\u001b[1;32m     19\u001b[0m                 \u001b[0;34m'image or container param is undefined'\u001b[0m\u001b[0;34m\u001b[0m\u001b[0m\n\u001b[1;32m     20\u001b[0m             )\n\u001b[0;32m---> 21\u001b[0;31m         \u001b[0;32mreturn\u001b[0m \u001b[0mf\u001b[0m\u001b[0;34m(\u001b[0m\u001b[0mself\u001b[0m\u001b[0;34m,\u001b[0m \u001b[0mresource_id\u001b[0m\u001b[0;34m,\u001b[0m \u001b[0;34m*\u001b[0m\u001b[0margs\u001b[0m\u001b[0;34m,\u001b[0m \u001b[0;34m**\u001b[0m\u001b[0mkwargs\u001b[0m\u001b[0;34m)\u001b[0m\u001b[0;34m\u001b[0m\u001b[0m\n\u001b[0m\u001b[1;32m     22\u001b[0m     \u001b[0;32mreturn\u001b[0m \u001b[0mwrapped\u001b[0m\u001b[0;34m\u001b[0m\u001b[0m\n\u001b[1;32m     23\u001b[0m \u001b[0;34m\u001b[0m\u001b[0m\n",
      "\u001b[0;32m/Library/Python/2.7/site-packages/docker/api/container.pyc\u001b[0m in \u001b[0;36mwait\u001b[0;34m(self, container, timeout)\u001b[0m\n\u001b[1;32m    453\u001b[0m     \u001b[0;32mdef\u001b[0m \u001b[0mwait\u001b[0m\u001b[0;34m(\u001b[0m\u001b[0mself\u001b[0m\u001b[0;34m,\u001b[0m \u001b[0mcontainer\u001b[0m\u001b[0;34m,\u001b[0m \u001b[0mtimeout\u001b[0m\u001b[0;34m=\u001b[0m\u001b[0mNone\u001b[0m\u001b[0;34m)\u001b[0m\u001b[0;34m:\u001b[0m\u001b[0;34m\u001b[0m\u001b[0m\n\u001b[1;32m    454\u001b[0m         \u001b[0murl\u001b[0m \u001b[0;34m=\u001b[0m \u001b[0mself\u001b[0m\u001b[0;34m.\u001b[0m\u001b[0m_url\u001b[0m\u001b[0;34m(\u001b[0m\u001b[0;34m\"/containers/{0}/wait\"\u001b[0m\u001b[0;34m,\u001b[0m \u001b[0mcontainer\u001b[0m\u001b[0;34m)\u001b[0m\u001b[0;34m\u001b[0m\u001b[0m\n\u001b[0;32m--> 455\u001b[0;31m         \u001b[0mres\u001b[0m \u001b[0;34m=\u001b[0m \u001b[0mself\u001b[0m\u001b[0;34m.\u001b[0m\u001b[0m_post\u001b[0m\u001b[0;34m(\u001b[0m\u001b[0murl\u001b[0m\u001b[0;34m,\u001b[0m \u001b[0mtimeout\u001b[0m\u001b[0;34m=\u001b[0m\u001b[0mtimeout\u001b[0m\u001b[0;34m)\u001b[0m\u001b[0;34m\u001b[0m\u001b[0m\n\u001b[0m\u001b[1;32m    456\u001b[0m         \u001b[0mself\u001b[0m\u001b[0;34m.\u001b[0m\u001b[0m_raise_for_status\u001b[0m\u001b[0;34m(\u001b[0m\u001b[0mres\u001b[0m\u001b[0;34m)\u001b[0m\u001b[0;34m\u001b[0m\u001b[0m\n\u001b[1;32m    457\u001b[0m         \u001b[0mjson_\u001b[0m \u001b[0;34m=\u001b[0m \u001b[0mres\u001b[0m\u001b[0;34m.\u001b[0m\u001b[0mjson\u001b[0m\u001b[0;34m(\u001b[0m\u001b[0;34m)\u001b[0m\u001b[0;34m\u001b[0m\u001b[0m\n",
      "\u001b[0;32m/Library/Python/2.7/site-packages/docker/utils/decorators.pyc\u001b[0m in \u001b[0;36minner\u001b[0;34m(self, *args, **kwargs)\u001b[0m\n\u001b[1;32m     45\u001b[0m             \u001b[0;32melse\u001b[0m\u001b[0;34m:\u001b[0m\u001b[0;34m\u001b[0m\u001b[0m\n\u001b[1;32m     46\u001b[0m                 \u001b[0mkwargs\u001b[0m\u001b[0;34m[\u001b[0m\u001b[0;34m'headers'\u001b[0m\u001b[0;34m]\u001b[0m\u001b[0;34m.\u001b[0m\u001b[0mupdate\u001b[0m\u001b[0;34m(\u001b[0m\u001b[0mself\u001b[0m\u001b[0;34m.\u001b[0m\u001b[0m_auth_configs\u001b[0m\u001b[0;34m[\u001b[0m\u001b[0;34m'HttpHeaders'\u001b[0m\u001b[0;34m]\u001b[0m\u001b[0;34m)\u001b[0m\u001b[0;34m\u001b[0m\u001b[0m\n\u001b[0;32m---> 47\u001b[0;31m         \u001b[0;32mreturn\u001b[0m \u001b[0mf\u001b[0m\u001b[0;34m(\u001b[0m\u001b[0mself\u001b[0m\u001b[0;34m,\u001b[0m \u001b[0;34m*\u001b[0m\u001b[0margs\u001b[0m\u001b[0;34m,\u001b[0m \u001b[0;34m**\u001b[0m\u001b[0mkwargs\u001b[0m\u001b[0;34m)\u001b[0m\u001b[0;34m\u001b[0m\u001b[0m\n\u001b[0m\u001b[1;32m     48\u001b[0m     \u001b[0;32mreturn\u001b[0m \u001b[0minner\u001b[0m\u001b[0;34m\u001b[0m\u001b[0m\n",
      "\u001b[0;32m/Library/Python/2.7/site-packages/docker/client.pyc\u001b[0m in \u001b[0;36m_post\u001b[0;34m(self, url, **kwargs)\u001b[0m\n\u001b[1;32m    133\u001b[0m     \u001b[0;34m@\u001b[0m\u001b[0mupdate_headers\u001b[0m\u001b[0;34m\u001b[0m\u001b[0m\n\u001b[1;32m    134\u001b[0m     \u001b[0;32mdef\u001b[0m \u001b[0m_post\u001b[0m\u001b[0;34m(\u001b[0m\u001b[0mself\u001b[0m\u001b[0;34m,\u001b[0m \u001b[0murl\u001b[0m\u001b[0;34m,\u001b[0m \u001b[0;34m**\u001b[0m\u001b[0mkwargs\u001b[0m\u001b[0;34m)\u001b[0m\u001b[0;34m:\u001b[0m\u001b[0;34m\u001b[0m\u001b[0m\n\u001b[0;32m--> 135\u001b[0;31m         \u001b[0;32mreturn\u001b[0m \u001b[0mself\u001b[0m\u001b[0;34m.\u001b[0m\u001b[0mpost\u001b[0m\u001b[0;34m(\u001b[0m\u001b[0murl\u001b[0m\u001b[0;34m,\u001b[0m \u001b[0;34m**\u001b[0m\u001b[0mself\u001b[0m\u001b[0;34m.\u001b[0m\u001b[0m_set_request_timeout\u001b[0m\u001b[0;34m(\u001b[0m\u001b[0mkwargs\u001b[0m\u001b[0;34m)\u001b[0m\u001b[0;34m)\u001b[0m\u001b[0;34m\u001b[0m\u001b[0m\n\u001b[0m\u001b[1;32m    136\u001b[0m \u001b[0;34m\u001b[0m\u001b[0m\n\u001b[1;32m    137\u001b[0m     \u001b[0;34m@\u001b[0m\u001b[0mupdate_headers\u001b[0m\u001b[0;34m\u001b[0m\u001b[0m\n",
      "\u001b[0;32m/Library/Python/2.7/site-packages/requests/sessions.pyc\u001b[0m in \u001b[0;36mpost\u001b[0;34m(self, url, data, json, **kwargs)\u001b[0m\n\u001b[1;32m    533\u001b[0m         \"\"\"\n\u001b[1;32m    534\u001b[0m \u001b[0;34m\u001b[0m\u001b[0m\n\u001b[0;32m--> 535\u001b[0;31m         \u001b[0;32mreturn\u001b[0m \u001b[0mself\u001b[0m\u001b[0;34m.\u001b[0m\u001b[0mrequest\u001b[0m\u001b[0;34m(\u001b[0m\u001b[0;34m'POST'\u001b[0m\u001b[0;34m,\u001b[0m \u001b[0murl\u001b[0m\u001b[0;34m,\u001b[0m \u001b[0mdata\u001b[0m\u001b[0;34m=\u001b[0m\u001b[0mdata\u001b[0m\u001b[0;34m,\u001b[0m \u001b[0mjson\u001b[0m\u001b[0;34m=\u001b[0m\u001b[0mjson\u001b[0m\u001b[0;34m,\u001b[0m \u001b[0;34m**\u001b[0m\u001b[0mkwargs\u001b[0m\u001b[0;34m)\u001b[0m\u001b[0;34m\u001b[0m\u001b[0m\n\u001b[0m\u001b[1;32m    536\u001b[0m \u001b[0;34m\u001b[0m\u001b[0m\n\u001b[1;32m    537\u001b[0m     \u001b[0;32mdef\u001b[0m \u001b[0mput\u001b[0m\u001b[0;34m(\u001b[0m\u001b[0mself\u001b[0m\u001b[0;34m,\u001b[0m \u001b[0murl\u001b[0m\u001b[0;34m,\u001b[0m \u001b[0mdata\u001b[0m\u001b[0;34m=\u001b[0m\u001b[0mNone\u001b[0m\u001b[0;34m,\u001b[0m \u001b[0;34m**\u001b[0m\u001b[0mkwargs\u001b[0m\u001b[0;34m)\u001b[0m\u001b[0;34m:\u001b[0m\u001b[0;34m\u001b[0m\u001b[0m\n",
      "\u001b[0;32m/Library/Python/2.7/site-packages/requests/sessions.pyc\u001b[0m in \u001b[0;36mrequest\u001b[0;34m(self, method, url, params, data, headers, cookies, files, auth, timeout, allow_redirects, proxies, hooks, stream, verify, cert, json)\u001b[0m\n\u001b[1;32m    486\u001b[0m         }\n\u001b[1;32m    487\u001b[0m         \u001b[0msend_kwargs\u001b[0m\u001b[0;34m.\u001b[0m\u001b[0mupdate\u001b[0m\u001b[0;34m(\u001b[0m\u001b[0msettings\u001b[0m\u001b[0;34m)\u001b[0m\u001b[0;34m\u001b[0m\u001b[0m\n\u001b[0;32m--> 488\u001b[0;31m         \u001b[0mresp\u001b[0m \u001b[0;34m=\u001b[0m \u001b[0mself\u001b[0m\u001b[0;34m.\u001b[0m\u001b[0msend\u001b[0m\u001b[0;34m(\u001b[0m\u001b[0mprep\u001b[0m\u001b[0;34m,\u001b[0m \u001b[0;34m**\u001b[0m\u001b[0msend_kwargs\u001b[0m\u001b[0;34m)\u001b[0m\u001b[0;34m\u001b[0m\u001b[0m\n\u001b[0m\u001b[1;32m    489\u001b[0m \u001b[0;34m\u001b[0m\u001b[0m\n\u001b[1;32m    490\u001b[0m         \u001b[0;32mreturn\u001b[0m \u001b[0mresp\u001b[0m\u001b[0;34m\u001b[0m\u001b[0m\n",
      "\u001b[0;32m/Library/Python/2.7/site-packages/requests/sessions.pyc\u001b[0m in \u001b[0;36msend\u001b[0;34m(self, request, **kwargs)\u001b[0m\n\u001b[1;32m    607\u001b[0m \u001b[0;34m\u001b[0m\u001b[0m\n\u001b[1;32m    608\u001b[0m         \u001b[0;31m# Send the request\u001b[0m\u001b[0;34m\u001b[0m\u001b[0;34m\u001b[0m\u001b[0m\n\u001b[0;32m--> 609\u001b[0;31m         \u001b[0mr\u001b[0m \u001b[0;34m=\u001b[0m \u001b[0madapter\u001b[0m\u001b[0;34m.\u001b[0m\u001b[0msend\u001b[0m\u001b[0;34m(\u001b[0m\u001b[0mrequest\u001b[0m\u001b[0;34m,\u001b[0m \u001b[0;34m**\u001b[0m\u001b[0mkwargs\u001b[0m\u001b[0;34m)\u001b[0m\u001b[0;34m\u001b[0m\u001b[0m\n\u001b[0m\u001b[1;32m    610\u001b[0m \u001b[0;34m\u001b[0m\u001b[0m\n\u001b[1;32m    611\u001b[0m         \u001b[0;31m# Total elapsed time of the request (approximately)\u001b[0m\u001b[0;34m\u001b[0m\u001b[0;34m\u001b[0m\u001b[0m\n",
      "\u001b[0;32m/Library/Python/2.7/site-packages/requests/adapters.pyc\u001b[0m in \u001b[0;36msend\u001b[0;34m(self, request, stream, timeout, verify, cert, proxies)\u001b[0m\n\u001b[1;32m    421\u001b[0m                     \u001b[0mdecode_content\u001b[0m\u001b[0;34m=\u001b[0m\u001b[0mFalse\u001b[0m\u001b[0;34m,\u001b[0m\u001b[0;34m\u001b[0m\u001b[0m\n\u001b[1;32m    422\u001b[0m                     \u001b[0mretries\u001b[0m\u001b[0;34m=\u001b[0m\u001b[0mself\u001b[0m\u001b[0;34m.\u001b[0m\u001b[0mmax_retries\u001b[0m\u001b[0;34m,\u001b[0m\u001b[0;34m\u001b[0m\u001b[0m\n\u001b[0;32m--> 423\u001b[0;31m                     \u001b[0mtimeout\u001b[0m\u001b[0;34m=\u001b[0m\u001b[0mtimeout\u001b[0m\u001b[0;34m\u001b[0m\u001b[0m\n\u001b[0m\u001b[1;32m    424\u001b[0m                 )\n\u001b[1;32m    425\u001b[0m \u001b[0;34m\u001b[0m\u001b[0m\n",
      "\u001b[0;32m/Library/Python/2.7/site-packages/requests/packages/urllib3/connectionpool.pyc\u001b[0m in \u001b[0;36murlopen\u001b[0;34m(self, method, url, body, headers, retries, redirect, assert_same_host, timeout, pool_timeout, release_conn, chunked, **response_kw)\u001b[0m\n\u001b[1;32m    592\u001b[0m                                                   \u001b[0mtimeout\u001b[0m\u001b[0;34m=\u001b[0m\u001b[0mtimeout_obj\u001b[0m\u001b[0;34m,\u001b[0m\u001b[0;34m\u001b[0m\u001b[0m\n\u001b[1;32m    593\u001b[0m                                                   \u001b[0mbody\u001b[0m\u001b[0;34m=\u001b[0m\u001b[0mbody\u001b[0m\u001b[0;34m,\u001b[0m \u001b[0mheaders\u001b[0m\u001b[0;34m=\u001b[0m\u001b[0mheaders\u001b[0m\u001b[0;34m,\u001b[0m\u001b[0;34m\u001b[0m\u001b[0m\n\u001b[0;32m--> 594\u001b[0;31m                                                   chunked=chunked)\n\u001b[0m\u001b[1;32m    595\u001b[0m \u001b[0;34m\u001b[0m\u001b[0m\n\u001b[1;32m    596\u001b[0m             \u001b[0;31m# If we're going to release the connection in ``finally:``, then\u001b[0m\u001b[0;34m\u001b[0m\u001b[0;34m\u001b[0m\u001b[0m\n",
      "\u001b[0;32m/Library/Python/2.7/site-packages/requests/packages/urllib3/connectionpool.pyc\u001b[0m in \u001b[0;36m_make_request\u001b[0;34m(self, conn, method, url, timeout, chunked, **httplib_request_kw)\u001b[0m\n\u001b[1;32m    382\u001b[0m         \u001b[0;32mtry\u001b[0m\u001b[0;34m:\u001b[0m\u001b[0;34m\u001b[0m\u001b[0m\n\u001b[1;32m    383\u001b[0m             \u001b[0;32mtry\u001b[0m\u001b[0;34m:\u001b[0m  \u001b[0;31m# Python 2.7, use buffering of HTTP responses\u001b[0m\u001b[0;34m\u001b[0m\u001b[0m\n\u001b[0;32m--> 384\u001b[0;31m                 \u001b[0mhttplib_response\u001b[0m \u001b[0;34m=\u001b[0m \u001b[0mconn\u001b[0m\u001b[0;34m.\u001b[0m\u001b[0mgetresponse\u001b[0m\u001b[0;34m(\u001b[0m\u001b[0mbuffering\u001b[0m\u001b[0;34m=\u001b[0m\u001b[0mTrue\u001b[0m\u001b[0;34m)\u001b[0m\u001b[0;34m\u001b[0m\u001b[0m\n\u001b[0m\u001b[1;32m    385\u001b[0m             \u001b[0;32mexcept\u001b[0m \u001b[0mTypeError\u001b[0m\u001b[0;34m:\u001b[0m  \u001b[0;31m# Python 2.6 and older, Python 3\u001b[0m\u001b[0;34m\u001b[0m\u001b[0m\n\u001b[1;32m    386\u001b[0m                 \u001b[0;32mtry\u001b[0m\u001b[0;34m:\u001b[0m\u001b[0;34m\u001b[0m\u001b[0m\n",
      "\u001b[0;32m/usr/local/Cellar/python/2.7.11/Frameworks/Python.framework/Versions/2.7/lib/python2.7/httplib.pyc\u001b[0m in \u001b[0;36mgetresponse\u001b[0;34m(self, buffering)\u001b[0m\n\u001b[1;32m   1134\u001b[0m \u001b[0;34m\u001b[0m\u001b[0m\n\u001b[1;32m   1135\u001b[0m         \u001b[0;32mtry\u001b[0m\u001b[0;34m:\u001b[0m\u001b[0;34m\u001b[0m\u001b[0m\n\u001b[0;32m-> 1136\u001b[0;31m             \u001b[0mresponse\u001b[0m\u001b[0;34m.\u001b[0m\u001b[0mbegin\u001b[0m\u001b[0;34m(\u001b[0m\u001b[0;34m)\u001b[0m\u001b[0;34m\u001b[0m\u001b[0m\n\u001b[0m\u001b[1;32m   1137\u001b[0m             \u001b[0;32massert\u001b[0m \u001b[0mresponse\u001b[0m\u001b[0;34m.\u001b[0m\u001b[0mwill_close\u001b[0m \u001b[0;34m!=\u001b[0m \u001b[0m_UNKNOWN\u001b[0m\u001b[0;34m\u001b[0m\u001b[0m\n\u001b[1;32m   1138\u001b[0m             \u001b[0mself\u001b[0m\u001b[0;34m.\u001b[0m\u001b[0m__state\u001b[0m \u001b[0;34m=\u001b[0m \u001b[0m_CS_IDLE\u001b[0m\u001b[0;34m\u001b[0m\u001b[0m\n",
      "\u001b[0;32m/usr/local/Cellar/python/2.7.11/Frameworks/Python.framework/Versions/2.7/lib/python2.7/httplib.pyc\u001b[0m in \u001b[0;36mbegin\u001b[0;34m(self)\u001b[0m\n\u001b[1;32m    451\u001b[0m         \u001b[0;31m# read until we get a non-100 response\u001b[0m\u001b[0;34m\u001b[0m\u001b[0;34m\u001b[0m\u001b[0m\n\u001b[1;32m    452\u001b[0m         \u001b[0;32mwhile\u001b[0m \u001b[0mTrue\u001b[0m\u001b[0;34m:\u001b[0m\u001b[0;34m\u001b[0m\u001b[0m\n\u001b[0;32m--> 453\u001b[0;31m             \u001b[0mversion\u001b[0m\u001b[0;34m,\u001b[0m \u001b[0mstatus\u001b[0m\u001b[0;34m,\u001b[0m \u001b[0mreason\u001b[0m \u001b[0;34m=\u001b[0m \u001b[0mself\u001b[0m\u001b[0;34m.\u001b[0m\u001b[0m_read_status\u001b[0m\u001b[0;34m(\u001b[0m\u001b[0;34m)\u001b[0m\u001b[0;34m\u001b[0m\u001b[0m\n\u001b[0m\u001b[1;32m    454\u001b[0m             \u001b[0;32mif\u001b[0m \u001b[0mstatus\u001b[0m \u001b[0;34m!=\u001b[0m \u001b[0mCONTINUE\u001b[0m\u001b[0;34m:\u001b[0m\u001b[0;34m\u001b[0m\u001b[0m\n\u001b[1;32m    455\u001b[0m                 \u001b[0;32mbreak\u001b[0m\u001b[0;34m\u001b[0m\u001b[0m\n",
      "\u001b[0;32m/usr/local/Cellar/python/2.7.11/Frameworks/Python.framework/Versions/2.7/lib/python2.7/httplib.pyc\u001b[0m in \u001b[0;36m_read_status\u001b[0;34m(self)\u001b[0m\n\u001b[1;32m    407\u001b[0m     \u001b[0;32mdef\u001b[0m \u001b[0m_read_status\u001b[0m\u001b[0;34m(\u001b[0m\u001b[0mself\u001b[0m\u001b[0;34m)\u001b[0m\u001b[0;34m:\u001b[0m\u001b[0;34m\u001b[0m\u001b[0m\n\u001b[1;32m    408\u001b[0m         \u001b[0;31m# Initialize with Simple-Response defaults\u001b[0m\u001b[0;34m\u001b[0m\u001b[0;34m\u001b[0m\u001b[0m\n\u001b[0;32m--> 409\u001b[0;31m         \u001b[0mline\u001b[0m \u001b[0;34m=\u001b[0m \u001b[0mself\u001b[0m\u001b[0;34m.\u001b[0m\u001b[0mfp\u001b[0m\u001b[0;34m.\u001b[0m\u001b[0mreadline\u001b[0m\u001b[0;34m(\u001b[0m\u001b[0m_MAXLINE\u001b[0m \u001b[0;34m+\u001b[0m \u001b[0;36m1\u001b[0m\u001b[0;34m)\u001b[0m\u001b[0;34m\u001b[0m\u001b[0m\n\u001b[0m\u001b[1;32m    410\u001b[0m         \u001b[0;32mif\u001b[0m \u001b[0mlen\u001b[0m\u001b[0;34m(\u001b[0m\u001b[0mline\u001b[0m\u001b[0;34m)\u001b[0m \u001b[0;34m>\u001b[0m \u001b[0m_MAXLINE\u001b[0m\u001b[0;34m:\u001b[0m\u001b[0;34m\u001b[0m\u001b[0m\n\u001b[1;32m    411\u001b[0m             \u001b[0;32mraise\u001b[0m \u001b[0mLineTooLong\u001b[0m\u001b[0;34m(\u001b[0m\u001b[0;34m\"header line\"\u001b[0m\u001b[0;34m)\u001b[0m\u001b[0;34m\u001b[0m\u001b[0m\n",
      "\u001b[0;32m/usr/local/Cellar/python/2.7.11/Frameworks/Python.framework/Versions/2.7/lib/python2.7/socket.pyc\u001b[0m in \u001b[0;36mreadline\u001b[0;34m(self, size)\u001b[0m\n\u001b[1;32m    478\u001b[0m             \u001b[0;32mwhile\u001b[0m \u001b[0mTrue\u001b[0m\u001b[0;34m:\u001b[0m\u001b[0;34m\u001b[0m\u001b[0m\n\u001b[1;32m    479\u001b[0m                 \u001b[0;32mtry\u001b[0m\u001b[0;34m:\u001b[0m\u001b[0;34m\u001b[0m\u001b[0m\n\u001b[0;32m--> 480\u001b[0;31m                     \u001b[0mdata\u001b[0m \u001b[0;34m=\u001b[0m \u001b[0mself\u001b[0m\u001b[0;34m.\u001b[0m\u001b[0m_sock\u001b[0m\u001b[0;34m.\u001b[0m\u001b[0mrecv\u001b[0m\u001b[0;34m(\u001b[0m\u001b[0mself\u001b[0m\u001b[0;34m.\u001b[0m\u001b[0m_rbufsize\u001b[0m\u001b[0;34m)\u001b[0m\u001b[0;34m\u001b[0m\u001b[0m\n\u001b[0m\u001b[1;32m    481\u001b[0m                 \u001b[0;32mexcept\u001b[0m \u001b[0merror\u001b[0m\u001b[0;34m,\u001b[0m \u001b[0me\u001b[0m\u001b[0;34m:\u001b[0m\u001b[0;34m\u001b[0m\u001b[0m\n\u001b[1;32m    482\u001b[0m                     \u001b[0;32mif\u001b[0m \u001b[0me\u001b[0m\u001b[0;34m.\u001b[0m\u001b[0margs\u001b[0m\u001b[0;34m[\u001b[0m\u001b[0;36m0\u001b[0m\u001b[0;34m]\u001b[0m \u001b[0;34m==\u001b[0m \u001b[0mEINTR\u001b[0m\u001b[0;34m:\u001b[0m\u001b[0;34m\u001b[0m\u001b[0m\n",
      "\u001b[0;31mKeyboardInterrupt\u001b[0m: "
     ]
    }
   ],
   "source": [
    "[k_c,k_err]=compare_fit_ptrc(c)"
   ]
  },
  {
   "cell_type": "code",
   "execution_count": 708,
   "metadata": {
    "collapsed": false
   },
   "outputs": [
    {
     "data": {
      "image/png": "[encoded data removed]",
      "text/plain": [
       "<matplotlib.figure.Figure at 0x13b468bd0>"
      ]
     },
     "metadata": {},
     "output_type": "display_data"
    }
   ],
   "source": [
    "plt.plot(tot_reads,np.mean(hfit,1),tot_reads,np.mean(ptrc_e,1))#,tot_reads,[r[0].best_values['C'],r[1].best_values['C'] for r in res])\n",
    "legend = plt.legend(['H','K'])\n",
    "#ax = plt.axes()\n",
    "#ax.set_title('Mean absolute error')\n",
    "#g.fig.suptitle('THIS IS A TITLE, YOU BET')"
   ]
  },
  {
   "cell_type": "code",
   "execution_count": 232,
   "metadata": {
    "collapsed": false
   },
   "outputs": [
    {
     "data": {
      "text/plain": [
       "u'/Users/hedani/Documents/GitRepos/PTRloc/PTR-Pipeline/extra'"
      ]
     },
     "execution_count": 232,
     "metadata": {},
     "output_type": "execute_result"
    }
   ],
   "source": [
    "pwd"
   ]
  },
  {
   "cell_type": "code",
   "execution_count": 234,
   "metadata": {
    "collapsed": false
   },
   "outputs": [
    {
     "ename": "AttributeError",
     "evalue": "'AxesSubplot' object has no attribute 'savefig'",
     "output_type": "error",
     "traceback": [
      "\u001b[0;31m---------------------------------------------------------------------------\u001b[0m",
      "\u001b[0;31mAttributeError\u001b[0m                            Traceback (most recent call last)",
      "\u001b[0;32m<ipython-input-234-e2150051c591>\u001b[0m in \u001b[0;36m<module>\u001b[0;34m()\u001b[0m\n\u001b[0;32m----> 1\u001b[0;31m \u001b[0max\u001b[0m\u001b[0;34m.\u001b[0m\u001b[0msavefig\u001b[0m\u001b[0;34m(\u001b[0m\u001b[0;34m\"/Users/Shared/output.pdf\"\u001b[0m\u001b[0;34m)\u001b[0m\u001b[0;34m\u001b[0m\u001b[0m\n\u001b[0m",
      "\u001b[0;31mAttributeError\u001b[0m: 'AxesSubplot' object has no attribute 'savefig'"
     ]
    }
   ],
   "source": [
    "ax.savefig(\"/Users/Shared/output.pdf\")"
   ]
  },
  {
   "cell_type": "code",
   "execution_count": 280,
   "metadata": {
    "collapsed": false
   },
   "outputs": [
    {
     "data": {
      "text/plain": [
       "\"Running alignment stage\\ncomm00:\\nAligning comm00:\\n99999 reads; of these:\\n  99999 (100.00%) were paired; of these:\\n    99690 (99.69%) aligned concordantly 0 times\\n    147 (0.15%) aligned concordantly exactly 1 time\\n    162 (0.16%) aligned concordantly >1 times\\n    ----\\n    99690 pairs aligned concordantly 0 times; of these:\\n      47312 (47.46%) aligned discordantly 1 time\\n    ----\\n    52378 pairs aligned 0 times concordantly or discordantly; of these:\\n      104756 mates make up the pairs; of these:\\n        57 (0.05%) aligned 0 times\\n        4319 (4.12%) aligned exactly 1 time\\n        100380 (95.82%) aligned >1 times\\n99.97% overall alignment rate\\nMoving into subjobs\\ncomm00: Running pathoscope stage\\nRunning without mySQLdb library\\ncomm00: Running coverage stage\\ncomm00: Sorting\\ncomm00: Calculating coverage\\ncomm00: Performing piecewise fits\\nNC_000913.3\\nNC_000913.3.depth\\nNC_000913.3.depth: Bin coverage too low, exiting.\\nNC_009614.1\\nNC_009614.1.depth\\nNC_009614.1.depth: Coverage OK (0.813975626304 x).\\n\\ncntr: 6\\nNC_002655.2\\nNC_002655.2.depth\\n/home/Programs/PTR-Pipeline/bin/piecewiseFit.py:65: VisibleDeprecationWarning: using a non-integer number instead of an integer will result in an error in the future\\n  out=np.zeros(iEnd);\\n/home/Programs/PTR-Pipeline/bin/piecewiseFit.py:72: VisibleDeprecationWarning: using a non-integer number instead of an integer will result in an error in the future\\n  out=np.zeros(np.floor(len(x)/slide));\\n/home/Programs/PTR-Pipeline/bin/piecewiseFit.py:65: VisibleDeprecationWarning: using a non-integer number instead of an integer will result in an error in the future\\n  out=np.zeros(iEnd);\\n/home/Programs/PTR-Pipeline/bin/piecewiseFit.py:72: VisibleDeprecationWarning: using a non-integer number instead of an integer will result in an error in the future\\n  out=np.zeros(np.floor(len(x)/slide));\\nmv: cannot stat 'depth/*.log': No such file or directory\\nNC_002655.2.depth: Coverage OK (0.810297289744 x).\\n\\ncntr: 8\\ncomm00: Performing secondary fits\\n*\\nI/O error *.npy\\n\""
      ]
     },
     "execution_count": 280,
     "metadata": {},
     "output_type": "execute_result"
    }
   ],
   "source": [
    "args0=['/home/Programs/PTR-Pipeline/ptr_pipeline.py','-c',join('/mnt/vol','comm0','project.conf'),'-e','hedani@chalmers.se']          \n",
    "create_mount_run('centos/hedani',td,\" \".join(['/bin/bash -c \"']+args0+['make']+[';']+args0+['run\"']),envs)"
   ]
  },
  {
   "cell_type": "code",
   "execution_count": 507,
   "metadata": {
    "collapsed": false
   },
   "outputs": [
    {
     "data": {
      "text/plain": [
       "0.8969818062406385"
      ]
     },
     "execution_count": 507,
     "metadata": {},
     "output_type": "execute_result"
    }
   ],
   "source": [
    "res=fit_signal(st,1)\n",
    "err_hfit=((.5-res.best_values['C'])/.5)\n",
    "err_hfit"
   ]
  },
  {
   "cell_type": "code",
   "execution_count": 464,
   "metadata": {
    "collapsed": false
   },
   "outputs": [
    {
     "data": {
      "text/plain": [
       "0.50223664098758436"
      ]
     },
     "execution_count": 464,
     "metadata": {},
     "output_type": "execute_result"
    }
   ],
   "source": [
    "res.best_values['C']"
   ]
  },
  {
   "cell_type": "code",
   "execution_count": 496,
   "metadata": {
    "collapsed": false
   },
   "outputs": [],
   "source": [
    "#depth_file=join(c.conf['output_path'],c.name+'0','npy',c.pop.keys()[0]+'.depth.npy')\n",
    "depth_file='/Users/Shared/CommTest/comm0/Out/comm00/npy/NC_000913.3.depth.npy'"
   ]
  },
  {
   "cell_type": "code",
   "execution_count": 53,
   "metadata": {
    "collapsed": true
   },
   "outputs": [],
   "source": [
    "depth_file='/Users/hedani/Documents/GitRepos/PTRloc/tt/Out/comm00/npy/NC_000913.3.depth.npy'"
   ]
  },
  {
   "cell_type": "code",
   "execution_count": 54,
   "metadata": {
    "collapsed": false
   },
   "outputs": [],
   "source": [
    "signal=2**np.load(depth_file)\n",
    "signal=signal/(signal.sum()/len(signal))"
   ]
  },
  {
   "cell_type": "code",
   "execution_count": 509,
   "metadata": {
    "collapsed": false
   },
   "outputs": [
    {
     "data": {
      "text/plain": [
       "[<matplotlib.lines.Line2D at 0x137fd01d0>]"
      ]
     },
     "execution_count": 509,
     "metadata": {},
     "output_type": "execute_result"
    },
    {
     "data": {
      "image/png": "[encoded data removed]",
      "text/plain": [
       "<matplotlib.figure.Figure at 0x137829d10>"
      ]
     },
     "metadata": {},
     "output_type": "display_data"
    }
   ],
   "source": [
    "plt.plot(signal)"
   ]
  },
  {
   "cell_type": "code",
   "execution_count": 55,
   "metadata": {
    "collapsed": false
   },
   "outputs": [
    {
     "data": {
      "text/plain": [
       "[<matplotlib.lines.Line2D at 0x10793f550>]"
      ]
     },
     "execution_count": 55,
     "metadata": {},
     "output_type": "execute_result"
    },
    {
     "data": {
      "image/png": "[encoded data removed]",
      "text/plain": [
       "<matplotlib.figure.Figure at 0x107327450>"
      ]
     },
     "metadata": {},
     "output_type": "display_data"
    }
   ],
   "source": [
    "plt.plot(signal)"
   ]
  },
  {
   "cell_type": "code",
   "execution_count": 429,
   "metadata": {
    "collapsed": true
   },
   "outputs": [],
   "source": [
    " x = np.linspace(-2*np.pi, 2*np.pi, len(signal))"
   ]
  },
  {
   "cell_type": "code",
   "execution_count": 339,
   "metadata": {
    "collapsed": false
   },
   "outputs": [
    {
     "data": {
      "text/plain": [
       "[<matplotlib.lines.Line2D at 0x12cf47f10>]"
      ]
     },
     "execution_count": 339,
     "metadata": {},
     "output_type": "execute_result"
    },
    {
     "data": {
      "image/png": "[encoded data removed]",
      "text/plain": [
       "<matplotlib.figure.Figure at 0x12c0e5bd0>"
      ]
     },
     "metadata": {},
     "output_type": "display_data"
    }
   ],
   "source": [
    "xx=np.linspace(-np.pi, np.pi, 1000)\n",
    "plt.plot(np.abs(mv_filt(1.2,xx)))"
   ]
  },
  {
   "cell_type": "code",
   "execution_count": 401,
   "metadata": {
    "collapsed": false
   },
   "outputs": [
    {
     "data": {
      "text/plain": [
       "[<matplotlib.lines.Line2D at 0x1325a21d0>,\n",
       " <matplotlib.lines.Line2D at 0x1325a2490>,\n",
       " <matplotlib.lines.Line2D at 0x1325a2b50>]"
      ]
     },
     "execution_count": 401,
     "metadata": {},
     "output_type": "execute_result"
    },
    {
     "data": {
      "image/png": "[encoded data removed]",
      "text/plain": [
       "<matplotlib.figure.Figure at 0x132323090>"
      ]
     },
     "metadata": {},
     "output_type": "display_data"
    }
   ],
   "source": [
    "y2=[]\n",
    "x2=np.linspace(0,.5,100)\n",
    "y2=np.append(pxn2(x2,.5),pxn2(x2,.5)[::-1])\n",
    "x2=np.linspace(0,1,200)\n",
    "\n",
    "y=list(triangle(1000, 0.1,10))\n",
    "x=range(len(y))\n",
    "x_p = np.linspace(-2*np.pi, 2*np.pi, len(y2))\n",
    "\n",
    "f=mv_filt(20,x_p)\n",
    "fft_y=fft(y2)*f\n",
    "smooth_y=np.roll(ifft(fft_y),0)\n",
    "smooth_y=smooth_y/np.sum(smooth_y)\n",
    "\n",
    "x3=np.linspace(0,1,len(y_long))\n",
    "y_skum=y_long/(np.sum(y_long+np.mean(y_long)))\n",
    "x_p2 = np.linspace(-2*np.pi, 2*np.pi, len(y_skum))\n",
    "\n",
    "plt.plot(x2,y2/np.sum(y2),x2,smooth_y,x2,ifft(fft(smooth_y)/f))"
   ]
  },
  {
   "cell_type": "code",
   "execution_count": 60,
   "metadata": {
    "collapsed": false
   },
   "outputs": [
    {
     "data": {
      "text/plain": [
       "[<matplotlib.lines.Line2D at 0x108f5afd0>]"
      ]
     },
     "execution_count": 60,
     "metadata": {},
     "output_type": "execute_result"
    },
    {
     "data": {
      "image/png": "[encoded data removed]",
      "text/plain": [
       "<matplotlib.figure.Figure at 0x108df4a10>"
      ]
     },
     "metadata": {},
     "output_type": "display_data"
    }
   ],
   "source": [
    "xi=np.linspace(0,1,len(signal))\n",
    "xi2=np.linspace(0,1,10**3)\n",
    "iss=scipy.interpolate.UnivariateSpline(xi,signal,k=3)\n",
    "iss.set_smoothing_factor(.05)\n",
    "y_long=iss(xi2)\n",
    "plt.plot(y_long)"
   ]
  },
  {
   "cell_type": "code",
   "execution_count": 61,
   "metadata": {
    "collapsed": false
   },
   "outputs": [
    {
     "data": {
      "text/plain": [
       "[<matplotlib.lines.Line2D at 0x1090d7c90>]"
      ]
     },
     "execution_count": 61,
     "metadata": {},
     "output_type": "execute_result"
    },
    {
     "data": {
      "image/png": "[encoded data removed]",
      "text/plain": [
       "<matplotlib.figure.Figure at 0x1075321d0>"
      ]
     },
     "metadata": {},
     "output_type": "display_data"
    }
   ],
   "source": [
    "plt.plot(np.abs(ifft(fft(signal,10**4))[0:len(signal)]))"
   ]
  },
  {
   "cell_type": "code",
   "execution_count": 65,
   "metadata": {
    "collapsed": false
   },
   "outputs": [
    {
     "data": {
      "text/plain": [
       "[<matplotlib.lines.Line2D at 0x10972a210>,\n",
       " <matplotlib.lines.Line2D at 0x10972a4d0>]"
      ]
     },
     "execution_count": 65,
     "metadata": {},
     "output_type": "execute_result"
    },
    {
     "data": {
      "image/png": "[encoded data removed]",
      "text/plain": [
       "<matplotlib.figure.Figure at 0x108e18850>"
      ]
     },
     "metadata": {},
     "output_type": "display_data"
    }
   ],
   "source": [
    "signal=y_long\n",
    "x = np.linspace(-0.00001*np.pi/float(1), 1*np.pi/float(1),10**3)\n",
    "st=np.roll(ifft(fft(signal,10**3)/mv_filt(1.27,x))[0:len(signal)],np.int64(-0/2))\n",
    "x2=np.linspace(0,1,len(st))\n",
    "x1=np.linspace(0,1,len(signal))\n",
    "plt.plot(x2,st/np.sum(st),x1,signal/np.sum(signal))"
   ]
  },
  {
   "cell_type": "code",
   "execution_count": 514,
   "metadata": {
    "collapsed": false
   },
   "outputs": [
    {
     "data": {
      "text/plain": [
       "[<matplotlib.lines.Line2D at 0x1384a5c10>,\n",
       " <matplotlib.lines.Line2D at 0x1384a5ed0>]"
      ]
     },
     "execution_count": 514,
     "metadata": {},
     "output_type": "execute_result"
    },
    {
     "data": {
      "image/png": "[encoded data removed]",
      "text/plain": [
       "<matplotlib.figure.Figure at 0x138379390>"
      ]
     },
     "metadata": {},
     "output_type": "display_data"
    }
   ],
   "source": [
    "plt.plot(x2,st/np.sum(st),x1,signal/np.sum(signal))"
   ]
  },
  {
   "cell_type": "code",
   "execution_count": 193,
   "metadata": {
    "collapsed": false
   },
   "outputs": [
    {
     "data": {
      "text/plain": [
       "[<matplotlib.lines.Line2D at 0x12058b790>]"
      ]
     },
     "execution_count": 193,
     "metadata": {},
     "output_type": "execute_result"
    },
    {
     "data": {
      "image/png": "[encoded data removed]",
      "text/plain": [
       "<matplotlib.figure.Figure at 0x1202aeb90>"
      ]
     },
     "metadata": {},
     "output_type": "display_data"
    }
   ],
   "source": [
    "plt.plot(np.abs(mv_filt(1*10**1,x)))"
   ]
  },
  {
   "cell_type": "code",
   "execution_count": 411,
   "metadata": {
    "collapsed": false
   },
   "outputs": [
    {
     "data": {
      "text/plain": [
       "nan"
      ]
     },
     "execution_count": 411,
     "metadata": {},
     "output_type": "execute_result"
    }
   ],
   "source": [
    "np.sqrt(-1)"
   ]
  },
  {
   "cell_type": "code",
   "execution_count": null,
   "metadata": {
    "collapsed": true
   },
   "outputs": [],
   "source": [
    "1+np.exp()"
   ]
  },
  {
   "cell_type": "code",
   "execution_count": 398,
   "metadata": {
    "collapsed": false
   },
   "outputs": [
    {
     "data": {
      "text/plain": [
       "2.7182818284590451"
      ]
     },
     "execution_count": 398,
     "metadata": {},
     "output_type": "execute_result"
    }
   ],
   "source": [
    "np.exp(1)"
   ]
  },
  {
   "cell_type": "code",
   "execution_count": 272,
   "metadata": {
    "collapsed": false
   },
   "outputs": [
    {
     "data": {
      "text/plain": [
       "'/usr/bin/python\\n'"
      ]
     },
     "execution_count": 272,
     "metadata": {},
     "output_type": "execute_result"
    }
   ],
   "source": [
    "create_mount_run('centos/hedani',td,\" \".join(['/bin/bash -c \"']+['which python\"']),envs)"
   ]
  },
  {
   "cell_type": "code",
   "execution_count": 52,
   "metadata": {
    "collapsed": false
   },
   "outputs": [
    {
     "ename": "NotFound",
     "evalue": "404 Client Error: Not Found (\"{\"message\":\"oci runtime error: exec: \\\"-e\\\": executable file not found in $PATH\"}\")",
     "output_type": "error",
     "traceback": [
      "\u001b[0;31m---------------------------------------------------------------------------\u001b[0m",
      "\u001b[0;31mNotFound\u001b[0m                                  Traceback (most recent call last)",
      "\u001b[0;32m<ipython-input-52-071c0a386248>\u001b[0m in \u001b[0;36m<module>\u001b[0;34m()\u001b[0m\n\u001b[1;32m      1\u001b[0m \u001b[0mtot_reads\u001b[0m\u001b[0;34m=\u001b[0m\u001b[0;34m[\u001b[0m\u001b[0;36m10\u001b[0m\u001b[0;34m**\u001b[0m\u001b[0;36m5\u001b[0m\u001b[0;34m]\u001b[0m\u001b[0;31m#np.linspace(5*10**3,10**4,15)\u001b[0m\u001b[0;34m\u001b[0m\u001b[0m\n\u001b[0;32m----> 2\u001b[0;31m \u001b[0mc\u001b[0m\u001b[0;34m=\u001b[0m\u001b[0mCommunity\u001b[0m\u001b[0;34m(\u001b[0m\u001b[0;34m'comm0'\u001b[0m\u001b[0;34m,\u001b[0m\u001b[0;34m[\u001b[0m\u001b[0macc\u001b[0m\u001b[0;34m[\u001b[0m\u001b[0ms\u001b[0m\u001b[0;34m]\u001b[0m \u001b[0;32mfor\u001b[0m \u001b[0ms\u001b[0m \u001b[0;32min\u001b[0m \u001b[0msel\u001b[0m\u001b[0;34m[\u001b[0m\u001b[0;36m0\u001b[0m\u001b[0;34m]\u001b[0m\u001b[0;34m]\u001b[0m\u001b[0;34m,\u001b[0m\u001b[0;34m[\u001b[0m\u001b[0mgrowth_param\u001b[0m\u001b[0;34m[\u001b[0m\u001b[0ms\u001b[0m\u001b[0;34m]\u001b[0m \u001b[0;32mfor\u001b[0m \u001b[0ms\u001b[0m \u001b[0;32min\u001b[0m \u001b[0msel\u001b[0m\u001b[0;34m[\u001b[0m\u001b[0;36m0\u001b[0m\u001b[0;34m]\u001b[0m\u001b[0;34m]\u001b[0m\u001b[0;34m,\u001b[0m\u001b[0mtd\u001b[0m\u001b[0;34m,\u001b[0m\u001b[0;34m'bowtie2'\u001b[0m\u001b[0;34m)\u001b[0m\u001b[0;34m\u001b[0m\u001b[0m\n\u001b[0m\u001b[1;32m      3\u001b[0m \u001b[0mc\u001b[0m\u001b[0;34m.\u001b[0m\u001b[0mbuild_index\u001b[0m\u001b[0;34m(\u001b[0m\u001b[0;34m)\u001b[0m\u001b[0;34m\u001b[0m\u001b[0m\n\u001b[1;32m      4\u001b[0m \u001b[0;32mfor\u001b[0m \u001b[0mnr\u001b[0m \u001b[0;32min\u001b[0m \u001b[0mtot_reads\u001b[0m\u001b[0;34m:\u001b[0m\u001b[0;34m\u001b[0m\u001b[0m\n\u001b[1;32m      5\u001b[0m     \u001b[0mc\u001b[0m\u001b[0;34m.\u001b[0m\u001b[0msample\u001b[0m\u001b[0;34m(\u001b[0m\u001b[0mnr\u001b[0m\u001b[0;34m)\u001b[0m\u001b[0;34m\u001b[0m\u001b[0m\n",
      "\u001b[0;32m<ipython-input-31-7a930caef3da>\u001b[0m in \u001b[0;36m__init__\u001b[0;34m(self, name, acc, growth_param, td, mapper)\u001b[0m\n\u001b[1;32m      6\u001b[0m \u001b[0;34m\u001b[0m\u001b[0m\n\u001b[1;32m      7\u001b[0m         \u001b[0mself\u001b[0m\u001b[0;34m.\u001b[0m\u001b[0mcreate_dirs\u001b[0m\u001b[0;34m(\u001b[0m\u001b[0mTrue\u001b[0m\u001b[0;34m)\u001b[0m\u001b[0;34m\u001b[0m\u001b[0m\n\u001b[0;32m----> 8\u001b[0;31m         \u001b[0mself\u001b[0m\u001b[0;34m.\u001b[0m\u001b[0mfetch_ref\u001b[0m\u001b[0;34m(\u001b[0m\u001b[0macc\u001b[0m\u001b[0;34m)\u001b[0m\u001b[0;34m\u001b[0m\u001b[0m\n\u001b[0m\u001b[1;32m      9\u001b[0m \u001b[0;34m\u001b[0m\u001b[0m\n\u001b[1;32m     10\u001b[0m         \u001b[0mself\u001b[0m\u001b[0;34m.\u001b[0m\u001b[0mpop\u001b[0m \u001b[0;34m=\u001b[0m \u001b[0mself\u001b[0m\u001b[0;34m.\u001b[0m\u001b[0minit_population\u001b[0m\u001b[0;34m(\u001b[0m\u001b[0macc\u001b[0m\u001b[0;34m,\u001b[0m\u001b[0mgrowth_param\u001b[0m\u001b[0;34m)\u001b[0m\u001b[0;34m\u001b[0m\u001b[0m\n",
      "\u001b[0;32m<ipython-input-31-7a930caef3da>\u001b[0m in \u001b[0;36mfetch_ref\u001b[0;34m(self, acc)\u001b[0m\n\u001b[1;32m    100\u001b[0m         \u001b[0mf\u001b[0m\u001b[0;34m.\u001b[0m\u001b[0mclose\u001b[0m\u001b[0;34m(\u001b[0m\u001b[0;34m)\u001b[0m\u001b[0;34m\u001b[0m\u001b[0m\n\u001b[1;32m    101\u001b[0m \u001b[0;34m\u001b[0m\u001b[0m\n\u001b[0;32m--> 102\u001b[0;31m         \u001b[0mcreate_mount_run\u001b[0m\u001b[0;34m(\u001b[0m\u001b[0;34m'centos/hedani'\u001b[0m\u001b[0;34m,\u001b[0m\u001b[0;34m'/Users/Shared/d_py'\u001b[0m\u001b[0;34m,\u001b[0m\u001b[0;34m[\u001b[0m\u001b[0;34m'-e'\u001b[0m\u001b[0;34m,\u001b[0m\u001b[0;34m'hedani@chalmers.se'\u001b[0m\u001b[0;34m,\u001b[0m\u001b[0;34m'fetch-references'\u001b[0m\u001b[0;34m,\u001b[0m\u001b[0;34m'-s'\u001b[0m\u001b[0;34m,\u001b[0m\u001b[0macc_path\u001b[0m\u001b[0;34m]\u001b[0m\u001b[0;34m)\u001b[0m\u001b[0;34m\u001b[0m\u001b[0m\n\u001b[0m\u001b[1;32m    103\u001b[0m         \u001b[0;31m#args=ptr_pipeline.parse_args(['-e','hedani@chalmers.se','fetch-references','-s',acc_path])\u001b[0m\u001b[0;34m\u001b[0m\u001b[0;34m\u001b[0m\u001b[0m\n\u001b[1;32m    104\u001b[0m         \u001b[0;31m#ptr_pipeline.main(args,self.conf)\u001b[0m\u001b[0;34m\u001b[0m\u001b[0;34m\u001b[0m\u001b[0m\n",
      "\u001b[0;32m<ipython-input-28-257136503bbf>\u001b[0m in \u001b[0;36mcreate_mount_run\u001b[0;34m(image, mount_dir, cmd)\u001b[0m\n\u001b[1;32m      9\u001b[0m         })\n\u001b[1;32m     10\u001b[0m     )\n\u001b[0;32m---> 11\u001b[0;31m     \u001b[0mcli\u001b[0m\u001b[0;34m.\u001b[0m\u001b[0mstart\u001b[0m\u001b[0;34m(\u001b[0m\u001b[0mcontainer\u001b[0m\u001b[0;34m=\u001b[0m\u001b[0mcontainer\u001b[0m\u001b[0;34m.\u001b[0m\u001b[0mget\u001b[0m\u001b[0;34m(\u001b[0m\u001b[0;34m'Id'\u001b[0m\u001b[0;34m)\u001b[0m\u001b[0;34m)\u001b[0m\u001b[0;34m\u001b[0m\u001b[0m\n\u001b[0m\u001b[1;32m     12\u001b[0m     \u001b[0;32mreturn\u001b[0m \u001b[0mcli\u001b[0m\u001b[0;34m.\u001b[0m\u001b[0mlogs\u001b[0m\u001b[0;34m(\u001b[0m\u001b[0mcontainer\u001b[0m\u001b[0;34m=\u001b[0m\u001b[0mcontainer\u001b[0m\u001b[0;34m.\u001b[0m\u001b[0mget\u001b[0m\u001b[0;34m(\u001b[0m\u001b[0;34m'Id'\u001b[0m\u001b[0;34m)\u001b[0m\u001b[0;34m)\u001b[0m\u001b[0;34m\u001b[0m\u001b[0m\n",
      "\u001b[0;32m/Library/Python/2.7/site-packages/docker/utils/decorators.pyc\u001b[0m in \u001b[0;36mwrapped\u001b[0;34m(self, resource_id, *args, **kwargs)\u001b[0m\n\u001b[1;32m     19\u001b[0m                 \u001b[0;34m'image or container param is undefined'\u001b[0m\u001b[0;34m\u001b[0m\u001b[0m\n\u001b[1;32m     20\u001b[0m             )\n\u001b[0;32m---> 21\u001b[0;31m         \u001b[0;32mreturn\u001b[0m \u001b[0mf\u001b[0m\u001b[0;34m(\u001b[0m\u001b[0mself\u001b[0m\u001b[0;34m,\u001b[0m \u001b[0mresource_id\u001b[0m\u001b[0;34m,\u001b[0m \u001b[0;34m*\u001b[0m\u001b[0margs\u001b[0m\u001b[0;34m,\u001b[0m \u001b[0;34m**\u001b[0m\u001b[0mkwargs\u001b[0m\u001b[0;34m)\u001b[0m\u001b[0;34m\u001b[0m\u001b[0m\n\u001b[0m\u001b[1;32m     22\u001b[0m     \u001b[0;32mreturn\u001b[0m \u001b[0mwrapped\u001b[0m\u001b[0;34m\u001b[0m\u001b[0m\n\u001b[1;32m     23\u001b[0m \u001b[0;34m\u001b[0m\u001b[0m\n",
      "\u001b[0;32m/Library/Python/2.7/site-packages/docker/api/container.pyc\u001b[0m in \u001b[0;36mstart\u001b[0;34m(self, container, binds, port_bindings, lxc_conf, publish_all_ports, links, privileged, dns, dns_search, volumes_from, network_mode, restart_policy, cap_add, cap_drop, devices, extra_hosts, read_only, pid_mode, ipc_mode, security_opt, ulimits)\u001b[0m\n\u001b[1;32m    381\u001b[0m         \u001b[0murl\u001b[0m \u001b[0;34m=\u001b[0m \u001b[0mself\u001b[0m\u001b[0;34m.\u001b[0m\u001b[0m_url\u001b[0m\u001b[0;34m(\u001b[0m\u001b[0;34m\"/containers/{0}/start\"\u001b[0m\u001b[0;34m,\u001b[0m \u001b[0mcontainer\u001b[0m\u001b[0;34m)\u001b[0m\u001b[0;34m\u001b[0m\u001b[0m\n\u001b[1;32m    382\u001b[0m         \u001b[0mres\u001b[0m \u001b[0;34m=\u001b[0m \u001b[0mself\u001b[0m\u001b[0;34m.\u001b[0m\u001b[0m_post_json\u001b[0m\u001b[0;34m(\u001b[0m\u001b[0murl\u001b[0m\u001b[0;34m,\u001b[0m \u001b[0mdata\u001b[0m\u001b[0;34m=\u001b[0m\u001b[0mstart_config\u001b[0m\u001b[0;34m)\u001b[0m\u001b[0;34m\u001b[0m\u001b[0m\n\u001b[0;32m--> 383\u001b[0;31m         \u001b[0mself\u001b[0m\u001b[0;34m.\u001b[0m\u001b[0m_raise_for_status\u001b[0m\u001b[0;34m(\u001b[0m\u001b[0mres\u001b[0m\u001b[0;34m)\u001b[0m\u001b[0;34m\u001b[0m\u001b[0m\n\u001b[0m\u001b[1;32m    384\u001b[0m \u001b[0;34m\u001b[0m\u001b[0m\n\u001b[1;32m    385\u001b[0m     \u001b[0;34m@\u001b[0m\u001b[0mutils\u001b[0m\u001b[0;34m.\u001b[0m\u001b[0mminimum_version\u001b[0m\u001b[0;34m(\u001b[0m\u001b[0;34m'1.17'\u001b[0m\u001b[0;34m)\u001b[0m\u001b[0;34m\u001b[0m\u001b[0m\n",
      "\u001b[0;32m/Library/Python/2.7/site-packages/docker/client.pyc\u001b[0m in \u001b[0;36m_raise_for_status\u001b[0;34m(self, response, explanation)\u001b[0m\n\u001b[1;32m    171\u001b[0m         \u001b[0;32mexcept\u001b[0m \u001b[0mrequests\u001b[0m\u001b[0;34m.\u001b[0m\u001b[0mexceptions\u001b[0m\u001b[0;34m.\u001b[0m\u001b[0mHTTPError\u001b[0m \u001b[0;32mas\u001b[0m \u001b[0me\u001b[0m\u001b[0;34m:\u001b[0m\u001b[0;34m\u001b[0m\u001b[0m\n\u001b[1;32m    172\u001b[0m             \u001b[0;32mif\u001b[0m \u001b[0me\u001b[0m\u001b[0;34m.\u001b[0m\u001b[0mresponse\u001b[0m\u001b[0;34m.\u001b[0m\u001b[0mstatus_code\u001b[0m \u001b[0;34m==\u001b[0m \u001b[0;36m404\u001b[0m\u001b[0;34m:\u001b[0m\u001b[0;34m\u001b[0m\u001b[0m\n\u001b[0;32m--> 173\u001b[0;31m                 \u001b[0;32mraise\u001b[0m \u001b[0merrors\u001b[0m\u001b[0;34m.\u001b[0m\u001b[0mNotFound\u001b[0m\u001b[0;34m(\u001b[0m\u001b[0me\u001b[0m\u001b[0;34m,\u001b[0m \u001b[0mresponse\u001b[0m\u001b[0;34m,\u001b[0m \u001b[0mexplanation\u001b[0m\u001b[0;34m=\u001b[0m\u001b[0mexplanation\u001b[0m\u001b[0;34m)\u001b[0m\u001b[0;34m\u001b[0m\u001b[0m\n\u001b[0m\u001b[1;32m    174\u001b[0m             \u001b[0;32mraise\u001b[0m \u001b[0merrors\u001b[0m\u001b[0;34m.\u001b[0m\u001b[0mAPIError\u001b[0m\u001b[0;34m(\u001b[0m\u001b[0me\u001b[0m\u001b[0;34m,\u001b[0m \u001b[0mresponse\u001b[0m\u001b[0;34m,\u001b[0m \u001b[0mexplanation\u001b[0m\u001b[0;34m=\u001b[0m\u001b[0mexplanation\u001b[0m\u001b[0;34m)\u001b[0m\u001b[0;34m\u001b[0m\u001b[0m\n\u001b[1;32m    175\u001b[0m \u001b[0;34m\u001b[0m\u001b[0m\n",
      "\u001b[0;31mNotFound\u001b[0m: 404 Client Error: Not Found (\"{\"message\":\"oci runtime error: exec: \\\"-e\\\": executable file not found in $PATH\"}\")"
     ]
    }
   ],
   "source": [
    "tot_reads=[10**5]#np.linspace(5*10**3,10**4,15)\n",
    "c=Community('comm0',[acc[s] for s in sel[0]],[growth_param[s] for s in sel[0]],td,'bowtie2')\n",
    "c.build_index()\n",
    "for nr in tot_reads:\n",
    "    c.sample(nr)\n",
    "    c.write_reads()\n",
    "\n",
    "c.run_pipeline()\n",
    "[res,hfit,pfit]=c.compare_fit()"
   ]
  },
  {
   "cell_type": "code",
   "execution_count": null,
   "metadata": {
    "collapsed": true
   },
   "outputs": [],
   "source": []
  },
  {
   "cell_type": "code",
   "execution_count": 247,
   "metadata": {
    "collapsed": false
   },
   "outputs": [
    {
     "name": "stderr",
     "output_type": "stream",
     "text": [
      "ERROR:root:Internal Python error in the inspect module.\n",
      "Below is the traceback from this internal error.\n",
      "\n"
     ]
    },
    {
     "name": "stdout",
     "output_type": "stream",
     "text": [
      "Traceback (most recent call last):\n",
      "  File \"/Library/Python/2.7/site-packages/IPython/core/ultratb.py\", line 1132, in get_records\n",
      "    return _fixed_getinnerframes(etb, number_of_lines_of_context, tb_offset)\n",
      "  File \"/Library/Python/2.7/site-packages/IPython/core/ultratb.py\", line 313, in wrapped\n",
      "    return f(*args, **kwargs)\n",
      "  File \"/Library/Python/2.7/site-packages/IPython/core/ultratb.py\", line 358, in _fixed_getinnerframes\n",
      "    records = fix_frame_records_filenames(inspect.getinnerframes(etb, context))\n",
      "  File \"/usr/local/Cellar/python/2.7.11/Frameworks/Python.framework/Versions/2.7/lib/python2.7/inspect.py\", line 1049, in getinnerframes\n",
      "    framelist.append((tb.tb_frame,) + getframeinfo(tb, context))\n",
      "  File \"/usr/local/Cellar/python/2.7.11/Frameworks/Python.framework/Versions/2.7/lib/python2.7/inspect.py\", line 1009, in getframeinfo\n",
      "    filename = getsourcefile(frame) or getfile(frame)\n",
      "  File \"/usr/local/Cellar/python/2.7.11/Frameworks/Python.framework/Versions/2.7/lib/python2.7/inspect.py\", line 454, in getsourcefile\n",
      "    if hasattr(getmodule(object, filename), '__loader__'):\n",
      "  File \"/usr/local/Cellar/python/2.7.11/Frameworks/Python.framework/Versions/2.7/lib/python2.7/inspect.py\", line 483, in getmodule\n",
      "    file = getabsfile(object, _filename)\n",
      "  File \"/usr/local/Cellar/python/2.7.11/Frameworks/Python.framework/Versions/2.7/lib/python2.7/inspect.py\", line 467, in getabsfile\n",
      "    return os.path.normcase(os.path.abspath(_filename))\n",
      "  File \"/usr/local/Cellar/python/2.7.11/Frameworks/Python.framework/Versions/2.7/lib/python2.7/posixpath.py\", line 364, in abspath\n",
      "    cwd = os.getcwd()\n",
      "OSError: [Errno 2] No such file or directory\n"
     ]
    },
    {
     "ename": "IndexError",
     "evalue": "string index out of range",
     "output_type": "error",
     "traceback": [
      "\u001b[0;31m---------------------------------------------------------------------------\u001b[0m",
      "\u001b[0;31mIndexError\u001b[0m                                Traceback (most recent call last)",
      "\u001b[0;32m/Library/Python/2.7/site-packages/IPython/core/interactiveshell.pyc\u001b[0m in \u001b[0;36mrun_code\u001b[0;34m(self, code_obj, result)\u001b[0m\n\u001b[1;32m   2896\u001b[0m             \u001b[0;32mif\u001b[0m \u001b[0mresult\u001b[0m \u001b[0;32mis\u001b[0m \u001b[0;32mnot\u001b[0m \u001b[0mNone\u001b[0m\u001b[0;34m:\u001b[0m\u001b[0;34m\u001b[0m\u001b[0m\n\u001b[1;32m   2897\u001b[0m                 \u001b[0mresult\u001b[0m\u001b[0;34m.\u001b[0m\u001b[0merror_in_exec\u001b[0m \u001b[0;34m=\u001b[0m \u001b[0msys\u001b[0m\u001b[0;34m.\u001b[0m\u001b[0mexc_info\u001b[0m\u001b[0;34m(\u001b[0m\u001b[0;34m)\u001b[0m\u001b[0;34m[\u001b[0m\u001b[0;36m1\u001b[0m\u001b[0;34m]\u001b[0m\u001b[0;34m\u001b[0m\u001b[0m\n\u001b[0;32m-> 2898\u001b[0;31m             \u001b[0mself\u001b[0m\u001b[0;34m.\u001b[0m\u001b[0mshowtraceback\u001b[0m\u001b[0;34m(\u001b[0m\u001b[0;34m)\u001b[0m\u001b[0;34m\u001b[0m\u001b[0m\n\u001b[0m\u001b[1;32m   2899\u001b[0m         \u001b[0;32melse\u001b[0m\u001b[0;34m:\u001b[0m\u001b[0;34m\u001b[0m\u001b[0m\n\u001b[1;32m   2900\u001b[0m             \u001b[0moutflag\u001b[0m \u001b[0;34m=\u001b[0m \u001b[0;36m0\u001b[0m\u001b[0;34m\u001b[0m\u001b[0m\n",
      "\u001b[0;32m/Library/Python/2.7/site-packages/IPython/core/interactiveshell.pyc\u001b[0m in \u001b[0;36mshowtraceback\u001b[0;34m(self, exc_tuple, filename, tb_offset, exception_only)\u001b[0m\n\u001b[1;32m   1822\u001b[0m                     \u001b[0;32mexcept\u001b[0m \u001b[0mException\u001b[0m\u001b[0;34m:\u001b[0m\u001b[0;34m\u001b[0m\u001b[0m\n\u001b[1;32m   1823\u001b[0m                         stb = self.InteractiveTB.structured_traceback(etype,\n\u001b[0;32m-> 1824\u001b[0;31m                                             value, tb, tb_offset=tb_offset)\n\u001b[0m\u001b[1;32m   1825\u001b[0m \u001b[0;34m\u001b[0m\u001b[0m\n\u001b[1;32m   1826\u001b[0m                     \u001b[0mself\u001b[0m\u001b[0;34m.\u001b[0m\u001b[0m_showtraceback\u001b[0m\u001b[0;34m(\u001b[0m\u001b[0metype\u001b[0m\u001b[0;34m,\u001b[0m \u001b[0mvalue\u001b[0m\u001b[0;34m,\u001b[0m \u001b[0mstb\u001b[0m\u001b[0;34m)\u001b[0m\u001b[0;34m\u001b[0m\u001b[0m\n",
      "\u001b[0;32m/Library/Python/2.7/site-packages/IPython/core/ultratb.pyc\u001b[0m in \u001b[0;36mstructured_traceback\u001b[0;34m(self, etype, value, tb, tb_offset, number_of_lines_of_context)\u001b[0m\n\u001b[1;32m   1404\u001b[0m         \u001b[0mself\u001b[0m\u001b[0;34m.\u001b[0m\u001b[0mtb\u001b[0m \u001b[0;34m=\u001b[0m \u001b[0mtb\u001b[0m\u001b[0;34m\u001b[0m\u001b[0m\n\u001b[1;32m   1405\u001b[0m         return FormattedTB.structured_traceback(\n\u001b[0;32m-> 1406\u001b[0;31m             self, etype, value, tb, tb_offset, number_of_lines_of_context)\n\u001b[0m\u001b[1;32m   1407\u001b[0m \u001b[0;34m\u001b[0m\u001b[0m\n\u001b[1;32m   1408\u001b[0m \u001b[0;34m\u001b[0m\u001b[0m\n",
      "\u001b[0;32m/Library/Python/2.7/site-packages/IPython/core/ultratb.pyc\u001b[0m in \u001b[0;36mstructured_traceback\u001b[0;34m(self, etype, value, tb, tb_offset, number_of_lines_of_context)\u001b[0m\n\u001b[1;32m   1312\u001b[0m             \u001b[0;31m# Verbose modes need a full traceback\u001b[0m\u001b[0;34m\u001b[0m\u001b[0;34m\u001b[0m\u001b[0m\n\u001b[1;32m   1313\u001b[0m             return VerboseTB.structured_traceback(\n\u001b[0;32m-> 1314\u001b[0;31m                 \u001b[0mself\u001b[0m\u001b[0;34m,\u001b[0m \u001b[0metype\u001b[0m\u001b[0;34m,\u001b[0m \u001b[0mvalue\u001b[0m\u001b[0;34m,\u001b[0m \u001b[0mtb\u001b[0m\u001b[0;34m,\u001b[0m \u001b[0mtb_offset\u001b[0m\u001b[0;34m,\u001b[0m \u001b[0mnumber_of_lines_of_context\u001b[0m\u001b[0;34m\u001b[0m\u001b[0m\n\u001b[0m\u001b[1;32m   1315\u001b[0m             )\n\u001b[1;32m   1316\u001b[0m         \u001b[0;32melse\u001b[0m\u001b[0;34m:\u001b[0m\u001b[0;34m\u001b[0m\u001b[0m\n",
      "\u001b[0;32m/Library/Python/2.7/site-packages/IPython/core/ultratb.pyc\u001b[0m in \u001b[0;36mstructured_traceback\u001b[0;34m(self, etype, evalue, etb, tb_offset, number_of_lines_of_context)\u001b[0m\n\u001b[1;32m   1196\u001b[0m                 \u001b[0mstructured_traceback_parts\u001b[0m \u001b[0;34m+=\u001b[0m \u001b[0mformatted_exception\u001b[0m\u001b[0;34m\u001b[0m\u001b[0m\n\u001b[1;32m   1197\u001b[0m         \u001b[0;32melse\u001b[0m\u001b[0;34m:\u001b[0m\u001b[0;34m\u001b[0m\u001b[0m\n\u001b[0;32m-> 1198\u001b[0;31m             \u001b[0mstructured_traceback_parts\u001b[0m \u001b[0;34m+=\u001b[0m \u001b[0mformatted_exception\u001b[0m\u001b[0;34m[\u001b[0m\u001b[0;36m0\u001b[0m\u001b[0;34m]\u001b[0m\u001b[0;34m\u001b[0m\u001b[0m\n\u001b[0m\u001b[1;32m   1199\u001b[0m \u001b[0;34m\u001b[0m\u001b[0m\n\u001b[1;32m   1200\u001b[0m         \u001b[0;32mreturn\u001b[0m \u001b[0mstructured_traceback_parts\u001b[0m\u001b[0;34m\u001b[0m\u001b[0m\n",
      "\u001b[0;31mIndexError\u001b[0m: string index out of range"
     ]
    }
   ],
   "source": [
    "community=[]\n",
    "nrs=np.linspace(10**5,10**5,1)\n",
    "res=[]\n",
    "for nr in nrs:\n",
    "    community.append(run_community_analysis('fs',td,'bowtie2',acc,growth_param,sel,nr,0))\n",
    "    #res.append(community[i][0].compare_fit())"
   ]
  },
  {
   "cell_type": "code",
   "execution_count": 73,
   "metadata": {
    "collapsed": false
   },
   "outputs": [
    {
     "ename": "KeyError",
     "evalue": "'NC_000913.3'",
     "output_type": "error",
     "traceback": [
      "\u001b[0;31m---------------------------------------------------------------------------\u001b[0m",
      "\u001b[0;31mKeyError\u001b[0m                                  Traceback (most recent call last)",
      "\u001b[0;32m<ipython-input-73-fde9aa008fdc>\u001b[0m in \u001b[0;36m<module>\u001b[0;34m()\u001b[0m\n\u001b[0;32m----> 1\u001b[0;31m \u001b[0mc\u001b[0m\u001b[0;34m=\u001b[0m\u001b[0mCommunity\u001b[0m\u001b[0;34m(\u001b[0m\u001b[0;34m'comm0'\u001b[0m\u001b[0;34m,\u001b[0m\u001b[0;34m[\u001b[0m\u001b[0macc\u001b[0m\u001b[0;34m[\u001b[0m\u001b[0ms\u001b[0m\u001b[0;34m]\u001b[0m \u001b[0;32mfor\u001b[0m \u001b[0ms\u001b[0m \u001b[0;32min\u001b[0m \u001b[0msel\u001b[0m\u001b[0;34m[\u001b[0m\u001b[0;36m0\u001b[0m\u001b[0;34m]\u001b[0m\u001b[0;34m]\u001b[0m\u001b[0;34m,\u001b[0m\u001b[0;34m[\u001b[0m\u001b[0mgrowth_param\u001b[0m\u001b[0;34m[\u001b[0m\u001b[0ms\u001b[0m\u001b[0;34m]\u001b[0m \u001b[0;32mfor\u001b[0m \u001b[0ms\u001b[0m \u001b[0;32min\u001b[0m \u001b[0msel\u001b[0m\u001b[0;34m[\u001b[0m\u001b[0;36m0\u001b[0m\u001b[0;34m]\u001b[0m\u001b[0;34m]\u001b[0m\u001b[0;34m,\u001b[0m\u001b[0mtd\u001b[0m\u001b[0;34m,\u001b[0m\u001b[0;34m'bowtie2'\u001b[0m\u001b[0;34m)\u001b[0m\u001b[0;34m\u001b[0m\u001b[0m\n\u001b[0m",
      "\u001b[0;32m<ipython-input-55-d175fa22a917>\u001b[0m in \u001b[0;36m__init__\u001b[0;34m(self, name, acc, growth_param, td, mapper)\u001b[0m\n\u001b[1;32m     12\u001b[0m         \u001b[0mself\u001b[0m\u001b[0;34m.\u001b[0m\u001b[0mfetch_ref\u001b[0m\u001b[0;34m(\u001b[0m\u001b[0macc\u001b[0m\u001b[0;34m)\u001b[0m\u001b[0;34m\u001b[0m\u001b[0m\n\u001b[1;32m     13\u001b[0m \u001b[0;34m\u001b[0m\u001b[0m\n\u001b[0;32m---> 14\u001b[0;31m         \u001b[0mself\u001b[0m\u001b[0;34m.\u001b[0m\u001b[0mpop\u001b[0m \u001b[0;34m=\u001b[0m \u001b[0mself\u001b[0m\u001b[0;34m.\u001b[0m\u001b[0minit_population\u001b[0m\u001b[0;34m(\u001b[0m\u001b[0macc\u001b[0m\u001b[0;34m,\u001b[0m\u001b[0mgrowth_param\u001b[0m\u001b[0;34m)\u001b[0m\u001b[0;34m\u001b[0m\u001b[0m\n\u001b[0m\u001b[1;32m     15\u001b[0m         \u001b[0mself\u001b[0m\u001b[0;34m.\u001b[0m\u001b[0mdistribution\u001b[0m \u001b[0;34m=\u001b[0m \u001b[0mself\u001b[0m\u001b[0;34m.\u001b[0m\u001b[0mcommunity_distribution\u001b[0m\u001b[0;34m(\u001b[0m\u001b[0;34m)\u001b[0m\u001b[0;34m\u001b[0m\u001b[0m\n\u001b[1;32m     16\u001b[0m         \u001b[0mself\u001b[0m\u001b[0;34m.\u001b[0m\u001b[0msamples\u001b[0m \u001b[0;34m=\u001b[0m \u001b[0;34m[\u001b[0m\u001b[0;34m]\u001b[0m\u001b[0;34m\u001b[0m\u001b[0m\n",
      "\u001b[0;32m<ipython-input-55-d175fa22a917>\u001b[0m in \u001b[0;36minit_population\u001b[0;34m(self, acc, growth_param)\u001b[0m\n\u001b[1;32m     29\u001b[0m         \u001b[0;32mfor\u001b[0m \u001b[0mi\u001b[0m\u001b[0;34m,\u001b[0m\u001b[0ma\u001b[0m \u001b[0;32min\u001b[0m \u001b[0menumerate\u001b[0m\u001b[0;34m(\u001b[0m\u001b[0macc\u001b[0m\u001b[0;34m)\u001b[0m\u001b[0;34m:\u001b[0m\u001b[0;34m\u001b[0m\u001b[0m\n\u001b[1;32m     30\u001b[0m             pop[a]=population(B = growth_param[i][0],C = growth_param[i][1],\n\u001b[0;32m---> 31\u001b[0;31m                              \u001b[0mD\u001b[0m \u001b[0;34m=\u001b[0m \u001b[0mgrowth_param\u001b[0m\u001b[0;34m[\u001b[0m\u001b[0mi\u001b[0m\u001b[0;34m]\u001b[0m\u001b[0;34m[\u001b[0m\u001b[0;36m2\u001b[0m\u001b[0;34m]\u001b[0m\u001b[0;34m,\u001b[0m \u001b[0ml\u001b[0m \u001b[0;34m=\u001b[0m \u001b[0mlen\u001b[0m\u001b[0;34m(\u001b[0m\u001b[0mrecords\u001b[0m\u001b[0;34m[\u001b[0m\u001b[0ma\u001b[0m\u001b[0;34m]\u001b[0m\u001b[0;34m)\u001b[0m\u001b[0;34m,\u001b[0m\u001b[0;34m\u001b[0m\u001b[0m\n\u001b[0m\u001b[1;32m     32\u001b[0m                              seq = records[a], cells=growth_param[i][3])\n\u001b[1;32m     33\u001b[0m         \u001b[0;32mreturn\u001b[0m \u001b[0mpop\u001b[0m\u001b[0;34m\u001b[0m\u001b[0m\n",
      "\u001b[0;31mKeyError\u001b[0m: 'NC_000913.3'"
     ]
    }
   ],
   "source": [
    "c=Community('comm0',[acc[s] for s in sel[0]],[growth_param[s] for s in sel[0]],td,'bowtie2')"
   ]
  },
  {
   "cell_type": "code",
   "execution_count": 47,
   "metadata": {
    "collapsed": false
   },
   "outputs": [
    {
     "ename": "IOError",
     "evalue": "[Errno 2] No such file or directory: '/mnt/vol/comm0/project.conf'",
     "output_type": "error",
     "traceback": [
      "\u001b[0;31m---------------------------------------------------------------------------\u001b[0m",
      "\u001b[0;31mIOError\u001b[0m                                   Traceback (most recent call last)",
      "\u001b[0;32m<ipython-input-47-5b05c90de0d8>\u001b[0m in \u001b[0;36m<module>\u001b[0;34m()\u001b[0m\n\u001b[1;32m      1\u001b[0m \u001b[0mtot_reads\u001b[0m\u001b[0;34m=\u001b[0m\u001b[0;34m[\u001b[0m\u001b[0;36m10\u001b[0m\u001b[0;34m**\u001b[0m\u001b[0;36m5\u001b[0m\u001b[0;34m]\u001b[0m\u001b[0;31m#np.linspace(5*10**3,10**4,15)\u001b[0m\u001b[0;34m\u001b[0m\u001b[0m\n\u001b[0;32m----> 2\u001b[0;31m \u001b[0mc\u001b[0m\u001b[0;34m=\u001b[0m\u001b[0mCommunity\u001b[0m\u001b[0;34m(\u001b[0m\u001b[0;34m'comm0'\u001b[0m\u001b[0;34m,\u001b[0m\u001b[0;34m[\u001b[0m\u001b[0macc\u001b[0m\u001b[0;34m[\u001b[0m\u001b[0ms\u001b[0m\u001b[0;34m]\u001b[0m \u001b[0;32mfor\u001b[0m \u001b[0ms\u001b[0m \u001b[0;32min\u001b[0m \u001b[0msel\u001b[0m\u001b[0;34m[\u001b[0m\u001b[0;36m0\u001b[0m\u001b[0;34m]\u001b[0m\u001b[0;34m]\u001b[0m\u001b[0;34m,\u001b[0m\u001b[0;34m[\u001b[0m\u001b[0mgrowth_param\u001b[0m\u001b[0;34m[\u001b[0m\u001b[0ms\u001b[0m\u001b[0;34m]\u001b[0m \u001b[0;32mfor\u001b[0m \u001b[0ms\u001b[0m \u001b[0;32min\u001b[0m \u001b[0msel\u001b[0m\u001b[0;34m[\u001b[0m\u001b[0;36m0\u001b[0m\u001b[0;34m]\u001b[0m\u001b[0;34m]\u001b[0m\u001b[0;34m,\u001b[0m\u001b[0mtd\u001b[0m\u001b[0;34m,\u001b[0m\u001b[0;34m'bowtie2'\u001b[0m\u001b[0;34m)\u001b[0m\u001b[0;34m\u001b[0m\u001b[0m\n\u001b[0m\u001b[1;32m      3\u001b[0m \u001b[0mc\u001b[0m\u001b[0;34m.\u001b[0m\u001b[0mbuild_index\u001b[0m\u001b[0;34m(\u001b[0m\u001b[0;34m)\u001b[0m\u001b[0;34m\u001b[0m\u001b[0m\n",
      "\u001b[0;32m<ipython-input-29-c0505f730c20>\u001b[0m in \u001b[0;36m__init__\u001b[0;34m(self, name, acc, growth_param, td, mapper)\u001b[0m\n\u001b[1;32m      7\u001b[0m         \u001b[0mself\u001b[0m\u001b[0;34m.\u001b[0m\u001b[0margs0\u001b[0m\u001b[0;34m=\u001b[0m\u001b[0;34m[\u001b[0m\u001b[0;34m'/home/Programs/PTR-Pipeline/ptr_pipeline.py'\u001b[0m\u001b[0;34m,\u001b[0m\u001b[0;34m'-c'\u001b[0m\u001b[0;34m,\u001b[0m\u001b[0mjoin\u001b[0m\u001b[0;34m(\u001b[0m\u001b[0mself\u001b[0m\u001b[0;34m.\u001b[0m\u001b[0md_conf\u001b[0m\u001b[0;34m[\u001b[0m\u001b[0;34m'node_path'\u001b[0m\u001b[0;34m]\u001b[0m\u001b[0;34m,\u001b[0m\u001b[0;34m'project.conf'\u001b[0m\u001b[0;34m)\u001b[0m\u001b[0;34m,\u001b[0m\u001b[0;34m'-e'\u001b[0m\u001b[0;34m,\u001b[0m\u001b[0;34m'hedani@chalmers.se'\u001b[0m\u001b[0;34m]\u001b[0m\u001b[0;34m\u001b[0m\u001b[0m\n\u001b[1;32m      8\u001b[0m \u001b[0;34m\u001b[0m\u001b[0m\n\u001b[0;32m----> 9\u001b[0;31m         \u001b[0msave_config\u001b[0m\u001b[0;34m(\u001b[0m\u001b[0mself\u001b[0m\u001b[0;34m.\u001b[0m\u001b[0md_conf\u001b[0m\u001b[0;34m,\u001b[0m\u001b[0mself\u001b[0m\u001b[0;34m.\u001b[0m\u001b[0mconf\u001b[0m\u001b[0;34m)\u001b[0m\u001b[0;34m\u001b[0m\u001b[0m\n\u001b[0m\u001b[1;32m     10\u001b[0m \u001b[0;34m\u001b[0m\u001b[0m\n\u001b[1;32m     11\u001b[0m         \u001b[0mself\u001b[0m\u001b[0;34m.\u001b[0m\u001b[0mcreate_dirs\u001b[0m\u001b[0;34m(\u001b[0m\u001b[0mTrue\u001b[0m\u001b[0;34m)\u001b[0m\u001b[0;34m\u001b[0m\u001b[0m\n",
      "\u001b[0;32m<ipython-input-43-68021bfe077a>\u001b[0m in \u001b[0;36msave_config\u001b[0;34m(lconf, conf)\u001b[0m\n\u001b[1;32m      3\u001b[0m     \u001b[0mConfig\u001b[0m\u001b[0;34m.\u001b[0m\u001b[0moptionxform\u001b[0m \u001b[0;34m=\u001b[0m \u001b[0mstr\u001b[0m\u001b[0;34m\u001b[0m\u001b[0m\n\u001b[1;32m      4\u001b[0m \u001b[0;34m\u001b[0m\u001b[0m\n\u001b[0;32m----> 5\u001b[0;31m     \u001b[0mcfgfile\u001b[0m \u001b[0;34m=\u001b[0m \u001b[0mopen\u001b[0m\u001b[0;34m(\u001b[0m\u001b[0mjoin\u001b[0m\u001b[0;34m(\u001b[0m\u001b[0mlconf\u001b[0m\u001b[0;34m[\u001b[0m\u001b[0;34m'node_path'\u001b[0m\u001b[0;34m]\u001b[0m\u001b[0;34m,\u001b[0m\u001b[0;34m'project.conf'\u001b[0m\u001b[0;34m)\u001b[0m\u001b[0;34m,\u001b[0m\u001b[0;34m'w'\u001b[0m\u001b[0;34m)\u001b[0m\u001b[0;34m\u001b[0m\u001b[0m\n\u001b[0m\u001b[1;32m      6\u001b[0m \u001b[0;34m\u001b[0m\u001b[0m\n\u001b[1;32m      7\u001b[0m     \u001b[0mConfig\u001b[0m\u001b[0;34m.\u001b[0m\u001b[0madd_section\u001b[0m\u001b[0;34m(\u001b[0m\u001b[0;34m'Project'\u001b[0m\u001b[0;34m)\u001b[0m\u001b[0;34m\u001b[0m\u001b[0m\n",
      "\u001b[0;31mIOError\u001b[0m: [Errno 2] No such file or directory: '/mnt/vol/comm0/project.conf'"
     ]
    }
   ],
   "source": [
    "tot_reads=[10**5]#np.linspace(5*10**3,10**4,15)\n",
    "c=Community('comm0',[acc[s] for s in sel[0]],[growth_param[s] for s in sel[0]],td,'bowtie2')\n",
    "c.build_index()"
   ]
  },
  {
   "cell_type": "code",
   "execution_count": 2132,
   "metadata": {
    "collapsed": false
   },
   "outputs": [],
   "source": [
    "n=130;\n",
    "D1_snok=np.random.randint(30,40);C1_snok=np.random.randint(40,70);tau1_snok=np.random.randint(130,250,n)\n",
    "#tau1_snok[-1]=50;\n",
    "D2_snok=10.;C2_snok=35.;tau2_snok=np.random.randint(60,200,n)\n",
    "ab1=[np.random.rand() for x in range(n)];ab2=np.random.randint(100,200,n);\n",
    "org1=[[np.max([1-(C1_snok+D1_snok)/float(tau1_snok[i]),0]),(C1_snok)/float(tau1_snok[i]), (D1_snok)/float(tau1_snok[i]),ab1[i]] for i in range(tau1_snok.size)]\n",
    "org2=[[1-(C2_snok+D2_snok)/float(tau2_snok[i]),(C2_snok)/float(tau2_snok[i]), (D1_snok)/float(tau2_snok[i]),ab2[i]/float(ab1[i])] for i in range(tau2_snok.size)]\n",
    "\n",
    "#same_org[0][0]=0"
   ]
  },
  {
   "cell_type": "code",
   "execution_count": 2133,
   "metadata": {
    "collapsed": false
   },
   "outputs": [
    {
     "name": "stdout",
     "output_type": "stream",
     "text": [
      "34 44\n"
     ]
    }
   ],
   "source": [
    "print D1_snok,C1_snok"
   ]
  },
  {
   "cell_type": "code",
   "execution_count": 2134,
   "metadata": {
    "collapsed": false
   },
   "outputs": [],
   "source": [
    "same_org=np.concatenate((org1,org2))"
   ]
  },
  {
   "cell_type": "code",
   "execution_count": 2135,
   "metadata": {
    "collapsed": false
   },
   "outputs": [
    {
     "data": {
      "text/plain": [
       "array([ 0.12517895,  0.28003121,  0.11440445,  0.15001599,  0.07173145,\n",
       "        0.32649918,  0.39299506,  0.01202917,  0.34304507,  0.33282179,\n",
       "        0.04329798,  0.26181841,  0.33872681,  0.14846477,  0.24897509,\n",
       "        0.061663  ,  0.2401119 ,  0.40135043,  0.2886033 ,  0.39829411,\n",
       "        0.1850574 ,  0.34708688,  0.20622304,  0.16787013,  0.16767945,\n",
       "        0.37298813,  0.33103408,  0.25134168,  0.35186729,  0.16303172,\n",
       "        0.30711971,  0.26330621,  0.12609793,  0.20625785,  0.3764792 ,\n",
       "        0.22850401,  0.0450059 ,  0.0809682 ,  0.18655135,  0.00784618,\n",
       "        0.29397322,  0.08577948,  0.29319743,  0.10284626,  0.30304625,\n",
       "        0.28011791,  0.1960176 ,  0.16534839,  0.02916867,  0.0991715 ,\n",
       "        0.0578688 ,  0.27499659,  0.027967  ,  0.13073409,  0.15571648,\n",
       "        0.01069903,  0.1112608 ,  0.18262335,  0.20584184,  0.3887354 ,\n",
       "        0.38976375,  0.38220299,  0.36039617,  0.10669672,  0.22368446,\n",
       "        0.23371822,  0.03268177,  0.25700886,  0.07782686,  0.37210099,\n",
       "        0.11653302,  0.06587968,  0.14566878,  0.0068028 ,  0.22986611,\n",
       "        0.00415846,  0.21185567,  0.23742862,  0.36762303,  0.07634184,\n",
       "        0.11859662,  0.3574003 ,  0.13858283,  0.08572636,  0.01833882,\n",
       "        0.19050518,  0.34799022,  0.24642473,  0.10322462,  0.31964564,\n",
       "        0.07285449,  0.36825552,  0.09071813,  0.18713142,  0.23090128,\n",
       "        0.19523249,  0.24599339,  0.2281989 ,  0.0326502 ,  0.04275451,\n",
       "        0.29883877,  0.34733176,  0.25028025,  0.24900968,  0.01261928,\n",
       "        0.3568365 ,  0.01669861,  0.29840329,  0.10386471,  0.27002372,\n",
       "        0.04221017,  0.23762403,  0.08465263,  0.40777278,  0.09767022,\n",
       "        0.12452879,  0.31985767,  0.09076833,  0.15271323,  0.30922279,\n",
       "        0.2969826 ,  0.29776965,  0.21090022,  0.3868555 ,  0.17569115,\n",
       "        0.27928653,  0.43143433,  0.0779982 ,  0.01669648,  0.10084281])"
      ]
     },
     "execution_count": 2135,
     "metadata": {},
     "output_type": "execute_result"
    }
   ],
   "source": [
    "Ri1"
   ]
  },
  {
   "cell_type": "code",
   "execution_count": 2136,
   "metadata": {
    "collapsed": false
   },
   "outputs": [],
   "source": [
    "\n",
    "Ri1=np.array([Gekv2(p[1],p[2])*1*p[3] for p in org1])\n",
    "rs=np.random.randint(2,3,n);\n",
    "for i in range(n):\n",
    "    Ri1[i]=Ri1[i]/rs[i];\n",
    "    org1[i][3]=org1[i][3]/rs[i];\n",
    "\n",
    "\n",
    "Ki1=np.array([(2**(p[1])-1)/(float(p[1])*np.log(2)) for p in org1])\n",
    "Ri2=np.array([Gekv2(p[1],p[2])*1*p[3] for p in org2])\n",
    "Ki2=np.array([(2**(p[1])-1)/(float(p[1])*np.log(2)) for p in org2])"
   ]
  },
  {
   "cell_type": "code",
   "execution_count": 2137,
   "metadata": {
    "collapsed": false
   },
   "outputs": [
    {
     "data": {
      "text/plain": [
       "[[0.64864864864864868,\n",
       "  0.1981981981981982,\n",
       "  0.15315315315315314,\n",
       "  0.46079501691747554],\n",
       " [0.59375, 0.22916666666666666, 0.17708333333333334, 0.20116365324132957],\n",
       " [0.67088607594936711,\n",
       "  0.18565400843881857,\n",
       "  0.14345991561181434,\n",
       "  0.49654154079404594],\n",
       " [0.57837837837837835,\n",
       "  0.23783783783783785,\n",
       "  0.1837837837837838,\n",
       "  0.24764121123035404],\n",
       " [0.60999999999999999, 0.22, 0.17, 0.3921142465319019],\n",
       " [0.6637931034482758,\n",
       "  0.1896551724137931,\n",
       "  0.14655172413793102,\n",
       "  0.20158666914294182],\n",
       " [0.6637931034482758,\n",
       "  0.1896551724137931,\n",
       "  0.14655172413793102,\n",
       "  0.22483740954130388],\n",
       " [0.65638766519823788,\n",
       "  0.19383259911894274,\n",
       "  0.14977973568281938,\n",
       "  0.22464293403338875],\n",
       " [0.50943396226415094,\n",
       "  0.27672955974842767,\n",
       "  0.2138364779874214,\n",
       "  0.44063274576640726],\n",
       " [0.60204081632653061,\n",
       "  0.22448979591836735,\n",
       "  0.17346938775510204,\n",
       "  0.43008967519542796],\n",
       " [0.60606060606060608,\n",
       "  0.2222222222222222,\n",
       "  0.1717171717171717,\n",
       "  0.17211265559073496],\n",
       " [0.52439024390243905,\n",
       "  0.2682926829268293,\n",
       "  0.2073170731707317,\n",
       "  0.2866343753302563],\n",
       " [0.58288770053475936,\n",
       "  0.23529411764705882,\n",
       "  0.18181818181818182,\n",
       "  0.17988289772514116],\n",
       " [0.45454545454545459,\n",
       "  0.3076923076923077,\n",
       "  0.23776223776223776,\n",
       "  0.0918123170900288],\n",
       " [0.45454545454545459,\n",
       "  0.3076923076923077,\n",
       "  0.23776223776223776,\n",
       "  0.4202347320171348],\n",
       " [0.58730158730158732,\n",
       "  0.2328042328042328,\n",
       "  0.17989417989417988,\n",
       "  0.4089650647473905],\n",
       " [0.59999999999999998,\n",
       "  0.22564102564102564,\n",
       "  0.17435897435897435,\n",
       "  0.4737860668884134],\n",
       " [0.68163265306122445,\n",
       "  0.17959183673469387,\n",
       "  0.13877551020408163,\n",
       "  0.18682768873395322],\n",
       " [0.53846153846153844,\n",
       "  0.2603550295857988,\n",
       "  0.20118343195266272,\n",
       "  0.46915131141688116],\n",
       " [0.58947368421052637,\n",
       "  0.23157894736842105,\n",
       "  0.17894736842105263,\n",
       "  0.14030413639900796],\n",
       " [0.53012048192771077,\n",
       "  0.26506024096385544,\n",
       "  0.20481927710843373,\n",
       "  0.01801941652267519],\n",
       " [0.64220183486238525,\n",
       "  0.2018348623853211,\n",
       "  0.1559633027522936,\n",
       "  0.46220745532265606],\n",
       " [0.64055299539170507,\n",
       "  0.20276497695852536,\n",
       "  0.15668202764976957,\n",
       "  0.11793696321699298],\n",
       " [0.40000000000000002,\n",
       "  0.3384615384615385,\n",
       "  0.26153846153846155,\n",
       "  0.016939443057983616],\n",
       " [0.46575342465753422,\n",
       "  0.3013698630136986,\n",
       "  0.2328767123287671,\n",
       "  0.02568227640343973],\n",
       " [0.43065693430656937,\n",
       "  0.32116788321167883,\n",
       "  0.24817518248175183,\n",
       "  0.22051022260961034],\n",
       " [0.60406091370558368,\n",
       "  0.2233502538071066,\n",
       "  0.17258883248730963,\n",
       "  0.012433187891947306],\n",
       " [0.6080402010050252,\n",
       "  0.22110552763819097,\n",
       "  0.1708542713567839,\n",
       "  0.2914623529141575],\n",
       " [0.46938775510204078,\n",
       "  0.29931972789115646,\n",
       "  0.23129251700680273,\n",
       "  0.0003985532846665918],\n",
       " [0.61194029850746268,\n",
       "  0.21890547263681592,\n",
       "  0.1691542288557214,\n",
       "  0.4267106671672934],\n",
       " [0.67901234567901236,\n",
       "  0.18106995884773663,\n",
       "  0.13991769547325103,\n",
       "  0.4075861771070389],\n",
       " [0.67901234567901236,\n",
       "  0.18106995884773663,\n",
       "  0.13991769547325103,\n",
       "  0.17460659919835086],\n",
       " [0.45454545454545459,\n",
       "  0.3076923076923077,\n",
       "  0.23776223776223776,\n",
       "  0.23454114179864116],\n",
       " [0.63888888888888884,\n",
       "  0.2037037037037037,\n",
       "  0.1574074074074074,\n",
       "  0.07579110856008303],\n",
       " [0.5357142857142857,\n",
       "  0.2619047619047619,\n",
       "  0.20238095238095238,\n",
       "  0.0652801694669164],\n",
       " [0.66808510638297869,\n",
       "  0.18723404255319148,\n",
       "  0.14468085106382977,\n",
       "  0.27763616926454493],\n",
       " [0.68674698795180722,\n",
       "  0.17670682730923695,\n",
       "  0.13654618473895583,\n",
       "  0.022855740658188184],\n",
       " [0.58288770053475936,\n",
       "  0.23529411764705882,\n",
       "  0.18181818181818182,\n",
       "  0.49074281480303383],\n",
       " [0.65638766519823788,\n",
       "  0.19383259911894274,\n",
       "  0.14977973568281938,\n",
       "  0.02739239734518567],\n",
       " [0.45454545454545459,\n",
       "  0.3076923076923077,\n",
       "  0.23776223776223776,\n",
       "  0.4917295420246727],\n",
       " [0.66233766233766234,\n",
       "  0.19047619047619047,\n",
       "  0.1471861471861472,\n",
       "  0.2497526462054266],\n",
       " [0.6080402010050252,\n",
       "  0.22110552763819097,\n",
       "  0.1708542713567839,\n",
       "  0.4770605142372987],\n",
       " [0.43478260869565222,\n",
       "  0.3188405797101449,\n",
       "  0.2463768115942029,\n",
       "  0.28254111584207114],\n",
       " [0.45833333333333337,\n",
       "  0.3055555555555556,\n",
       "  0.2361111111111111,\n",
       "  0.010230785310108625],\n",
       " [0.61576354679802958,\n",
       "  0.21674876847290642,\n",
       "  0.16748768472906403,\n",
       "  0.291575700978587],\n",
       " [0.62318840579710144,\n",
       "  0.21256038647342995,\n",
       "  0.1642512077294686,\n",
       "  0.1643615088854778],\n",
       " [0.47651006711409394,\n",
       "  0.2953020134228188,\n",
       "  0.22818791946308725,\n",
       "  0.285877263586],\n",
       " [0.4135338345864662,\n",
       "  0.3308270676691729,\n",
       "  0.2556390977443609,\n",
       "  0.4079787945674634],\n",
       " [0.49677419354838714,\n",
       "  0.2838709677419355,\n",
       "  0.21935483870967742,\n",
       "  0.21611641119296693],\n",
       " [0.59999999999999998,\n",
       "  0.22564102564102564,\n",
       "  0.17435897435897435,\n",
       "  0.31412258182920005],\n",
       " [0.58288770053475936,\n",
       "  0.23529411764705882,\n",
       "  0.18181818181818182,\n",
       "  0.45168765515216625],\n",
       " [0.68421052631578949,\n",
       "  0.17813765182186234,\n",
       "  0.13765182186234817,\n",
       "  0.2223351304214118],\n",
       " [0.46575342465753422,\n",
       "  0.3013698630136986,\n",
       "  0.2328767123287671,\n",
       "  0.06362377612636472],\n",
       " [0.68032786885245899,\n",
       "  0.18032786885245902,\n",
       "  0.13934426229508196,\n",
       "  0.31736353876696866],\n",
       " [0.50632911392405067,\n",
       "  0.27848101265822783,\n",
       "  0.21518987341772153,\n",
       "  0.011060227802662803],\n",
       " [0.63207547169811318,\n",
       "  0.20754716981132076,\n",
       "  0.16037735849056603,\n",
       "  0.40062911535554124],\n",
       " [0.62318840579710144,\n",
       "  0.21256038647342995,\n",
       "  0.1642512077294686,\n",
       "  0.044284671774929896],\n",
       " [0.62318840579710144,\n",
       "  0.21256038647342995,\n",
       "  0.1642512077294686,\n",
       "  0.017877932941876062],\n",
       " [0.4388489208633094,\n",
       "  0.31654676258992803,\n",
       "  0.2446043165467626,\n",
       "  0.27840805982487965],\n",
       " [0.46575342465753422,\n",
       "  0.3013698630136986,\n",
       "  0.2328767123287671,\n",
       "  0.4303743176937124],\n",
       " [0.57608695652173914,\n",
       "  0.2391304347826087,\n",
       "  0.18478260869565216,\n",
       "  0.4789520760689538],\n",
       " [0.62857142857142856,\n",
       "  0.20952380952380953,\n",
       "  0.1619047619047619,\n",
       "  0.39675886455683007],\n",
       " [0.58288770053475936,\n",
       "  0.23529411764705882,\n",
       "  0.18181818181818182,\n",
       "  0.17842565107350478],\n",
       " [0.45454545454545459,\n",
       "  0.3076923076923077,\n",
       "  0.23776223776223776,\n",
       "  0.15424981483099498],\n",
       " [0.68292682926829262,\n",
       "  0.17886178861788618,\n",
       "  0.13821138211382114,\n",
       "  0.4159795866799625],\n",
       " [0.47297297297297303,\n",
       "  0.2972972972972973,\n",
       "  0.22972972972972974,\n",
       "  0.0400130749241025],\n",
       " [0.67088607594936711,\n",
       "  0.18565400843881857,\n",
       "  0.14345991561181434,\n",
       "  0.16761038698281472],\n",
       " [0.55932203389830515,\n",
       "  0.24858757062146894,\n",
       "  0.192090395480226,\n",
       "  0.06748110497628335],\n",
       " [0.50943396226415094,\n",
       "  0.27672955974842767,\n",
       "  0.2138364779874214,\n",
       "  0.33515107188402804],\n",
       " [0.53012048192771077,\n",
       "  0.26506024096385544,\n",
       "  0.20481927710843373,\n",
       "  0.37901848137513133],\n",
       " [0.64864864864864868,\n",
       "  0.1981981981981982,\n",
       "  0.15315315315315314,\n",
       "  0.32363978989470665],\n",
       " [0.64055299539170507,\n",
       "  0.20276497695852536,\n",
       "  0.15668202764976957,\n",
       "  0.32810332357826466],\n",
       " [0.52727272727272734,\n",
       "  0.26666666666666666,\n",
       "  0.20606060606060606,\n",
       "  0.4715145827317281],\n",
       " [0.56666666666666665,\n",
       "  0.24444444444444444,\n",
       "  0.18888888888888888,\n",
       "  0.004128507612861987],\n",
       " [0.61764705882352944,\n",
       "  0.21568627450980393,\n",
       "  0.16666666666666666,\n",
       "  0.25827871302554967],\n",
       " [0.67226890756302526,\n",
       "  0.18487394957983194,\n",
       "  0.14285714285714285,\n",
       "  0.4987618526306502],\n",
       " [0.6637931034482758,\n",
       "  0.1896551724137931,\n",
       "  0.14655172413793102,\n",
       "  0.47396175599898605],\n",
       " [0.67901234567901236,\n",
       "  0.18106995884773663,\n",
       "  0.13991769547325103,\n",
       "  0.22916006140325845],\n",
       " [0.66808510638297869,\n",
       "  0.18723404255319148,\n",
       "  0.14468085106382977,\n",
       "  0.006042670814164486],\n",
       " [0.61764705882352944,\n",
       "  0.21568627450980393,\n",
       "  0.16666666666666666,\n",
       "  0.31867207806094916],\n",
       " [0.63033175355450233,\n",
       "  0.20853080568720378,\n",
       "  0.16113744075829384,\n",
       "  0.4533736478201163],\n",
       " [0.56906077348066297,\n",
       "  0.2430939226519337,\n",
       "  0.1878453038674033,\n",
       "  0.2480520511184005],\n",
       " [0.68163265306122445,\n",
       "  0.17959183673469387,\n",
       "  0.13877551020408163,\n",
       "  0.16669709252320397],\n",
       " [0.57608695652173914,\n",
       "  0.2391304347826087,\n",
       "  0.18478260869565216,\n",
       "  0.46919015186765267],\n",
       " [0.63551401869158886,\n",
       "  0.205607476635514,\n",
       "  0.1588785046728972,\n",
       "  0.380183644923833],\n",
       " [0.64864864864864868,\n",
       "  0.1981981981981982,\n",
       "  0.15315315315315314,\n",
       "  0.2307091141351154],\n",
       " [0.58064516129032251,\n",
       "  0.23655913978494625,\n",
       "  0.1827956989247312,\n",
       "  0.16310104203088738],\n",
       " [0.55681818181818188, 0.25, 0.19318181818181818, 0.29090402131285625],\n",
       " [0.55932203389830515,\n",
       "  0.24858757062146894,\n",
       "  0.192090395480226,\n",
       "  0.3036843665003522],\n",
       " [0.66949152542372881,\n",
       "  0.1864406779661017,\n",
       "  0.1440677966101695,\n",
       "  0.3260796666861614],\n",
       " [0.67901234567901236,\n",
       "  0.18106995884773663,\n",
       "  0.13991769547325103,\n",
       "  0.25079441129544927],\n",
       " [0.46938775510204078,\n",
       "  0.29931972789115646,\n",
       "  0.23129251700680273,\n",
       "  0.05843929831879591],\n",
       " [0.56906077348066297,\n",
       "  0.2430939226519337,\n",
       "  0.1878453038674033,\n",
       "  0.3788527812958234],\n",
       " [0.51552795031055898,\n",
       "  0.2732919254658385,\n",
       "  0.2111801242236025,\n",
       "  0.2422078913952499],\n",
       " [0.60999999999999999, 0.22, 0.17, 0.4672477014175954],\n",
       " [0.56666666666666665,\n",
       "  0.24444444444444444,\n",
       "  0.18888888888888888,\n",
       "  0.42521132206742074],\n",
       " [0.50943396226415094,\n",
       "  0.27672955974842767,\n",
       "  0.2138364779874214,\n",
       "  0.10407675396895005],\n",
       " [0.58947368421052637,\n",
       "  0.23157894736842105,\n",
       "  0.17894736842105263,\n",
       "  0.47486698927718024],\n",
       " [0.68163265306122445,\n",
       "  0.17959183673469387,\n",
       "  0.13877551020408163,\n",
       "  0.07495626881189427],\n",
       " [0.42647058823529416, 0.3235294117647059, 0.25, 0.48954133636693964],\n",
       " [0.54117647058823537, 0.25882352941176473, 0.2, 0.3871470533255098],\n",
       " [0.46575342465753422,\n",
       "  0.3013698630136986,\n",
       "  0.2328767123287671,\n",
       "  0.2675470437722781],\n",
       " [0.65333333333333332,\n",
       "  0.19555555555555557,\n",
       "  0.1511111111111111,\n",
       "  0.3255599590818351],\n",
       " [0.64864864864864868,\n",
       "  0.1981981981981982,\n",
       "  0.15315315315315314,\n",
       "  0.45573537792144153],\n",
       " [0.63720930232558137,\n",
       "  0.20465116279069767,\n",
       "  0.15813953488372093,\n",
       "  0.17392641682893523],\n",
       " [0.6637931034482758,\n",
       "  0.1896551724137931,\n",
       "  0.14655172413793102,\n",
       "  0.2968118195696663],\n",
       " [0.65333333333333332,\n",
       "  0.19555555555555557,\n",
       "  0.1511111111111111,\n",
       "  0.07989447253978554],\n",
       " [0.51552795031055898,\n",
       "  0.2732919254658385,\n",
       "  0.2111801242236025,\n",
       "  0.49371289448667205],\n",
       " [0.47999999999999998,\n",
       "  0.29333333333333333,\n",
       "  0.22666666666666666,\n",
       "  0.09733296432041799],\n",
       " [0.5185185185185186,\n",
       "  0.2716049382716049,\n",
       "  0.20987654320987653,\n",
       "  0.26059767520839067],\n",
       " [0.46938775510204078,\n",
       "  0.29931972789115646,\n",
       "  0.23129251700680273,\n",
       "  0.14626166795275647],\n",
       " [0.66233766233766234,\n",
       "  0.19047619047619047,\n",
       "  0.1471861471861472,\n",
       "  0.1628807839145976],\n",
       " [0.60999999999999999, 0.22, 0.17, 0.16708772481168682],\n",
       " [0.65789473684210531,\n",
       "  0.19298245614035087,\n",
       "  0.14912280701754385,\n",
       "  0.26328747680426245],\n",
       " [0.68674698795180722,\n",
       "  0.17670682730923695,\n",
       "  0.13654618473895583,\n",
       "  0.1593009524224957],\n",
       " [0.56424581005586594,\n",
       "  0.24581005586592178,\n",
       "  0.18994413407821228,\n",
       "  0.460562307244909],\n",
       " [0.61386138613861385,\n",
       "  0.21782178217821782,\n",
       "  0.16831683168316833,\n",
       "  0.28121643054034673],\n",
       " [0.48684210526315785,\n",
       "  0.2894736842105263,\n",
       "  0.2236842105263158,\n",
       "  0.1253352606794409],\n",
       " [0.45833333333333337,\n",
       "  0.3055555555555556,\n",
       "  0.2361111111111111,\n",
       "  0.010656670378031252],\n",
       " [0.56666666666666665,\n",
       "  0.24444444444444444,\n",
       "  0.18888888888888888,\n",
       "  0.44690907408942854],\n",
       " [0.53012048192771077,\n",
       "  0.26506024096385544,\n",
       "  0.20481927710843373,\n",
       "  0.31841682872717114],\n",
       " [0.65333333333333332,\n",
       "  0.19555555555555557,\n",
       "  0.1511111111111111,\n",
       "  0.4744375311911005],\n",
       " [0.68292682926829262,\n",
       "  0.17886178861788618,\n",
       "  0.13821138211382114,\n",
       "  0.31763678516257166],\n",
       " [0.49350649350649356,\n",
       "  0.2857142857142857,\n",
       "  0.22077922077922077,\n",
       "  0.3042811363098526],\n",
       " [0.61951219512195121,\n",
       "  0.2146341463414634,\n",
       "  0.16585365853658537,\n",
       "  0.10414107380361959],\n",
       " [0.40000000000000002,\n",
       "  0.3384615384615385,\n",
       "  0.26153846153846155,\n",
       "  0.4481668632525234],\n",
       " [0.55932203389830515,\n",
       "  0.24858757062146894,\n",
       "  0.192090395480226,\n",
       "  0.27911572937343504],\n",
       " [0.60406091370558368,\n",
       "  0.2233502538071066,\n",
       "  0.17258883248730963,\n",
       "  0.19864426249618172],\n",
       " [0.50943396226415094,\n",
       "  0.27672955974842767,\n",
       "  0.2138364779874214,\n",
       "  0.19862820800678094],\n",
       " [0.52727272727272734,\n",
       "  0.26666666666666666,\n",
       "  0.20606060606060606,\n",
       "  0.22704483674014786]]"
      ]
     },
     "execution_count": 2137,
     "metadata": {},
     "output_type": "execute_result"
    }
   ],
   "source": [
    "org1"
   ]
  },
  {
   "cell_type": "code",
   "execution_count": 1887,
   "metadata": {
    "collapsed": false
   },
   "outputs": [
    {
     "data": {
      "text/plain": [
       "array([ 1.09875756,  0.54429242,  0.14761133])"
      ]
     },
     "execution_count": 1887,
     "metadata": {},
     "output_type": "execute_result"
    }
   ],
   "source": [
    "np.array([Gekv2(p[1],p[2])*1*p[3] for p in org1])"
   ]
  },
  {
   "cell_type": "code",
   "execution_count": 1888,
   "metadata": {
    "collapsed": false
   },
   "outputs": [
    {
     "data": {
      "text/plain": [
       "[0.002746893895910563,\n",
       " 0.0013607310513527526,\n",
       " 0.00036902832344279818,\n",
       " 0.58984513209798939,\n",
       " 1.0191773861094746,\n",
       " 5.2424783744028893]"
      ]
     },
     "execution_count": 1888,
     "metadata": {},
     "output_type": "execute_result"
    }
   ],
   "source": [
    "[2**(p[2])*((2**(p[1])-1)/(float(p[1])*np.log(2)))*1*p[3]/400. for p in same_org]"
   ]
  },
  {
   "cell_type": "code",
   "execution_count": 939,
   "metadata": {
    "collapsed": false
   },
   "outputs": [
    {
     "data": {
      "text/plain": [
       "array([[ 0.23809524,  0.18404908],\n",
       "       [ 0.23809524,  0.1875    ],\n",
       "       [ 0.18404908,  0.1875    ]])"
      ]
     },
     "execution_count": 939,
     "metadata": {},
     "output_type": "execute_result"
    }
   ],
   "source": [
    "cip"
   ]
  },
  {
   "cell_type": "code",
   "execution_count": 546,
   "metadata": {
    "collapsed": false
   },
   "outputs": [
    {
     "data": {
      "text/plain": [
       "[1.3636363636363635, 2.9104477611940296, 2.1343283582089554]"
      ]
     },
     "execution_count": 546,
     "metadata": {},
     "output_type": "execute_result"
    }
   ],
   "source": [
    "[c[1]/float(c[0]) for c in cip]"
   ]
  },
  {
   "cell_type": "code",
   "execution_count": 545,
   "metadata": {
    "collapsed": false
   },
   "outputs": [
    {
     "data": {
      "text/plain": [
       "[1.3636363636363635, 2.91044776119403, 2.1343283582089554]"
      ]
     },
     "execution_count": 545,
     "metadata": {},
     "output_type": "execute_result"
    }
   ],
   "source": [
    "[t[0]/float(t[1]) for t in tip]"
   ]
  },
  {
   "cell_type": "code",
   "execution_count": 2138,
   "metadata": {
    "collapsed": false
   },
   "outputs": [],
   "source": [
    "Rip1=create_pairs(Ri1)\n",
    "Kip1=create_pairs(Ki1)\n",
    "cip1=create_pairs([p[1] for p in org1])\n",
    "tip1=create_pairs([t for t in tau1_snok])\n",
    "Aip1=create_pairs([p[3] for p in org1])\n",
    "Rip2=create_pairs(Ri2)\n",
    "Kip2=create_pairs(Ki2)\n",
    "cip2=create_pairs([p[1] for p in org2])\n",
    "tip2=create_pairs([t for t in tau2_snok])\n",
    "Aip2=create_pairs([p[3] for p in org2])\n",
    "inde=np.triu_indices(len(Ri1),k=1)\n",
    "#Aa=np.zeros(len(Rip))\n",
    "\n",
    "#for i in len(cip):\n",
    "#    Aa[i]=A_snok(Rip[i],Kip[i],[1,1],cip[i])\n",
    "    \n",
    "#M=np.zeros(len(sel[0]))\n",
    "#for i in len(arrC):\n",
    "#    M[i][j]=1-"
   ]
  },
  {
   "cell_type": "code",
   "execution_count": 1940,
   "metadata": {
    "collapsed": false
   },
   "outputs": [
    {
     "data": {
      "text/plain": [
       "array([[ 0.23809524,  0.18404908],\n",
       "       [ 0.23809524,  0.1875    ],\n",
       "       [ 0.18404908,  0.1875    ]])"
      ]
     },
     "execution_count": 1940,
     "metadata": {},
     "output_type": "execute_result"
    }
   ],
   "source": [
    "cip"
   ]
  },
  {
   "cell_type": "code",
   "execution_count": 2139,
   "metadata": {
    "collapsed": false
   },
   "outputs": [],
   "source": [
    "M1=np.zeros((len(Rip1),len(Ri1)))\n",
    "b1=np.zeros(len(Rip1))\n",
    "for i in range(len(inde[0])):\n",
    "    cc=cip1[i][1]/cip1[i][0]\n",
    "    M1[i][inde[0][i]]=cc\n",
    "    M1[i][inde[1][i]]=-1\n",
    "    b1[i]=cc*np.log2(Rip1[i][0])-np.log2(Rip1[i][1])+np.log2(Kip1[i][1])-cc*np.log2(Kip1[i][0])"
   ]
  },
  {
   "cell_type": "code",
   "execution_count": 2140,
   "metadata": {
    "collapsed": true
   },
   "outputs": [],
   "source": [
    "M2=np.zeros((len(Rip2),len(Ri2)))\n",
    "b2=np.zeros(len(Rip2))\n",
    "for i in range(len(inde[0])):\n",
    "    cc=cip2[i][1]/cip2[i][0]\n",
    "    M2[i][inde[0][i]]=cc\n",
    "    M2[i][inde[1][i]]=-1\n",
    "    b2[i]=cc*np.log2(Rip2[i][0])-np.log2(Rip2[i][1])+np.log2(Kip2[i][1])-cc*np.log2(Kip2[i][0])"
   ]
  },
  {
   "cell_type": "code",
   "execution_count": 1807,
   "metadata": {
    "collapsed": false
   },
   "outputs": [
    {
     "name": "stdout",
     "output_type": "stream",
     "text": [
      "1.38762708215\n",
      "1.07528402889\n",
      "1.69467827533\n"
     ]
    }
   ],
   "source": [
    "for i in range(3):\n",
    "    print (Rip1[i][0]/Kip1[i][0])**(cip1[i][1]/cip[i][0])*Kip1[i][1]/Rip1[i][1]"
   ]
  },
  {
   "cell_type": "code",
   "execution_count": 1674,
   "metadata": {
    "collapsed": false
   },
   "outputs": [
    {
     "name": "stdout",
     "output_type": "stream",
     "text": [
      "0.449997988656\n",
      "3.23668895758\n",
      "0.358153810534\n"
     ]
    }
   ],
   "source": [
    "for i in range(3):\n",
    "    print (Aip1[i][0]**(cip1[i][1]/cip[i][0]))/Aip1[i][1]"
   ]
  },
  {
   "cell_type": "code",
   "execution_count": 1505,
   "metadata": {
    "collapsed": false
   },
   "outputs": [
    {
     "name": "stdout",
     "output_type": "stream",
     "text": [
      "2.08108108108\n",
      "1.57142857143\n",
      "2.1654589372\n"
     ]
    }
   ],
   "source": [
    "for i in range(3):\n",
    "    print cip1[i][1]/cip[i][0]"
   ]
  },
  {
   "cell_type": "code",
   "execution_count": 881,
   "metadata": {
    "collapsed": false
   },
   "outputs": [
    {
     "name": "stdout",
     "output_type": "stream",
     "text": [
      "[ 1.11527593  1.24003622]\n",
      "[ 0.3560757   0.92593291]\n",
      "[ 0.30927835  0.6       ]\n"
     ]
    },
    {
     "data": {
      "text/plain": [
       "array([ 0.27675277,  0.48214286,  0.56589147])"
      ]
     },
     "execution_count": 881,
     "metadata": {},
     "output_type": "execute_result"
    }
   ],
   "source": [
    "print Kip1[1]\n",
    "print Rip1[1]\n",
    "print cip1[]\n",
    "dd"
   ]
  },
  {
   "cell_type": "code",
   "execution_count": 870,
   "metadata": {
    "collapsed": false
   },
   "outputs": [
    {
     "name": "stdout",
     "output_type": "stream",
     "text": [
      "[-0.36306836 -2.77405818 -1.85186455]\n"
     ]
    }
   ],
   "source": [
    "print b1"
   ]
  },
  {
   "cell_type": "code",
   "execution_count": 738,
   "metadata": {
    "collapsed": false
   },
   "outputs": [],
   "source": [
    "Z1=np.zeros_like(M1);\n",
    "Z2=np.zeros_like(M2);\n",
    "B=np.ones(3*2);\n",
    "\n",
    "T=np.bmat([[M1,Z1],[Z2,M2]]);\n",
    "T=np.vstack((T,B));\n",
    "b=np.vstack((b1,b2));\n",
    "\n",
    "#b_sum=np.sum([-2/float(3)*x for x in np.array(org1)[:,1]]+Ri1-Ki1)\n",
    "#b_sum=b_sum+np.sum([-2/float(3)*x for x in np.array(org2)[:,1]]+Ri2-Ki2)\n",
    "\n",
    "b_sum=np.sum(-np.array(org1)[:,2]+Ri1-Ki1)\n",
    "b_sum=b_sum+np.sum(-np.array(org2)[:,2]+Ri2-Ki2)\n",
    "\n",
    "\n",
    "b=np.append(b,b_sum)"
   ]
  },
  {
   "cell_type": "code",
   "execution_count": 713,
   "metadata": {
    "collapsed": false
   },
   "outputs": [],
   "source": [
    "aa=np.array(org1)[:,1]"
   ]
  },
  {
   "cell_type": "code",
   "execution_count": 726,
   "metadata": {
    "collapsed": false
   },
   "outputs": [],
   "source": [
    "b_sum=np.sum([-2/float(3)*x for x in np.array(org1)[:,1]]+Ri1-Ki1)\n",
    "b_sum=b_sum+np.sum([-2/float(3)*x for x in np.array(org2)[:,1]]+Ri2-Ki2)"
   ]
  },
  {
   "cell_type": "code",
   "execution_count": 727,
   "metadata": {
    "collapsed": false
   },
   "outputs": [
    {
     "data": {
      "text/plain": [
       "-3.987251671839438"
      ]
     },
     "execution_count": 727,
     "metadata": {},
     "output_type": "execute_result"
    }
   ],
   "source": [
    "b_sum"
   ]
  },
  {
   "cell_type": "code",
   "execution_count": 761,
   "metadata": {
    "collapsed": false
   },
   "outputs": [
    {
     "data": {
      "text/plain": [
       "array([ 0.35869565,  0.28888889,  0.29962547,  0.64130435,  0.71111111,\n",
       "        0.70037453])"
      ]
     },
     "execution_count": 761,
     "metadata": {},
     "output_type": "execute_result"
    }
   ],
   "source": [
    "dd"
   ]
  },
  {
   "cell_type": "code",
   "execution_count": 511,
   "metadata": {
    "collapsed": false
   },
   "outputs": [
    {
     "ename": "IndexError",
     "evalue": "list assignment index out of range",
     "output_type": "error",
     "traceback": [
      "\u001b[0;31m---------------------------------------------------------------------------\u001b[0m",
      "\u001b[0;31mIndexError\u001b[0m                                Traceback (most recent call last)",
      "\u001b[0;32m<ipython-input-511-17bee1cd483d>\u001b[0m in \u001b[0;36m<module>\u001b[0;34m()\u001b[0m\n\u001b[1;32m      2\u001b[0m \u001b[0;32mfor\u001b[0m \u001b[0mi\u001b[0m \u001b[0;32min\u001b[0m \u001b[0mrange\u001b[0m\u001b[0;34m(\u001b[0m\u001b[0mlen\u001b[0m\u001b[0;34m(\u001b[0m\u001b[0mcip\u001b[0m\u001b[0;34m)\u001b[0m\u001b[0;34m)\u001b[0m\u001b[0;34m:\u001b[0m\u001b[0;34m\u001b[0m\u001b[0m\n\u001b[1;32m      3\u001b[0m     \u001b[0;32mfor\u001b[0m \u001b[0mj\u001b[0m \u001b[0;32min\u001b[0m \u001b[0mrange\u001b[0m\u001b[0;34m(\u001b[0m\u001b[0mlen\u001b[0m\u001b[0;34m(\u001b[0m\u001b[0mcip\u001b[0m\u001b[0;34m)\u001b[0m\u001b[0;34m)\u001b[0m\u001b[0;34m:\u001b[0m\u001b[0;34m\u001b[0m\u001b[0m\n\u001b[0;32m----> 4\u001b[0;31m         \u001b[0msort_cip\u001b[0m\u001b[0;34m[\u001b[0m\u001b[0mi\u001b[0m\u001b[0;34m*\u001b[0m\u001b[0mlen\u001b[0m\u001b[0;34m(\u001b[0m\u001b[0mcip\u001b[0m\u001b[0;34m)\u001b[0m\u001b[0;34m+\u001b[0m\u001b[0mj\u001b[0m\u001b[0;34m]\u001b[0m\u001b[0;34m=\u001b[0m\u001b[0mcip\u001b[0m\u001b[0;34m[\u001b[0m\u001b[0mi\u001b[0m\u001b[0;34m]\u001b[0m\u001b[0;34m[\u001b[0m\u001b[0;36m1\u001b[0m\u001b[0;34m]\u001b[0m\u001b[0;34m/\u001b[0m\u001b[0mcip\u001b[0m\u001b[0;34m[\u001b[0m\u001b[0mi\u001b[0m\u001b[0;34m]\u001b[0m\u001b[0;34m[\u001b[0m\u001b[0;36m0\u001b[0m\u001b[0;34m]\u001b[0m\u001b[0;34m*\u001b[0m\u001b[0mcip\u001b[0m\u001b[0;34m[\u001b[0m\u001b[0mj\u001b[0m\u001b[0;34m]\u001b[0m\u001b[0;34m[\u001b[0m\u001b[0;36m1\u001b[0m\u001b[0;34m]\u001b[0m\u001b[0;34m/\u001b[0m\u001b[0mcip\u001b[0m\u001b[0;34m[\u001b[0m\u001b[0mj\u001b[0m\u001b[0;34m]\u001b[0m\u001b[0;34m[\u001b[0m\u001b[0;36m0\u001b[0m\u001b[0;34m]\u001b[0m\u001b[0;34m\u001b[0m\u001b[0m\n\u001b[0m\u001b[1;32m      5\u001b[0m \u001b[0;34m\u001b[0m\u001b[0m\n\u001b[1;32m      6\u001b[0m \u001b[0msort_cip\u001b[0m\u001b[0;34m=\u001b[0m\u001b[0mnp\u001b[0m\u001b[0;34m.\u001b[0m\u001b[0msort\u001b[0m\u001b[0;34m(\u001b[0m\u001b[0msort_cip\u001b[0m\u001b[0;34m)\u001b[0m\u001b[0;34m\u001b[0m\u001b[0m\n",
      "\u001b[0;31mIndexError\u001b[0m: list assignment index out of range"
     ]
    }
   ],
   "source": [
    "sort_cip=[]*(len(cip*len(cip)))\n",
    "for i in range(len(cip)):\n",
    "    for j in range(len(cip)):\n",
    "        sort_cip[i*len(cip)+j]=cip[i][1]/cip[i][0]*cip[j][1]/cip[j][0]\n",
    "        \n",
    "sort_cip=np.sort(sort_cip)"
   ]
  },
  {
   "cell_type": "code",
   "execution_count": 506,
   "metadata": {
    "collapsed": false
   },
   "outputs": [],
   "source": [
    "F=np.vstack((M[0],M[5],M[9],M[12],M[13],M[14]))"
   ]
  },
  {
   "cell_type": "code",
   "execution_count": 1675,
   "metadata": {
    "collapsed": false
   },
   "outputs": [
    {
     "name": "stdout",
     "output_type": "stream",
     "text": [
      "0.0\n",
      "-1.11022302463e-16\n",
      "-1.11022302463e-16\n",
      "-1.11022302463e-16\n",
      "1.11022302463e-16\n",
      "-1.11022302463e-16\n",
      "1.11022302463e-16\n",
      "-1.11022302463e-16\n",
      "1.11022302463e-16\n",
      "0.0\n",
      "1.11022302463e-16\n",
      "0.0\n",
      "0.0\n",
      "-1.11022302463e-16\n",
      "2.22044604925e-16\n",
      "1.11022302463e-16\n",
      "2.22044604925e-16\n",
      "2.22044604925e-16\n",
      "2.22044604925e-16\n",
      "1.11022302463e-16\n",
      "0.0\n",
      "1.11022302463e-16\n",
      "0.0\n",
      "0.0\n",
      "0.0\n",
      "0.0\n",
      "0.0\n",
      "1.11022302463e-16\n",
      "0.0\n",
      "-1.11022302463e-16\n",
      "-1.11022302463e-16\n",
      "0.0\n",
      "2.22044604925e-16\n",
      "-2.22044604925e-16\n",
      "2.22044604925e-16\n",
      "1.11022302463e-16\n",
      "1.11022302463e-16\n",
      "-2.22044604925e-16\n",
      "0.0\n",
      "-1.11022302463e-16\n",
      "0.0\n",
      "-1.11022302463e-16\n",
      "1.11022302463e-16\n",
      "-1.11022302463e-16\n",
      "1.11022302463e-16\n",
      "1.11022302463e-16\n",
      "-1.11022302463e-16\n",
      "1.11022302463e-16\n",
      "0.0\n",
      "0.0\n",
      "0.0\n",
      "-1.11022302463e-16\n",
      "0.0\n",
      "0.0\n",
      "0.0\n",
      "1.11022302463e-16\n",
      "-1.11022302463e-16\n",
      "2.22044604925e-16\n",
      "-1.11022302463e-16\n",
      "-1.11022302463e-16\n",
      "-1.11022302463e-16\n",
      "-1.11022302463e-16\n",
      "1.11022302463e-16\n",
      "-1.11022302463e-16\n",
      "1.11022302463e-16\n",
      "-1.11022302463e-16\n",
      "1.11022302463e-16\n",
      "0.0\n",
      "0.0\n",
      "0.0\n",
      "0.0\n",
      "-1.11022302463e-16\n",
      "2.22044604925e-16\n",
      "1.11022302463e-16\n",
      "1.11022302463e-16\n",
      "2.22044604925e-16\n",
      "2.22044604925e-16\n",
      "1.11022302463e-16\n",
      "0.0\n",
      "1.11022302463e-16\n",
      "-1.11022302463e-16\n",
      "0.0\n",
      "0.0\n",
      "-1.11022302463e-16\n",
      "0.0\n",
      "1.11022302463e-16\n",
      "0.0\n",
      "-1.11022302463e-16\n",
      "-1.11022302463e-16\n",
      "0.0\n",
      "1.11022302463e-16\n",
      "-2.22044604925e-16\n",
      "2.22044604925e-16\n",
      "1.11022302463e-16\n",
      "0.0\n",
      "-2.22044604925e-16\n",
      "0.0\n",
      "-1.11022302463e-16\n",
      "0.0\n",
      "-1.11022302463e-16\n",
      "1.11022302463e-16\n",
      "-1.11022302463e-16\n",
      "0.0\n",
      "1.11022302463e-16\n",
      "-1.11022302463e-16\n",
      "1.11022302463e-16\n",
      "0.0\n",
      "0.0\n",
      "0.0\n",
      "-1.11022302463e-16\n",
      "0.0\n",
      "0.0\n",
      "0.0\n",
      "1.11022302463e-16\n",
      "-1.11022302463e-16\n",
      "2.22044604925e-16\n",
      "-1.11022302463e-16\n",
      "0.0\n",
      "0.0\n",
      "1.11022302463e-16\n",
      "0.0\n",
      "2.22044604925e-16\n",
      "0.0\n",
      "2.22044604925e-16\n",
      "1.11022302463e-16\n",
      "1.11022302463e-16\n",
      "1.11022302463e-16\n",
      "1.11022302463e-16\n",
      "0.0\n",
      "3.33066907388e-16\n",
      "2.22044604925e-16\n",
      "3.33066907388e-16\n",
      "3.33066907388e-16\n",
      "3.33066907388e-16\n",
      "2.22044604925e-16\n",
      "1.11022302463e-16\n",
      "2.22044604925e-16\n",
      "0.0\n",
      "0.0\n",
      "1.11022302463e-16\n",
      "1.11022302463e-16\n",
      "1.11022302463e-16\n",
      "2.22044604925e-16\n",
      "1.11022302463e-16\n",
      "0.0\n",
      "1.11022302463e-16\n",
      "0.0\n",
      "2.22044604925e-16\n",
      "-1.11022302463e-16\n",
      "3.33066907388e-16\n",
      "2.22044604925e-16\n",
      "2.22044604925e-16\n",
      "-1.11022302463e-16\n",
      "1.11022302463e-16\n",
      "0.0\n",
      "1.11022302463e-16\n",
      "0.0\n",
      "2.22044604925e-16\n",
      "0.0\n",
      "1.11022302463e-16\n",
      "2.22044604925e-16\n",
      "0.0\n",
      "2.22044604925e-16\n",
      "1.11022302463e-16\n",
      "1.11022302463e-16\n",
      "1.11022302463e-16\n",
      "0.0\n",
      "1.11022302463e-16\n",
      "1.11022302463e-16\n",
      "1.11022302463e-16\n",
      "2.22044604925e-16\n",
      "0.0\n",
      "3.33066907388e-16\n",
      "0.0\n",
      "0.0\n",
      "1.11022302463e-16\n",
      "0.0\n",
      "2.22044604925e-16\n",
      "0.0\n",
      "2.22044604925e-16\n",
      "1.11022302463e-16\n",
      "1.11022302463e-16\n",
      "1.11022302463e-16\n",
      "1.11022302463e-16\n",
      "0.0\n",
      "3.33066907388e-16\n",
      "3.33066907388e-16\n",
      "3.33066907388e-16\n",
      "3.33066907388e-16\n",
      "3.33066907388e-16\n",
      "3.33066907388e-16\n",
      "1.11022302463e-16\n",
      "2.22044604925e-16\n",
      "0.0\n",
      "1.11022302463e-16\n",
      "1.11022302463e-16\n",
      "1.11022302463e-16\n",
      "1.11022302463e-16\n",
      "3.33066907388e-16\n",
      "2.22044604925e-16\n",
      "0.0\n",
      "1.11022302463e-16\n",
      "1.11022302463e-16\n",
      "3.33066907388e-16\n",
      "-1.11022302463e-16\n",
      "3.33066907388e-16\n",
      "2.22044604925e-16\n",
      "2.22044604925e-16\n",
      "-1.11022302463e-16\n",
      "1.11022302463e-16\n",
      "0.0\n",
      "1.11022302463e-16\n",
      "0.0\n",
      "2.22044604925e-16\n",
      "0.0\n",
      "1.11022302463e-16\n",
      "2.22044604925e-16\n",
      "0.0\n",
      "2.22044604925e-16\n",
      "1.11022302463e-16\n",
      "1.11022302463e-16\n",
      "1.11022302463e-16\n",
      "0.0\n",
      "1.11022302463e-16\n",
      "1.11022302463e-16\n",
      "1.11022302463e-16\n",
      "2.22044604925e-16\n",
      "0.0\n",
      "3.33066907388e-16\n",
      "0.0\n",
      "1.11022302463e-16\n",
      "-1.11022302463e-16\n",
      "1.11022302463e-16\n",
      "0.0\n",
      "1.11022302463e-16\n",
      "0.0\n",
      "1.11022302463e-16\n",
      "0.0\n",
      "0.0\n",
      "-1.11022302463e-16\n",
      "2.22044604925e-16\n",
      "2.22044604925e-16\n",
      "2.22044604925e-16\n",
      "3.33066907388e-16\n",
      "2.22044604925e-16\n",
      "2.22044604925e-16\n",
      "1.11022302463e-16\n",
      "2.22044604925e-16\n",
      "0.0\n",
      "0.0\n",
      "1.11022302463e-16\n",
      "0.0\n",
      "0.0\n",
      "2.22044604925e-16\n",
      "1.11022302463e-16\n",
      "0.0\n",
      "0.0\n",
      "0.0\n",
      "2.22044604925e-16\n",
      "-1.11022302463e-16\n",
      "3.33066907388e-16\n",
      "2.22044604925e-16\n",
      "1.11022302463e-16\n",
      "-1.11022302463e-16\n",
      "0.0\n",
      "0.0\n",
      "1.11022302463e-16\n",
      "0.0\n",
      "1.11022302463e-16\n",
      "-1.11022302463e-16\n",
      "1.11022302463e-16\n",
      "2.22044604925e-16\n",
      "0.0\n",
      "2.22044604925e-16\n",
      "0.0\n",
      "1.11022302463e-16\n",
      "1.11022302463e-16\n",
      "0.0\n",
      "0.0\n",
      "0.0\n",
      "1.11022302463e-16\n",
      "1.11022302463e-16\n",
      "0.0\n",
      "2.22044604925e-16\n",
      "0.0\n",
      "-1.11022302463e-16\n",
      "0.0\n",
      "-1.11022302463e-16\n",
      "1.11022302463e-16\n",
      "-1.11022302463e-16\n",
      "0.0\n",
      "-1.11022302463e-16\n",
      "0.0\n",
      "-2.22044604925e-16\n",
      "1.11022302463e-16\n",
      "1.11022302463e-16\n",
      "1.11022302463e-16\n",
      "1.11022302463e-16\n",
      "1.11022302463e-16\n",
      "1.11022302463e-16\n",
      "0.0\n",
      "1.11022302463e-16\n",
      "-1.11022302463e-16\n",
      "-1.11022302463e-16\n",
      "0.0\n",
      "-1.11022302463e-16\n",
      "-1.11022302463e-16\n",
      "1.11022302463e-16\n",
      "0.0\n",
      "-1.11022302463e-16\n",
      "-1.11022302463e-16\n",
      "-1.11022302463e-16\n",
      "1.11022302463e-16\n",
      "-3.33066907388e-16\n",
      "2.22044604925e-16\n",
      "1.11022302463e-16\n",
      "0.0\n",
      "-2.22044604925e-16\n",
      "-1.11022302463e-16\n",
      "-1.11022302463e-16\n",
      "0.0\n",
      "-1.11022302463e-16\n",
      "0.0\n",
      "-2.22044604925e-16\n",
      "0.0\n",
      "1.11022302463e-16\n",
      "-1.11022302463e-16\n",
      "1.11022302463e-16\n",
      "-1.11022302463e-16\n",
      "0.0\n",
      "0.0\n",
      "-1.11022302463e-16\n",
      "-1.11022302463e-16\n",
      "-1.11022302463e-16\n",
      "0.0\n",
      "0.0\n",
      "-1.11022302463e-16\n",
      "1.11022302463e-16\n",
      "-2.22044604925e-16\n",
      "2.22044604925e-16\n",
      "0.0\n",
      "2.22044604925e-16\n",
      "1.11022302463e-16\n",
      "1.11022302463e-16\n",
      "1.11022302463e-16\n",
      "1.11022302463e-16\n",
      "0.0\n",
      "3.33066907388e-16\n",
      "3.33066907388e-16\n",
      "3.33066907388e-16\n",
      "3.33066907388e-16\n",
      "3.33066907388e-16\n",
      "3.33066907388e-16\n",
      "1.11022302463e-16\n",
      "2.22044604925e-16\n",
      "0.0\n",
      "1.11022302463e-16\n",
      "1.11022302463e-16\n",
      "1.11022302463e-16\n",
      "1.11022302463e-16\n",
      "3.33066907388e-16\n",
      "2.22044604925e-16\n",
      "0.0\n",
      "1.11022302463e-16\n",
      "1.11022302463e-16\n",
      "3.33066907388e-16\n",
      "-1.11022302463e-16\n",
      "3.33066907388e-16\n",
      "2.22044604925e-16\n",
      "2.22044604925e-16\n",
      "-1.11022302463e-16\n",
      "1.11022302463e-16\n",
      "0.0\n",
      "1.11022302463e-16\n",
      "0.0\n",
      "2.22044604925e-16\n",
      "0.0\n",
      "1.11022302463e-16\n",
      "2.22044604925e-16\n",
      "0.0\n",
      "2.22044604925e-16\n",
      "1.11022302463e-16\n",
      "1.11022302463e-16\n",
      "1.11022302463e-16\n",
      "0.0\n",
      "1.11022302463e-16\n",
      "1.11022302463e-16\n",
      "1.11022302463e-16\n",
      "2.22044604925e-16\n",
      "0.0\n",
      "3.33066907388e-16\n",
      "0.0\n",
      "-2.22044604925e-16\n",
      "0.0\n",
      "-1.11022302463e-16\n",
      "0.0\n",
      "-2.22044604925e-16\n",
      "-1.11022302463e-16\n",
      "-2.22044604925e-16\n",
      "0.0\n",
      "0.0\n",
      "0.0\n",
      "1.11022302463e-16\n",
      "1.11022302463e-16\n",
      "0.0\n",
      "-1.11022302463e-16\n",
      "0.0\n",
      "-2.22044604925e-16\n",
      "-1.11022302463e-16\n",
      "-1.11022302463e-16\n",
      "-2.22044604925e-16\n",
      "-1.11022302463e-16\n",
      "0.0\n",
      "-1.11022302463e-16\n",
      "-1.11022302463e-16\n",
      "-2.22044604925e-16\n",
      "-2.22044604925e-16\n",
      "0.0\n",
      "-3.33066907388e-16\n",
      "1.11022302463e-16\n",
      "0.0\n",
      "-1.11022302463e-16\n",
      "-3.33066907388e-16\n",
      "-1.11022302463e-16\n",
      "-2.22044604925e-16\n",
      "-1.11022302463e-16\n",
      "-2.22044604925e-16\n",
      "-1.11022302463e-16\n",
      "-2.22044604925e-16\n",
      "-1.11022302463e-16\n",
      "0.0\n",
      "-2.22044604925e-16\n",
      "0.0\n",
      "-1.11022302463e-16\n",
      "-1.11022302463e-16\n",
      "-1.11022302463e-16\n",
      "-2.22044604925e-16\n",
      "-1.11022302463e-16\n",
      "-1.11022302463e-16\n",
      "-1.11022302463e-16\n",
      "0.0\n",
      "-2.22044604925e-16\n",
      "1.11022302463e-16\n",
      "-2.22044604925e-16\n",
      "2.22044604925e-16\n",
      "1.11022302463e-16\n",
      "1.11022302463e-16\n",
      "1.11022302463e-16\n",
      "1.11022302463e-16\n",
      "0.0\n",
      "3.33066907388e-16\n",
      "2.22044604925e-16\n",
      "2.22044604925e-16\n",
      "3.33066907388e-16\n",
      "3.33066907388e-16\n",
      "2.22044604925e-16\n",
      "1.11022302463e-16\n",
      "2.22044604925e-16\n",
      "0.0\n",
      "0.0\n",
      "1.11022302463e-16\n",
      "0.0\n",
      "1.11022302463e-16\n",
      "2.22044604925e-16\n",
      "1.11022302463e-16\n",
      "0.0\n",
      "1.11022302463e-16\n",
      "0.0\n",
      "2.22044604925e-16\n",
      "-1.11022302463e-16\n",
      "3.33066907388e-16\n",
      "2.22044604925e-16\n",
      "1.11022302463e-16\n",
      "-1.11022302463e-16\n",
      "1.11022302463e-16\n",
      "0.0\n",
      "1.11022302463e-16\n",
      "0.0\n",
      "2.22044604925e-16\n",
      "0.0\n",
      "1.11022302463e-16\n",
      "2.22044604925e-16\n",
      "0.0\n",
      "2.22044604925e-16\n",
      "1.11022302463e-16\n",
      "1.11022302463e-16\n",
      "1.11022302463e-16\n",
      "0.0\n",
      "1.11022302463e-16\n",
      "1.11022302463e-16\n",
      "1.11022302463e-16\n",
      "2.22044604925e-16\n",
      "0.0\n",
      "3.33066907388e-16\n",
      "0.0\n",
      "-1.11022302463e-16\n",
      "0.0\n",
      "-2.22044604925e-16\n",
      "-1.11022302463e-16\n",
      "-2.22044604925e-16\n",
      "0.0\n",
      "0.0\n",
      "0.0\n",
      "1.11022302463e-16\n",
      "1.11022302463e-16\n",
      "0.0\n",
      "-1.11022302463e-16\n",
      "0.0\n",
      "-1.11022302463e-16\n",
      "-1.11022302463e-16\n",
      "-1.11022302463e-16\n",
      "-2.22044604925e-16\n",
      "-1.11022302463e-16\n",
      "0.0\n",
      "-1.11022302463e-16\n",
      "-1.11022302463e-16\n",
      "-2.22044604925e-16\n",
      "-2.22044604925e-16\n",
      "1.11022302463e-16\n",
      "-3.33066907388e-16\n",
      "1.11022302463e-16\n",
      "0.0\n",
      "-1.11022302463e-16\n",
      "-3.33066907388e-16\n",
      "-1.11022302463e-16\n",
      "-2.22044604925e-16\n",
      "-1.11022302463e-16\n",
      "-2.22044604925e-16\n",
      "-1.11022302463e-16\n",
      "-2.22044604925e-16\n",
      "0.0\n",
      "0.0\n",
      "-2.22044604925e-16\n",
      "0.0\n",
      "-1.11022302463e-16\n",
      "-1.11022302463e-16\n",
      "-1.11022302463e-16\n",
      "-2.22044604925e-16\n",
      "-1.11022302463e-16\n",
      "-1.11022302463e-16\n",
      "-1.11022302463e-16\n",
      "0.0\n",
      "-2.22044604925e-16\n",
      "1.11022302463e-16\n",
      "-2.22044604925e-16\n",
      "1.11022302463e-16\n",
      "0.0\n",
      "0.0\n",
      "-1.11022302463e-16\n",
      "2.22044604925e-16\n",
      "2.22044604925e-16\n",
      "2.22044604925e-16\n",
      "2.22044604925e-16\n",
      "2.22044604925e-16\n",
      "2.22044604925e-16\n",
      "0.0\n",
      "2.22044604925e-16\n",
      "0.0\n",
      "0.0\n",
      "1.11022302463e-16\n",
      "0.0\n",
      "0.0\n",
      "2.22044604925e-16\n",
      "1.11022302463e-16\n",
      "0.0\n",
      "0.0\n",
      "0.0\n",
      "2.22044604925e-16\n",
      "-2.22044604925e-16\n",
      "2.22044604925e-16\n",
      "1.11022302463e-16\n",
      "1.11022302463e-16\n",
      "-2.22044604925e-16\n",
      "0.0\n",
      "-1.11022302463e-16\n",
      "0.0\n",
      "-1.11022302463e-16\n",
      "1.11022302463e-16\n",
      "-1.11022302463e-16\n",
      "1.11022302463e-16\n",
      "2.22044604925e-16\n",
      "-1.11022302463e-16\n",
      "2.22044604925e-16\n",
      "0.0\n",
      "1.11022302463e-16\n",
      "1.11022302463e-16\n",
      "-1.11022302463e-16\n",
      "0.0\n",
      "0.0\n",
      "0.0\n",
      "1.11022302463e-16\n",
      "-1.11022302463e-16\n",
      "2.22044604925e-16\n",
      "-1.11022302463e-16\n",
      "-1.11022302463e-16\n",
      "-1.11022302463e-16\n",
      "-2.22044604925e-16\n",
      "1.11022302463e-16\n",
      "1.11022302463e-16\n",
      "1.11022302463e-16\n",
      "1.11022302463e-16\n",
      "1.11022302463e-16\n",
      "1.11022302463e-16\n",
      "0.0\n",
      "1.11022302463e-16\n",
      "-1.11022302463e-16\n",
      "-1.11022302463e-16\n",
      "0.0\n",
      "-1.11022302463e-16\n",
      "-1.11022302463e-16\n",
      "1.11022302463e-16\n",
      "0.0\n",
      "-1.11022302463e-16\n",
      "-1.11022302463e-16\n",
      "-1.11022302463e-16\n",
      "1.11022302463e-16\n",
      "-3.33066907388e-16\n",
      "2.22044604925e-16\n",
      "1.11022302463e-16\n",
      "0.0\n",
      "-2.22044604925e-16\n",
      "-1.11022302463e-16\n",
      "-2.22044604925e-16\n",
      "-1.11022302463e-16\n",
      "-1.11022302463e-16\n",
      "0.0\n",
      "-2.22044604925e-16\n",
      "0.0\n",
      "1.11022302463e-16\n",
      "-1.11022302463e-16\n",
      "1.11022302463e-16\n",
      "-1.11022302463e-16\n",
      "0.0\n",
      "0.0\n",
      "-2.22044604925e-16\n",
      "-1.11022302463e-16\n",
      "-1.11022302463e-16\n",
      "0.0\n",
      "0.0\n",
      "-2.22044604925e-16\n",
      "1.11022302463e-16\n",
      "-2.22044604925e-16\n",
      "0.0\n",
      "-1.11022302463e-16\n",
      "2.22044604925e-16\n",
      "2.22044604925e-16\n",
      "2.22044604925e-16\n",
      "2.22044604925e-16\n",
      "2.22044604925e-16\n",
      "2.22044604925e-16\n",
      "0.0\n",
      "2.22044604925e-16\n",
      "0.0\n",
      "0.0\n",
      "1.11022302463e-16\n",
      "0.0\n",
      "0.0\n",
      "2.22044604925e-16\n",
      "1.11022302463e-16\n",
      "0.0\n",
      "0.0\n",
      "0.0\n",
      "2.22044604925e-16\n",
      "-1.11022302463e-16\n",
      "2.22044604925e-16\n",
      "2.22044604925e-16\n",
      "1.11022302463e-16\n",
      "-2.22044604925e-16\n",
      "0.0\n",
      "-1.11022302463e-16\n",
      "0.0\n",
      "-1.11022302463e-16\n",
      "1.11022302463e-16\n",
      "-1.11022302463e-16\n",
      "1.11022302463e-16\n",
      "2.22044604925e-16\n",
      "-1.11022302463e-16\n",
      "2.22044604925e-16\n",
      "0.0\n",
      "1.11022302463e-16\n",
      "1.11022302463e-16\n",
      "-1.11022302463e-16\n",
      "0.0\n",
      "0.0\n",
      "0.0\n",
      "1.11022302463e-16\n",
      "-1.11022302463e-16\n",
      "2.22044604925e-16\n",
      "-1.11022302463e-16\n",
      "-1.11022302463e-16\n",
      "2.22044604925e-16\n",
      "1.11022302463e-16\n",
      "1.11022302463e-16\n",
      "2.22044604925e-16\n",
      "2.22044604925e-16\n",
      "1.11022302463e-16\n",
      "0.0\n",
      "1.11022302463e-16\n",
      "0.0\n",
      "0.0\n",
      "0.0\n",
      "0.0\n",
      "0.0\n",
      "1.11022302463e-16\n",
      "0.0\n",
      "-1.11022302463e-16\n",
      "-1.11022302463e-16\n",
      "-1.11022302463e-16\n",
      "2.22044604925e-16\n",
      "-2.22044604925e-16\n",
      "2.22044604925e-16\n",
      "1.11022302463e-16\n",
      "1.11022302463e-16\n",
      "-2.22044604925e-16\n",
      "0.0\n",
      "-1.11022302463e-16\n",
      "0.0\n",
      "-1.11022302463e-16\n",
      "1.11022302463e-16\n",
      "-1.11022302463e-16\n",
      "1.11022302463e-16\n",
      "1.11022302463e-16\n",
      "-1.11022302463e-16\n",
      "1.11022302463e-16\n",
      "0.0\n",
      "0.0\n",
      "0.0\n",
      "-1.11022302463e-16\n",
      "0.0\n",
      "0.0\n",
      "0.0\n",
      "1.11022302463e-16\n",
      "-1.11022302463e-16\n",
      "2.22044604925e-16\n",
      "-1.11022302463e-16\n",
      "3.33066907388e-16\n",
      "3.33066907388e-16\n",
      "3.33066907388e-16\n",
      "3.33066907388e-16\n",
      "3.33066907388e-16\n",
      "3.33066907388e-16\n",
      "1.11022302463e-16\n",
      "2.22044604925e-16\n",
      "0.0\n",
      "1.11022302463e-16\n",
      "1.11022302463e-16\n",
      "1.11022302463e-16\n",
      "1.11022302463e-16\n",
      "3.33066907388e-16\n",
      "2.22044604925e-16\n",
      "0.0\n",
      "1.11022302463e-16\n",
      "1.11022302463e-16\n",
      "3.33066907388e-16\n",
      "-1.11022302463e-16\n",
      "3.33066907388e-16\n",
      "2.22044604925e-16\n",
      "2.22044604925e-16\n",
      "-1.11022302463e-16\n",
      "1.11022302463e-16\n",
      "0.0\n",
      "1.11022302463e-16\n",
      "0.0\n",
      "2.22044604925e-16\n",
      "0.0\n",
      "1.11022302463e-16\n",
      "2.22044604925e-16\n",
      "0.0\n",
      "2.22044604925e-16\n",
      "1.11022302463e-16\n",
      "1.11022302463e-16\n",
      "1.11022302463e-16\n",
      "0.0\n",
      "1.11022302463e-16\n",
      "1.11022302463e-16\n",
      "1.11022302463e-16\n",
      "2.22044604925e-16\n",
      "0.0\n",
      "3.33066907388e-16\n",
      "0.0\n",
      "-1.11022302463e-16\n",
      "0.0\n",
      "0.0\n",
      "0.0\n",
      "-1.11022302463e-16\n",
      "-1.11022302463e-16\n",
      "0.0\n",
      "-2.22044604925e-16\n",
      "-2.22044604925e-16\n",
      "-1.11022302463e-16\n",
      "-2.22044604925e-16\n",
      "-2.22044604925e-16\n",
      "-1.11022302463e-16\n",
      "-2.22044604925e-16\n",
      "-2.22044604925e-16\n",
      "-3.33066907388e-16\n",
      "-2.22044604925e-16\n",
      "0.0\n",
      "-4.4408920985e-16\n",
      "1.11022302463e-16\n",
      "0.0\n",
      "-1.11022302463e-16\n",
      "-3.33066907388e-16\n",
      "-1.11022302463e-16\n",
      "-3.33066907388e-16\n",
      "-2.22044604925e-16\n",
      "-2.22044604925e-16\n",
      "-1.11022302463e-16\n",
      "-3.33066907388e-16\n",
      "-1.11022302463e-16\n",
      "0.0\n",
      "-3.33066907388e-16\n",
      "0.0\n",
      "-2.22044604925e-16\n",
      "-1.11022302463e-16\n",
      "-1.11022302463e-16\n",
      "-3.33066907388e-16\n",
      "-1.11022302463e-16\n",
      "-2.22044604925e-16\n",
      "-1.11022302463e-16\n",
      "-1.11022302463e-16\n",
      "-3.33066907388e-16\n",
      "0.0\n",
      "-3.33066907388e-16\n",
      "0.0\n",
      "1.11022302463e-16\n",
      "1.11022302463e-16\n",
      "0.0\n",
      "-1.11022302463e-16\n",
      "0.0\n",
      "-1.11022302463e-16\n",
      "-1.11022302463e-16\n",
      "-1.11022302463e-16\n",
      "-1.11022302463e-16\n",
      "-1.11022302463e-16\n",
      "0.0\n",
      "-1.11022302463e-16\n",
      "-1.11022302463e-16\n",
      "-2.22044604925e-16\n",
      "-2.22044604925e-16\n",
      "1.11022302463e-16\n",
      "-3.33066907388e-16\n",
      "1.11022302463e-16\n",
      "0.0\n",
      "0.0\n",
      "-3.33066907388e-16\n",
      "-1.11022302463e-16\n",
      "-2.22044604925e-16\n",
      "-1.11022302463e-16\n",
      "-2.22044604925e-16\n",
      "0.0\n",
      "-2.22044604925e-16\n",
      "0.0\n",
      "0.0\n",
      "-2.22044604925e-16\n",
      "0.0\n",
      "-1.11022302463e-16\n",
      "-1.11022302463e-16\n",
      "-1.11022302463e-16\n",
      "-2.22044604925e-16\n",
      "-1.11022302463e-16\n",
      "-1.11022302463e-16\n",
      "-1.11022302463e-16\n",
      "0.0\n",
      "-2.22044604925e-16\n",
      "1.11022302463e-16\n",
      "-2.22044604925e-16\n",
      "1.11022302463e-16\n",
      "1.11022302463e-16\n",
      "0.0\n",
      "-1.11022302463e-16\n",
      "0.0\n",
      "-2.22044604925e-16\n",
      "-1.11022302463e-16\n",
      "-1.11022302463e-16\n",
      "-2.22044604925e-16\n",
      "-1.11022302463e-16\n",
      "0.0\n",
      "-1.11022302463e-16\n",
      "-2.22044604925e-16\n",
      "-2.22044604925e-16\n",
      "-2.22044604925e-16\n",
      "0.0\n",
      "-4.4408920985e-16\n",
      "1.11022302463e-16\n",
      "0.0\n",
      "-1.11022302463e-16\n",
      "-3.33066907388e-16\n",
      "-1.11022302463e-16\n",
      "-2.22044604925e-16\n",
      "-1.11022302463e-16\n",
      "-2.22044604925e-16\n",
      "-1.11022302463e-16\n",
      "-2.22044604925e-16\n",
      "-1.11022302463e-16\n",
      "0.0\n",
      "-2.22044604925e-16\n",
      "0.0\n",
      "-1.11022302463e-16\n",
      "-1.11022302463e-16\n",
      "-1.11022302463e-16\n",
      "-2.22044604925e-16\n",
      "-1.11022302463e-16\n",
      "-1.11022302463e-16\n",
      "-1.11022302463e-16\n",
      "0.0\n",
      "-2.22044604925e-16\n",
      "1.11022302463e-16\n",
      "-2.22044604925e-16\n",
      "0.0\n",
      "-1.11022302463e-16\n",
      "-1.11022302463e-16\n",
      "0.0\n",
      "-2.22044604925e-16\n",
      "-2.22044604925e-16\n",
      "-1.11022302463e-16\n",
      "-2.22044604925e-16\n",
      "-2.22044604925e-16\n",
      "-1.11022302463e-16\n",
      "-2.22044604925e-16\n",
      "-2.22044604925e-16\n",
      "-3.33066907388e-16\n",
      "-3.33066907388e-16\n",
      "0.0\n",
      "-4.4408920985e-16\n",
      "0.0\n",
      "-1.11022302463e-16\n",
      "-1.11022302463e-16\n",
      "-3.33066907388e-16\n",
      "-2.22044604925e-16\n",
      "-3.33066907388e-16\n",
      "-2.22044604925e-16\n",
      "-2.22044604925e-16\n",
      "-1.11022302463e-16\n",
      "-3.33066907388e-16\n",
      "-1.11022302463e-16\n",
      "-1.11022302463e-16\n",
      "-3.33066907388e-16\n",
      "0.0\n",
      "-2.22044604925e-16\n",
      "-2.22044604925e-16\n",
      "-2.22044604925e-16\n",
      "-3.33066907388e-16\n",
      "-2.22044604925e-16\n",
      "-2.22044604925e-16\n",
      "-1.11022302463e-16\n",
      "-1.11022302463e-16\n",
      "-3.33066907388e-16\n",
      "0.0\n",
      "-3.33066907388e-16\n",
      "-1.11022302463e-16\n",
      "-1.11022302463e-16\n",
      "0.0\n",
      "-2.22044604925e-16\n",
      "-2.22044604925e-16\n",
      "-1.11022302463e-16\n",
      "-3.33066907388e-16\n",
      "-2.22044604925e-16\n",
      "-1.11022302463e-16\n",
      "-2.22044604925e-16\n",
      "-2.22044604925e-16\n",
      "-3.33066907388e-16\n",
      "-3.33066907388e-16\n",
      "0.0\n",
      "-4.4408920985e-16\n",
      "0.0\n",
      "-1.11022302463e-16\n",
      "-2.22044604925e-16\n",
      "-3.33066907388e-16\n",
      "-2.22044604925e-16\n",
      "-3.33066907388e-16\n",
      "-2.22044604925e-16\n",
      "-2.22044604925e-16\n",
      "-1.11022302463e-16\n",
      "-3.33066907388e-16\n",
      "-1.11022302463e-16\n",
      "0.0\n",
      "-3.33066907388e-16\n",
      "0.0\n",
      "-2.22044604925e-16\n",
      "-1.11022302463e-16\n",
      "-2.22044604925e-16\n",
      "-3.33066907388e-16\n",
      "-2.22044604925e-16\n",
      "-2.22044604925e-16\n",
      "-1.11022302463e-16\n",
      "-1.11022302463e-16\n",
      "-3.33066907388e-16\n",
      "0.0\n",
      "-3.33066907388e-16\n",
      "-1.11022302463e-16\n",
      "0.0\n",
      "-1.11022302463e-16\n",
      "-1.11022302463e-16\n",
      "-1.11022302463e-16\n",
      "-1.11022302463e-16\n",
      "-1.11022302463e-16\n",
      "0.0\n",
      "-1.11022302463e-16\n",
      "-1.11022302463e-16\n",
      "-2.22044604925e-16\n",
      "-2.22044604925e-16\n",
      "1.11022302463e-16\n",
      "-3.33066907388e-16\n",
      "1.11022302463e-16\n",
      "0.0\n",
      "0.0\n",
      "-3.33066907388e-16\n",
      "-1.11022302463e-16\n",
      "-2.22044604925e-16\n",
      "-1.11022302463e-16\n",
      "-2.22044604925e-16\n",
      "0.0\n",
      "-2.22044604925e-16\n",
      "0.0\n",
      "0.0\n",
      "-2.22044604925e-16\n",
      "0.0\n",
      "-1.11022302463e-16\n",
      "-1.11022302463e-16\n",
      "-1.11022302463e-16\n",
      "-2.22044604925e-16\n",
      "-1.11022302463e-16\n",
      "-1.11022302463e-16\n",
      "-1.11022302463e-16\n",
      "0.0\n",
      "-2.22044604925e-16\n",
      "1.11022302463e-16\n",
      "-2.22044604925e-16\n",
      "1.11022302463e-16\n",
      "-1.11022302463e-16\n",
      "0.0\n",
      "0.0\n",
      "-1.11022302463e-16\n",
      "0.0\n",
      "1.11022302463e-16\n",
      "0.0\n",
      "-1.11022302463e-16\n",
      "-1.11022302463e-16\n",
      "-1.11022302463e-16\n",
      "1.11022302463e-16\n",
      "-2.22044604925e-16\n",
      "2.22044604925e-16\n",
      "1.11022302463e-16\n",
      "0.0\n",
      "-2.22044604925e-16\n",
      "0.0\n",
      "-1.11022302463e-16\n",
      "0.0\n",
      "-1.11022302463e-16\n",
      "1.11022302463e-16\n",
      "-1.11022302463e-16\n",
      "0.0\n",
      "1.11022302463e-16\n",
      "-1.11022302463e-16\n",
      "1.11022302463e-16\n",
      "0.0\n",
      "0.0\n",
      "0.0\n",
      "-1.11022302463e-16\n",
      "0.0\n",
      "0.0\n",
      "0.0\n",
      "1.11022302463e-16\n",
      "-1.11022302463e-16\n",
      "2.22044604925e-16\n",
      "-1.11022302463e-16\n",
      "-2.22044604925e-16\n",
      "-2.22044604925e-16\n",
      "-1.11022302463e-16\n",
      "-2.22044604925e-16\n",
      "-2.22044604925e-16\n",
      "-1.11022302463e-16\n",
      "-2.22044604925e-16\n",
      "-2.22044604925e-16\n",
      "-3.33066907388e-16\n",
      "-2.22044604925e-16\n",
      "0.0\n",
      "-4.4408920985e-16\n",
      "1.11022302463e-16\n",
      "0.0\n",
      "-1.11022302463e-16\n",
      "-3.33066907388e-16\n",
      "-1.11022302463e-16\n",
      "-2.22044604925e-16\n",
      "-1.11022302463e-16\n",
      "-2.22044604925e-16\n",
      "-1.11022302463e-16\n",
      "-3.33066907388e-16\n",
      "-1.11022302463e-16\n",
      "0.0\n",
      "-3.33066907388e-16\n",
      "0.0\n",
      "-2.22044604925e-16\n",
      "-1.11022302463e-16\n",
      "-1.11022302463e-16\n",
      "-3.33066907388e-16\n",
      "-1.11022302463e-16\n",
      "-2.22044604925e-16\n",
      "-1.11022302463e-16\n",
      "-1.11022302463e-16\n",
      "-2.22044604925e-16\n",
      "0.0\n",
      "-3.33066907388e-16\n",
      "0.0\n",
      "1.11022302463e-16\n",
      "0.0\n",
      "0.0\n",
      "2.22044604925e-16\n",
      "1.11022302463e-16\n",
      "0.0\n",
      "0.0\n",
      "0.0\n",
      "2.22044604925e-16\n",
      "-1.11022302463e-16\n",
      "3.33066907388e-16\n",
      "2.22044604925e-16\n",
      "1.11022302463e-16\n",
      "-1.11022302463e-16\n",
      "1.11022302463e-16\n",
      "0.0\n",
      "1.11022302463e-16\n",
      "0.0\n",
      "1.11022302463e-16\n",
      "-1.11022302463e-16\n",
      "1.11022302463e-16\n",
      "2.22044604925e-16\n",
      "0.0\n",
      "2.22044604925e-16\n",
      "0.0\n",
      "1.11022302463e-16\n",
      "1.11022302463e-16\n",
      "0.0\n",
      "0.0\n",
      "0.0\n",
      "1.11022302463e-16\n",
      "2.22044604925e-16\n",
      "0.0\n",
      "2.22044604925e-16\n",
      "0.0\n",
      "1.11022302463e-16\n",
      "0.0\n",
      "0.0\n",
      "2.22044604925e-16\n",
      "1.11022302463e-16\n",
      "0.0\n",
      "0.0\n",
      "0.0\n",
      "2.22044604925e-16\n",
      "-2.22044604925e-16\n",
      "3.33066907388e-16\n",
      "2.22044604925e-16\n",
      "1.11022302463e-16\n",
      "-1.11022302463e-16\n",
      "0.0\n",
      "-1.11022302463e-16\n",
      "1.11022302463e-16\n",
      "0.0\n",
      "1.11022302463e-16\n",
      "-1.11022302463e-16\n",
      "1.11022302463e-16\n",
      "2.22044604925e-16\n",
      "0.0\n",
      "2.22044604925e-16\n",
      "0.0\n",
      "1.11022302463e-16\n",
      "1.11022302463e-16\n",
      "0.0\n",
      "0.0\n",
      "0.0\n",
      "1.11022302463e-16\n",
      "1.11022302463e-16\n",
      "-1.11022302463e-16\n",
      "2.22044604925e-16\n",
      "0.0\n",
      "-1.11022302463e-16\n",
      "0.0\n",
      "1.11022302463e-16\n",
      "0.0\n",
      "-1.11022302463e-16\n",
      "-1.11022302463e-16\n",
      "-1.11022302463e-16\n",
      "1.11022302463e-16\n",
      "-2.22044604925e-16\n",
      "2.22044604925e-16\n",
      "1.11022302463e-16\n",
      "0.0\n",
      "-2.22044604925e-16\n",
      "0.0\n",
      "-1.11022302463e-16\n",
      "0.0\n",
      "-1.11022302463e-16\n",
      "0.0\n",
      "-1.11022302463e-16\n",
      "0.0\n",
      "1.11022302463e-16\n",
      "-1.11022302463e-16\n",
      "1.11022302463e-16\n",
      "0.0\n",
      "0.0\n",
      "0.0\n",
      "-1.11022302463e-16\n",
      "0.0\n",
      "0.0\n",
      "0.0\n",
      "1.11022302463e-16\n",
      "-1.11022302463e-16\n",
      "2.22044604925e-16\n",
      "-1.11022302463e-16\n",
      "0.0\n",
      "2.22044604925e-16\n",
      "1.11022302463e-16\n",
      "0.0\n",
      "0.0\n",
      "0.0\n",
      "2.22044604925e-16\n",
      "-2.22044604925e-16\n",
      "3.33066907388e-16\n",
      "2.22044604925e-16\n",
      "1.11022302463e-16\n",
      "-1.11022302463e-16\n",
      "0.0\n",
      "-1.11022302463e-16\n",
      "0.0\n",
      "0.0\n",
      "1.11022302463e-16\n",
      "-1.11022302463e-16\n",
      "1.11022302463e-16\n",
      "2.22044604925e-16\n",
      "0.0\n",
      "2.22044604925e-16\n",
      "0.0\n",
      "1.11022302463e-16\n",
      "1.11022302463e-16\n",
      "0.0\n",
      "0.0\n",
      "0.0\n",
      "1.11022302463e-16\n",
      "1.11022302463e-16\n",
      "-1.11022302463e-16\n",
      "2.22044604925e-16\n",
      "-1.11022302463e-16\n",
      "2.22044604925e-16\n",
      "0.0\n",
      "0.0\n",
      "0.0\n",
      "0.0\n",
      "2.22044604925e-16\n",
      "-2.22044604925e-16\n",
      "2.22044604925e-16\n",
      "1.11022302463e-16\n",
      "1.11022302463e-16\n",
      "-2.22044604925e-16\n",
      "0.0\n",
      "-1.11022302463e-16\n",
      "0.0\n",
      "-1.11022302463e-16\n",
      "1.11022302463e-16\n",
      "-1.11022302463e-16\n",
      "1.11022302463e-16\n",
      "1.11022302463e-16\n",
      "-1.11022302463e-16\n",
      "1.11022302463e-16\n",
      "0.0\n",
      "0.0\n",
      "0.0\n",
      "-1.11022302463e-16\n",
      "0.0\n",
      "0.0\n",
      "0.0\n",
      "1.11022302463e-16\n",
      "-1.11022302463e-16\n",
      "2.22044604925e-16\n",
      "-1.11022302463e-16\n",
      "-1.11022302463e-16\n",
      "-1.11022302463e-16\n",
      "-2.22044604925e-16\n",
      "-2.22044604925e-16\n",
      "1.11022302463e-16\n",
      "-3.33066907388e-16\n",
      "1.11022302463e-16\n",
      "0.0\n",
      "0.0\n",
      "-3.33066907388e-16\n",
      "-1.11022302463e-16\n",
      "-2.22044604925e-16\n",
      "-1.11022302463e-16\n",
      "-2.22044604925e-16\n",
      "0.0\n",
      "-2.22044604925e-16\n",
      "0.0\n",
      "0.0\n",
      "-2.22044604925e-16\n",
      "0.0\n",
      "-1.11022302463e-16\n",
      "-1.11022302463e-16\n",
      "-1.11022302463e-16\n",
      "-2.22044604925e-16\n",
      "-1.11022302463e-16\n",
      "-1.11022302463e-16\n",
      "-1.11022302463e-16\n",
      "0.0\n",
      "-2.22044604925e-16\n",
      "1.11022302463e-16\n",
      "-2.22044604925e-16\n",
      "-1.11022302463e-16\n",
      "-1.11022302463e-16\n",
      "-1.11022302463e-16\n",
      "1.11022302463e-16\n",
      "-2.22044604925e-16\n",
      "2.22044604925e-16\n",
      "1.11022302463e-16\n",
      "0.0\n",
      "-2.22044604925e-16\n",
      "0.0\n",
      "-1.11022302463e-16\n",
      "0.0\n",
      "-1.11022302463e-16\n",
      "0.0\n",
      "-1.11022302463e-16\n",
      "0.0\n",
      "1.11022302463e-16\n",
      "-1.11022302463e-16\n",
      "1.11022302463e-16\n",
      "0.0\n",
      "0.0\n",
      "0.0\n",
      "-1.11022302463e-16\n",
      "0.0\n",
      "0.0\n",
      "0.0\n",
      "1.11022302463e-16\n",
      "-1.11022302463e-16\n",
      "2.22044604925e-16\n",
      "-1.11022302463e-16\n",
      "0.0\n",
      "0.0\n",
      "2.22044604925e-16\n",
      "-1.11022302463e-16\n",
      "3.33066907388e-16\n",
      "2.22044604925e-16\n",
      "1.11022302463e-16\n",
      "-1.11022302463e-16\n",
      "1.11022302463e-16\n",
      "0.0\n",
      "1.11022302463e-16\n",
      "0.0\n",
      "1.11022302463e-16\n",
      "0.0\n",
      "1.11022302463e-16\n",
      "2.22044604925e-16\n",
      "0.0\n",
      "2.22044604925e-16\n",
      "1.11022302463e-16\n",
      "1.11022302463e-16\n",
      "1.11022302463e-16\n",
      "0.0\n",
      "0.0\n",
      "0.0\n",
      "1.11022302463e-16\n",
      "2.22044604925e-16\n",
      "0.0\n",
      "2.22044604925e-16\n",
      "0.0\n",
      "0.0\n",
      "2.22044604925e-16\n",
      "-1.11022302463e-16\n",
      "2.22044604925e-16\n",
      "2.22044604925e-16\n",
      "1.11022302463e-16\n",
      "-1.11022302463e-16\n",
      "0.0\n",
      "-1.11022302463e-16\n",
      "0.0\n",
      "0.0\n",
      "1.11022302463e-16\n",
      "-1.11022302463e-16\n",
      "1.11022302463e-16\n",
      "2.22044604925e-16\n",
      "0.0\n",
      "2.22044604925e-16\n",
      "0.0\n",
      "1.11022302463e-16\n",
      "1.11022302463e-16\n",
      "0.0\n",
      "0.0\n",
      "0.0\n",
      "1.11022302463e-16\n",
      "1.11022302463e-16\n",
      "-1.11022302463e-16\n",
      "2.22044604925e-16\n",
      "0.0\n",
      "2.22044604925e-16\n",
      "-1.11022302463e-16\n",
      "3.33066907388e-16\n",
      "2.22044604925e-16\n",
      "1.11022302463e-16\n",
      "-1.11022302463e-16\n",
      "0.0\n",
      "-1.11022302463e-16\n",
      "0.0\n",
      "0.0\n",
      "1.11022302463e-16\n",
      "-1.11022302463e-16\n",
      "1.11022302463e-16\n",
      "2.22044604925e-16\n",
      "0.0\n",
      "2.22044604925e-16\n",
      "0.0\n",
      "1.11022302463e-16\n",
      "1.11022302463e-16\n",
      "0.0\n",
      "0.0\n",
      "0.0\n",
      "1.11022302463e-16\n",
      "1.11022302463e-16\n",
      "-1.11022302463e-16\n",
      "2.22044604925e-16\n",
      "0.0\n",
      "-4.4408920985e-16\n",
      "1.11022302463e-16\n",
      "0.0\n",
      "-1.11022302463e-16\n",
      "-3.33066907388e-16\n",
      "-1.11022302463e-16\n",
      "-3.33066907388e-16\n",
      "-2.22044604925e-16\n",
      "-2.22044604925e-16\n",
      "-1.11022302463e-16\n",
      "-3.33066907388e-16\n",
      "-1.11022302463e-16\n",
      "0.0\n",
      "-3.33066907388e-16\n",
      "0.0\n",
      "-2.22044604925e-16\n",
      "-1.11022302463e-16\n",
      "-2.22044604925e-16\n",
      "-3.33066907388e-16\n",
      "-1.11022302463e-16\n",
      "-2.22044604925e-16\n",
      "-1.11022302463e-16\n",
      "-1.11022302463e-16\n",
      "-3.33066907388e-16\n",
      "0.0\n",
      "-3.33066907388e-16\n",
      "4.4408920985e-16\n",
      "3.33066907388e-16\n",
      "2.22044604925e-16\n",
      "-1.11022302463e-16\n",
      "1.11022302463e-16\n",
      "1.11022302463e-16\n",
      "2.22044604925e-16\n",
      "0.0\n",
      "2.22044604925e-16\n",
      "1.11022302463e-16\n",
      "2.22044604925e-16\n",
      "3.33066907388e-16\n",
      "1.11022302463e-16\n",
      "3.33066907388e-16\n",
      "1.11022302463e-16\n",
      "2.22044604925e-16\n",
      "2.22044604925e-16\n",
      "1.11022302463e-16\n",
      "1.11022302463e-16\n",
      "1.11022302463e-16\n",
      "2.22044604925e-16\n",
      "3.33066907388e-16\n",
      "1.11022302463e-16\n",
      "3.33066907388e-16\n",
      "1.11022302463e-16\n",
      "-1.11022302463e-16\n",
      "-2.22044604925e-16\n",
      "-4.4408920985e-16\n",
      "-2.22044604925e-16\n",
      "-3.33066907388e-16\n",
      "-2.22044604925e-16\n",
      "-3.33066907388e-16\n",
      "-2.22044604925e-16\n",
      "-3.33066907388e-16\n",
      "-1.11022302463e-16\n",
      "-1.11022302463e-16\n",
      "-3.33066907388e-16\n",
      "0.0\n",
      "-2.22044604925e-16\n",
      "-2.22044604925e-16\n",
      "-2.22044604925e-16\n",
      "-3.33066907388e-16\n",
      "-2.22044604925e-16\n",
      "-2.22044604925e-16\n",
      "-1.11022302463e-16\n",
      "-1.11022302463e-16\n",
      "-3.33066907388e-16\n",
      "0.0\n",
      "-3.33066907388e-16\n",
      "-1.11022302463e-16\n",
      "-3.33066907388e-16\n",
      "-1.11022302463e-16\n",
      "-2.22044604925e-16\n",
      "-1.11022302463e-16\n",
      "-2.22044604925e-16\n",
      "-1.11022302463e-16\n",
      "-2.22044604925e-16\n",
      "0.0\n",
      "0.0\n",
      "-2.22044604925e-16\n",
      "0.0\n",
      "-1.11022302463e-16\n",
      "-1.11022302463e-16\n",
      "-1.11022302463e-16\n",
      "-2.22044604925e-16\n",
      "-1.11022302463e-16\n",
      "-1.11022302463e-16\n",
      "-1.11022302463e-16\n",
      "0.0\n",
      "-2.22044604925e-16\n",
      "1.11022302463e-16\n",
      "-2.22044604925e-16\n",
      "-2.22044604925e-16\n",
      "-1.11022302463e-16\n",
      "-1.11022302463e-16\n",
      "-1.11022302463e-16\n",
      "-1.11022302463e-16\n",
      "0.0\n",
      "-2.22044604925e-16\n",
      "0.0\n",
      "1.11022302463e-16\n",
      "-1.11022302463e-16\n",
      "1.11022302463e-16\n",
      "-1.11022302463e-16\n",
      "0.0\n",
      "0.0\n",
      "-1.11022302463e-16\n",
      "-1.11022302463e-16\n",
      "-1.11022302463e-16\n",
      "0.0\n",
      "0.0\n",
      "-1.11022302463e-16\n",
      "1.11022302463e-16\n",
      "-2.22044604925e-16\n",
      "2.22044604925e-16\n",
      "1.11022302463e-16\n",
      "2.22044604925e-16\n",
      "1.11022302463e-16\n",
      "3.33066907388e-16\n",
      "1.11022302463e-16\n",
      "2.22044604925e-16\n",
      "3.33066907388e-16\n",
      "2.22044604925e-16\n",
      "3.33066907388e-16\n",
      "2.22044604925e-16\n",
      "3.33066907388e-16\n",
      "3.33066907388e-16\n",
      "2.22044604925e-16\n",
      "2.22044604925e-16\n",
      "2.22044604925e-16\n",
      "2.22044604925e-16\n",
      "3.33066907388e-16\n",
      "1.11022302463e-16\n",
      "4.4408920985e-16\n",
      "1.11022302463e-16\n",
      "-1.11022302463e-16\n",
      "0.0\n",
      "-1.11022302463e-16\n",
      "1.11022302463e-16\n",
      "-1.11022302463e-16\n",
      "1.11022302463e-16\n",
      "1.11022302463e-16\n",
      "-1.11022302463e-16\n",
      "1.11022302463e-16\n",
      "0.0\n",
      "0.0\n",
      "0.0\n",
      "-1.11022302463e-16\n",
      "0.0\n",
      "0.0\n",
      "0.0\n",
      "1.11022302463e-16\n",
      "-1.11022302463e-16\n",
      "2.22044604925e-16\n",
      "-1.11022302463e-16\n",
      "1.11022302463e-16\n",
      "0.0\n",
      "2.22044604925e-16\n",
      "0.0\n",
      "1.11022302463e-16\n",
      "2.22044604925e-16\n",
      "0.0\n",
      "2.22044604925e-16\n",
      "1.11022302463e-16\n",
      "1.11022302463e-16\n",
      "1.11022302463e-16\n",
      "0.0\n",
      "1.11022302463e-16\n",
      "1.11022302463e-16\n",
      "1.11022302463e-16\n",
      "2.22044604925e-16\n",
      "0.0\n",
      "3.33066907388e-16\n",
      "0.0\n",
      "-1.11022302463e-16\n",
      "1.11022302463e-16\n",
      "-1.11022302463e-16\n",
      "0.0\n",
      "1.11022302463e-16\n",
      "-1.11022302463e-16\n",
      "1.11022302463e-16\n",
      "0.0\n",
      "0.0\n",
      "0.0\n",
      "-1.11022302463e-16\n",
      "0.0\n",
      "0.0\n",
      "0.0\n",
      "1.11022302463e-16\n",
      "-1.11022302463e-16\n",
      "2.22044604925e-16\n",
      "-1.11022302463e-16\n",
      "2.22044604925e-16\n",
      "0.0\n",
      "1.11022302463e-16\n",
      "2.22044604925e-16\n",
      "0.0\n",
      "2.22044604925e-16\n",
      "1.11022302463e-16\n",
      "1.11022302463e-16\n",
      "1.11022302463e-16\n",
      "0.0\n",
      "1.11022302463e-16\n",
      "1.11022302463e-16\n",
      "1.11022302463e-16\n",
      "2.22044604925e-16\n",
      "0.0\n",
      "3.33066907388e-16\n",
      "0.0\n",
      "-2.22044604925e-16\n",
      "0.0\n",
      "1.11022302463e-16\n",
      "-1.11022302463e-16\n",
      "1.11022302463e-16\n",
      "-1.11022302463e-16\n",
      "0.0\n",
      "0.0\n",
      "-2.22044604925e-16\n",
      "-1.11022302463e-16\n",
      "-1.11022302463e-16\n",
      "0.0\n",
      "0.0\n",
      "-2.22044604925e-16\n",
      "1.11022302463e-16\n",
      "-2.22044604925e-16\n",
      "1.11022302463e-16\n",
      "2.22044604925e-16\n",
      "0.0\n",
      "2.22044604925e-16\n",
      "1.11022302463e-16\n",
      "1.11022302463e-16\n",
      "1.11022302463e-16\n",
      "1.11022302463e-16\n",
      "1.11022302463e-16\n",
      "1.11022302463e-16\n",
      "1.11022302463e-16\n",
      "2.22044604925e-16\n",
      "0.0\n",
      "3.33066907388e-16\n",
      "0.0\n",
      "1.11022302463e-16\n",
      "-1.11022302463e-16\n",
      "1.11022302463e-16\n",
      "-1.11022302463e-16\n",
      "0.0\n",
      "0.0\n",
      "-2.22044604925e-16\n",
      "-1.11022302463e-16\n",
      "-1.11022302463e-16\n",
      "0.0\n",
      "0.0\n",
      "-2.22044604925e-16\n",
      "1.11022302463e-16\n",
      "-2.22044604925e-16\n",
      "-2.22044604925e-16\n",
      "0.0\n",
      "-1.11022302463e-16\n",
      "-1.11022302463e-16\n",
      "-1.11022302463e-16\n",
      "-2.22044604925e-16\n",
      "-1.11022302463e-16\n",
      "-1.11022302463e-16\n",
      "-1.11022302463e-16\n",
      "0.0\n",
      "-2.22044604925e-16\n",
      "1.11022302463e-16\n",
      "-2.22044604925e-16\n",
      "2.22044604925e-16\n",
      "1.11022302463e-16\n",
      "1.11022302463e-16\n",
      "1.11022302463e-16\n",
      "0.0\n",
      "0.0\n",
      "0.0\n",
      "1.11022302463e-16\n",
      "2.22044604925e-16\n",
      "0.0\n",
      "3.33066907388e-16\n",
      "0.0\n",
      "-2.22044604925e-16\n",
      "-1.11022302463e-16\n",
      "-1.11022302463e-16\n",
      "-3.33066907388e-16\n",
      "-1.11022302463e-16\n",
      "-2.22044604925e-16\n",
      "-1.11022302463e-16\n",
      "-1.11022302463e-16\n",
      "-2.22044604925e-16\n",
      "0.0\n",
      "-3.33066907388e-16\n",
      "0.0\n",
      "0.0\n",
      "-1.11022302463e-16\n",
      "0.0\n",
      "0.0\n",
      "0.0\n",
      "1.11022302463e-16\n",
      "-1.11022302463e-16\n",
      "2.22044604925e-16\n",
      "-1.11022302463e-16\n",
      "0.0\n",
      "-1.11022302463e-16\n",
      "0.0\n",
      "0.0\n",
      "0.0\n",
      "1.11022302463e-16\n",
      "-1.11022302463e-16\n",
      "2.22044604925e-16\n",
      "-1.11022302463e-16\n",
      "-1.11022302463e-16\n",
      "0.0\n",
      "0.0\n",
      "0.0\n",
      "1.11022302463e-16\n",
      "-1.11022302463e-16\n",
      "2.22044604925e-16\n",
      "-1.11022302463e-16\n",
      "0.0\n",
      "0.0\n",
      "1.11022302463e-16\n",
      "2.22044604925e-16\n",
      "0.0\n",
      "3.33066907388e-16\n",
      "0.0\n",
      "0.0\n",
      "0.0\n",
      "1.11022302463e-16\n",
      "-1.11022302463e-16\n",
      "2.22044604925e-16\n",
      "-1.11022302463e-16\n",
      "0.0\n",
      "1.11022302463e-16\n",
      "-1.11022302463e-16\n",
      "2.22044604925e-16\n",
      "-1.11022302463e-16\n",
      "1.11022302463e-16\n",
      "-1.11022302463e-16\n",
      "2.22044604925e-16\n",
      "-1.11022302463e-16\n",
      "-2.22044604925e-16\n",
      "1.11022302463e-16\n",
      "-2.22044604925e-16\n",
      "3.33066907388e-16\n",
      "0.0\n",
      "-3.33066907388e-16\n"
     ]
    }
   ],
   "source": [
    "for i in range(len(cip1)):\n",
    "    print Aip1[i][1]*Kip1[i][1]/Rip1[i][1]-(Aip1[i][0]*Kip1[i][0]/Rip1[i][0])**(cip1[i][1]/cip1[i][0])"
   ]
  },
  {
   "cell_type": "code",
   "execution_count": 1943,
   "metadata": {
    "collapsed": false
   },
   "outputs": [
    {
     "name": "stdout",
     "output_type": "stream",
     "text": [
      "0.0242960306378\n",
      "0.0242960306378\n",
      "-0.593614405608\n",
      "-0.593614405608\n",
      "1.00682722112\n",
      "1.00682722112\n",
      "-1.39951074432\n",
      "-1.39951074432\n",
      "-2.7647456932\n",
      "-2.7647456932\n",
      "-2.6801539874\n",
      "-2.6801539874\n",
      "-0.816833388596\n",
      "-0.816833388596\n",
      "-2.71431138142\n",
      "-2.71431138142\n",
      "0.949758826131\n",
      "0.949758826131\n",
      "-0.431945024915\n",
      "-0.431945024915\n",
      "-4.32758429026\n",
      "-4.32758429026\n",
      "0.254397200383\n",
      "0.254397200383\n",
      "-3.20206889585\n",
      "-3.20206889585\n",
      "1.22175010091\n",
      "1.22175010091\n",
      "-2.0481735664\n",
      "-2.0481735664\n",
      "0.386551000023\n",
      "0.386551000023\n",
      "-0.601940146656\n",
      "-0.601940146656\n",
      "-2.79234749798\n",
      "-2.79234749798\n",
      "-4.62964225429\n",
      "-4.62964225429\n",
      "-5.63250540252\n",
      "-5.63250540252\n",
      "-0.28050737905\n",
      "-0.28050737905\n",
      "-4.4519438523\n",
      "-4.4519438523\n",
      "-0.00635582016726\n",
      "-0.00635582016726\n",
      "-4.45262640471\n",
      "-4.45262640471\n",
      "-1.78119266794\n",
      "-1.78119266794\n",
      "-5.51660757361\n",
      "-5.51660757361\n",
      "0.709315296884\n",
      "0.709315296884\n",
      "0.575700058359\n",
      "0.575700058359\n",
      "-3.97414611725\n",
      "-3.97414611725\n",
      "-0.615952936147\n",
      "-0.615952936147\n",
      "0.98569076397\n",
      "0.98569076397\n",
      "-1.42228093728\n",
      "-1.42228093728\n",
      "-2.79050214098\n",
      "-2.79050214098\n",
      "-2.70522542328\n",
      "-2.70522542328\n",
      "-0.838355899755\n",
      "-0.838355899755\n",
      "-2.74109223337\n",
      "-2.74109223337\n",
      "0.928431088829\n",
      "0.928431088829\n",
      "-0.452087887923\n",
      "-0.452087887923\n",
      "-4.35722850374\n",
      "-4.35722850374\n",
      "0.231627007418\n",
      "0.231627007418\n",
      "-3.23228319037\n",
      "-3.23228319037\n",
      "1.20080152339\n",
      "1.20080152339\n",
      "-2.07495441836\n",
      "-2.07495441836\n",
      "0.361479564153\n",
      "0.361479564153\n",
      "-0.621497947253\n",
      "-0.621497947253\n",
      "-2.81959275777\n",
      "-2.81959275777\n",
      "-4.66085702213\n",
      "-4.66085702213\n",
      "-5.66291462797\n",
      "-5.66291462797\n",
      "-0.301549477013\n",
      "-0.301549477013\n",
      "-4.48121981468\n",
      "-4.48121981468\n",
      "-0.0285889802792\n",
      "-0.0285889802792\n",
      "-4.48384117255\n",
      "-4.48384117255\n",
      "-1.80561458475\n",
      "-1.80561458475\n",
      "-5.54956862217\n",
      "-5.54956862217\n",
      "0.689258148187\n",
      "0.689258148187\n",
      "0.554751480831\n",
      "0.554751480831\n",
      "-4.0036050544\n",
      "-4.0036050544\n",
      "1.56849825064\n",
      "1.56849825064\n",
      "-0.794425528942\n",
      "-0.794425528942\n",
      "-2.08030503974\n",
      "-2.08030503974\n",
      "-2.01391654281\n",
      "-2.01391654281\n",
      "-0.244903527486\n",
      "-0.244903527486\n",
      "-2.00264865652\n",
      "-2.00264865652\n",
      "1.51651285139\n",
      "1.51651285139\n",
      "0.103322665611\n",
      "0.103322665611\n",
      "-3.53983184005\n",
      "-3.53983184005\n",
      "0.859482415761\n",
      "0.859482415761\n",
      "-2.39916736006\n",
      "-2.39916736006\n",
      "1.77842849906\n",
      "1.77842849906\n",
      "-1.3365108415\n",
      "-1.3365108415\n",
      "1.05278844461\n",
      "1.05278844461\n",
      "-0.0822196504606\n",
      "-0.0822196504606\n",
      "-2.06834380096\n",
      "-2.06834380096\n",
      "-3.80015457493\n",
      "-3.80015457493\n",
      "-4.82442385683\n",
      "-4.82442385683\n",
      "0.278656190517\n",
      "0.278656190517\n",
      "-3.67397714681\n",
      "-3.67397714681\n",
      "0.584458517489\n",
      "0.584458517489\n",
      "-3.62313872535\n",
      "-3.62313872535\n",
      "-1.13221526078\n",
      "-1.13221526078\n",
      "-4.64071498911\n",
      "-4.64071498911\n",
      "1.24230525256\n",
      "1.24230525256\n",
      "1.13237845651\n",
      "1.13237845651\n",
      "-3.19131711986\n",
      "-3.19131711986\n",
      "-2.48416035934\n",
      "-2.48416035934\n",
      "-3.99164443806\n",
      "-3.99164443806\n",
      "-3.87442244649\n",
      "-3.87442244649\n",
      "-1.842050148\n",
      "-1.842050148\n",
      "-3.99000723545\n",
      "-3.99000723545\n",
      "-0.0661799535476\n",
      "-0.0661799535476\n",
      "-1.39144276128\n",
      "-1.39144276128\n",
      "-5.73967529849\n",
      "-5.73967529849\n",
      "-0.830252414636\n",
      "-0.830252414636\n",
      "-4.6413155004\n",
      "-4.6413155004\n",
      "0.223872455095\n",
      "0.223872455095\n",
      "-3.32386942043\n",
      "-3.32386942043\n",
      "-0.807717459067\n",
      "-0.807717459067\n",
      "-1.53356865416\n",
      "-1.53356865416\n",
      "-4.09016524543\n",
      "-4.09016524543\n",
      "-6.11654603117\n",
      "-6.11654603117\n",
      "-7.08103746903\n",
      "-7.08103746903\n",
      "-1.28283983579\n",
      "-1.28283983579\n",
      "-5.84649335732\n",
      "-5.84649335732\n",
      "-1.06542407634\n",
      "-1.06542407634\n",
      "-5.93953018159\n",
      "-5.93953018159\n",
      "-2.94452152965\n",
      "-2.94452152965\n",
      "-7.08669477857\n",
      "-7.08669477857\n",
      "-0.246099470388\n",
      "-0.246099470388\n",
      "-0.422177587458\n",
      "-0.422177587458\n",
      "-5.37741155669\n",
      "-5.37741155669\n",
      "-1.18169255619\n",
      "-1.18169255619\n",
      "-1.13920332744\n",
      "-1.13920332744\n",
      "0.505991835487\n",
      "0.505991835487\n",
      "-1.06829590373\n",
      "-1.06829590373\n",
      "2.26061278122\n",
      "2.26061278122\n",
      "0.806083710444\n",
      "0.806083710444\n",
      "-2.50557973633\n",
      "-2.50557973633\n",
      "1.6539079447\n",
      "1.6539079447\n",
      "-1.34502579281\n",
      "-1.34502579281\n",
      "2.50929998569\n",
      "2.50929998569\n",
      "-0.402158088709\n",
      "-0.402158088709\n",
      "1.92750165999\n",
      "1.92750165999\n",
      "0.600129247842\n",
      "0.600129247842\n",
      "-1.11778839928\n",
      "-1.11778839928\n",
      "-2.71110765777\n",
      "-2.71110765777\n",
      "-3.76348137624\n",
      "-3.76348137624\n",
      "1.01279049628\n",
      "1.01279049628\n",
      "-2.65257289531\n",
      "-2.65257289531\n",
      "1.36014759528\n",
      "1.36014759528\n",
      "-2.53409180819\n",
      "-2.53409180819\n",
      "-0.280163009528\n",
      "-0.280163009528\n",
      "-3.49074237029\n",
      "-3.49074237029\n",
      "1.94207582486\n",
      "1.94207582486\n",
      "1.86324994313\n",
      "1.86324994313\n",
      "-2.16352909179\n",
      "-2.16352909179\n",
      "0.0110612352343\n",
      "0.0110612352343\n",
      "1.49343356052\n",
      "1.49343356052\n",
      "0.160395788216\n",
      "0.160395788216\n",
      "3.23911838204\n",
      "3.23911838204\n",
      "1.730227889\n",
      "1.730227889\n",
      "-1.14551849242\n",
      "-1.14551849242\n",
      "2.69859266829\n",
      "2.69859266829\n",
      "0.0411904750177\n",
      "0.0411904750177\n",
      "3.47040993138\n",
      "3.47040993138\n",
      "0.826533603233\n",
      "0.826533603233\n",
      "3.07776622266\n",
      "3.07776622266\n",
      "1.49743106436\n",
      "1.49743106436\n",
      "0.132210085007\n",
      "0.132210085007\n",
      "-1.27899018902\n",
      "-1.27899018902\n",
      "-2.36832177765\n",
      "-2.36832177765\n",
      "1.97819111138\n",
      "1.97819111138\n",
      "-1.30940682214\n",
      "-1.30940682214\n",
      "2.38019352821\n",
      "2.38019352821\n",
      "-1.10197433944\n",
      "-1.10197433944\n",
      "0.840301953073\n",
      "0.840301953073\n",
      "-1.97850644175\n",
      "-1.97850644175\n",
      "2.86228747499\n",
      "2.86228747499\n",
      "2.82435988883\n",
      "2.82435988883\n",
      "-0.811968230654\n",
      "-0.811968230654\n",
      "1.48393807091\n",
      "1.48393807091\n",
      "0.148580377852\n",
      "0.148580377852\n",
      "3.22970882447\n",
      "3.22970882447\n",
      "1.72134108462\n",
      "1.72134108462\n",
      "-1.15859718566\n",
      "-1.15859718566\n",
      "2.68854671551\n",
      "2.68854671551\n",
      "0.0278602684533\n",
      "0.0278602684533\n",
      "3.46116765483\n",
      "3.46116765483\n",
      "0.814718192869\n",
      "0.814718192869\n",
      "3.06670498743\n",
      "3.06670498743\n",
      "1.48880238294\n",
      "1.48880238294\n",
      "0.120189783134\n",
      "0.120189783134\n",
      "-1.29276179315\n",
      "-1.29276179315\n",
      "-2.38173798554\n",
      "-2.38173798554\n",
      "1.96890757466\n",
      "1.96890757466\n",
      "-1.32232304713\n",
      "-1.32232304713\n",
      "2.37038450829\n",
      "2.37038450829\n",
      "-1.11574594357\n",
      "-1.11574594357\n",
      "0.829527278337\n",
      "0.829527278337\n",
      "-1.99304848528\n",
      "-1.99304848528\n",
      "2.85343848681\n",
      "2.85343848681\n",
      "2.81511761228\n",
      "2.81511761228\n",
      "-0.824965182054\n",
      "-0.824965182054\n",
      "-1.69791074447\n",
      "-1.69791074447\n",
      "1.75920005736\n",
      "1.75920005736\n",
      "0.332527249027\n",
      "0.332527249027\n",
      "-3.2025118871\n",
      "-3.2025118871\n",
      "1.11858324919\n",
      "1.11858324919\n",
      "-2.05536048494\n",
      "-2.05536048494\n",
      "2.01680126581\n",
      "2.01680126581\n",
      "-1.03177292946\n",
      "-1.03177292946\n",
      "1.33807500057\n",
      "1.33807500057\n",
      "0.140327538417\n",
      "0.140327538417\n",
      "-1.75832141646\n",
      "-1.75832141646\n",
      "-3.44496336619\n",
      "-3.44496336619\n",
      "-4.47839887283\n",
      "-4.47839887283\n",
      "0.518093121408\n",
      "0.518093121408\n",
      "-3.34084750383\n",
      "-3.34084750383\n",
      "0.837448482204\n",
      "0.837448482204\n",
      "-3.26794751661\n",
      "-3.26794751661\n",
      "-0.85431954824\n",
      "-0.85431954824\n",
      "-4.26565294352\n",
      "-4.26565294352\n",
      "1.47053449732\n",
      "1.47053449732\n",
      "1.37075122326\n",
      "1.37075122326\n",
      "-2.85610541661\n",
      "-2.85610541661\n",
      "3.11138236971\n",
      "3.11138236971\n",
      "1.60958832179\n",
      "1.60958832179\n",
      "-1.32306351586\n",
      "-1.32306351586\n",
      "2.56221750536\n",
      "2.56221750536\n",
      "-0.13976887579\n",
      "-0.13976887579\n",
      "3.34494478149\n",
      "3.34494478149\n",
      "0.666137815017\n",
      "0.666137815017\n",
      "2.92760846348\n",
      "2.92760846348\n",
      "1.38029555098\n",
      "1.38029555098\n",
      "-0.0309671330623\n",
      "-0.0309671330623\n",
      "-1.46594157131\n",
      "-1.46594157131\n",
      "-2.55044860814\n",
      "-2.55044860814\n",
      "1.85216584921\n",
      "1.85216584921\n",
      "-1.48474631733\n",
      "-1.48474631733\n",
      "2.24703476063\n",
      "2.24703476063\n",
      "-1.28892572173\n",
      "-1.28892572173\n",
      "0.69403429128\n",
      "0.69403429128\n",
      "-2.17591664263\n",
      "-2.17591664263\n",
      "2.74216126765\n",
      "2.74216126765\n",
      "2.69889473894\n",
      "2.69889473894\n",
      "-0.988403597692\n",
      "-0.988403597692\n",
      "-1.32893947182\n",
      "-1.32893947182\n",
      "-5.64768932532\n",
      "-5.64768932532\n",
      "-0.759596522201\n",
      "-0.759596522201\n",
      "-4.54756056621\n",
      "-4.54756056621\n",
      "0.288875876135\n",
      "0.288875876135\n",
      "-3.24076845603\n",
      "-3.24076845603\n",
      "-0.729920811545\n",
      "-0.729920811545\n",
      "-1.47288081294\n",
      "-1.47288081294\n",
      "-4.00562322384\n",
      "-4.00562322384\n",
      "-6.01968662896\n",
      "-6.01968662896\n",
      "-6.9866776643\n",
      "-6.9866776643\n",
      "-1.2175462209\n",
      "-1.2175462209\n",
      "-5.75565006705\n",
      "-5.75565006705\n",
      "-0.996434596464\n",
      "-0.996434596464\n",
      "-5.84267077938\n",
      "-5.84267077938\n",
      "-2.86874033932\n",
      "-2.86874033932\n",
      "-6.98441666854\n",
      "-6.98441666854\n",
      "-0.183862152371\n",
      "-0.183862152371\n",
      "-0.357174166418\n",
      "-0.357174166418\n",
      "-5.28600049585\n",
      "-5.28600049585\n",
      "-3.69189161208\n",
      "-3.69189161208\n",
      "0.742682880722\n",
      "0.742682880722\n",
      "-2.55415135848\n",
      "-2.55415135848\n",
      "1.67097292682\n",
      "1.67097292682\n",
      "-1.47388302191\n",
      "-1.47388302191\n",
      "0.924184701248\n",
      "0.924184701248\n",
      "-0.182541242797\n",
      "-0.182541242797\n",
      "-2.20809815792\n",
      "-2.20809815792\n",
      "-3.96027049383\n",
      "-3.96027049383\n",
      "-4.98040775201\n",
      "-4.98040775201\n",
      "0.170720905906\n",
      "0.170720905906\n",
      "-3.82414797758\n",
      "-3.82414797758\n",
      "0.470413688466\n",
      "0.470413688466\n",
      "-3.78325464425\n",
      "-3.78325464425\n",
      "-1.25748730095\n",
      "-1.25748730095\n",
      "-4.80978844193\n",
      "-4.80978844193\n",
      "1.13942225786\n",
      "1.13942225786\n",
      "1.02492288427\n",
      "1.02492288427\n",
      "-3.34242651832\n",
      "-3.34242651832\n",
      "3.57848368421\n",
      "3.57848368421\n",
      "1.20873816922\n",
      "1.20873816922\n",
      "4.27990966603\n",
      "4.27990966603\n",
      "1.86140542309\n",
      "1.86140542309\n",
      "4.04658239444\n",
      "4.04658239444\n",
      "2.25318807804\n",
      "2.25318807804\n",
      "1.18502765897\n",
      "1.18502765897\n",
      "-0.0727819751443\n",
      "-0.0727819751443\n",
      "-1.19324151768\n",
      "-1.19324151768\n",
      "2.79130468412\n",
      "2.79130468412\n",
      "-0.178118373097\n",
      "-0.178118373097\n",
      "3.23933239753\n",
      "3.23933239753\n",
      "0.104233874437\n",
      "0.104233874437\n",
      "1.7840192603\n",
      "1.7840192603\n",
      "-0.704818048078\n",
      "-0.704818048078\n",
      "3.63734041242\n",
      "3.63734041242\n",
      "3.63385962348\n",
      "3.63385962348\n",
      "0.326390771191\n",
      "0.326390771191\n",
      "-3.53963441175\n",
      "-3.53963441175\n",
      "0.98770467656\n",
      "0.98770467656\n",
      "-2.34737936458\n",
      "-2.34737936458\n",
      "0.106443444282\n",
      "0.106443444282\n",
      "-0.820447285575\n",
      "-0.820447285575\n",
      "-3.09674183601\n",
      "-3.09674183601\n",
      "-4.97838543627\n",
      "-4.97838543627\n",
      "-5.97224876045\n",
      "-5.97224876045\n",
      "-0.515597649047\n",
      "-0.515597649047\n",
      "-4.77902596708\n",
      "-4.77902596708\n",
      "-0.254753086579\n",
      "-0.254753086579\n",
      "-4.80136958669\n",
      "-4.80136958669\n",
      "-2.05404355126\n",
      "-2.05404355126\n",
      "-5.88486086368\n",
      "-5.88486086368\n",
      "0.485229252291\n",
      "0.485229252291\n",
      "0.341654634006\n",
      "0.341654634006\n",
      "-4.30327249525\n",
      "-4.30327249525\n",
      "3.44185120204\n",
      "3.44185120204\n",
      "0.790023864013\n",
      "0.790023864013\n",
      "3.04358689233\n",
      "3.04358689233\n",
      "1.47076835025\n",
      "1.47076835025\n",
      "0.095067228922\n",
      "0.095067228922\n",
      "-1.32154458705\n",
      "-1.32154458705\n",
      "-2.40977799766\n",
      "-2.40977799766\n",
      "1.94950488771\n",
      "1.94950488771\n",
      "-1.34931808985\n",
      "-1.34931808985\n",
      "2.34988355603\n",
      "2.34988355603\n",
      "-1.14452873747\n",
      "-1.14452873747\n",
      "0.807008097618\n",
      "0.807008097618\n",
      "-2.02344150541\n",
      "-2.02344150541\n",
      "2.83494401073\n",
      "2.83494401073\n",
      "2.79580115948\n",
      "2.79580115948\n",
      "-0.852128943796\n",
      "-0.852128943796\n",
      "-3.61007000223\n",
      "-3.61007000223\n",
      "-1.07564991862\n",
      "-1.07564991862\n",
      "-1.74257820767\n",
      "-1.74257820767\n",
      "-4.38132884309\n",
      "-4.38132884309\n",
      "-6.45013081525\n",
      "-6.45013081525\n",
      "-7.40601361353\n",
      "-7.40601361353\n",
      "-1.50771172149\n",
      "-1.50771172149\n",
      "-6.1593585896\n",
      "-6.1593585896\n",
      "-1.30302455934\n",
      "-1.30302455934\n",
      "-6.27311496567\n",
      "-6.27311496567\n",
      "-3.20551273377\n",
      "-3.20551273377\n",
      "-7.43894164847\n",
      "-7.43894164847\n",
      "-0.460445438032\n",
      "-0.460445438032\n",
      "-0.646050042554\n",
      "-0.646050042554\n",
      "-5.69223219666\n",
      "-5.69223219666\n",
      "2.30399008346\n",
      "2.30399008346\n",
      "0.893821462003\n",
      "0.893821462003\n",
      "-0.708656470883\n",
      "-0.708656470883\n",
      "-2.24236710405\n",
      "-2.24236710405\n",
      "-3.30683735293\n",
      "-3.30683735293\n",
      "1.3287718517\n",
      "1.3287718517\n",
      "-2.2129466617\n",
      "-2.2129466617\n",
      "1.69401468779\n",
      "1.69401468779\n",
      "-2.06535125447\n",
      "-2.06535125447\n",
      "0.0865718278443\n",
      "0.0865718278443\n",
      "-2.99577856881\n",
      "-2.99577856881\n",
      "2.24326656364\n",
      "2.24326656364\n",
      "2.17782693697\n",
      "2.17782693697\n",
      "-1.72115519421\n",
      "-1.72115519421\n",
      "-0.903482005596\n",
      "-0.903482005596\n",
      "-3.21241448066\n",
      "-3.21241448066\n",
      "-5.11091104902\n",
      "-5.11091104902\n",
      "-6.10135435739\n",
      "-6.10135435739\n",
      "-0.604934111213\n",
      "-0.604934111213\n",
      "-4.90332017531\n",
      "-4.90332017531\n",
      "-0.349146329622\n",
      "-0.349146329622\n",
      "-4.93389519944\n",
      "-4.93389519944\n",
      "-2.15772939335\n",
      "-2.15772939335\n",
      "-6.02480049672\n",
      "-6.02480049672\n",
      "0.400074496865\n",
      "0.400074496865\n",
      "0.252715222784\n",
      "0.252715222784\n",
      "-4.42834354228\n",
      "-4.42834354228\n",
      "-1.95380660003\n",
      "-1.95380660003\n",
      "-3.66892983479\n",
      "-3.66892983479\n",
      "-4.69658556159\n",
      "-4.69658556159\n",
      "0.367115725165\n",
      "0.367115725165\n",
      "-3.55090301165\n",
      "-3.55090301165\n",
      "0.677925195607\n",
      "0.677925195607\n",
      "-3.49191398521\n",
      "-3.49191398521\n",
      "-1.02954719984\n",
      "-1.02954719984\n",
      "-4.50214900477\n",
      "-4.50214900477\n",
      "1.32662412814\n",
      "1.32662412814\n",
      "1.22044483767\n",
      "1.22044483767\n",
      "-3.06747377135\n",
      "-3.06747377135\n",
      "-1.43046267052\n",
      "-1.43046267052\n",
      "-2.51588529188\n",
      "-2.51588529188\n",
      "1.87608242965\n",
      "1.87608242965\n",
      "-1.45147107497\n",
      "-1.45147107497\n",
      "2.27230510978\n",
      "2.27230510978\n",
      "-1.25344682094\n",
      "-1.25344682094\n",
      "0.721792395009\n",
      "0.721792395009\n",
      "-2.13845290823\n",
      "-2.13845290823\n",
      "2.76495834859\n",
      "2.76495834859\n",
      "2.72270502347\n",
      "2.72270502347\n",
      "-0.954920385068\n",
      "-0.954920385068\n",
      "-1.12233778705\n",
      "-1.12233778705\n",
      "2.84036753344\n",
      "2.84036753344\n",
      "-0.109857017527\n",
      "-0.109857017527\n",
      "3.29117238926\n",
      "3.29117238926\n",
      "0.177015849581\n",
      "0.177015849581\n",
      "1.84096267091\n",
      "1.84096267091\n",
      "-0.627964354044\n",
      "-0.627964354044\n",
      "3.68410670283\n",
      "3.68410670283\n",
      "3.68270441568\n",
      "3.68270441568\n",
      "0.395078760233\n",
      "0.395078760233\n",
      "3.61698519859\n",
      "3.61698519859\n",
      "0.970654516591\n",
      "0.970654516591\n",
      "4.11174954489\n",
      "4.11174954489\n",
      "1.32908443894\n",
      "1.32908443894\n",
      "2.74232203357\n",
      "2.74232203357\n",
      "0.588555624928\n",
      "0.588555624928\n",
      "4.42437205174\n",
      "4.42437205174\n",
      "4.45587044676\n",
      "4.45587044676\n",
      "1.48234349144\n",
      "1.48234349144\n",
      "-4.06167271623\n",
      "-4.06167271623\n",
      "0.290029335056\n",
      "0.290029335056\n",
      "-4.03650949804\n",
      "-4.03650949804\n",
      "-1.45562969951\n",
      "-1.45562969951\n",
      "-5.07721139943\n",
      "-5.07721139943\n",
      "0.976692543298\n",
      "0.976692543298\n",
      "0.854960737947\n",
      "0.854960737947\n",
      "-3.58143578658\n",
      "-3.58143578658\n",
      "3.37460153936\n",
      "3.37460153936\n",
      "0.294148166282\n",
      "0.294148166282\n",
      "1.9326050534\n",
      "1.9326050534\n",
      "-0.504279180465\n",
      "-0.504279180465\n",
      "3.75937044676\n",
      "3.75937044676\n",
      "3.76131321489\n",
      "3.76131321489\n",
      "0.50562238412\n",
      "0.50562238412\n",
      "-4.44370300156\n",
      "-4.44370300156\n",
      "-1.77421114527\n",
      "-1.77421114527\n",
      "-5.5071849591\n",
      "-5.5071849591\n",
      "0.715049058056\n",
      "0.715049058056\n",
      "0.581688653361\n",
      "0.581688653361\n",
      "-3.96572465553\n",
      "-3.96572465553\n",
      "1.70246840517\n",
      "1.70246840517\n",
      "-0.814883188218\n",
      "-0.814883188218\n",
      "3.57036460374\n",
      "3.57036460374\n",
      "3.56390711219\n",
      "3.56390711219\n",
      "0.228020052191\n",
      "0.228020052191\n",
      "-3.11262026653\n",
      "-3.11262026653\n",
      "2.17216714758\n",
      "2.17216714758\n",
      "2.10356754686\n",
      "2.10356754686\n",
      "-1.82558246155\n",
      "-1.82558246155\n",
      "4.06622969274\n",
      "4.06622969274\n",
      "4.08181064959\n",
      "4.08181064959\n",
      "0.95632190166\n",
      "0.95632190166\n",
      "-0.165140362831\n",
      "-0.165140362831\n",
      "-5.01595295955\n",
      "-5.01595295955\n",
      "-4.78372432432\n",
      "-4.78372432432\n"
     ]
    }
   ],
   "source": [
    "for i in range(len(cip1)):\n",
    "    print (cip1[i][1]/cip1[i][0])*np.log2(org1[inde[0][i]][3])-np.log2(org1[inde[1][i]][3])\n",
    "    print b1[i]"
   ]
  },
  {
   "cell_type": "code",
   "execution_count": 877,
   "metadata": {
    "collapsed": false
   },
   "outputs": [
    {
     "data": {
      "text/plain": [
       "array([-1.85333035, -1.05246742, -0.8214027 ])"
      ]
     },
     "execution_count": 877,
     "metadata": {},
     "output_type": "execute_result"
    }
   ],
   "source": [
    "np.log2(dd)"
   ]
  },
  {
   "cell_type": "code",
   "execution_count": 1508,
   "metadata": {
    "collapsed": false
   },
   "outputs": [
    {
     "data": {
      "text/plain": [
       "array([ 0.685,  0.255,  0.605,  0.515,  0.68 ,  0.435,  0.51 ,  0.365,\n",
       "        0.575,  0.485])"
      ]
     },
     "execution_count": 1508,
     "metadata": {},
     "output_type": "execute_result"
    }
   ],
   "source": [
    "dd=np.array([p[3] for p in org1])\n",
    "dd"
   ]
  },
  {
   "cell_type": "code",
   "execution_count": 879,
   "metadata": {
    "collapsed": false,
    "scrolled": true
   },
   "outputs": [
    {
     "name": "stdout",
     "output_type": "stream",
     "text": [
      "[[ 0.76377953 -1.          0.        ]\n",
      " [ 1.94        0.         -1.        ]\n",
      " [ 0.          2.54       -1.        ]]\n"
     ]
    }
   ],
   "source": [
    "print M1"
   ]
  },
  {
   "cell_type": "markdown",
   "metadata": {},
   "source": []
  },
  {
   "cell_type": "code",
   "execution_count": 628,
   "metadata": {
    "collapsed": false
   },
   "outputs": [
    {
     "data": {
      "text/plain": [
       "0.77300613496932513"
      ]
     },
     "execution_count": 628,
     "metadata": {},
     "output_type": "execute_result"
    }
   ],
   "source": [
    "tau_snok[0]/float(tau_snok[1])"
   ]
  },
  {
   "cell_type": "code",
   "execution_count": 631,
   "metadata": {
    "collapsed": false
   },
   "outputs": [
    {
     "data": {
      "text/plain": [
       "0.78749999999999998"
      ]
     },
     "execution_count": 631,
     "metadata": {},
     "output_type": "execute_result"
    }
   ],
   "source": [
    "tau_snok[0]/float(tau_snok[2])"
   ]
  },
  {
   "cell_type": "code",
   "execution_count": 632,
   "metadata": {
    "collapsed": false
   },
   "outputs": [
    {
     "data": {
      "text/plain": [
       "1.01875"
      ]
     },
     "execution_count": 632,
     "metadata": {},
     "output_type": "execute_result"
    }
   ],
   "source": [
    "tau_snok[1]/float(tau_snok[2])"
   ]
  },
  {
   "cell_type": "code",
   "execution_count": 1509,
   "metadata": {
    "collapsed": false
   },
   "outputs": [
    {
     "data": {
      "text/plain": [
       "array([ 1.40102007,  0.29427461,  0.49854699,  0.0838889 ,  0.69438792,\n",
       "        0.50242643,  0.91287269,  0.27938584,  0.60117694, -0.7636385 ,\n",
       "       -0.62836045, -1.07665758, -0.5497179 , -0.6495234 , -0.4163002 ,\n",
       "       -0.99531275, -0.48632815,  0.18508056, -0.23893474,  0.34832098,\n",
       "        0.18199408,  0.54314305, -0.07519094,  0.29867087, -0.4295401 ,\n",
       "        0.14399204, -0.00719939,  0.3248429 , -0.28454436,  0.12006166,\n",
       "        0.60445902,  0.41915893,  0.8167948 ,  0.18724558,  0.52256776,\n",
       "       -0.14052535,  0.17100525, -0.4320772 , -0.00580551,  0.33314988,\n",
       "       -0.27657783,  0.12685828, -0.59607403, -0.1457189 ,  0.36281979])"
      ]
     },
     "execution_count": 1509,
     "metadata": {},
     "output_type": "execute_result"
    }
   ],
   "source": [
    "viaCellDist=np.dot(M1,np.log2(dd).T)\n",
    "viaCellDist"
   ]
  },
  {
   "cell_type": "code",
   "execution_count": 1510,
   "metadata": {
    "collapsed": false
   },
   "outputs": [
    {
     "data": {
      "text/plain": [
       "array([ 1.40102007,  0.29427461,  0.49854699,  0.0838889 ,  0.69438792,\n",
       "        0.50242643,  0.91287269,  0.27938584,  0.60117694, -0.7636385 ,\n",
       "       -0.62836045, -1.07665758, -0.5497179 , -0.6495234 , -0.4163002 ,\n",
       "       -0.99531275, -0.48632815,  0.18508056, -0.23893474,  0.34832098,\n",
       "        0.18199408,  0.54314305, -0.07519094,  0.29867087, -0.4295401 ,\n",
       "        0.14399204, -0.00719939,  0.3248429 , -0.28454436,  0.12006166,\n",
       "        0.60445902,  0.41915893,  0.8167948 ,  0.18724558,  0.52256776,\n",
       "       -0.14052535,  0.17100525, -0.4320772 , -0.00580551,  0.33314988,\n",
       "       -0.27657783,  0.12685828, -0.59607403, -0.1457189 ,  0.36281979])"
      ]
     },
     "execution_count": 1510,
     "metadata": {},
     "output_type": "execute_result"
    }
   ],
   "source": [
    "b1"
   ]
  },
  {
   "cell_type": "code",
   "execution_count": 797,
   "metadata": {
    "collapsed": false
   },
   "outputs": [
    {
     "name": "stdout",
     "output_type": "stream",
     "text": [
      "[-0.13128513  0.4296232   0.49356518]\n"
     ]
    }
   ],
   "source": [
    "print b1"
   ]
  },
  {
   "cell_type": "code",
   "execution_count": 613,
   "metadata": {
    "collapsed": false
   },
   "outputs": [
    {
     "data": {
      "text/plain": [
       "0.78750000000000009"
      ]
     },
     "execution_count": 613,
     "metadata": {},
     "output_type": "execute_result"
    }
   ],
   "source": [
    "cip[1][1]/cip[1][0]"
   ]
  },
  {
   "cell_type": "code",
   "execution_count": 621,
   "metadata": {
    "collapsed": false
   },
   "outputs": [
    {
     "data": {
      "text/plain": [
       "0.98159509202453987"
      ]
     },
     "execution_count": 621,
     "metadata": {},
     "output_type": "execute_result"
    }
   ],
   "source": [
    "tau_snok[2]/float(tau_snok[1])"
   ]
  },
  {
   "cell_type": "code",
   "execution_count": 618,
   "metadata": {
    "collapsed": false
   },
   "outputs": [
    {
     "data": {
      "text/plain": [
       "163"
      ]
     },
     "execution_count": 618,
     "metadata": {},
     "output_type": "execute_result"
    }
   ],
   "source": [
    "tau_snok[1]"
   ]
  },
  {
   "cell_type": "code",
   "execution_count": 612,
   "metadata": {
    "collapsed": false
   },
   "outputs": [
    {
     "data": {
      "text/plain": [
       "-1.1102230246251565e-16"
      ]
     },
     "execution_count": 612,
     "metadata": {},
     "output_type": "execute_result"
    }
   ],
   "source": [
    "-cip[1][1]/cip[1][0]+cip[0][1]/cip[0][0]*cip[2][1]/cip[2][0]"
   ]
  },
  {
   "cell_type": "code",
   "execution_count": 614,
   "metadata": {
    "collapsed": false
   },
   "outputs": [
    {
     "data": {
      "text/plain": [
       "array([[ 0.23809524,  0.18404908],\n",
       "       [ 0.23809524,  0.1875    ],\n",
       "       [ 0.18404908,  0.1875    ]])"
      ]
     },
     "execution_count": 614,
     "metadata": {},
     "output_type": "execute_result"
    }
   ],
   "source": [
    "cip"
   ]
  },
  {
   "cell_type": "code",
   "execution_count": 583,
   "metadata": {
    "collapsed": false
   },
   "outputs": [
    {
     "data": {
      "text/plain": [
       "array([[[ 0.15384615,  0.15384615],\n",
       "        [ 0.15384615,  0.20979021],\n",
       "        [ 0.15384615,  0.44776119]],\n",
       "\n",
       "       [[ 0.20979021,  0.15384615],\n",
       "        [ 0.20979021,  0.20979021],\n",
       "        [ 0.20979021,  0.44776119]],\n",
       "\n",
       "       [[ 0.44776119,  0.15384615],\n",
       "        [ 0.44776119,  0.20979021],\n",
       "        [ 0.44776119,  0.44776119]]])"
      ]
     },
     "execution_count": 583,
     "metadata": {},
     "output_type": "execute_result"
    }
   ],
   "source": [
    "cip2=create_pairs([p[1] for p in same_org])\n",
    "cip2"
   ]
  },
  {
   "cell_type": "code",
   "execution_count": 578,
   "metadata": {
    "collapsed": false
   },
   "outputs": [
    {
     "data": {
      "text/plain": [
       "(array([0, 0, 1]), array([1, 2, 2]))"
      ]
     },
     "execution_count": 578,
     "metadata": {},
     "output_type": "execute_result"
    }
   ],
   "source": [
    "inde"
   ]
  },
  {
   "cell_type": "code",
   "execution_count": 560,
   "metadata": {
    "collapsed": false
   },
   "outputs": [],
   "source": [
    "yy=np.linalg.solve(M[0:6],b.T[0:6])"
   ]
  },
  {
   "cell_type": "code",
   "execution_count": null,
   "metadata": {
    "collapsed": true
   },
   "outputs": [],
   "source": [
    "Mt"
   ]
  },
  {
   "cell_type": "code",
   "execution_count": 1927,
   "metadata": {
    "collapsed": false
   },
   "outputs": [
    {
     "name": "stdout",
     "output_type": "stream",
     "text": [
      "[[ 0.44711538  0.375       0.375     ]\n",
      " [-0.5         0.41935484  0.41935484]\n",
      " [ 0.59615385 -0.5         0.5       ]]\n"
     ]
    }
   ],
   "source": [
    "print np.linalg.pinv(Mt)"
   ]
  },
  {
   "cell_type": "code",
   "execution_count": 1928,
   "metadata": {
    "collapsed": false
   },
   "outputs": [
    {
     "data": {
      "text/plain": [
       "3.8000038116125108"
      ]
     },
     "execution_count": 1928,
     "metadata": {},
     "output_type": "execute_result"
    }
   ],
   "source": [
    "np.linalg.norm(np.linalg.pinv(Mt))*np.linalg.norm(Mt)"
   ]
  },
  {
   "cell_type": "code",
   "execution_count": 497,
   "metadata": {
    "collapsed": false
   },
   "outputs": [
    {
     "data": {
      "text/plain": [
       "(array([0, 0, 0, 0, 0, 1, 1, 1, 1, 2, 2, 2, 3, 3, 4]),\n",
       " array([1, 2, 3, 4, 5, 2, 3, 4, 5, 3, 4, 5, 4, 5, 5]))"
      ]
     },
     "execution_count": 497,
     "metadata": {},
     "output_type": "execute_result"
    }
   ],
   "source": [
    "inde"
   ]
  },
  {
   "cell_type": "code",
   "execution_count": 489,
   "metadata": {
    "collapsed": false
   },
   "outputs": [
    {
     "data": {
      "text/plain": [
       "0.0013999999999999568"
      ]
     },
     "execution_count": 489,
     "metadata": {},
     "output_type": "execute_result"
    }
   ],
   "source": [
    ".43*.63-.55*.49"
   ]
  },
  {
   "cell_type": "code",
   "execution_count": 1892,
   "metadata": {
    "collapsed": false
   },
   "outputs": [
    {
     "name": "stdout",
     "output_type": "stream",
     "text": [
      "36\n",
      "41\n",
      "[208 186 156]\n"
     ]
    }
   ],
   "source": [
    "print D1_snok\n",
    "print C1_snok\n",
    "print tau1_snok"
   ]
  },
  {
   "cell_type": "code",
   "execution_count": 2116,
   "metadata": {
    "collapsed": false
   },
   "outputs": [
    {
     "data": {
      "text/plain": [
       "(8385, 130)"
      ]
     },
     "execution_count": 2116,
     "metadata": {},
     "output_type": "execute_result"
    }
   ],
   "source": [
    "M1.shape"
   ]
  },
  {
   "cell_type": "code",
   "execution_count": 2142,
   "metadata": {
    "collapsed": false
   },
   "outputs": [
    {
     "data": {
      "text/plain": [
       "1404.5085861661685"
      ]
     },
     "execution_count": 2142,
     "metadata": {},
     "output_type": "execute_result"
    }
   ],
   "source": [
    "np.linalg.norm(np.linalg.pinv(Mt))*np.linalg.norm(Mt)"
   ]
  },
  {
   "cell_type": "code",
   "execution_count": 2249,
   "metadata": {
    "collapsed": false
   },
   "outputs": [
    {
     "data": {
      "text/plain": [
       "-2.1995569268971438"
      ]
     },
     "execution_count": 2249,
     "metadata": {},
     "output_type": "execute_result"
    }
   ],
   "source": [
    "Mt=M1;\n",
    "bt=b1;\n",
    "Mt=np.append(Mt,[np.zeros(n)], axis=0);\n",
    "Mt[-1][-1]=1\n",
    "bt=np.append(bt,[0], axis=0);\n",
    "bt[-1]=(np.log2(Ri1[-1])-np.log2(Ki1[-1])-org1[-1][2])\n",
    "#bt[-1]=np.mean(np.log2(np.array(Rip1)[:,0])-np.log2(Kip1[:,0])-np.array(cip1)[:,0])\n",
    "bt[-1]=np.log2(Ri1[-1])-np.log2(Ki1[-1])-cip1[-1][0]\n",
    "bt[-1]=np.log2(Ri1[-1])-np.log2(Ki1[-1])-aa1[-1]\n",
    "#bt[-1]=np.log2(Ahat[-25])\n",
    "bt[-1]"
   ]
  },
  {
   "cell_type": "code",
   "execution_count": 2238,
   "metadata": {
    "collapsed": false
   },
   "outputs": [
    {
     "data": {
      "text/plain": [
       "0.028334480029993895"
      ]
     },
     "execution_count": 2238,
     "metadata": {},
     "output_type": "execute_result"
    }
   ],
   "source": [
    "np.abs(np.abs(np.log2(Ri1[-1])-np.log2(Ki1[-1])-org1[-1][2])-abs(bt[-1]))/np.abs(np.log2(Ri1[-1])-np.log2(Ki1[-1])-org1[-1][2])"
   ]
  },
  {
   "cell_type": "code",
   "execution_count": 2250,
   "metadata": {
    "collapsed": false
   },
   "outputs": [
    {
     "name": "stdout",
     "output_type": "stream",
     "text": [
      "-2.13895086629\n",
      "-2.1995569269\n",
      "-2.20961981998\n",
      "-2.49371103151\n"
     ]
    }
   ],
   "source": [
    "print np.log2(Ri1[-1])-np.log2(Ki1[-1])-org1[-1][2]\n",
    "print np.log2(Ri1[-1])-np.log2(Ki1[-1])-org1[-1][1]\n",
    "print np.log2(Ri1[-1])-np.log2(Ki1[-1])-cip1[-1][0]\n",
    "print np.mean(np.log2(Ri1)-np.log2(Ki1)-np.array(org1)[:,1])"
   ]
  },
  {
   "cell_type": "code",
   "execution_count": 2240,
   "metadata": {
    "collapsed": false
   },
   "outputs": [
    {
     "data": {
      "text/plain": [
       "array([ -1.16284802,  -2.36564177,  -1.05220777,  -2.06773073,\n",
       "        -1.40065404,  -2.35363131,  -2.19614945,  -2.19834727,\n",
       "        -1.24524446,  -1.268311  ,  -2.58907996,  -1.86369207,\n",
       "        -2.528346  ,  -3.51509855,  -1.32066276,  -1.34286054,\n",
       "        -1.12897437,  -2.46103614,  -1.15104639,  -2.88600213,\n",
       "        -5.85454486,  -1.15925912,  -3.12999509,  -5.96039282,\n",
       "        -5.35157626,  -2.25407526,  -6.38042136,  -1.8288698 ,\n",
       "       -11.36096697,  -1.27842116,  -1.33597523,  -2.55897227,\n",
       "        -2.16201715,  -3.76812388,  -3.9967352 ,  -1.89128576,\n",
       "        -5.49146026,  -1.08043689,  -5.23413352,  -1.09399313,\n",
       "        -2.04471817,  -1.11800707,  -1.89593104,  -6.68038374,\n",
       "        -1.82731868,  -2.65336479,  -1.8736463 ,  -1.3686219 ,\n",
       "        -2.27463559,  -1.72188249,  -1.20007855,  -2.209678  ,\n",
       "        -4.04278334,  -1.69677531,  -6.56176623,  -1.36683063,\n",
       "        -4.54535794,  -5.85398543,  -1.91666956,  -1.28482926,\n",
       "        -1.11639461,  -1.38128469,  -2.54008099,  -2.76658941,\n",
       "        -1.30606577,  -4.71095226,  -2.61901063,  -3.94586977,\n",
       "        -1.64000963,  -1.45990086,  -1.67258415,  -1.65386084,\n",
       "        -1.14523177,  -7.97571947,  -2.00201896,  -1.04559378,\n",
       "        -1.12026089,  -2.16672473,  -7.41315113,  -1.69887509,\n",
       "        -1.18862092,  -2.06653383,  -2.62551548,  -1.14610319,\n",
       "        -1.4419606 ,  -2.16089814,  -2.66992554,  -1.83820304,\n",
       "        -1.77585263,  -1.65907649,  -2.03657516,  -4.16494454,\n",
       "        -1.45553937,  -2.10779403,  -1.14774053,  -1.28930364,\n",
       "        -3.3271733 ,  -1.1270362 ,  -3.77862338,  -1.10402682,\n",
       "        -1.42786996,  -1.97062866,  -1.66344927,  -1.17877677,\n",
       "        -2.56996265,  -1.795483  ,  -3.69020494,  -1.08036757,\n",
       "        -3.42759436,  -2.00183228,  -2.84140359,  -2.66140173,\n",
       "        -2.63132235,  -1.96914884,  -2.69033385,  -1.17439767,\n",
       "        -1.87975216,  -3.06192522,  -6.62154389,  -1.21750231,\n",
       "        -1.71125247,  -1.1201544 ,  -1.6952005 ,  -1.78145826,\n",
       "        -3.3121694 ,  -1.23481519,  -1.89756184,  -2.38250239,\n",
       "        -2.39475066,  -2.19955693])"
      ]
     },
     "execution_count": 2240,
     "metadata": {},
     "output_type": "execute_result"
    }
   ],
   "source": [
    "log2Ahat=np.linalg.lstsq(Mt,bt.T)[0]\n",
    "log2Ahat"
   ]
  },
  {
   "cell_type": "code",
   "execution_count": 2241,
   "metadata": {
    "collapsed": false
   },
   "outputs": [
    {
     "ename": "LinAlgError",
     "evalue": "Last 2 dimensions of the array must be square",
     "output_type": "error",
     "traceback": [
      "\u001b[0;31m---------------------------------------------------------------------------\u001b[0m",
      "\u001b[0;31mLinAlgError\u001b[0m                               Traceback (most recent call last)",
      "\u001b[0;32m<ipython-input-2241-e4aa116b1efc>\u001b[0m in \u001b[0;36m<module>\u001b[0;34m()\u001b[0m\n\u001b[0;32m----> 1\u001b[0;31m \u001b[0mlog2Ahat\u001b[0m\u001b[0;34m=\u001b[0m\u001b[0mnp\u001b[0m\u001b[0;34m.\u001b[0m\u001b[0mlinalg\u001b[0m\u001b[0;34m.\u001b[0m\u001b[0msolve\u001b[0m\u001b[0;34m(\u001b[0m\u001b[0mMt\u001b[0m\u001b[0;34m,\u001b[0m\u001b[0mbt\u001b[0m\u001b[0;34m.\u001b[0m\u001b[0mT\u001b[0m\u001b[0;34m)\u001b[0m\u001b[0;34m\u001b[0m\u001b[0m\n\u001b[0m\u001b[1;32m      2\u001b[0m \u001b[0mlog2Ahat\u001b[0m\u001b[0;34m\u001b[0m\u001b[0m\n",
      "\u001b[0;32m/System/Library/Frameworks/Python.framework/Versions/2.7/Extras/lib/python/numpy/linalg/linalg.pyc\u001b[0m in \u001b[0;36msolve\u001b[0;34m(a, b)\u001b[0m\n\u001b[1;32m    353\u001b[0m     \u001b[0ma\u001b[0m\u001b[0;34m,\u001b[0m \u001b[0m_\u001b[0m \u001b[0;34m=\u001b[0m \u001b[0m_makearray\u001b[0m\u001b[0;34m(\u001b[0m\u001b[0ma\u001b[0m\u001b[0;34m)\u001b[0m\u001b[0;34m\u001b[0m\u001b[0m\n\u001b[1;32m    354\u001b[0m     \u001b[0m_assertRankAtLeast2\u001b[0m\u001b[0;34m(\u001b[0m\u001b[0ma\u001b[0m\u001b[0;34m)\u001b[0m\u001b[0;34m\u001b[0m\u001b[0m\n\u001b[0;32m--> 355\u001b[0;31m     \u001b[0m_assertNdSquareness\u001b[0m\u001b[0;34m(\u001b[0m\u001b[0ma\u001b[0m\u001b[0;34m)\u001b[0m\u001b[0;34m\u001b[0m\u001b[0m\n\u001b[0m\u001b[1;32m    356\u001b[0m     \u001b[0mb\u001b[0m\u001b[0;34m,\u001b[0m \u001b[0mwrap\u001b[0m \u001b[0;34m=\u001b[0m \u001b[0m_makearray\u001b[0m\u001b[0;34m(\u001b[0m\u001b[0mb\u001b[0m\u001b[0;34m)\u001b[0m\u001b[0;34m\u001b[0m\u001b[0m\n\u001b[1;32m    357\u001b[0m     \u001b[0mt\u001b[0m\u001b[0;34m,\u001b[0m \u001b[0mresult_t\u001b[0m \u001b[0;34m=\u001b[0m \u001b[0m_commonType\u001b[0m\u001b[0;34m(\u001b[0m\u001b[0ma\u001b[0m\u001b[0;34m,\u001b[0m \u001b[0mb\u001b[0m\u001b[0;34m)\u001b[0m\u001b[0;34m\u001b[0m\u001b[0m\n",
      "\u001b[0;32m/System/Library/Frameworks/Python.framework/Versions/2.7/Extras/lib/python/numpy/linalg/linalg.pyc\u001b[0m in \u001b[0;36m_assertNdSquareness\u001b[0;34m(*arrays)\u001b[0m\n\u001b[1;32m    210\u001b[0m     \u001b[0;32mfor\u001b[0m \u001b[0ma\u001b[0m \u001b[0;32min\u001b[0m \u001b[0marrays\u001b[0m\u001b[0;34m:\u001b[0m\u001b[0;34m\u001b[0m\u001b[0m\n\u001b[1;32m    211\u001b[0m         \u001b[0;32mif\u001b[0m \u001b[0mmax\u001b[0m\u001b[0;34m(\u001b[0m\u001b[0ma\u001b[0m\u001b[0;34m.\u001b[0m\u001b[0mshape\u001b[0m\u001b[0;34m[\u001b[0m\u001b[0;34m-\u001b[0m\u001b[0;36m2\u001b[0m\u001b[0;34m:\u001b[0m\u001b[0;34m]\u001b[0m\u001b[0;34m)\u001b[0m \u001b[0;34m!=\u001b[0m \u001b[0mmin\u001b[0m\u001b[0;34m(\u001b[0m\u001b[0ma\u001b[0m\u001b[0;34m.\u001b[0m\u001b[0mshape\u001b[0m\u001b[0;34m[\u001b[0m\u001b[0;34m-\u001b[0m\u001b[0;36m2\u001b[0m\u001b[0;34m:\u001b[0m\u001b[0;34m]\u001b[0m\u001b[0;34m)\u001b[0m\u001b[0;34m:\u001b[0m\u001b[0;34m\u001b[0m\u001b[0m\n\u001b[0;32m--> 212\u001b[0;31m             \u001b[0;32mraise\u001b[0m \u001b[0mLinAlgError\u001b[0m\u001b[0;34m(\u001b[0m\u001b[0;34m'Last 2 dimensions of the array must be square'\u001b[0m\u001b[0;34m)\u001b[0m\u001b[0;34m\u001b[0m\u001b[0m\n\u001b[0m\u001b[1;32m    213\u001b[0m \u001b[0;34m\u001b[0m\u001b[0m\n\u001b[1;32m    214\u001b[0m \u001b[0;32mdef\u001b[0m \u001b[0m_assertFinite\u001b[0m\u001b[0;34m(\u001b[0m\u001b[0;34m*\u001b[0m\u001b[0marrays\u001b[0m\u001b[0;34m)\u001b[0m\u001b[0;34m:\u001b[0m\u001b[0;34m\u001b[0m\u001b[0m\n",
      "\u001b[0;31mLinAlgError\u001b[0m: Last 2 dimensions of the array must be square"
     ]
    }
   ],
   "source": [
    "log2Ahat=np.linalg.solve(Mt,bt.T)\n",
    "log2Ahat"
   ]
  },
  {
   "cell_type": "code",
   "execution_count": 2242,
   "metadata": {
    "collapsed": false
   },
   "outputs": [],
   "source": [
    "Ahat=2**log2Ahat"
   ]
  },
  {
   "cell_type": "code",
   "execution_count": 2243,
   "metadata": {
    "collapsed": false
   },
   "outputs": [
    {
     "data": {
      "text/plain": [
       "array([  2.22044605e-16,  -4.44089210e-16,   2.22044605e-16,\n",
       "         0.00000000e+00,   0.00000000e+00,   0.00000000e+00,\n",
       "         0.00000000e+00,   0.00000000e+00,  -2.22044605e-16,\n",
       "        -2.22044605e-16,   4.44089210e-16,   0.00000000e+00,\n",
       "         0.00000000e+00,   4.44089210e-16,   2.22044605e-16,\n",
       "         2.22044605e-16,  -2.22044605e-16,   4.44089210e-16,\n",
       "        -2.22044605e-16,   0.00000000e+00,   0.00000000e+00,\n",
       "         0.00000000e+00,   0.00000000e+00,   0.00000000e+00,\n",
       "         0.00000000e+00,   0.00000000e+00,   0.00000000e+00,\n",
       "         2.22044605e-16,  -1.77635684e-15,  -4.44089210e-16,\n",
       "        -2.22044605e-16,   0.00000000e+00,   0.00000000e+00,\n",
       "         0.00000000e+00,   0.00000000e+00,   0.00000000e+00,\n",
       "         0.00000000e+00,   0.00000000e+00,   8.88178420e-16,\n",
       "         2.22044605e-16,   0.00000000e+00,   0.00000000e+00,\n",
       "         0.00000000e+00,   8.88178420e-16,   0.00000000e+00,\n",
       "         0.00000000e+00,  -2.22044605e-16,   0.00000000e+00,\n",
       "         0.00000000e+00,  -2.22044605e-16,   2.22044605e-16,\n",
       "        -4.44089210e-16,   0.00000000e+00,   2.22044605e-16,\n",
       "         0.00000000e+00,  -2.22044605e-16,   0.00000000e+00,\n",
       "         0.00000000e+00,   2.22044605e-16,  -2.22044605e-16,\n",
       "         2.22044605e-16,   0.00000000e+00,   0.00000000e+00,\n",
       "         4.44089210e-16,   0.00000000e+00,   0.00000000e+00,\n",
       "         0.00000000e+00,   4.44089210e-16,  -2.22044605e-16,\n",
       "         0.00000000e+00,   0.00000000e+00,   0.00000000e+00,\n",
       "        -2.22044605e-16,   0.00000000e+00,  -4.44089210e-16,\n",
       "         2.22044605e-16,   4.44089210e-16,   0.00000000e+00,\n",
       "         8.88178420e-16,  -4.44089210e-16,   0.00000000e+00,\n",
       "         0.00000000e+00,   4.44089210e-16,   0.00000000e+00,\n",
       "         0.00000000e+00,   4.44089210e-16,   0.00000000e+00,\n",
       "         2.22044605e-16,  -2.22044605e-16,   2.22044605e-16,\n",
       "        -2.22044605e-16,   0.00000000e+00,   0.00000000e+00,\n",
       "         4.44089210e-16,   0.00000000e+00,   2.22044605e-16,\n",
       "        -4.44089210e-16,   0.00000000e+00,   4.44089210e-16,\n",
       "        -2.22044605e-16,   0.00000000e+00,   0.00000000e+00,\n",
       "         0.00000000e+00,   2.22044605e-16,   0.00000000e+00,\n",
       "         2.22044605e-16,   0.00000000e+00,   2.22044605e-16,\n",
       "         0.00000000e+00,  -2.22044605e-16,   0.00000000e+00,\n",
       "         0.00000000e+00,   4.44089210e-16,   0.00000000e+00,\n",
       "        -4.44089210e-16,   4.44089210e-16,  -2.22044605e-16,\n",
       "         0.00000000e+00,   8.88178420e-16,   4.44089210e-16,\n",
       "        -2.22044605e-16,  -2.22044605e-16,   2.22044605e-16,\n",
       "         4.44089210e-16,  -4.44089210e-16,   0.00000000e+00,\n",
       "        -2.22044605e-16,   0.00000000e+00,   0.00000000e+00,\n",
       "        -4.44089210e-16])"
      ]
     },
     "execution_count": 2243,
     "metadata": {},
     "output_type": "execute_result"
    }
   ],
   "source": [
    "np.abs(np.log2(dd))-np.abs(np.log2(Ri1)-np.log2(Ki1)-np.array(org1)[:,2])"
   ]
  },
  {
   "cell_type": "code",
   "execution_count": 2244,
   "metadata": {
    "collapsed": false
   },
   "outputs": [
    {
     "data": {
      "text/plain": [
       "array([ 0.04029784,  0.02251222,  0.04177576,  0.02684346,  0.0370191 ,\n",
       "        0.01865524,  0.02001975,  0.02044886,  0.05319322,  0.04191309,\n",
       "        0.01989504,  0.03382429,  0.02160757,  0.02029801,  0.05591128,\n",
       "        0.04101712,  0.04758506,  0.01686472,  0.05419266,  0.01857561,\n",
       "        0.01039658,  0.04119999,  0.01494302,  0.01307444,  0.01296462,\n",
       "        0.03346627,  0.00801961,  0.02825297,  0.00602387,  0.04049195,\n",
       "        0.03178215,  0.0163444 ,  0.03342598,  0.01243913,  0.01511827,\n",
       "        0.02301749,  0.00736717,  0.05207202,  0.0084879 ,  0.06828688,\n",
       "        0.02162958,  0.0470625 ,  0.03973955,  0.01050447,  0.027705  ,\n",
       "        0.01854439,  0.03715079,  0.05813051,  0.02919124,  0.03069678,\n",
       "        0.0466386 ,  0.01866401,  0.01723406,  0.02475167,  0.00973938,\n",
       "        0.03574389,  0.01074242,  0.00832103,  0.03899896,  0.05631104,\n",
       "        0.05117272,  0.03570539,  0.0215056 ,  0.02593211,  0.03212416,\n",
       "        0.01455136,  0.0163745 ,  0.01452604,  0.03987853,  0.04303972,\n",
       "        0.02767678,  0.02866251,  0.0558774 ,  0.00701445,  0.02509965,\n",
       "        0.04186705,  0.04001592,  0.01936056,  0.00577337,  0.02971146,\n",
       "        0.04152841,  0.02746931,  0.01579152,  0.04978022,  0.03349191,\n",
       "        0.02128931,  0.0205505 ,  0.03189551,  0.03285951,  0.02620943,\n",
       "        0.02062333,  0.01660449,  0.0394551 ,  0.03036239,  0.0455481 ,\n",
       "        0.0450299 ,  0.01926706,  0.04898674,  0.01091986,  0.07135332,\n",
       "        0.04296679,  0.03600855,  0.02745171,  0.03973166,  0.01843175,\n",
       "        0.0245971 ,  0.01219072,  0.06099823,  0.01983579,  0.03181706,\n",
       "        0.02452866,  0.01653483,  0.01936992,  0.02278081,  0.01515397,\n",
       "        0.04994576,  0.02704823,  0.02195811,  0.01059881,  0.04781248,\n",
       "        0.03648731,  0.04131638,  0.02456886,  0.03782941,  0.0149478 ,\n",
       "        0.06643372,  0.03068723,  0.02176975,  0.02697124,  0.02833448])"
      ]
     },
     "execution_count": 2244,
     "metadata": {},
     "output_type": "execute_result"
    }
   ],
   "source": [
    "np.abs(np.abs(np.log2(Ri1)-np.log2(Ki1)-np.array(org1)[:,2])-abs(np.log2(Ahat)))/np.abs(np.log2(Ri1)-np.log2(Ki1)-np.array(org1)[:,2])"
   ]
  },
  {
   "cell_type": "code",
   "execution_count": 2245,
   "metadata": {
    "collapsed": false
   },
   "outputs": [
    {
     "name": "stdout",
     "output_type": "stream",
     "text": [
      "[ 0.03074045  0.03545753  0.02882317  0.0367742   0.03406367  0.02943513\n",
      "  0.02943513  0.03007363  0.0426576   0.03474663  0.03440176  0.04138436\n",
      "  0.03638813  0.04731582  0.04731582  0.03601009  0.03492167  0.02789526\n",
      "  0.04018491  0.035824    0.04089609  0.03129557  0.0314375   0.05192249\n",
      "  0.04636648  0.04933609  0.03457334  0.03423188  0.04605844  0.03389711\n",
      "  0.02812159  0.02812159  0.04731582  0.03158072  0.0404192   0.02906487\n",
      "  0.02745335  0.03638813  0.03007363  0.04731582  0.02956065  0.03423188\n",
      "  0.04898748  0.04699509  0.03356881  0.03293094  0.04545448  0.05078156\n",
      "  0.04373401  0.03492167  0.03638813  0.02767254  0.04636648  0.02800797\n",
      "  0.0429217   0.0321669   0.03293094  0.03293094  0.04864377  0.04636648\n",
      "  0.03697032  0.03246822  0.03638813  0.04731582  0.02778345  0.04575447\n",
      "  0.02882317  0.03840398  0.0426576   0.04089609  0.03074045  0.0314375\n",
      "  0.04113877  0.03777616  0.03340704  0.02870382  0.02943513  0.02812159\n",
      "  0.02906487  0.03340704  0.03231686  0.03757143  0.02789526  0.03697032\n",
      "  0.03187112  0.03074045  0.03658015  0.03861792  0.03840398  0.02894352\n",
      "  0.02812159  0.04605844  0.03757143  0.04213901  0.03406367  0.03777616\n",
      "  0.0426576   0.035824    0.02789526  0.04968969  0.03995331  0.04636648\n",
      "  0.03033686  0.03074045  0.03172525  0.02943513  0.03033686  0.04213901\n",
      "  0.0451584   0.04188442  0.04605844  0.02956065  0.03406367  0.02994372\n",
      "  0.02745335  0.03798314  0.03373216  0.04457765  0.04699509  0.03777616\n",
      "  0.04089609  0.03033686  0.02778345  0.04401165  0.03324682  0.05192249\n",
      "  0.03840398  0.03457334  0.0426576   0.04113877]\n",
      "[  4.46629972e-01   1.94030887e-01   4.82229639e-01   2.38534405e-01\n",
      "   3.78757396e-01   1.95652940e-01   2.18219292e-01   2.17887105e-01\n",
      "   4.21836412e-01   4.15145509e-01   1.66191677e-01   2.74772197e-01\n",
      "   1.73337295e-01   8.74681416e-02   4.00350979e-01   3.94238195e-01\n",
      "   4.57240667e-01   1.81616082e-01   4.50298509e-01   1.35277881e-01\n",
      "   1.72824929e-02   4.47742408e-01   1.14229320e-01   1.60599051e-02\n",
      "   2.44914796e-02   2.09631111e-01   1.20033311e-02   2.81485048e-01\n",
      "   3.80196541e-04   4.12246411e-01   3.96124206e-01   1.69696384e-01\n",
      "   2.23443634e-01   7.33975706e-02   6.26415970e-02   2.69566709e-01\n",
      "   2.22282740e-02   4.72885599e-01   2.65686085e-02   4.68462953e-01\n",
      "   2.42369796e-01   4.60729835e-01   2.68700137e-01   9.74998866e-03\n",
      "   2.81787851e-01   1.58948930e-01   2.72882862e-01   3.87260994e-01\n",
      "   2.06664774e-01   3.03152897e-01   4.35251584e-01   2.16182552e-01\n",
      "   6.06737655e-02   3.08474831e-01   1.05855040e-02   3.87742120e-01\n",
      "   4.28263358e-02   1.72891958e-02   2.64865242e-01   4.10419375e-01\n",
      "   4.61245067e-01   3.83876810e-01   1.71933075e-01   1.46951358e-01\n",
      "   4.04422237e-01   3.81822980e-02   1.62779324e-01   6.48895617e-02\n",
      "   3.20854333e-01   3.63518109e-01   3.13690958e-01   3.17788575e-01\n",
      "   4.52117052e-01   3.97254844e-03   2.49650386e-01   4.84445482e-01\n",
      "   4.60010632e-01   2.22715716e-01   5.86704135e-03   3.08026187e-01\n",
      "   4.38722036e-01   2.38732382e-01   1.62047034e-01   4.51844044e-01\n",
      "   3.68066768e-01   2.23617013e-01   1.57134782e-01   2.79669913e-01\n",
      "   2.92021677e-01   3.16641774e-01   2.43741674e-01   5.57476753e-02\n",
      "   3.64618742e-01   2.32001490e-01   4.51331529e-01   4.09148470e-01\n",
      "   9.96370899e-02   4.57855353e-01   7.28653443e-02   4.65216180e-01\n",
      "   3.71679246e-01   2.55141829e-01   3.15683494e-01   4.41725869e-01\n",
      "   1.68408557e-01   2.88075126e-01   7.74707255e-02   4.72908320e-01\n",
      "   9.29375638e-02   2.49682692e-01   1.39525083e-01   1.58065922e-01\n",
      "   1.61396104e-01   2.55403669e-01   1.54927608e-01   4.43068703e-01\n",
      "   2.71730393e-01   1.19748109e-01   1.01558592e-02   4.30026564e-01\n",
      "   3.05394826e-01   4.60044588e-01   3.08811738e-01   2.90889220e-01\n",
      "   1.00678714e-01   4.24896926e-01   2.68396574e-01   1.91776468e-01\n",
      "   1.90155206e-01   2.17704491e-01]\n"
     ]
    }
   ],
   "source": [
    "dd=np.array([p[3] for p in org1])\n",
    "#aun=np.array(Ahat)/(np.mean(Ahat)/np.mean(dd));\n",
    "#aun=np.array(Ahat)/(Ahat[0]/dd[0]);\n",
    "print np.abs((dd-Ahat)/dd)\n",
    "print Ahat"
   ]
  },
  {
   "cell_type": "code",
   "execution_count": 2246,
   "metadata": {
    "collapsed": false
   },
   "outputs": [
    {
     "data": {
      "text/plain": [
       "array([ -1.11780298,  -2.31355844,  -1.01001368,  -2.01367667,\n",
       "        -1.35065404,  -2.31052786,  -2.153046  ,  -2.15429441,\n",
       "        -1.18235138,  -1.2172906 ,  -2.53857491,  -1.80271646,\n",
       "        -2.47487007,  -3.44516848,  -1.25073269,  -1.28995049,\n",
       "        -1.07769232,  -2.42021981,  -1.0918748 ,  -2.83337055,\n",
       "        -5.79430389,  -1.11338756,  -3.08391214,  -5.88346975,\n",
       "        -5.28308311,  -2.18108256,  -6.32965994,  -1.77861855,\n",
       "       -11.29293976,  -1.22866992,  -1.29482297,  -2.51782001,\n",
       "        -2.09208708,  -3.72182758,  -3.93721139,  -1.84873257,\n",
       "        -5.45129962,  -1.02696095,  -5.19008066,  -1.02406306,\n",
       "        -2.00142813,  -1.06775581,  -1.82346727,  -6.6109393 ,\n",
       "        -1.7780576 ,  -2.60505561,  -1.80653221,  -1.29343393,\n",
       "        -2.21011946,  -1.67060043,  -1.14660261,  -2.16919217,\n",
       "        -3.97429019,  -1.65579171,  -6.49847509,  -1.31966082,\n",
       "        -4.49704876,  -5.80567625,  -1.84472712,  -1.21633611,\n",
       "        -1.06204679,  -1.33366564,  -2.48660506,  -2.69665934,\n",
       "        -1.26541536,  -4.64338469,  -2.57681654,  -3.88937259,\n",
       "        -1.57711655,  -1.3996599 ,  -1.6275391 ,  -1.60777789,\n",
       "        -1.0846257 ,  -7.92016392,  -1.95299935,  -1.00357697,\n",
       "        -1.07715744,  -2.12557247,  -7.37059793,  -1.64985548,\n",
       "        -1.14122756,  -2.01128521,  -2.58469915,  -1.09175536,\n",
       "        -1.39523162,  -2.1158531 ,  -2.6161621 ,  -1.78138486,\n",
       "        -1.71935545,  -1.61670361,  -1.9954229 ,  -4.09691733,\n",
       "        -1.40029076,  -2.04568222,  -1.09774053,  -1.23374808,\n",
       "        -3.26428022,  -1.07440463,  -3.73780705,  -1.03049741,\n",
       "        -1.36904643,  -1.90213551,  -1.61900482,  -1.13373173,\n",
       "        -2.52345102,  -1.75237955,  -3.6457605 ,  -1.01825577,\n",
       "        -3.3609277 ,  -1.94010388,  -2.77337638,  -2.61811168,\n",
       "        -2.58132235,  -1.92528919,  -2.6501732 ,  -1.11853175,\n",
       "        -1.83024721,  -2.99613575,  -6.55209944,  -1.16194676,\n",
       "        -1.65101151,  -1.07570995,  -1.6545501 ,  -1.7165232 ,\n",
       "        -3.26338891,  -1.15789211,  -1.84106467,  -2.33174097,\n",
       "        -2.33185757,  -2.13895087])"
      ]
     },
     "execution_count": 2246,
     "metadata": {},
     "output_type": "execute_result"
    }
   ],
   "source": [
    "np.log2(dd)"
   ]
  },
  {
   "cell_type": "code",
   "execution_count": 2247,
   "metadata": {
    "collapsed": false
   },
   "outputs": [
    {
     "data": {
      "text/plain": [
       "array([ 0.29411765,  0.29411765,  0.29411765,  0.29411765,  0.29411765,\n",
       "        0.29411765,  0.29411765,  0.29411765,  0.29411765,  0.29411765,\n",
       "        0.29411765,  0.29411765,  0.29411765,  0.29411765,  0.29411765,\n",
       "        0.29411765,  0.29411765,  0.29411765,  0.29411765,  0.29411765,\n",
       "        0.29411765,  0.29411765,  0.29411765,  0.29411765,  0.29411765,\n",
       "        0.29411765,  0.29411765,  0.29411765,  0.29411765,  0.29411765,\n",
       "        0.29411765,  0.29411765,  0.29411765,  0.29411765,  0.29411765,\n",
       "        0.29411765,  0.29411765,  0.29411765,  0.29411765,  0.29411765,\n",
       "        0.29411765,  0.29411765,  0.29411765,  0.29411765,  0.29411765,\n",
       "        0.29411765,  0.29411765,  0.29411765,  0.29411765,  0.29411765,\n",
       "        0.29411765,  0.29411765,  0.29411765,  0.29411765,  0.29411765,\n",
       "        0.29411765,  0.29411765,  0.29411765,  0.29411765,  0.29411765,\n",
       "        0.29411765,  0.29411765,  0.29411765,  0.29411765,  0.29411765,\n",
       "        0.29411765,  0.29411765,  0.29411765,  0.29411765,  0.29411765,\n",
       "        0.29411765,  0.29411765,  0.29411765,  0.29411765,  0.29411765,\n",
       "        0.29411765,  0.29411765,  0.29411765,  0.29411765,  0.29411765,\n",
       "        0.29411765,  0.29411765,  0.29411765,  0.29411765,  0.29411765,\n",
       "        0.29411765,  0.29411765,  0.29411765,  0.29411765,  0.29411765,\n",
       "        0.29411765,  0.29411765,  0.29411765,  0.29411765,  0.29411765,\n",
       "        0.29411765,  0.29411765,  0.29411765,  0.29411765,  0.29411765,\n",
       "        0.29411765,  0.29411765,  0.29411765,  0.29411765,  0.29411765,\n",
       "        0.29411765,  0.29411765,  0.29411765,  0.29411765,  0.29411765,\n",
       "        0.29411765,  0.29411765,  0.29411765,  0.29411765,  0.29411765,\n",
       "        0.29411765,  0.29411765,  0.29411765,  0.29411765,  0.29411765,\n",
       "        0.29411765,  0.29411765,  0.29411765,  0.29411765,  0.29411765,\n",
       "        0.29411765,  0.29411765,  0.29411765,  0.29411765,  0.29411765])"
      ]
     },
     "execution_count": 2247,
     "metadata": {},
     "output_type": "execute_result"
    }
   ],
   "source": [
    "aa=np.array(org1)[:,2];\n",
    "np.abs(aa-np.abs(np.log2(Ri1)-np.log2(Ki1)-np.log2(Ahat)))/aa"
   ]
  },
  {
   "cell_type": "code",
   "execution_count": 2251,
   "metadata": {
    "collapsed": false
   },
   "outputs": [],
   "source": [
    "aa1=(np.log2(Ri1)-np.log2(Ki1)-np.log2(Ahat))"
   ]
  },
  {
   "cell_type": "code",
   "execution_count": 2252,
   "metadata": {
    "collapsed": true
   },
   "outputs": [],
   "source": [
    "aa2=(np.log2(Ri1)-np.log2(Ki1)-np.log2(Ahat))"
   ]
  },
  {
   "cell_type": "code",
   "execution_count": 2254,
   "metadata": {
    "collapsed": false
   },
   "outputs": [
    {
     "name": "stdout",
     "output_type": "stream",
     "text": [
      "[ 1.  1.  1.  1.  1.  1.  1.  1.  1.  1.  1.  1.  1.  1.  1.  1.  1.  1.\n",
      "  1.  1.  1.  1.  1.  1.  1.  1.  1.  1.  1.  1.  1.  1.  1.  1.  1.  1.\n",
      "  1.  1.  1.  1.  1.  1.  1.  1.  1.  1.  1.  1.  1.  1.  1.  1.  1.  1.\n",
      "  1.  1.  1.  1.  1.  1.  1.  1.  1.  1.  1.  1.  1.  1.  1.  1.  1.  1.\n",
      "  1.  1.  1.  1.  1.  1.  1.  1.  1.  1.  1.  1.  1.  1.  1.  1.  1.  1.\n",
      "  1.  1.  1.  1.  1.  1.  1.  1.  1.  1.  1.  1.  1.  1.  1.  1.  1.  1.\n",
      "  1.  1.  1.  1.  1.  1.  1.  1.  1.  1.  1.  1.  1.  1.  1.  1.  1.  1.\n",
      "  1.  1.  1.  1.]\n"
     ]
    }
   ],
   "source": [
    "k1=aa1/np.array(org1)[:,1]\n",
    "k2=aa2/np.array(org1)[:,1]\n",
    "print k1"
   ]
  },
  {
   "cell_type": "code",
   "execution_count": null,
   "metadata": {
    "collapsed": true
   },
   "outputs": [],
   "source": []
  },
  {
   "cell_type": "code",
   "execution_count": 2100,
   "metadata": {
    "collapsed": false
   },
   "outputs": [
    {
     "data": {
      "text/plain": [
       "array([ 1.05583756,  1.05583756,  1.05583756,  1.05583756,  1.05583756,\n",
       "        1.05583756,  1.05583756,  1.05583756,  1.05583756,  1.05583756,\n",
       "        1.05583756,  1.05583756,  1.05583756,  1.05583756,  1.05583756,\n",
       "        1.05583756,  1.05583756,  1.05583756,  1.05583756,  1.05583756,\n",
       "        1.05583756,  1.05583756,  1.05583756,  1.05583756,  1.05583756,\n",
       "        1.05583756,  1.05583756,  1.05583756,  1.05583756,  1.05583756,\n",
       "        1.05583756,  1.05583756,  1.05583756,  1.05583756,  1.05583756,\n",
       "        1.05583756,  1.05583756,  1.05583756,  1.05583756,  1.05583756,\n",
       "        1.05583756,  1.05583756,  1.05583756,  1.05583756,  1.05583756,\n",
       "        1.05583756,  1.05583756,  1.05583756,  1.05583756,  1.05583756,\n",
       "        1.05583756,  1.05583756,  1.05583756,  1.05583756,  1.05583756,\n",
       "        1.05583756,  1.05583756,  1.05583756,  1.05583756,  1.05583756,\n",
       "        1.05583756,  1.05583756,  1.05583756,  1.05583756,  1.05583756,\n",
       "        1.05583756,  1.05583756,  1.05583756,  1.05583756,  1.05583756,\n",
       "        1.05583756,  1.05583756,  1.05583756,  1.05583756,  1.05583756,\n",
       "        1.05583756,  1.05583756,  1.05583756,  1.05583756,  1.05583756,\n",
       "        1.05583756,  1.05583756,  1.05583756,  1.05583756,  1.05583756,\n",
       "        1.05583756,  1.05583756,  1.05583756,  1.05583756,  1.05583756,\n",
       "        1.05583756,  1.05583756,  1.05583756,  1.05583756,  1.05583756,\n",
       "        1.05583756,  1.05583756,  1.05583756,  1.05583756,  1.05583756,\n",
       "        1.05583756,  1.05583756,  1.05583756,  1.05583756,  1.05583756,\n",
       "        1.05583756,  1.05583756,  1.05583756,  1.05583756,  1.05583756,\n",
       "        1.05583756,  1.05583756,  1.05583756,  1.05583756,  1.05583756,\n",
       "        1.05583756,  1.05583756,  1.05583756,  1.05583756,  1.05583756,\n",
       "        1.05583756,  1.05583756,  1.05583756,  1.05583756,  1.05583756,\n",
       "        1.05583756,  1.05583756,  1.05583756,  1.05583756,  1.05583756])"
      ]
     },
     "execution_count": 2100,
     "metadata": {},
     "output_type": "execute_result"
    }
   ],
   "source": [
    "aa1/aa2"
   ]
  },
  {
   "cell_type": "code",
   "execution_count": 2092,
   "metadata": {
    "collapsed": false
   },
   "outputs": [
    {
     "data": {
      "text/plain": [
       "array([ 1.05583756,  1.05583756,  1.05583756,  1.05583756,  1.05583756,\n",
       "        1.05583756,  1.05583756,  1.05583756,  1.05583756,  1.05583756,\n",
       "        1.05583756,  1.05583756,  1.05583756,  1.05583756,  1.05583756,\n",
       "        1.05583756,  1.05583756,  1.05583756,  1.05583756,  1.05583756,\n",
       "        1.05583756,  1.05583756,  1.05583756,  1.05583756,  1.05583756,\n",
       "        1.05583756,  1.05583756,  1.05583756,  1.05583756,  1.05583756,\n",
       "        1.05583756,  1.05583756,  1.05583756,  1.05583756,  1.05583756,\n",
       "        1.05583756,  1.05583756,  1.05583756,  1.05583756,  1.05583756,\n",
       "        1.05583756,  1.05583756,  1.05583756,  1.05583756,  1.05583756,\n",
       "        1.05583756,  1.05583756,  1.05583756,  1.05583756,  1.05583756,\n",
       "        1.05583756,  1.05583756,  1.05583756,  1.05583756,  1.05583756,\n",
       "        1.05583756,  1.05583756,  1.05583756,  1.05583756,  1.05583756,\n",
       "        1.05583756,  1.05583756,  1.05583756,  1.05583756,  1.05583756,\n",
       "        1.05583756,  1.05583756,  1.05583756,  1.05583756,  1.05583756,\n",
       "        1.05583756,  1.05583756,  1.05583756,  1.05583756,  1.05583756,\n",
       "        1.05583756,  1.05583756,  1.05583756,  1.05583756,  1.05583756,\n",
       "        1.05583756,  1.05583756,  1.05583756,  1.05583756,  1.05583756,\n",
       "        1.05583756,  1.05583756,  1.05583756,  1.05583756,  1.05583756,\n",
       "        1.05583756,  1.05583756,  1.05583756,  1.05583756,  1.05583756,\n",
       "        1.05583756,  1.05583756,  1.05583756,  1.05583756,  1.05583756,\n",
       "        1.05583756,  1.05583756,  1.05583756,  1.05583756,  1.05583756,\n",
       "        1.05583756,  1.05583756,  1.05583756,  1.05583756,  1.05583756,\n",
       "        1.05583756,  1.05583756,  1.05583756,  1.05583756,  1.05583756,\n",
       "        1.05583756,  1.05583756,  1.05583756,  1.05583756,  1.05583756,\n",
       "        1.05583756,  1.05583756,  1.05583756,  1.05583756,  1.05583756,\n",
       "        1.05583756,  1.05583756,  1.05583756,  1.05583756,  1.05583756])"
      ]
     },
     "execution_count": 2092,
     "metadata": {},
     "output_type": "execute_result"
    }
   ],
   "source": [
    "(np.log2(Ri1)-np.log2(Ki1)-np.log2(Ahat))/np.array(org1)[:,1]"
   ]
  },
  {
   "cell_type": "code",
   "execution_count": 2078,
   "metadata": {
    "collapsed": false
   },
   "outputs": [
    {
     "data": {
      "text/plain": [
       "0.5660377358490566"
      ]
     },
     "execution_count": 2078,
     "metadata": {},
     "output_type": "execute_result"
    }
   ],
   "source": [
    "D1_snok/float(C1_snok)"
   ]
  },
  {
   "cell_type": "code",
   "execution_count": null,
   "metadata": {
    "collapsed": true
   },
   "outputs": [],
   "source": []
  },
  {
   "cell_type": "code",
   "execution_count": 2107,
   "metadata": {
    "collapsed": false
   },
   "outputs": [
    {
     "data": {
      "text/plain": [
       "array([ 0.0783879,  0.0783879,  0.0783879,  0.0783879,  0.0783879,\n",
       "        0.0783879,  0.0783879,  0.0783879,  0.0783879,  0.0783879,\n",
       "        0.0783879,  0.0783879,  0.0783879,  0.0783879,  0.0783879,\n",
       "        0.0783879,  0.0783879,  0.0783879,  0.0783879,  0.0783879,\n",
       "        0.0783879,  0.0783879,  0.0783879,  0.0783879,  0.0783879,\n",
       "        0.0783879,  0.0783879,  0.0783879,  0.0783879,  0.0783879,\n",
       "        0.0783879,  0.0783879,  0.0783879,  0.0783879,  0.0783879,\n",
       "        0.0783879,  0.0783879,  0.0783879,  0.0783879,  0.0783879,\n",
       "        0.0783879,  0.0783879,  0.0783879,  0.0783879,  0.0783879,\n",
       "        0.0783879,  0.0783879,  0.0783879,  0.0783879,  0.0783879,\n",
       "        0.0783879,  0.0783879,  0.0783879,  0.0783879,  0.0783879,\n",
       "        0.0783879,  0.0783879,  0.0783879,  0.0783879,  0.0783879,\n",
       "        0.0783879,  0.0783879,  0.0783879,  0.0783879,  0.0783879,\n",
       "        0.0783879,  0.0783879,  0.0783879,  0.0783879,  0.0783879,\n",
       "        0.0783879,  0.0783879,  0.0783879,  0.0783879,  0.0783879,\n",
       "        0.0783879,  0.0783879,  0.0783879,  0.0783879,  0.0783879,\n",
       "        0.0783879,  0.0783879,  0.0783879,  0.0783879,  0.0783879,\n",
       "        0.0783879,  0.0783879,  0.0783879,  0.0783879,  0.0783879,\n",
       "        0.0783879,  0.0783879,  0.0783879,  0.0783879,  0.0783879,\n",
       "        0.0783879,  0.0783879,  0.0783879,  0.0783879,  0.0783879,\n",
       "        0.0783879,  0.0783879,  0.0783879,  0.0783879,  0.0783879,\n",
       "        0.0783879,  0.0783879,  0.0783879,  0.0783879,  0.0783879,\n",
       "        0.0783879,  0.0783879,  0.0783879,  0.0783879,  0.0783879,\n",
       "        0.0783879,  0.0783879,  0.0783879,  0.0783879,  0.0783879,\n",
       "        0.0783879,  0.0783879,  0.0783879,  0.0783879,  0.0783879,\n",
       "        0.0783879,  0.0783879,  0.0783879,  0.0783879,  0.0783879])"
      ]
     },
     "execution_count": 2107,
     "metadata": {},
     "output_type": "execute_result"
    }
   ],
   "source": [
    "np.log2(aa1/(np.array(org1)[:,1]))-np.log2(aa2/(np.array(org1)[:,1]))"
   ]
  },
  {
   "cell_type": "code",
   "execution_count": 2102,
   "metadata": {
    "collapsed": false
   },
   "outputs": [
    {
     "data": {
      "text/plain": [
       "array([ 1.00000006,  1.00000006,  1.00000006,  1.00000006,  1.00000006,\n",
       "        1.00000006,  1.00000006,  1.00000006,  1.00000006,  1.00000006,\n",
       "        1.00000006,  1.00000006,  1.00000006,  1.00000006,  1.00000006,\n",
       "        1.00000006,  1.00000006,  1.00000006,  1.00000006,  1.00000006,\n",
       "        1.00000006,  1.00000006,  1.00000006,  1.00000006,  1.00000006,\n",
       "        1.00000006,  1.00000006,  1.00000006,  1.00000006,  1.00000006,\n",
       "        1.00000006,  1.00000006,  1.00000006,  1.00000006,  1.00000006,\n",
       "        1.00000006,  1.00000006,  1.00000006,  1.00000006,  1.00000006,\n",
       "        1.00000006,  1.00000006,  1.00000006,  1.00000006,  1.00000006,\n",
       "        1.00000006,  1.00000006,  1.00000006,  1.00000006,  1.00000006,\n",
       "        1.00000006,  1.00000006,  1.00000006,  1.00000006,  1.00000006,\n",
       "        1.00000006,  1.00000006,  1.00000006,  1.00000006,  1.00000006,\n",
       "        1.00000006,  1.00000006,  1.00000006,  1.00000006,  1.00000006,\n",
       "        1.00000006,  1.00000006,  1.00000006,  1.00000006,  1.00000006,\n",
       "        1.00000006,  1.00000006,  1.00000006,  1.00000006,  1.00000006,\n",
       "        1.00000006,  1.00000006,  1.00000006,  1.00000006,  1.00000006,\n",
       "        1.00000006,  1.00000006,  1.00000006,  1.00000006,  1.00000006,\n",
       "        1.00000006,  1.00000006,  1.00000006,  1.00000006,  1.00000006,\n",
       "        1.00000006,  1.00000006,  1.00000006,  1.00000006,  1.00000006,\n",
       "        1.00000006,  1.00000006,  1.00000006,  1.00000006,  1.00000006,\n",
       "        1.00000006,  1.00000006,  1.00000006,  1.00000006,  1.00000006,\n",
       "        1.00000006,  1.00000006,  1.00000006,  1.00000006,  1.00000006,\n",
       "        1.00000006,  1.00000006,  1.00000006,  1.00000006,  1.00000006,\n",
       "        1.00000006,  1.00000006,  1.00000006,  1.00000006,  1.00000006,\n",
       "        1.00000006,  1.00000006,  1.00000006,  1.00000006,  1.00000006,\n",
       "        1.00000006,  1.00000006,  1.00000006,  1.00000006,  1.00000006])"
      ]
     },
     "execution_count": 2102,
     "metadata": {},
     "output_type": "execute_result"
    }
   ],
   "source": [
    "((aa1-aa2)/(np.array(org1)[:,1]))/()"
   ]
  },
  {
   "cell_type": "code",
   "execution_count": 2043,
   "metadata": {
    "collapsed": false
   },
   "outputs": [
    {
     "data": {
      "text/plain": [
       "array([ 0.27155172,  0.19364754,  0.21283784,  0.22079439,  0.29166667,\n",
       "        0.30681818,  0.19207317,  0.24230769,  0.19769874,  0.21774194,\n",
       "        0.2473822 ,  0.19052419,  0.3375    ,  0.22183099,  0.31711409,\n",
       "        0.31711409,  0.27155172,  0.32586207,  0.2027897 ,  0.28810976,\n",
       "        0.20366379,  0.20723684,  0.23275862,  0.21188341,  0.30288462,\n",
       "        0.328125  ,  0.20633188,  0.28810976,  0.25132979,  0.25      ])"
      ]
     },
     "execution_count": 2043,
     "metadata": {},
     "output_type": "execute_result"
    }
   ],
   "source": [
    "np.log2(Ri1)-np.log2(Ki1)-np.log2(Ahat)"
   ]
  },
  {
   "cell_type": "code",
   "execution_count": 2044,
   "metadata": {
    "collapsed": false
   },
   "outputs": [
    {
     "data": {
      "text/plain": [
       "array([ 0.1954023 ,  0.13934426,  0.15315315,  0.1588785 ,  0.20987654,\n",
       "        0.22077922,  0.13821138,  0.17435897,  0.14225941,  0.15668203,\n",
       "        0.17801047,  0.13709677,  0.24285714,  0.15962441,  0.22818792,\n",
       "        0.22818792,  0.1954023 ,  0.23448276,  0.14592275,  0.20731707,\n",
       "        0.14655172,  0.14912281,  0.16748768,  0.15246637,  0.21794872,\n",
       "        0.23611111,  0.14847162,  0.20731707,  0.18085106,  0.17989418])"
      ]
     },
     "execution_count": 2044,
     "metadata": {},
     "output_type": "execute_result"
    }
   ],
   "source": [
    "np.array(org1)[:,2]"
   ]
  },
  {
   "cell_type": "code",
   "execution_count": 170,
   "metadata": {
    "collapsed": true
   },
   "outputs": [],
   "source": [
    "def null(a, rtol=1e-5):\n",
    "    u, s, v = np.linalg.svd(a)\n",
    "    rank = (s > rtol*s[0]).sum()\n",
    "    return rank, v[rank:].T.copy()"
   ]
  },
  {
   "cell_type": "code",
   "execution_count": 594,
   "metadata": {
    "collapsed": true
   },
   "outputs": [],
   "source": [
    "def create_pairs(arr):\n",
    "    l=len(arr)\n",
    "    arr=cartesian([arr,arr]).reshape((l,l,2))\n",
    "    inde=np.triu_indices(l,k=1)\n",
    "    return arr[inde]"
   ]
  },
  {
   "cell_type": "code",
   "execution_count": 74,
   "metadata": {
    "collapsed": false
   },
   "outputs": [],
   "source": [
    "l1=[x.l for x in c.pop.values()]/np.mean([x.l for x in c.pop.values()])"
   ]
  },
  {
   "cell_type": "code",
   "execution_count": 75,
   "metadata": {
    "collapsed": true
   },
   "outputs": [],
   "source": [
    "arr1=cartesian([[x.C for x in c.pop.values()],[x.C for x in c.pop.values()]])\n",
    "arr1=arr1.reshape((len(sel[0]),len(sel[0]),2))\n",
    "arrC=arr1[inde]"
   ]
  },
  {
   "cell_type": "code",
   "execution_count": 160,
   "metadata": {
    "collapsed": true
   },
   "outputs": [],
   "source": [
    "def A_snok(R,K,l,cik):\n",
    "    return ((K[1]*l[1])/float(R[1]))*(R[0]/(float(K[0])*l[0]))**(cik[1]/float(cik[0]))"
   ]
  },
  {
   "cell_type": "code",
   "execution_count": 212,
   "metadata": {
    "collapsed": false
   },
   "outputs": [
    {
     "data": {
      "text/plain": [
       "1.0"
      ]
     },
     "execution_count": 212,
     "metadata": {},
     "output_type": "execute_result"
    }
   ],
   "source": [
    "1**.2"
   ]
  },
  {
   "cell_type": "code",
   "execution_count": 68,
   "metadata": {
    "collapsed": false
   },
   "outputs": [
    {
     "name": "stdout",
     "output_type": "stream",
     "text": [
      "['NC_009614.1', 'NC_002655.2', 'NC_000913.3']\n",
      "[ 0.43919776  0.40942012  0.15138212]\n"
     ]
    }
   ],
   "source": [
    "print c.pop.keys()\n",
    "print c.distribution"
   ]
  },
  {
   "cell_type": "code",
   "execution_count": 21,
   "metadata": {
    "collapsed": false
   },
   "outputs": [],
   "source": [
    "c=Community('comm0',[acc[s] for s in sel[0]],[growth_param[s] for s in sel[0]],td,'bowtie2')"
   ]
  },
  {
   "cell_type": "code",
   "execution_count": 708,
   "metadata": {
    "collapsed": true
   },
   "outputs": [],
   "source": [
    "c.write_reads()"
   ]
  },
  {
   "cell_type": "code",
   "execution_count": 731,
   "metadata": {
    "collapsed": false
   },
   "outputs": [
    {
     "ename": "NameError",
     "evalue": "global name 'parser_c' is not defined",
     "output_type": "error",
     "traceback": [
      "\u001b[0;31m---------------------------------------------------------------------------\u001b[0m",
      "\u001b[0;31mNameError\u001b[0m                                 Traceback (most recent call last)",
      "\u001b[0;32m<ipython-input-731-b901a14963f9>\u001b[0m in \u001b[0;36m<module>\u001b[0;34m()\u001b[0m\n\u001b[0;32m----> 1\u001b[0;31m \u001b[0mc\u001b[0m\u001b[0;34m.\u001b[0m\u001b[0mcollect\u001b[0m\u001b[0;34m(\u001b[0m\u001b[0;34m)\u001b[0m\u001b[0;34m\u001b[0m\u001b[0m\n\u001b[0m",
      "\u001b[0;32m<ipython-input-712-2a9bc4d0021b>\u001b[0m in \u001b[0;36mcollect\u001b[0;34m(self)\u001b[0m\n\u001b[1;32m    112\u001b[0m     \u001b[0;32mdef\u001b[0m \u001b[0mcollect\u001b[0m\u001b[0;34m(\u001b[0m\u001b[0mself\u001b[0m\u001b[0;34m)\u001b[0m\u001b[0;34m:\u001b[0m\u001b[0;34m\u001b[0m\u001b[0m\n\u001b[1;32m    113\u001b[0m         \u001b[0margs\u001b[0m\u001b[0;34m=\u001b[0m\u001b[0mptr_pipeline\u001b[0m\u001b[0;34m.\u001b[0m\u001b[0mparse_args\u001b[0m\u001b[0;34m(\u001b[0m\u001b[0;34m[\u001b[0m\u001b[0;34m'collect'\u001b[0m\u001b[0;34m]\u001b[0m\u001b[0;34m)\u001b[0m\u001b[0;34m\u001b[0m\u001b[0m\n\u001b[0;32m--> 114\u001b[0;31m         \u001b[0mptr_pipeline\u001b[0m\u001b[0;34m.\u001b[0m\u001b[0mmain\u001b[0m\u001b[0;34m(\u001b[0m\u001b[0margs\u001b[0m\u001b[0;34m,\u001b[0m\u001b[0mself\u001b[0m\u001b[0;34m.\u001b[0m\u001b[0mconf\u001b[0m\u001b[0;34m)\u001b[0m\u001b[0;34m\u001b[0m\u001b[0m\n\u001b[0m\u001b[1;32m    115\u001b[0m \u001b[0;34m\u001b[0m\u001b[0m\n\u001b[1;32m    116\u001b[0m     \u001b[0;32mdef\u001b[0m \u001b[0mcreate_dirs\u001b[0m\u001b[0;34m(\u001b[0m\u001b[0mself\u001b[0m\u001b[0;34m,\u001b[0m\u001b[0mfrom_init\u001b[0m\u001b[0;34m=\u001b[0m\u001b[0mFalse\u001b[0m\u001b[0;34m)\u001b[0m\u001b[0;34m:\u001b[0m\u001b[0;34m\u001b[0m\u001b[0m\n",
      "\u001b[0;32m/Users/hedani/Documents/GitRepos/PTRloc/PTR-Pipeline/ptr_pipeline.pyc\u001b[0m in \u001b[0;36mmain\u001b[0;34m(args, config)\u001b[0m\n\u001b[1;32m    399\u001b[0m \u001b[0;34m\u001b[0m\u001b[0m\n\u001b[1;32m    400\u001b[0m     \u001b[0;32mif\u001b[0m\u001b[0;34m(\u001b[0m\u001b[0margs\u001b[0m\u001b[0;34m.\u001b[0m\u001b[0msubparser_name\u001b[0m\u001b[0;34m==\u001b[0m\u001b[0;34m'collect'\u001b[0m\u001b[0;34m)\u001b[0m\u001b[0;34m:\u001b[0m\u001b[0;34m\u001b[0m\u001b[0m\n\u001b[0;32m--> 401\u001b[0;31m         \u001b[0mprocess\u001b[0m \u001b[0;34m=\u001b[0m \u001b[0msubprocess\u001b[0m\u001b[0;34m.\u001b[0m\u001b[0mPopen\u001b[0m\u001b[0;34m(\u001b[0m\u001b[0mgenerate_collect_command\u001b[0m\u001b[0;34m(\u001b[0m\u001b[0mconfig\u001b[0m\u001b[0;34m)\u001b[0m\u001b[0;34m,\u001b[0m \u001b[0mshell\u001b[0m\u001b[0;34m=\u001b[0m\u001b[0mTrue\u001b[0m\u001b[0;34m)\u001b[0m\u001b[0;34m\u001b[0m\u001b[0m\n\u001b[0m\u001b[1;32m    402\u001b[0m         \u001b[0mprocess\u001b[0m\u001b[0;34m.\u001b[0m\u001b[0mwait\u001b[0m\u001b[0;34m(\u001b[0m\u001b[0;34m)\u001b[0m\u001b[0;34m\u001b[0m\u001b[0m\n\u001b[1;32m    403\u001b[0m     \u001b[0;31m# prov = provider.get_provider(args['provider_name'], args['project_dir'])\u001b[0m\u001b[0;34m\u001b[0m\u001b[0;34m\u001b[0m\u001b[0m\n",
      "\u001b[0;32m/Users/hedani/Documents/GitRepos/PTRloc/PTR-Pipeline/ptr_pipeline.pyc\u001b[0m in \u001b[0;36mgenerate_collect_command\u001b[0;34m(config)\u001b[0m\n\u001b[1;32m    339\u001b[0m \u001b[0;32mdef\u001b[0m \u001b[0mgenerate_collect_command\u001b[0m\u001b[0;34m(\u001b[0m\u001b[0mconfig\u001b[0m\u001b[0;34m)\u001b[0m\u001b[0;34m:\u001b[0m\u001b[0;34m\u001b[0m\u001b[0m\n\u001b[1;32m    340\u001b[0m     \u001b[0mkoremLoc\u001b[0m\u001b[0;34m=\u001b[0m\u001b[0mos\u001b[0m\u001b[0;34m.\u001b[0m\u001b[0mpath\u001b[0m\u001b[0;34m.\u001b[0m\u001b[0mjoin\u001b[0m\u001b[0;34m(\u001b[0m\u001b[0mCODE_DIR\u001b[0m\u001b[0;34m,\u001b[0m\u001b[0;34m'extra/accLoc.csv'\u001b[0m\u001b[0;34m)\u001b[0m\u001b[0;34m\u001b[0m\u001b[0m\n\u001b[0;32m--> 341\u001b[0;31m     \u001b[0mcmd\u001b[0m\u001b[0;34m=\u001b[0m\u001b[0mCODE_DIR\u001b[0m\u001b[0;34m+\u001b[0m\u001b[0;34m\"/bin/PTRMatrix.py {output_path} {ref_path} \"\u001b[0m \u001b[0;34m+\u001b[0m \u001b[0mparser_c\u001b[0m\u001b[0;34m.\u001b[0m\u001b[0mmin_orics\u001b[0m \u001b[0;34m+\u001b[0m \u001b[0;34m\" {doric_path} \"\u001b[0m \u001b[0;34m+\u001b[0m \u001b[0mkoremLoc\u001b[0m\u001b[0;34m\u001b[0m\u001b[0m\n\u001b[0m\u001b[1;32m    342\u001b[0m     \u001b[0;32mreturn\u001b[0m \u001b[0mcmd\u001b[0m\u001b[0;34m.\u001b[0m\u001b[0mformat\u001b[0m\u001b[0;34m(\u001b[0m\u001b[0;34m**\u001b[0m\u001b[0mconfig\u001b[0m\u001b[0;34m)\u001b[0m\u001b[0;34m\u001b[0m\u001b[0m\n\u001b[1;32m    343\u001b[0m \u001b[0;34m\u001b[0m\u001b[0m\n",
      "\u001b[0;31mNameError\u001b[0m: global name 'parser_c' is not defined"
     ]
    }
   ],
   "source": [
    "c.collect()"
   ]
  },
  {
   "cell_type": "code",
   "execution_count": 487,
   "metadata": {
    "collapsed": false
   },
   "outputs": [
    {
     "data": {
      "text/plain": [
       "100000"
      ]
     },
     "execution_count": 487,
     "metadata": {},
     "output_type": "execute_result"
    }
   ],
   "source": [
    "len(c.samples[0][0])"
   ]
  },
  {
   "cell_type": "code",
   "execution_count": 709,
   "metadata": {
    "collapsed": false
   },
   "outputs": [],
   "source": [
    "c.run_pipeline()"
   ]
  },
  {
   "cell_type": "code",
   "execution_count": 512,
   "metadata": {
    "collapsed": false
   },
   "outputs": [
    {
     "name": "stdout",
     "output_type": "stream",
     "text": [
      "Simulated value: 0.5\n",
      "Error from this fit: 0.134314081342 value: 0.432842959329\n",
      "Error from initial PTR fit 0.189275182041 value: 0.405362408979\n"
     ]
    }
   ],
   "source": [
    "[res,hfit,pfit]=c.compare_fit()"
   ]
  },
  {
   "cell_type": "code",
   "execution_count": 481,
   "metadata": {
    "collapsed": false
   },
   "outputs": [
    {
     "data": {
      "text/plain": [
       "2.154405371191119"
      ]
     },
     "execution_count": 481,
     "metadata": {},
     "output_type": "execute_result"
    }
   ],
   "source": [
    "100*10**5/float(c.pop['NC_000913.3'].l)"
   ]
  },
  {
   "cell_type": "code",
   "execution_count": 2255,
   "metadata": {
    "collapsed": false
   },
   "outputs": [
    {
     "name": "stderr",
     "output_type": "stream",
     "text": [
      "/System/Library/Frameworks/Python.framework/Versions/2.7/Extras/lib/python/scipy/integrate/quadpack.py:293: UserWarning: The maximum number of subdivisions (50) has been achieved.\n",
      "  If increasing the limit yields no improvement it is advised to analyze \n",
      "  the integrand in order to determine the difficulties.  If the position of a \n",
      "  local difficulty can be determined (singularity, discontinuity) one will \n",
      "  probably gain from splitting up the interval and calling the integrator \n",
      "  on the subranges.  Perhaps a special-purpose integrator should be used.\n",
      "  warnings.warn(msg)\n",
      "/System/Library/Frameworks/Python.framework/Versions/2.7/Extras/lib/python/scipy/integrate/quadpack.py:293: UserWarning: The occurrence of roundoff error is detected, which prevents \n",
      "  the requested tolerance from being achieved.  The error may be \n",
      "  underestimated.\n",
      "  warnings.warn(msg)\n"
     ]
    },
    {
     "name": "stdout",
     "output_type": "stream",
     "text": [
      "Ex\n",
      "Ex\n",
      "Ex\n"
     ]
    },
    {
     "ename": "UnboundLocalError",
     "evalue": "local variable 'res' referenced before assignment",
     "output_type": "error",
     "traceback": [
      "\u001b[0;31m---------------------------------------------------------------------------\u001b[0m",
      "\u001b[0;31mUnboundLocalError\u001b[0m                         Traceback (most recent call last)",
      "\u001b[0;32m<ipython-input-2255-4c45e3923bb7>\u001b[0m in \u001b[0;36m<module>\u001b[0;34m()\u001b[0m\n\u001b[1;32m      7\u001b[0m \u001b[0;34m\u001b[0m\u001b[0m\n\u001b[1;32m      8\u001b[0m \u001b[0mc\u001b[0m\u001b[0;34m.\u001b[0m\u001b[0mrun_pipeline\u001b[0m\u001b[0;34m(\u001b[0m\u001b[0;34m)\u001b[0m\u001b[0;34m\u001b[0m\u001b[0m\n\u001b[0;32m----> 9\u001b[0;31m \u001b[0;34m[\u001b[0m\u001b[0mres\u001b[0m\u001b[0;34m,\u001b[0m\u001b[0mhfit\u001b[0m\u001b[0;34m,\u001b[0m\u001b[0mpfit\u001b[0m\u001b[0;34m]\u001b[0m\u001b[0;34m=\u001b[0m\u001b[0mc\u001b[0m\u001b[0;34m.\u001b[0m\u001b[0mcompare_fit\u001b[0m\u001b[0;34m(\u001b[0m\u001b[0;34m)\u001b[0m\u001b[0;34m\u001b[0m\u001b[0m\n\u001b[0m",
      "\u001b[0;32m<ipython-input-4-2a9bc4d0021b>\u001b[0m in \u001b[0;36mcompare_fit\u001b[0;34m(self)\u001b[0m\n\u001b[1;32m     82\u001b[0m                     \u001b[0;32mprint\u001b[0m \u001b[0;34m\"Ex\"\u001b[0m\u001b[0;34m\u001b[0m\u001b[0m\n\u001b[1;32m     83\u001b[0m                     \u001b[0;32mpass\u001b[0m\u001b[0;34m\u001b[0m\u001b[0m\n\u001b[0;32m---> 84\u001b[0;31m         \u001b[0;32mreturn\u001b[0m \u001b[0;34m[\u001b[0m\u001b[0mres\u001b[0m\u001b[0;34m,\u001b[0m\u001b[0merr_hfit\u001b[0m\u001b[0;34m,\u001b[0m\u001b[0merr_pfit\u001b[0m\u001b[0;34m]\u001b[0m\u001b[0;34m\u001b[0m\u001b[0m\n\u001b[0m\u001b[1;32m     85\u001b[0m \u001b[0;34m\u001b[0m\u001b[0m\n\u001b[1;32m     86\u001b[0m \u001b[0;34m\u001b[0m\u001b[0m\n",
      "\u001b[0;31mUnboundLocalError\u001b[0m: local variable 'res' referenced before assignment"
     ]
    }
   ],
   "source": [
    "tot_reads=[10**6]#np.linspace(5*10**3,10**4,15)\n",
    "c=Community('comm0',[acc[s] for s in sel[0]],[growth_param[s] for s in sel[0]],td,'bowtie2')\n",
    "c.build_index()\n",
    "for nr in tot_reads:\n",
    "    c.sample(nr)\n",
    "    c.write_reads()\n",
    "\n",
    "c.run_pipeline()\n",
    "[res,hfit,pfit]=c.compare_fit()"
   ]
  },
  {
   "cell_type": "code",
   "execution_count": 448,
   "metadata": {
    "collapsed": false
   },
   "outputs": [
    {
     "data": {
      "text/plain": [
       "0.37606807113368551"
      ]
     },
     "execution_count": 448,
     "metadata": {},
     "output_type": "execute_result"
    }
   ],
   "source": [
    "np.log2(1.2978)"
   ]
  },
  {
   "cell_type": "code",
   "execution_count": 614,
   "metadata": {
    "collapsed": false
   },
   "outputs": [
    {
     "data": {
      "text/plain": [
       "array([ 0.66795389,  0.33204611])"
      ]
     },
     "execution_count": 614,
     "metadata": {},
     "output_type": "execute_result"
    }
   ],
   "source": [
    "c.distribution"
   ]
  },
  {
   "cell_type": "code",
   "execution_count": 616,
   "metadata": {
    "collapsed": false
   },
   "outputs": [
    {
     "data": {
      "text/plain": [
       "['NC_007779.1', 'NC_000913.3']"
      ]
     },
     "execution_count": 616,
     "metadata": {},
     "output_type": "execute_result"
    }
   ],
   "source": [
    "c.pop.keys()"
   ]
  },
  {
   "cell_type": "code",
   "execution_count": 570,
   "metadata": {
    "collapsed": false
   },
   "outputs": [
    {
     "data": {
      "text/plain": [
       "10.772026855955595"
      ]
     },
     "execution_count": 570,
     "metadata": {},
     "output_type": "execute_result"
    }
   ],
   "source": [
    "tot_reads[0]*100/float(c.pop['NC_000913.3'].l)"
   ]
  },
  {
   "cell_type": "code",
   "execution_count": 343,
   "metadata": {
    "collapsed": true
   },
   "outputs": [],
   "source": [
    "c.write_reads()"
   ]
  },
  {
   "cell_type": "code",
   "execution_count": 1,
   "metadata": {
    "collapsed": false
   },
   "outputs": [
    {
     "ename": "NameError",
     "evalue": "name 'plt' is not defined",
     "output_type": "error",
     "traceback": [
      "\u001b[0;31m---------------------------------------------------------------------------\u001b[0m",
      "\u001b[0;31mNameError\u001b[0m                                 Traceback (most recent call last)",
      "\u001b[0;32m<ipython-input-1-f7a2c1730d8e>\u001b[0m in \u001b[0;36m<module>\u001b[0;34m()\u001b[0m\n\u001b[0;32m----> 1\u001b[0;31m \u001b[0mpl\u001b[0m\u001b[0;34m=\u001b[0m\u001b[0mplt\u001b[0m\u001b[0;34m.\u001b[0m\u001b[0mplot\u001b[0m\u001b[0;34m(\u001b[0m\u001b[0mtot_reads\u001b[0m\u001b[0;34m[\u001b[0m\u001b[0;36m0\u001b[0m\u001b[0;34m:\u001b[0m\u001b[0;36m6\u001b[0m\u001b[0;34m]\u001b[0m\u001b[0;34m,\u001b[0m\u001b[0mhfit\u001b[0m\u001b[0;34m,\u001b[0m\u001b[0mtot_reads\u001b[0m\u001b[0;34m[\u001b[0m\u001b[0;36m0\u001b[0m\u001b[0;34m:\u001b[0m\u001b[0;36m6\u001b[0m\u001b[0;34m]\u001b[0m\u001b[0;34m,\u001b[0m\u001b[0mpfit\u001b[0m\u001b[0;34m)\u001b[0m\u001b[0;34m\u001b[0m\u001b[0m\n\u001b[0m\u001b[1;32m      2\u001b[0m \u001b[0max\u001b[0m\u001b[0;34m=\u001b[0m\u001b[0mpl\u001b[0m\u001b[0;34m[\u001b[0m\u001b[0;36m0\u001b[0m\u001b[0;34m]\u001b[0m\u001b[0;34m\u001b[0m\u001b[0m\n\u001b[1;32m      3\u001b[0m \u001b[0;31m#pl[0].set_xscale('log')\u001b[0m\u001b[0;34m\u001b[0m\u001b[0;34m\u001b[0m\u001b[0m\n\u001b[1;32m      4\u001b[0m \u001b[0;31m#plt.legend(['p(x) fit','Linear fit'])\u001b[0m\u001b[0;34m\u001b[0m\u001b[0;34m\u001b[0m\u001b[0m\n\u001b[1;32m      5\u001b[0m \u001b[0;31m#plt.plot(tot_reads,pfit,label='Linear fit')\u001b[0m\u001b[0;34m\u001b[0m\u001b[0;34m\u001b[0m\u001b[0m\n",
      "\u001b[0;31mNameError\u001b[0m: name 'plt' is not defined"
     ]
    }
   ],
   "source": [
    "pl=plt.plot(tot_reads[0:6],hfit,tot_reads[0:6],pfit)\n",
    "ax=pl[0]\n",
    "#pl[0].set_xscale('log')\n",
    "#plt.legend(['p(x) fit','Linear fit'])\n",
    "#plt.plot(tot_reads,pfit,label='Linear fit')"
   ]
  },
  {
   "cell_type": "code",
   "execution_count": null,
   "metadata": {
    "collapsed": true
   },
   "outputs": [],
   "source": [
    "ax.set_yscale('log')\n"
   ]
  },
  {
   "cell_type": "code",
   "execution_count": 270,
   "metadata": {
    "collapsed": false
   },
   "outputs": [
    {
     "name": "stdout",
     "output_type": "stream",
     "text": [
      "Simulated value: 0.7\n",
      "Error from this fit: 0.389631075905 value: 0.427258246866\n",
      "Error from initial PTR fit 0.300151361166 value: 0.489894047184\n",
      "Simulated value: 0.5\n",
      "Error from this fit: 0.305636070824 value: 0.347181964588\n",
      "Error from initial PTR fit -0.437847123705 value: 0.718923561852\n"
     ]
    }
   ],
   "source": [
    "[res,hfit,pfit]=c.compare_fit()"
   ]
  },
  {
   "cell_type": "code",
   "execution_count": 234,
   "metadata": {
    "collapsed": false
   },
   "outputs": [
    {
     "data": {
      "text/plain": [
       "[0.1343119055981461, 0.13299914267733115]"
      ]
     },
     "execution_count": 234,
     "metadata": {},
     "output_type": "execute_result"
    },
    {
     "data": {
      "image/png": "[encoded data removed]",
      "text/plain": [
       "<matplotlib.figure.Figure at 0x107861f90>"
      ]
     },
     "metadata": {},
     "output_type": "display_data"
    }
   ],
   "source": [
    "res.plot()\n",
    "pfit"
   ]
  },
  {
   "cell_type": "code",
   "execution_count": 177,
   "metadata": {
    "collapsed": false
   },
   "outputs": [
    {
     "data": {
      "text/plain": [
       "u'/Users/hedani/Documents/GitRepos/PTRloc/PTR-Pipeline'"
      ]
     },
     "execution_count": 177,
     "metadata": {},
     "output_type": "execute_result"
    }
   ],
   "source": [
    "start = time.time()\n",
    "print(\"hello\")\n",
    "end = time.time()\n",
    "print(end - start)"
   ]
  },
  {
   "cell_type": "code",
   "execution_count": 106,
   "metadata": {
    "collapsed": false,
    "scrolled": false
   },
   "outputs": [
    {
     "ename": "KeyError",
     "evalue": "'NC_000913.3'",
     "output_type": "error",
     "traceback": [
      "\u001b[0;31m---------------------------------------------------------------------------\u001b[0m",
      "\u001b[0;31mKeyError\u001b[0m                                  Traceback (most recent call last)",
      "\u001b[0;32m<ipython-input-106-dcb76e79b9a1>\u001b[0m in \u001b[0;36m<module>\u001b[0;34m()\u001b[0m\n\u001b[1;32m      3\u001b[0m \u001b[0mres\u001b[0m\u001b[0;34m=\u001b[0m\u001b[0;34m[\u001b[0m\u001b[0;34m]\u001b[0m\u001b[0;34m\u001b[0m\u001b[0m\n\u001b[1;32m      4\u001b[0m \u001b[0;32mfor\u001b[0m \u001b[0mi\u001b[0m \u001b[0;32min\u001b[0m \u001b[0mrange\u001b[0m\u001b[0;34m(\u001b[0m\u001b[0;36m9\u001b[0m\u001b[0;34m)\u001b[0m\u001b[0;34m:\u001b[0m\u001b[0;34m\u001b[0m\u001b[0m\n\u001b[0;32m----> 5\u001b[0;31m     \u001b[0mcommunity\u001b[0m\u001b[0;34m.\u001b[0m\u001b[0mappend\u001b[0m\u001b[0;34m(\u001b[0m\u001b[0mrun_community_analysis\u001b[0m\u001b[0;34m(\u001b[0m\u001b[0;34m'smr'\u001b[0m\u001b[0;34m,\u001b[0m\u001b[0mtd\u001b[0m\u001b[0;34m,\u001b[0m\u001b[0;34m'bowtie2'\u001b[0m\u001b[0;34m,\u001b[0m\u001b[0macc\u001b[0m\u001b[0;34m,\u001b[0m\u001b[0mgrowth_param\u001b[0m\u001b[0;34m,\u001b[0m\u001b[0mcomm\u001b[0m\u001b[0;34m,\u001b[0m\u001b[0mnrs\u001b[0m\u001b[0;34m[\u001b[0m\u001b[0mi\u001b[0m\u001b[0;34m]\u001b[0m\u001b[0;34m,\u001b[0m\u001b[0;36m0\u001b[0m\u001b[0;34m)\u001b[0m\u001b[0;34m)\u001b[0m\u001b[0;34m\u001b[0m\u001b[0m\n\u001b[0m\u001b[1;32m      6\u001b[0m     \u001b[0mres\u001b[0m\u001b[0;34m.\u001b[0m\u001b[0mappend\u001b[0m\u001b[0;34m(\u001b[0m\u001b[0mcommunity\u001b[0m\u001b[0;34m[\u001b[0m\u001b[0mi\u001b[0m\u001b[0;34m]\u001b[0m\u001b[0;34m[\u001b[0m\u001b[0;36m0\u001b[0m\u001b[0;34m]\u001b[0m\u001b[0;34m.\u001b[0m\u001b[0mcompare_fit\u001b[0m\u001b[0;34m(\u001b[0m\u001b[0;34m)\u001b[0m\u001b[0;34m)\u001b[0m\u001b[0;34m\u001b[0m\u001b[0m\n",
      "\u001b[0;32m<ipython-input-83-3eaf4407c66f>\u001b[0m in \u001b[0;36mrun_community_analysis\u001b[0;34m(exec_string, td, mapper, acc, growth_param, community, nr_samples, topname)\u001b[0m\n\u001b[1;32m     31\u001b[0m         \u001b[0;32mif\u001b[0m \u001b[0;34m's'\u001b[0m \u001b[0;32min\u001b[0m \u001b[0mexec_string\u001b[0m\u001b[0;34m:\u001b[0m\u001b[0;34m\u001b[0m\u001b[0m\n\u001b[1;32m     32\u001b[0m             \u001b[0;31m# create community and sample\u001b[0m\u001b[0;34m\u001b[0m\u001b[0;34m\u001b[0m\u001b[0m\n\u001b[0;32m---> 33\u001b[0;31m             \u001b[0mcomm\u001b[0m\u001b[0;34m.\u001b[0m\u001b[0mappend\u001b[0m\u001b[0;34m(\u001b[0m\u001b[0mCommunity\u001b[0m\u001b[0;34m(\u001b[0m\u001b[0mconf\u001b[0m\u001b[0;34m,\u001b[0m\u001b[0mc\u001b[0m\u001b[0;34m,\u001b[0m\u001b[0macc\u001b[0m\u001b[0;34m,\u001b[0m\u001b[0mgrowth_param\u001b[0m\u001b[0;34m)\u001b[0m\u001b[0;34m)\u001b[0m\u001b[0;34m\u001b[0m\u001b[0m\n\u001b[0m\u001b[1;32m     34\u001b[0m             \u001b[0mcomm\u001b[0m\u001b[0;34m[\u001b[0m\u001b[0mi\u001b[0m\u001b[0;34m]\u001b[0m\u001b[0;34m.\u001b[0m\u001b[0msample\u001b[0m\u001b[0;34m(\u001b[0m\u001b[0mnr_samples\u001b[0m\u001b[0;34m)\u001b[0m\u001b[0;34m\u001b[0m\u001b[0m\n\u001b[1;32m     35\u001b[0m             \u001b[0mcomm\u001b[0m\u001b[0;34m[\u001b[0m\u001b[0mi\u001b[0m\u001b[0;34m]\u001b[0m\u001b[0;34m.\u001b[0m\u001b[0mwrite_reads\u001b[0m\u001b[0;34m(\u001b[0m\u001b[0;34m)\u001b[0m\u001b[0;34m\u001b[0m\u001b[0m\n",
      "\u001b[0;32m<ipython-input-103-3dfe25d04a80>\u001b[0m in \u001b[0;36m__init__\u001b[0;34m(self, conf, comm, acc, growth_param)\u001b[0m\n\u001b[1;32m      5\u001b[0m         \u001b[0;31m#self.samples=[]\u001b[0m\u001b[0;34m\u001b[0m\u001b[0;34m\u001b[0m\u001b[0m\n\u001b[1;32m      6\u001b[0m \u001b[0;34m\u001b[0m\u001b[0m\n\u001b[0;32m----> 7\u001b[0;31m         \u001b[0mself\u001b[0m\u001b[0;34m.\u001b[0m\u001b[0mpop\u001b[0m \u001b[0;34m=\u001b[0m \u001b[0mself\u001b[0m\u001b[0;34m.\u001b[0m\u001b[0minit_population\u001b[0m\u001b[0;34m(\u001b[0m\u001b[0mcomm\u001b[0m\u001b[0;34m,\u001b[0m\u001b[0macc\u001b[0m\u001b[0;34m,\u001b[0m\u001b[0mgrowth_param\u001b[0m\u001b[0;34m)\u001b[0m\u001b[0;34m\u001b[0m\u001b[0m\n\u001b[0m\u001b[1;32m      8\u001b[0m         \u001b[0mself\u001b[0m\u001b[0;34m.\u001b[0m\u001b[0mdistribution\u001b[0m \u001b[0;34m=\u001b[0m \u001b[0mself\u001b[0m\u001b[0;34m.\u001b[0m\u001b[0mcommunity_distribution\u001b[0m\u001b[0;34m(\u001b[0m\u001b[0;34m)\u001b[0m\u001b[0;34m\u001b[0m\u001b[0m\n\u001b[1;32m      9\u001b[0m         \u001b[0mself\u001b[0m\u001b[0;34m.\u001b[0m\u001b[0msamples\u001b[0m \u001b[0;34m=\u001b[0m \u001b[0;34m[\u001b[0m\u001b[0;34m]\u001b[0m\u001b[0;34m\u001b[0m\u001b[0m\n",
      "\u001b[0;32m<ipython-input-103-3dfe25d04a80>\u001b[0m in \u001b[0;36minit_population\u001b[0;34m(self, comm, acc, growth_param)\u001b[0m\n\u001b[1;32m     23\u001b[0m         \u001b[0;32mfor\u001b[0m \u001b[0mi\u001b[0m \u001b[0;32min\u001b[0m \u001b[0mcomm\u001b[0m\u001b[0;34m:\u001b[0m\u001b[0;34m\u001b[0m\u001b[0m\n\u001b[1;32m     24\u001b[0m             pop[acc[i]]=population(B = growth_param[i][0],C = growth_param[i][1],\n\u001b[0;32m---> 25\u001b[0;31m                              \u001b[0mD\u001b[0m \u001b[0;34m=\u001b[0m \u001b[0mgrowth_param\u001b[0m\u001b[0;34m[\u001b[0m\u001b[0mi\u001b[0m\u001b[0;34m]\u001b[0m\u001b[0;34m[\u001b[0m\u001b[0;36m2\u001b[0m\u001b[0;34m]\u001b[0m\u001b[0;34m,\u001b[0m \u001b[0ml\u001b[0m \u001b[0;34m=\u001b[0m \u001b[0mlen\u001b[0m\u001b[0;34m(\u001b[0m\u001b[0mrecords\u001b[0m\u001b[0;34m[\u001b[0m\u001b[0macc\u001b[0m\u001b[0;34m[\u001b[0m\u001b[0mi\u001b[0m\u001b[0;34m]\u001b[0m\u001b[0;34m]\u001b[0m\u001b[0;34m)\u001b[0m\u001b[0;34m,\u001b[0m\u001b[0;34m\u001b[0m\u001b[0m\n\u001b[0m\u001b[1;32m     26\u001b[0m                              seq = records[acc[i]], cells=growth_param[i][3])\n\u001b[1;32m     27\u001b[0m         \u001b[0;32mreturn\u001b[0m \u001b[0mpop\u001b[0m\u001b[0;34m\u001b[0m\u001b[0m\n",
      "\u001b[0;31mKeyError\u001b[0m: 'NC_000913.3'"
     ]
    }
   ],
   "source": [
    "community=[]\n",
    "nrs=np.linspace(5*10**3,10**6,10)\n",
    "res=[]\n",
    "for i in range(9):\n",
    "    community.append(run_community_analysis('smr',td,'bowtie2',acc,growth_param,comm,nrs[i],0))\n",
    "    res.append(community[i][0].compare_fit())"
   ]
  },
  {
   "cell_type": "code",
   "execution_count": null,
   "metadata": {
    "collapsed": true
   },
   "outputs": [],
   "source": [
    "cp0=community[0].pop.values()\n",
    "Gekv(cp0[0].B,cp0[0].C)"
   ]
  },
  {
   "cell_type": "code",
   "execution_count": 100,
   "metadata": {
    "collapsed": false
   },
   "outputs": [
    {
     "name": "stdout",
     "output_type": "stream",
     "text": [
      "comm0\n",
      "NC_000913.3: 1.41421356237\n"
     ]
    }
   ],
   "source": [
    "#PTRs\n",
    "for i,c in enumerate(comm):\n",
    "    print \"comm\"+str(i)\n",
    "    for c_sub in c:\n",
    "        print acc[c_sub]+\": \"+str(2**growth_param[c_sub][1])"
   ]
  },
  {
   "cell_type": "code",
   "execution_count": 30,
   "metadata": {
    "collapsed": false
   },
   "outputs": [
    {
     "data": {
      "text/plain": [
       "'NC_002655.2'"
      ]
     },
     "execution_count": 30,
     "metadata": {},
     "output_type": "execute_result"
    }
   ],
   "source": [
    "cov1=2**(np.load(join(td,'comm1/Data/reads/npy',acc[comm[1][1]]+'.depth.npy')))\n",
    "acc[comm[1][1]]"
   ]
  },
  {
   "cell_type": "code",
   "execution_count": 58,
   "metadata": {
    "collapsed": false
   },
   "outputs": [
    {
     "data": {
      "text/plain": [
       "[0, 3]"
      ]
     },
     "execution_count": 58,
     "metadata": {},
     "output_type": "execute_result"
    }
   ],
   "source": [
    "#print c.pop[0].l/float(c.pop[1].l)*.8\n",
    "#print c.pop[1].l/float(c.pop[0].l)*.2\n",
    "c"
   ]
  },
  {
   "cell_type": "code",
   "execution_count": 32,
   "metadata": {
    "collapsed": false
   },
   "outputs": [
    {
     "ename": "TypeError",
     "evalue": "'builtin_function_or_method' object has no attribute '__getitem__'",
     "output_type": "error",
     "traceback": [
      "\u001b[0;31m---------------------------------------------------------------------------\u001b[0m",
      "\u001b[0;31mTypeError\u001b[0m                                 Traceback (most recent call last)",
      "\u001b[0;32m<ipython-input-32-4d3560460be3>\u001b[0m in \u001b[0;36m<module>\u001b[0;34m()\u001b[0m\n\u001b[1;32m      1\u001b[0m \u001b[0mindd\u001b[0m\u001b[0;34m=\u001b[0m\u001b[0;36m1\u001b[0m\u001b[0;34m;\u001b[0m\u001b[0;34m\u001b[0m\u001b[0m\n\u001b[1;32m      2\u001b[0m \u001b[0mx\u001b[0m\u001b[0;34m=\u001b[0m\u001b[0mnp\u001b[0m\u001b[0;34m.\u001b[0m\u001b[0mlinspace\u001b[0m\u001b[0;34m(\u001b[0m\u001b[0;36m0\u001b[0m\u001b[0;34m,\u001b[0m\u001b[0;36m1\u001b[0m\u001b[0;34m,\u001b[0m\u001b[0mlen\u001b[0m\u001b[0;34m(\u001b[0m\u001b[0mcov1\u001b[0m\u001b[0;34m)\u001b[0m\u001b[0;34m)\u001b[0m\u001b[0;34m\u001b[0m\u001b[0m\n\u001b[0;32m----> 3\u001b[0;31m \u001b[0mplt\u001b[0m\u001b[0;34m.\u001b[0m\u001b[0mplot\u001b[0m\u001b[0;34m(\u001b[0m\u001b[0mx\u001b[0m\u001b[0;34m*\u001b[0m\u001b[0mc\u001b[0m\u001b[0;34m.\u001b[0m\u001b[0mpop\u001b[0m\u001b[0;34m[\u001b[0m\u001b[0mindd\u001b[0m\u001b[0;34m]\u001b[0m\u001b[0;34m.\u001b[0m\u001b[0ml\u001b[0m\u001b[0;34m,\u001b[0m\u001b[0mcov1\u001b[0m\u001b[0;34m/\u001b[0m\u001b[0;34m(\u001b[0m\u001b[0mcov1\u001b[0m\u001b[0;34m.\u001b[0m\u001b[0msum\u001b[0m\u001b[0;34m(\u001b[0m\u001b[0;34m)\u001b[0m\u001b[0;34m/\u001b[0m\u001b[0mlen\u001b[0m\u001b[0;34m(\u001b[0m\u001b[0mcov1\u001b[0m\u001b[0;34m)\u001b[0m\u001b[0;34m*\u001b[0m\u001b[0mc\u001b[0m\u001b[0;34m.\u001b[0m\u001b[0mpop\u001b[0m\u001b[0;34m[\u001b[0m\u001b[0mindd\u001b[0m\u001b[0;34m]\u001b[0m\u001b[0;34m.\u001b[0m\u001b[0ml\u001b[0m\u001b[0;34m)\u001b[0m\u001b[0;34m)\u001b[0m\u001b[0;34m\u001b[0m\u001b[0m\n\u001b[0m\u001b[1;32m      4\u001b[0m \u001b[0mplt\u001b[0m\u001b[0;34m.\u001b[0m\u001b[0mplot\u001b[0m\u001b[0;34m(\u001b[0m\u001b[0mx\u001b[0m\u001b[0;34m*\u001b[0m\u001b[0mc\u001b[0m\u001b[0;34m.\u001b[0m\u001b[0mpop\u001b[0m\u001b[0;34m[\u001b[0m\u001b[0mindd\u001b[0m\u001b[0;34m]\u001b[0m\u001b[0;34m.\u001b[0m\u001b[0ml\u001b[0m\u001b[0;34m,\u001b[0m\u001b[0mpiecewise_prob\u001b[0m\u001b[0;34m(\u001b[0m\u001b[0mx\u001b[0m\u001b[0;34m*\u001b[0m\u001b[0mc\u001b[0m\u001b[0;34m.\u001b[0m\u001b[0mpop\u001b[0m\u001b[0;34m[\u001b[0m\u001b[0mindd\u001b[0m\u001b[0;34m]\u001b[0m\u001b[0;34m.\u001b[0m\u001b[0ml\u001b[0m\u001b[0;34m,\u001b[0m\u001b[0mc\u001b[0m\u001b[0;34m.\u001b[0m\u001b[0mpop\u001b[0m\u001b[0;34m[\u001b[0m\u001b[0mindd\u001b[0m\u001b[0;34m]\u001b[0m\u001b[0;34m.\u001b[0m\u001b[0mC\u001b[0m\u001b[0;34m,\u001b[0m\u001b[0mc\u001b[0m\u001b[0;34m.\u001b[0m\u001b[0mpop\u001b[0m\u001b[0;34m[\u001b[0m\u001b[0mindd\u001b[0m\u001b[0;34m]\u001b[0m\u001b[0;34m.\u001b[0m\u001b[0ml\u001b[0m\u001b[0;34m)\u001b[0m\u001b[0;34m)\u001b[0m\u001b[0;34m\u001b[0m\u001b[0m\n\u001b[1;32m      5\u001b[0m \u001b[0mplt\u001b[0m\u001b[0;34m.\u001b[0m\u001b[0mplot\u001b[0m\u001b[0;34m(\u001b[0m\u001b[0mx\u001b[0m\u001b[0;34m*\u001b[0m\u001b[0mc\u001b[0m\u001b[0;34m.\u001b[0m\u001b[0mpop\u001b[0m\u001b[0;34m[\u001b[0m\u001b[0mindd\u001b[0m\u001b[0;34m]\u001b[0m\u001b[0;34m.\u001b[0m\u001b[0ml\u001b[0m\u001b[0;34m,\u001b[0m\u001b[0mres\u001b[0m\u001b[0;34m.\u001b[0m\u001b[0mbest_fit\u001b[0m\u001b[0;34m)\u001b[0m\u001b[0;34m\u001b[0m\u001b[0m\n",
      "\u001b[0;31mTypeError\u001b[0m: 'builtin_function_or_method' object has no attribute '__getitem__'"
     ]
    }
   ],
   "source": [
    "indd=1;\n",
    "x=np.linspace(0,1,len(cov1))\n",
    "plt.plot(x*c.pop[indd].l,cov1/(cov1.sum()/len(cov1)*c.pop[indd].l))\n",
    "plt.plot(x*c.pop[indd].l,piecewise_prob(x*c.pop[indd].l,c.pop[indd].C,c.pop[indd].l))\n",
    "plt.plot(x*c.pop[indd].l,res.best_fit)"
   ]
  },
  {
   "cell_type": "code",
   "execution_count": 24,
   "metadata": {
    "collapsed": false
   },
   "outputs": [],
   "source": [
    "signal=cov1/(cov1.sum()/len(cov1)*c.pop[indd].l)\n",
    "res=fit_signal(signal,c.pop[indd].l)"
   ]
  },
  {
   "cell_type": "code",
   "execution_count": 25,
   "metadata": {
    "collapsed": false
   },
   "outputs": [
    {
     "name": "stdout",
     "output_type": "stream",
     "text": [
      "0.0777801701655 0.104943273296\n"
     ]
    }
   ],
   "source": [
    "err=(c.pop[indd].C-res.best_values['C'])/c.pop[indd].C\n",
    "from_ptr=np.load(join(td,'comm1/Data/reads/npy',acc[comm[1][1]]+'.depth.best.npy'))\n",
    "err2=(c.pop[indd].C-from_ptr[2]+from_ptr[3])/c.pop[indd].C\n",
    "print err, err2"
   ]
  },
  {
   "cell_type": "code",
   "execution_count": 26,
   "metadata": {
    "collapsed": false
   },
   "outputs": [
    {
     "data": {
      "text/plain": [
       "0.7"
      ]
     },
     "execution_count": 26,
     "metadata": {},
     "output_type": "execute_result"
    }
   ],
   "source": [
    "c.pop[indd].C"
   ]
  },
  {
   "cell_type": "code",
   "execution_count": 45,
   "metadata": {
    "collapsed": true
   },
   "outputs": [],
   "source": [
    "conf=local_conf(join(td,'comm1'),'bowtie2')"
   ]
  },
  {
   "cell_type": "code",
   "execution_count": 23,
   "metadata": {
    "collapsed": false,
    "scrolled": true
   },
   "outputs": [],
   "source": [
    "import example"
   ]
  },
  {
   "cell_type": "code",
   "execution_count": 48,
   "metadata": {
    "collapsed": false
   },
   "outputs": [],
   "source": [
    "example.main(join(conf['ref_path'],'Fasta'),False,conf['data_path'],conf['node_path'],conf['output_path']+\"/out.df\",None,True)"
   ]
  },
  {
   "cell_type": "code",
   "execution_count": 38,
   "metadata": {
    "collapsed": false
   },
   "outputs": [
    {
     "data": {
      "text/plain": [
       "'/mnt/comm0/References'"
      ]
     },
     "execution_count": 38,
     "metadata": {},
     "output_type": "execute_result"
    }
   ],
   "source": [
    "conf['ref_path']"
   ]
  },
  {
   "cell_type": "code",
   "execution_count": 111,
   "metadata": {
    "collapsed": false
   },
   "outputs": [],
   "source": [
    "refs=open_records(glob(join(conf['ref_path'],'Fasta','*.fasta')))"
   ]
  },
  {
   "cell_type": "code",
   "execution_count": 119,
   "metadata": {
    "collapsed": false
   },
   "outputs": [
    {
     "data": {
      "text/plain": [
       "[]"
      ]
     },
     "execution_count": 119,
     "metadata": {},
     "output_type": "execute_result"
    }
   ],
   "source": [
    "glob(join(conf['ref_path'],'Fasta','*.fasta'))"
   ]
  },
  {
   "cell_type": "code",
   "execution_count": 112,
   "metadata": {
    "collapsed": false,
    "scrolled": true
   },
   "outputs": [
    {
     "data": {
      "text/plain": [
       "[]"
      ]
     },
     "execution_count": 112,
     "metadata": {},
     "output_type": "execute_result"
    }
   ],
   "source": [
    "refs"
   ]
  },
  {
   "cell_type": "code",
   "execution_count": 57,
   "metadata": {
    "collapsed": false
   },
   "outputs": [],
   "source": [
    "import PTRC"
   ]
  },
  {
   "cell_type": "code",
   "execution_count": 94,
   "metadata": {
    "collapsed": true
   },
   "outputs": [],
   "source": [
    "import pickle"
   ]
  },
  {
   "cell_type": "code",
   "execution_count": 97,
   "metadata": {
    "collapsed": false
   },
   "outputs": [
    {
     "data": {
      "text/plain": [
       "({'Bacteroides vulgatus': ['SegalLab|882']}, {})"
      ]
     },
     "execution_count": 97,
     "metadata": {},
     "output_type": "execute_result"
    }
   ],
   "source": [
    "ind"
   ]
  },
  {
   "cell_type": "code",
   "execution_count": 101,
   "metadata": {
    "collapsed": false
   },
   "outputs": [],
   "source": [
    "f=open('/mnt/index.pk','r')\n",
    "f.close()\n",
    "f=open('/mnt/index.pk','w')\n",
    "pickle.dump(ind,f)\n",
    "f.close()"
   ]
  },
  {
   "cell_type": "code",
   "execution_count": 86,
   "metadata": {
    "collapsed": false
   },
   "outputs": [],
   "source": [
    "f=open('/mnt/index.pk','r')\n",
    "ind=pickle.load(f)\n",
    "pickle.save"
   ]
  },
  {
   "cell_type": "code",
   "execution_count": 93,
   "metadata": {
    "collapsed": false
   },
   "outputs": [],
   "source": [
    "ind=({'Bacteroides vulgatus': ['SegalLab|882']},{})"
   ]
  },
  {
   "cell_type": "code",
   "execution_count": 88,
   "metadata": {
    "collapsed": false
   },
   "outputs": [
    {
     "ename": "NameError",
     "evalue": "name 'args' is not defined",
     "output_type": "error",
     "traceback": [
      "\u001b[0;31m---------------------------------------------------------------------------\u001b[0m",
      "\u001b[0;31mNameError\u001b[0m                                 Traceback (most recent call last)",
      "\u001b[0;32m<ipython-input-88-b08053f2169d>\u001b[0m in \u001b[0;36m<module>\u001b[0;34m()\u001b[0m\n\u001b[0;32m----> 1\u001b[0;31m \u001b[0mPTRC\u001b[0m\u001b[0;34m.\u001b[0m\u001b[0mcoverage_analysis\u001b[0m\u001b[0;34m(\u001b[0m\u001b[0margs\u001b[0m\u001b[0;34m.\u001b[0m\u001b[0mi1\u001b[0m\u001b[0;34m,\u001b[0m \u001b[0margs\u001b[0m\u001b[0;34m.\u001b[0m\u001b[0mi2\u001b[0m\u001b[0;34m,\u001b[0m \u001b[0margs\u001b[0m\u001b[0;34m.\u001b[0m\u001b[0mm\u001b[0m\u001b[0;34m,\u001b[0m \u001b[0margs\u001b[0m\u001b[0;34m.\u001b[0m\u001b[0mpe\u001b[0m\u001b[0;34m,\u001b[0m \u001b[0margs\u001b[0m\u001b[0;34m.\u001b[0m\u001b[0mgz\u001b[0m\u001b[0;34m,\u001b[0m                           \u001b[0margs\u001b[0m\u001b[0;34m.\u001b[0m\u001b[0moutfol\u001b[0m\u001b[0;34m,\u001b[0m \u001b[0margs\u001b[0m\u001b[0;34m.\u001b[0m\u001b[0mqual_format\u001b[0m\u001b[0;34m,\u001b[0m \u001b[0margs\u001b[0m\u001b[0;34m.\u001b[0m\u001b[0mcov_thresh\u001b[0m\u001b[0;34m,\u001b[0m \u001b[0mdbpath\u001b[0m \u001b[0;34m=\u001b[0m \u001b[0margs\u001b[0m\u001b[0;34m.\u001b[0m\u001b[0mdb_path_name\u001b[0m\u001b[0;34m)\u001b[0m\u001b[0;34m\u001b[0m\u001b[0m\n\u001b[0m",
      "\u001b[0;31mNameError\u001b[0m: name 'args' is not defined"
     ]
    }
   ],
   "source": [
    "PTRC.coverage_analysis(args.i1, args.i2, args.m, args.pe, args.gz, \\\n",
    "                          args.outfol, args.qual_format, args.cov_thresh, dbpath = args.db_path_name)"
   ]
  },
  {
   "cell_type": "code",
   "execution_count": 23,
   "metadata": {
    "collapsed": false
   },
   "outputs": [],
   "source": [
    "r=glob(conf['data_path']+'/*')"
   ]
  },
  {
   "cell_type": "code",
   "execution_count": 32,
   "metadata": {
    "collapsed": false
   },
   "outputs": [],
   "source": [
    "args=namedtuple('args','i1 i2 m pe gz outfol qual_format cov_thresh db_path_name')\n",
    "args.i1=r[0]\n",
    "args.i2=r[1]\n",
    "#args.m=None#conf['data_path']+\"/blah.m\"\n",
    "args.pe=True\n",
    "args.gz=False\n",
    "args.outfol=conf['output_path']\n",
    "args.qual_format='offset-33'\n",
    "args.cov_thresh=5\n",
    "args.db_path_name=None"
   ]
  },
  {
   "cell_type": "code",
   "execution_count": 2,
   "metadata": {
    "collapsed": false
   },
   "outputs": [
    {
     "name": "stdout",
     "output_type": "stream",
     "text": [
      "/mnt\n"
     ]
    }
   ],
   "source": [
    "cd /mnt"
   ]
  },
  {
   "cell_type": "code",
   "execution_count": 32,
   "metadata": {
    "collapsed": false
   },
   "outputs": [],
   "source": [
    "ro=pd.read_pickle('comm0/re.df')"
   ]
  },
  {
   "cell_type": "code",
   "execution_count": 37,
   "metadata": {
    "collapsed": false
   },
   "outputs": [
    {
     "data": {
      "text/plain": [
       "Series([], Name: reads, dtype: float64)"
      ]
     },
     "execution_count": 37,
     "metadata": {},
     "output_type": "execute_result"
    }
   ],
   "source": [
    "ro['reads']"
   ]
  },
  {
   "cell_type": "code",
   "execution_count": 27,
   "metadata": {
    "collapsed": true
   },
   "outputs": [],
   "source": [
    "import pandas\n",
    "import pickle"
   ]
  },
  {
   "cell_type": "code",
   "execution_count": 32,
   "metadata": {
    "collapsed": false
   },
   "outputs": [
    {
     "name": "stdout",
     "output_type": "stream",
     "text": [
      "/Users/hedani/Documents/Projects/MicrobialEcology/CommunitySampling\n"
     ]
    }
   ],
   "source": [
    "cd /Users/hedani/Documents/Projects/MicrobialEcology/CommunitySampling"
   ]
  },
  {
   "cell_type": "code",
   "execution_count": 33,
   "metadata": {
    "collapsed": false
   },
   "outputs": [],
   "source": [
    "f=open('comm0/sim_db.pk')\n",
    "pk=pickle.load(f)"
   ]
  },
  {
   "cell_type": "code",
   "execution_count": 34,
   "metadata": {
    "collapsed": false
   },
   "outputs": [
    {
     "data": {
      "text/plain": [
       "(defaultdict(list, {'Escherichia coli': ['NC_000913.3']}),\n",
       " {'NC_000913.3': 4641652},\n",
       " {'NC_000913.3': 'Escherichia coli'},\n",
       " {})"
      ]
     },
     "execution_count": 34,
     "metadata": {},
     "output_type": "execute_result"
    }
   ],
   "source": [
    "pk"
   ]
  },
  {
   "cell_type": "code",
   "execution_count": 32,
   "metadata": {
    "collapsed": false
   },
   "outputs": [
    {
     "data": {
      "text/plain": [
       "MutableSeq('AGCTTTTCATTCTGACTGCAACGGGCAATATGTCTCTGTGTGGATTAAAAAAAG...TTC', IUPACUnambiguousDNA())"
      ]
     },
     "execution_count": 32,
     "metadata": {},
     "output_type": "execute_result"
    }
   ],
   "source": [
    "mutable_seq"
   ]
  },
  {
   "cell_type": "code",
   "execution_count": 67,
   "metadata": {
    "collapsed": false
   },
   "outputs": [
    {
     "data": {
      "text/plain": [
       "MutableSeq('AGCTTTTCATTCTGACTGCAACGGGCGATAAGTCTCTGTCTGGATTAAAAAACT...TTC', IUPACUnambiguousDNA())"
      ]
     },
     "execution_count": 67,
     "metadata": {},
     "output_type": "execute_result"
    }
   ],
   "source": [
    "mutated"
   ]
  },
  {
   "cell_type": "code",
   "execution_count": 72,
   "metadata": {
    "collapsed": true
   },
   "outputs": [],
   "source": [
    "rec2=rec\n",
    "rec2.seq=mutated\n",
    "rec2.id=\"mut_\"+rec2.id\n",
    "rec2.description=\"mut_\"+rec2.description\n",
    "rec2.name=\"mut_\"+rec2.name"
   ]
  },
  {
   "cell_type": "code",
   "execution_count": null,
   "metadata": {
    "collapsed": true
   },
   "outputs": [],
   "source": []
  },
  {
   "cell_type": "code",
   "execution_count": 66,
   "metadata": {
    "collapsed": false
   },
   "outputs": [
    {
     "name": "stderr",
     "output_type": "stream",
     "text": [
      "/Library/Python/2.7/site-packages/ipykernel/__main__.py:7: DeprecationWarning: using a non-integer number instead of an integer will result in an error in the future\n"
     ]
    }
   ],
   "source": [
    "mutated=mutateSeq(mutable_seq,.01)"
   ]
  },
  {
   "cell_type": "code",
   "execution_count": 71,
   "metadata": {
    "collapsed": false
   },
   "outputs": [],
   "source": [
    "with open(\"/Users/hedani/Documents/Projects/MicrobialEcology/CommunitySampling/comm0/References/Fasta/NC_000913.3_mutated.fasta\", \"w\") as output_handle:\n",
    "    SeqIO.write(rec2, output_handle, \"fasta\")"
   ]
  },
  {
   "cell_type": "code",
   "execution_count": 65,
   "metadata": {
    "collapsed": false
   },
   "outputs": [],
   "source": [
    "def mutateSeq(mutable_seq,rate):\n",
    "    nr=['A','C','G','T']\n",
    "    nt={'A': 0,'C': 1,'G': 2,'T': 3}\n",
    "    \n",
    "    prob=np.matrix('0 1 1 1; 1 0 1 1; 1 1 0 1; 1 1 1 0')/float(3)\n",
    "    prob=prob.tolist()\n",
    "    rand_ch=np.random.choice(range(len(mutable_seq)),np.round(len(mutable_seq)*rate))\n",
    "    for i,c in enumerate(rand_ch):\n",
    "        mutable_seq[c]=np.random.choice(nr,None,False,prob[nt[mutable_seq[c]]])\n",
    "    \n",
    "    return mutable_seq"
   ]
  },
  {
   "cell_type": "code",
   "execution_count": 46,
   "metadata": {
    "collapsed": false
   },
   "outputs": [
    {
     "data": {
      "text/plain": [
       "'GATC'"
      ]
     },
     "execution_count": 46,
     "metadata": {},
     "output_type": "execute_result"
    }
   ],
   "source": [
    "IUPAC.unambiguous_dna.letters"
   ]
  },
  {
   "cell_type": "code",
   "execution_count": 52,
   "metadata": {
    "collapsed": false
   },
   "outputs": [
    {
     "data": {
      "text/plain": [
       "[[0.0, 0.3333333333333333, 0.3333333333333333, 0.3333333333333333],\n",
       " [0.3333333333333333, 0.0, 0.3333333333333333, 0.3333333333333333],\n",
       " [0.3333333333333333, 0.3333333333333333, 0.0, 0.3333333333333333],\n",
       " [0.3333333333333333, 0.3333333333333333, 0.3333333333333333, 0.0]]"
      ]
     },
     "execution_count": 52,
     "metadata": {},
     "output_type": "execute_result"
    }
   ],
   "source": [
    "prob=np.matrix('0 1 1 1; 1 0 1 1; 1 1 0 1; 1 1 1 0')/float(3)\n",
    "prob.tolist()"
   ]
  },
  {
   "cell_type": "code",
   "execution_count": 29,
   "metadata": {
    "collapsed": false
   },
   "outputs": [],
   "source": [
    "# import trimmed multiple alignment for creating MC\n",
    "handle = open(\"/Users/Shared/ecol_maf2.fasta-gb\", \"rU\")\n",
    "seq=[]\n",
    "for rec in SeqIO.parse(handle, \"fasta\"):\n",
    "    seq.append(rec.seq)"
   ]
  },
  {
   "cell_type": "code",
   "execution_count": 54,
   "metadata": {
    "collapsed": false
   },
   "outputs": [
    {
     "data": {
      "text/plain": [
       "[Seq('CGGAAAAGAACTCGCCATCGCAGGTGGCGCAGTAGGCCACACCGCGACCAGAGT...GAT', SingleLetterAlphabet()),\n",
       " Seq('CGGAAAAGAACTCGCCATCGCAGGTGGCGCAGTAGGCCACACCGCGACCAGAGT...GAT', SingleLetterAlphabet()),\n",
       " Seq('CGGAAAAGAACTCGCCATCGCAGGTGGCGCAGTAGGCCACACCGCGACCAGAGT...GAT', SingleLetterAlphabet()),\n",
       " Seq('CGGAAAAGAACTCGCCATCGCAGGTGGCGCAGTAGGCCACACCGCGACCAGAGT...GAT', SingleLetterAlphabet()),\n",
       " Seq('CGGAAAAGAACTCGCCATCGCAGGTGGCGCAGTAGGCCACACCGCGACCAGAGT...GAT', SingleLetterAlphabet()),\n",
       " Seq('CGGAAAAGAACTCGCCATCGCAGGTGGCGCAGTAGGCCACACCGCGACCAGAGT...GAT', SingleLetterAlphabet()),\n",
       " Seq('CGGCAAAGAACTCGCCATCGCAGGTGGCGCAGTAGGCCACACCGCGACCAGCGT...GAT', SingleLetterAlphabet()),\n",
       " Seq('CGGAAAAGAACTCGCCATCGCAGGTGGCGCAGTAGGCCACACCGCGACCAGAGT...GAT', SingleLetterAlphabet())]"
      ]
     },
     "execution_count": 54,
     "metadata": {},
     "output_type": "execute_result"
    }
   ],
   "source": [
    "for i in range(len(seq[0])):\n",
    "    seq[i]="
   ]
  },
  {
   "cell_type": "code",
   "execution_count": 9,
   "metadata": {
    "collapsed": false
   },
   "outputs": [
    {
     "name": "stdout",
     "output_type": "stream",
     "text": [
      "NC_000913.3.fasta  NC_002655.2.fasta  NC_009614.1.fasta\r\n"
     ]
    }
   ],
   "source": [
    "ls comm0/References/Fasta/"
   ]
  },
  {
   "cell_type": "code",
   "execution_count": 31,
   "metadata": {
    "collapsed": false
   },
   "outputs": [],
   "source": [
    "from Bio import SeqIO\n",
    "from Bio.Seq import MutableSeq\n",
    "from Bio.Alphabet import IUPAC\n",
    "handle = open(\"/Users/hedani/Documents/Projects/MicrobialEcology/CommunitySampling/comm0/References/Fasta/NC_000913.3.fasta\", \"rU\")\n",
    "for rec in SeqIO.parse(handle, \"fasta\"):\n",
    "    seq = rec.seq\n",
    "mutable_seq = MutableSeq(str(rec.seq), IUPAC.unambiguous_dna)\n",
    "handle.close()"
   ]
  },
  {
   "cell_type": "code",
   "execution_count": null,
   "metadata": {
    "collapsed": true
   },
   "outputs": [],
   "source": [
    "for rec in SeqIO.parse(\"sequence.gb\", \"genbank\"):\n",
    "    if rec.features:\n",
    "        for feature in rec.features:\n",
    "            if feature.type == \"CDS\":\n",
    "                print feature.location\n",
    "                print feature.qualifiers[\"protein_id\"]\n",
    "                print feature.location.extract(rec).seq"
   ]
  },
  {
   "cell_type": "code",
   "execution_count": null,
   "metadata": {
    "collapsed": false
   },
   "outputs": [],
   "source": [
    "x=None"
   ]
  },
  {
   "cell_type": "code",
   "execution_count": 218,
   "metadata": {
    "collapsed": false
   },
   "outputs": [
    {
     "name": "stdout",
     "output_type": "stream",
     "text": [
      " [-----------------80%----------        ] 1201 of 1500 complete in 103.2 sec"
     ]
    },
    {
     "name": "stderr",
     "output_type": "stream",
     "text": [
      "/Library/Python/2.7/site-packages/pymc/StepMethods.py:1272: UserWarning: \n",
      "Covariance was not positive definite and proposal_sd cannot be computed by \n",
      "Cholesky decomposition. The next jumps will be based on the last \n",
      "valid covariance matrix. This situation may have arisen because no \n",
      "jumps were accepted during the last `interval`. One solution is to \n",
      "increase the interval, or specify an initial covariance matrix with \n",
      "a smaller variance. For this simulation, each time a similar error \n",
      "occurs, proposal_sd will be reduced by a factor .9 to reduce the \n",
      "jumps and increase the likelihood of accepted jumps.\n",
      "  warnings.warn(adjustmentwarning)\n"
     ]
    },
    {
     "name": "stdout",
     "output_type": "stream",
     "text": [
      " [-----------------100%-----------------] 1500 of 1500 complete in 128.8 secMaximum posterior probs =  0.458280861811\n"
     ]
    }
   ],
   "source": [
    "# Import relevant modules\n",
    "import pymc\n",
    "import numpy as np\n",
    "\n",
    "# Some data\n",
    "\n",
    "observations=[x for x in samp/float(1000) if x < 1/float(2)]\n",
    "#observations=samp\n",
    "\n",
    "#n = 5*np.ones(4,dtype=int)\n",
    "#x = np.array([-.86,-.3,-.05,.73])\n",
    "\n",
    "# Priors on unknown parameters\n",
    "#alpha = pymc.Normal('alpha',mu=0,tau=.01)\n",
    "#beta = pymc.Normal('beta',mu=0,tau=.01)\n",
    "\n",
    "# Define prior\n",
    "probs = pymc.Dirichlet(name=\"theta\",theta=[1/float(2)]*3)\n",
    "#probs_full = pymc.CompletedDirichlet(\"theta_full\",theta)\n",
    "\n",
    "# Arbitrary deterministic function of parameters\n",
    "#@pymc.deterministic\n",
    "#def theta(a=alpha, b=beta):\n",
    "#\t\"\"\"theta = logit^{-1}(a+b)\"\"\"\n",
    "#\treturn pymc.invlogit(a+b*x)\n",
    "\n",
    "def PB(x,Bb,Cc):\n",
    "    return 2**(2*Cc*x)*(-1 + 2**Bb)\n",
    "\n",
    "def PC(x,Cc):\n",
    "    return (2**Cc - 2**(1 + 2*Cc*x) + 2**(Cc + 2*Cc*x))/2**Cc\n",
    "\n",
    "def PD(x,Cc,Dd):\n",
    "    return 2**(1 - Cc - Dd + 2*Cc*x)*(-1 + 2**Dd)\n",
    "\n",
    "@pymc.stochastic(dtype=float,observed=True)\n",
    "def P(probs=probs,value=observations):\n",
    "    theta = np.hstack((probs,1-probs.sum()))\n",
    "    #Bb=theta[0]\n",
    "    #Cc=theta[1]\n",
    "    #Dd=theta[2]\n",
    "    return np.prod(PB(value,theta[0],theta[1])+PC(value,theta[1])+PD(value,theta[1],theta[2]))\n",
    "\n",
    "alpha = pymc.Uniform('alpha',lower=0, upper=1000)\n",
    "beta = pymc.Uniform('beta',lower=0, upper=1000)\n",
    "\n",
    "C = pymc.Beta('C',alpha=alpha,beta=beta)\n",
    "\n",
    "@pymc.stochastic(dtype=float,observed=True)\n",
    "def pn(C=C,beta=beta,value=observations):\n",
    "    #theta = np.hstack((probs,1-probs.sum()))\n",
    "    #Bb=theta[0]\n",
    "    #Cc=theta[1]\n",
    "    #Dd=theta[2]\n",
    "    return np.prod([pxn(x,C,1) for x in value])\n",
    "\n",
    "#model = pymc.Model([probs,P])\n",
    "\n",
    "model = pymc.Model(pn)\n",
    "\n",
    "#graph = pymc.graph.graph(model)\n",
    "#graph.write_png(\"graph.png\")\n",
    "\n",
    "\n",
    "#fitter=pymc.MAP(model)\n",
    "#fitter.fit()\n",
    "\n",
    "M = pymc.MCMC([C,model])\n",
    "M.use_step_method(pymc.AdaptiveMetropolis,C)\n",
    "M.sample(iter=1500, burn=400, thin=2)\n",
    "\n",
    "print \"Maximum posterior probs = \", C.value"
   ]
  },
  {
   "cell_type": "code",
   "execution_count": 219,
   "metadata": {
    "collapsed": false
   },
   "outputs": [
    {
     "name": "stdout",
     "output_type": "stream",
     "text": [
      "Plotting C\n"
     ]
    },
    {
     "data": {
      "image/png": "[encoded data removed]",
      "text/plain": [
       "<matplotlib.figure.Figure at 0x10b8cad10>"
      ]
     },
     "metadata": {},
     "output_type": "display_data"
    }
   ],
   "source": [
    "pymc.Matplot.plot(M)"
   ]
  },
  {
   "cell_type": "code",
   "execution_count": 92,
   "metadata": {
    "collapsed": false
   },
   "outputs": [
    {
     "name": "stderr",
     "output_type": "stream",
     "text": [
      "/System/Library/Frameworks/Python.framework/Versions/2.7/Extras/lib/python/scipy/integrate/quadpack.py:293: UserWarning: The occurrence of roundoff error is detected, which prevents \n",
      "  the requested tolerance from being achieved.  The error may be \n",
      "  underestimated.\n",
      "  warnings.warn(msg)\n",
      "/System/Library/Frameworks/Python.framework/Versions/2.7/Extras/lib/python/scipy/integrate/quadpack.py:293: UserWarning: The maximum number of subdivisions (50) has been achieved.\n",
      "  If increasing the limit yields no improvement it is advised to analyze \n",
      "  the integrand in order to determine the difficulties.  If the position of a \n",
      "  local difficulty can be determined (singularity, discontinuity) one will \n",
      "  probably gain from splitting up the interval and calling the integrator \n",
      "  on the subranges.  Perhaps a special-purpose integrator should be used.\n",
      "  warnings.warn(msg)\n"
     ]
    }
   ],
   "source": [
    "nr_samples=10000\n",
    "        \n",
    "samp=inverse_transform_sampling(.6,nr_samples,1000)"
   ]
  },
  {
   "cell_type": "code",
   "execution_count": 208,
   "metadata": {
    "collapsed": false
   },
   "outputs": [
    {
     "data": {
      "text/plain": [
       "[1.713822547073222,\n",
       " 2.201394547941149,\n",
       " 1.7925554377950603,\n",
       " 1.946412833079749,\n",
       " 1.728137172594991,\n",
       " 2.0717037822746533,\n",
       " 2.2234773946864945,\n",
       " 2.0494229299514397,\n",
       " 1.856284368758959,\n",
       " 2.0596764670516716,\n",
       " 1.749833601872147,\n",
       " 2.3044424474675678,\n",
       " 2.2834540163954471,\n",
       " 2.4344868998647438,\n",
       " 2.166877712490709,\n",
       " 2.1813446578765125,\n",
       " 1.951275840002392,\n",
       " 1.7747523663044473,\n",
       " 1.744021393459414,\n",
       " 2.4426001863720925,\n",
       " 1.870232637303288,\n",
       " 1.6236241874153752,\n",
       " 1.847043363703978,\n",
       " 2.4003050011824101,\n",
       " 1.8624707100876767,\n",
       " 2.0613903704684531,\n",
       " 1.915893991493232,\n",
       " 2.3430987166439525,\n",
       " 1.6785525890656403,\n",
       " 2.1759082690510816,\n",
       " 2.1904355060573164,\n",
       " 2.4304403680546796,\n",
       " 1.7109738821434899,\n",
       " 1.7747523663044473,\n",
       " 2.1759082690510816,\n",
       " 1.6729771460812648,\n",
       " 2.1977354553145911,\n",
       " 1.7866013254813549,\n",
       " 2.4043013594838953,\n",
       " 2.1489288809409572,\n",
       " 2.287255825086421,\n",
       " 1.6925726238540164,\n",
       " 2.4063020330755549,\n",
       " 2.366603040263386,\n",
       " 2.3353159320076466,\n",
       " 2.2815554824269038,\n",
       " 2.134676920964667,\n",
       " 2.2346017495596424,\n",
       " 1.8332680416739273,\n",
       " 1.965937882024871,\n",
       " 2.0803376973656271,\n",
       " 2.2551411536630392,\n",
       " 1.7052907493123903,\n",
       " 1.7109738821434899,\n",
       " 1.6494873769194809,\n",
       " 1.9190838356396624,\n",
       " 2.396315285508984,\n",
       " 1.9873111042065146,\n",
       " 1.6222742562804253,\n",
       " 2.4426001863720925,\n",
       " 2.2087310198211796,\n",
       " 2.3903431427788959,\n",
       " 2.0545433020155759,\n",
       " 2.0392204372869469,\n",
       " 2.3178990539648918,\n",
       " 1.8165709790192808,\n",
       " 2.0022439180733529,\n",
       " 2.044315318976373,\n",
       " 2.2948784423309658,\n",
       " 1.6141982066970981,\n",
       " 1.8090317609349087,\n",
       " 1.946412833079749,\n",
       " 2.1650761036501951,\n",
       " 1.9856587925723361,\n",
       " 2.4243831781419978,\n",
       " 1.7895759053930809,\n",
       " 1.6799493506753727,\n",
       " 2.1258174846791014,\n",
       " 2.0751530400166631,\n",
       " 1.8937130477652351,\n",
       " 1.8624707100876767,\n",
       " 1.6249752418585832,\n",
       " 2.2216287271277042,\n",
       " 2.1686808204907249,\n",
       " 1.885853671048763,\n",
       " 1.6467456479985429,\n",
       " 2.3824034321064569,\n",
       " 2.2327438328697302,\n",
       " 1.7166759548526067,\n",
       " 2.0256960771683747,\n",
       " 2.3744900938005755,\n",
       " 1.797034040358231,\n",
       " 2.0392204372869469,\n",
       " 1.7310144133341487,\n",
       " 1.8578290250062042,\n",
       " 1.7267003461465853,\n",
       " 2.3607049469584767,\n",
       " 2.1759082690510816,\n",
       " 1.6290351543889472,\n",
       " 1.9127094494109886,\n",
       " 1.7644490081048305,\n",
       " 1.843973263090082,\n",
       " 2.325623794287369,\n",
       " 1.8090317609349087,\n",
       " 2.2364612122640923,\n",
       " 2.2720864638461391,\n",
       " 1.8332680416739273,\n",
       " 2.1258174846791014,\n",
       " 2.1704854288977278,\n",
       " 1.9989158477081181,\n",
       " 2.2815554824269038,\n",
       " 2.1849764608463911,\n",
       " 1.9351128968157894,\n",
       " 1.9528995408033487,\n",
       " 2.2570177076706313,\n",
       " 1.7238302761217605,\n",
       " 1.7252647143199236,\n",
       " 2.201394547941149,\n",
       " 2.3430987166439525,\n",
       " 1.8105370972174422,\n",
       " 2.1614773784629215,\n",
       " 1.9675737834429252,\n",
       " 2.3784434718893932,\n",
       " 1.964303340745619,\n",
       " 1.8378483624703206,\n",
       " 1.9545245927225008,\n",
       " 2.4183410840737238,\n",
       " 1.744021393459414,\n",
       " 2.2853541301770872,\n",
       " 2.0890075946710644,\n",
       " 2.2160919415753586,\n",
       " 2.3353159320076466,\n",
       " 2.0256960771683747,\n",
       " 2.1722915389602409,\n",
       " 2.4043013594838953,\n",
       " 2.1596802596263758,\n",
       " 1.8317438061843694,\n",
       " 1.8717889002205601,\n",
       " 1.9610383340810176,\n",
       " 2.3923322014224384,\n",
       " 1.8531989080209592,\n",
       " 1.6426415970376906,\n",
       " 2.2664239265584767,\n",
       " 2.4163304008444264,\n",
       " 2.0477189766331381,\n",
       " 2.1364532339570679,\n",
       " 1.7123976222451709,\n",
       " 1.6440084762979756,\n",
       " 1.6494873769194809,\n",
       " 2.0324470079915362,\n",
       " 1.7425713603807635,\n",
       " 2.3372592012633575,\n",
       " 2.1382310250597234,\n",
       " 1.6399112469687223,\n",
       " 2.044315318976373,\n",
       " 1.713822547073222,\n",
       " 1.6771569887665114,\n",
       " 2.3082792005888151,\n",
       " 2.4123140482277061,\n",
       " 2.2087310198211796,\n",
       " 1.6939810518520932,\n",
       " 2.1795310207722207,\n",
       " 2.0596764670516716,\n",
       " 2.3863699854105977,\n",
       " 2.1813446578765125,\n",
       " 1.8795896613964591,\n",
       " 1.9095302005800006,\n",
       " 1.6785525890656403,\n",
       " 1.9415619458358537,\n",
       " 2.0528350914623026,\n",
       " 1.9206807487450022,\n",
       " 1.7024562656834648,\n",
       " 2.2068946128524392,\n",
       " 2.013935860541598,\n",
       " 2.4143213893590665,\n",
       " 2.2739771184299546,\n",
       " 2.3314342392345435,\n",
       " 1.7324548296155262,\n",
       " 1.7310144133341487,\n",
       " 2.3294958130315937,\n",
       " 2.1777188915816517,\n",
       " 1.7024562656834648,\n",
       " 2.4123140482277061,\n",
       " 1.6236241874153752,\n",
       " 2.3159718813316736,\n",
       " 1.9254794654502114,\n",
       " 2.134676920964667,\n",
       " 2.2032263781813621,\n",
       " 1.6701963731637748,\n",
       " 2.2346017495596424,\n",
       " 2.0172889382925381,\n",
       " 2.287255825086421,\n",
       " 2.4264005622695906,\n",
       " 2.0786080405579432,\n",
       " 1.7252647143199236,\n",
       " 1.6701963731637748,\n",
       " 2.3903431427788959,\n",
       " 1.9079425583836909,\n",
       " 1.9757737322612936,\n",
       " 1.6290351543889472,\n",
       " 2.1560905032507582,\n",
       " 2.3159718813316736,\n",
       " 2.0426156122830812,\n",
       " 2.0122614122653224,\n",
       " 1.6688077204798046,\n",
       " 2.0665406425338078,\n",
       " 2.0648224570222724,\n",
       " 1.8968659620221067,\n",
       " 1.7762291779266652,\n",
       " 2.3705432868993839,\n",
       " 1.8060248420780252,\n",
       " 1.6276807244094718,\n",
       " 1.9873111042065146,\n",
       " 2.4344868998647438,\n",
       " 2.4123140482277061,\n",
       " 2.3101999719682347,\n",
       " 1.7718024256390705,\n",
       " 1.6577399829425863,\n",
       " 1.7940470637561052,\n",
       " 2.2986992719794448,\n",
       " 2.1813446578765125,\n",
       " 2.0803376973656271,\n",
       " 2.3392040875574089,\n",
       " 2.2758693462702522,\n",
       " 2.0528350914623026,\n",
       " 2.0528350914623026,\n",
       " 1.7732767825488778,\n",
       " 1.6426415970376906,\n",
       " 2.044315318976373,\n",
       " 2.4123140482277061,\n",
       " 1.8241416171210074,\n",
       " 2.3450484621309515,\n",
       " 1.6385477742710401,\n",
       " 2.3567810533188873,\n",
       " 1.7910650520177611,\n",
       " 1.6399112469687223,\n",
       " 2.2626567440304379,\n",
       " 2.2588958232012959,\n",
       " 2.3489528217370874,\n",
       " 2.2739771184299546,\n",
       " 2.3198278302420858,\n",
       " 2.0768798218401789,\n",
       " 1.8150606259816562,\n",
       " 1.9431775634855639,\n",
       " 2.0528350914623026,\n",
       " 2.1275864255340031,\n",
       " 1.9561509968841435,\n",
       " 1.6263274205447789,\n",
       " 1.7367832740680103,\n",
       " 1.9955933091625873,\n",
       " 2.4284196251081864,\n",
       " 2.3430987166439525,\n",
       " 2.3626693429883048,\n",
       " 1.7267003461465853,\n",
       " 2.0290687349474035,\n",
       " 2.1169948172415651,\n",
       " 2.30061207168339,\n",
       " 2.2513927250249601,\n",
       " 2.2032263781813621,\n",
       " 2.325623794287369,\n",
       " 2.1258174846791014,\n",
       " 2.0579639886269554,\n",
       " 2.3372592012633575,\n",
       " 2.396315285508984,\n",
       " 2.2476505269136178,\n",
       " 2.0768798218401789,\n",
       " 2.2253276005634137,\n",
       " 1.6426415970376906,\n",
       " 2.1152346825758759,\n",
       " 2.134676920964667,\n",
       " 2.2216287271277042,\n",
       " 2.1886143105419724,\n",
       " 1.6660338778576991,\n",
       " 2.2383222222695554,\n",
       " 1.6331052103906272,\n",
       " 1.8135515286980448,\n",
       " 2.2588958232012959,\n",
       " 1.8749053121375208,\n",
       " 2.1222840140021297,\n",
       " 2.0055775294684253,\n",
       " 2.1417910465166972,\n",
       " 1.7123976222451709,\n",
       " 1.9989158477081181,\n",
       " 1.7252647143199236,\n",
       " 2.321758211497686,\n",
       " 1.7166759548526067,\n",
       " 2.2087310198211796,\n",
       " 1.9724896598526351,\n",
       " 2.287255825086421,\n",
       " 2.1258174846791014,\n",
       " 1.7703292945549882,\n",
       " 2.1578846349697569,\n",
       " 2.013935860541598,\n",
       " 2.1507170533119009,\n",
       " 2.0005791908379988,\n",
       " 2.2364612122640923,\n",
       " 1.839377677699364,\n",
       " 1.7109738821434899,\n",
       " 2.0751530400166631,\n",
       " 2.1525067136615572,\n",
       " 2.2664239265584767,\n",
       " 1.8045232574233308,\n",
       " 1.9528995408033487,\n",
       " 2.1258174846791014,\n",
       " 2.4183410840737238,\n",
       " 2.0665406425338078,\n",
       " 2.3140463110091143,\n",
       " 2.4304403680546796,\n",
       " 1.7880879968907495,\n",
       " 2.1134760113403361,\n",
       " 2.2197815966080348,\n",
       " 2.0959695204602458,\n",
       " 1.8180825888558607,\n",
       " 2.3101999719682347,\n",
       " 1.8686776683109168,\n",
       " 2.1099630542937522,\n",
       " 1.6426415970376906,\n",
       " 2.192258217030679,\n",
       " 2.1507170533119009,\n",
       " 2.30061207168339,\n",
       " 1.9318964096400044,\n",
       " 2.2383222222695554,\n",
       " 2.4143213893590665,\n",
       " 1.959407866436766,\n",
       " 1.9545245927225008,\n",
       " 1.8516581013955205,\n",
       " 2.4426001863720925,\n",
       " 1.7985293930658586,\n",
       " 2.3353159320076466,\n",
       " 1.7310144133341487,\n",
       " 1.7223970305596761,\n",
       " 1.6577399829425863,\n",
       " 1.9545245927225008,\n",
       " 1.8686776683109168,\n",
       " 2.2986992719794448,\n",
       " 2.1596802596263758,\n",
       " 1.8780269126861882,\n",
       " 2.1382310250597234,\n",
       " 2.0562529340095228,\n",
       " 1.7762291779266652,\n",
       " 2.30061207168339,\n",
       " 2.4183410840737238,\n",
       " 2.210568954905733,\n",
       " 1.7310144133341487,\n",
       " 2.2142494145096552,\n",
       " 1.7152486576134809,\n",
       " 1.9016051787740045,\n",
       " 2.3705432868993839,\n",
       " 2.4243831781419978,\n",
       " 2.3372592012633575,\n",
       " 2.3275589984958649,\n",
       " 1.8045232574233308,\n",
       " 1.6799493506753727,\n",
       " 1.8516581013955205,\n",
       " 2.183159804149299,\n",
       " 1.7940470637561052,\n",
       " 1.9111191638893235,\n",
       " 1.9807100957984993,\n",
       " 1.8889934999329971,\n",
       " 2.0768798218401789,\n",
       " 1.6996264934490304,\n",
       " 1.6660338778576991,\n",
       " 2.2739771184299546,\n",
       " 1.7688573882774419,\n",
       " 1.9561509968841435,\n",
       " 2.2701973812107501,\n",
       " 2.4365126915279181,\n",
       " 1.7985293930658586,\n",
       " 1.9367231480658114,\n",
       " 2.2834540163954471,\n",
       " 2.2050597327289885,\n",
       " 2.1012061866568619,\n",
       " 1.9561509968841435,\n",
       " 1.9610383340810176,\n",
       " 1.939947671460396,\n",
       " 1.8165709790192808,\n",
       " 1.7910650520177611,\n",
       " 1.9675737834429252,\n",
       " 1.9972538875329251,\n",
       " 2.4446327292846441,\n",
       " 2.1169948172415651,\n",
       " 2.044315318976373,\n",
       " 1.9922762932419316,\n",
       " 2.2234773946864945,\n",
       " 2.3159718813316736,\n",
       " 2.1222840140021297,\n",
       " 1.6168857461557915,\n",
       " 2.4183410840737238,\n",
       " 2.2796585269579497,\n",
       " 2.0648224570222724,\n",
       " 2.4446327292846441,\n",
       " 2.192258217030679,\n",
       " 1.6897592799154439,\n",
       " 2.087270729443846,\n",
       " 2.0751530400166631,\n",
       " 2.3607049469584767,\n",
       " 1.7527469658144854,\n",
       " 2.0734276938927159,\n",
       " 1.870232637303288,\n",
       " 1.7425713603807635,\n",
       " 1.9143010582452387,\n",
       " 1.965937882024871,\n",
       " 2.0005791908379988,\n",
       " 2.2588958232012959,\n",
       " 1.7469250804368135,\n",
       " 1.9286852688136598,\n",
       " 2.3392040875574089,\n",
       " 1.6331052103906272,\n",
       " 1.6855480295594616,\n",
       " 1.6141982066970981,\n",
       " 2.0977136241483993,\n",
       " 2.2815554824269038,\n",
       " 2.1117188023182041,\n",
       " 2.2495208478011124,\n",
       " 2.2308874609089528,\n",
       " 2.1525067136615572,\n",
       " 1.6605000167463213,\n",
       " 1.6646486860004741,\n",
       " 2.3943229152067076,\n",
       " 2.0977136241483993,\n",
       " 2.3843858839370027,\n",
       " 2.3567810533188873,\n",
       " 2.106455936380021,\n",
       " 2.325623794287369,\n",
       " 2.3314342392345435,\n",
       " 1.783631689828,\n",
       " 1.8516581013955205,\n",
       " 2.1777188915816517,\n",
       " 1.749833601872147,\n",
       " 1.6605000167463213,\n",
       " 2.0786080405579432,\n",
       " 2.0477189766331381,\n",
       " 2.1417910465166972,\n",
       " 1.8485803303017119,\n",
       " 2.3509074385574649,\n",
       " 2.2570177076706313,\n",
       " 1.7880879968907495,\n",
       " 2.3314342392345435,\n",
       " 1.8075276762353043,\n",
       " 2.2346017495596424,\n",
       " 2.2701973812107501,\n",
       " 2.1704854288977278,\n",
       " 2.132902084853574,\n",
       " 2.0717037822746533,\n",
       " 2.3333742784458216,\n",
       " 1.9367231480658114,\n",
       " 1.8795896613964591,\n",
       " 1.9190838356396624,\n",
       " 1.9873111042065146,\n",
       " 1.8609221946005545,\n",
       " 1.9254794654502114,\n",
       " 1.7615161933753989,\n",
       " 2.3101999719682347,\n",
       " 1.8075276762353043,\n",
       " 2.396315285508984,\n",
       " 2.3044424474675678,\n",
       " 2.1813446578765125,\n",
       " 1.9174882502570421,\n",
       " 2.1099630542937522,\n",
       " 1.713822547073222,\n",
       " 2.0055775294684253,\n",
       " 2.0613903704684531,\n",
       " 1.9708496712235921,\n",
       " 1.959407866436766,\n",
       " 2.0189675700870375,\n",
       " 1.9626701584743083,\n",
       " 2.4304403680546796,\n",
       " 2.1400102955026021,\n",
       " 1.9692110461315844,\n",
       " 2.2796585269579497,\n",
       " 2.0648224570222724,\n",
       " 2.2457817610684891,\n",
       " 1.7866013254813549,\n",
       " 1.7940470637561052,\n",
       " 2.2142494145096552,\n",
       " 2.3275589984958649,\n",
       " 1.6729771460812648,\n",
       " 1.6605000167463213,\n",
       " 1.9206807487450022,\n",
       " 2.3923322014224384,\n",
       " 2.1650761036501951,\n",
       " 2.2364612122640923,\n",
       " 2.3178990539648918,\n",
       " 2.0959695204602458,\n",
       " 1.9545245927225008,\n",
       " 1.6660338778576991,\n",
       " 2.3159718813316736,\n",
       " 2.3198278302420858,\n",
       " 2.3430987166439525,\n",
       " 2.0768798218401789,\n",
       " 2.0924856621827836,\n",
       " 2.1099630542937522,\n",
       " 1.9873111042065146,\n",
       " 1.6953906518349915,\n",
       " 2.1867946292246474,\n",
       " 2.0734276938927159,\n",
       " 2.1258174846791014,\n",
       " 2.044315318976373,\n",
       " 2.3353159320076466,\n",
       " 2.0768798218401789,\n",
       " 1.7585882534834925,\n",
       " 1.8332680416739273,\n",
       " 2.2439145489728172,\n",
       " 2.1382310250597234,\n",
       " 1.9626701584743083,\n",
       " 2.4223674713296774,\n",
       " 2.0290687349474035,\n",
       " 1.6897592799154439,\n",
       " 2.0392204372869469,\n",
       " 2.1614773784629215,\n",
       " 2.3101999719682347,\n",
       " 1.9724896598526351,\n",
       " 2.2570177076706313,\n",
       " 2.2739771184299546,\n",
       " 2.1904355060573164,\n",
       " 1.6632646458344045,\n",
       " 1.8180825888558607,\n",
       " 1.8135515286980448,\n",
       " 2.1012061866568619,\n",
       " 2.063105700063069,\n",
       " 1.9577787544135095,\n",
       " 2.2532661598802224,\n",
       " 1.7324548296155262,\n",
       " 1.9561509968841435,\n",
       " 2.3121223416650016,\n",
       " 1.7940470637561052,\n",
       " 2.0768798218401789,\n",
       " 2.4284196251081864,\n",
       " 2.3314342392345435,\n",
       " 1.6813472745620617,\n",
       " 2.0924856621827836,\n",
       " 2.4203534404380567,\n",
       " 1.691165366866338,\n",
       " 2.0240118510859415,\n",
       " 2.2758693462702522,\n",
       " 1.8686776683109168,\n",
       " 2.2253276005634137,\n",
       " 1.9889647907666099,\n",
       " 1.9351128968157894,\n",
       " 1.890565374188786,\n",
       " 2.2050597327289885,\n",
       " 1.8060248420780252,\n",
       " 1.90318754749327,\n",
       " 1.9577787544135095,\n",
       " 2.3943229152067076,\n",
       " 1.6799493506753727,\n",
       " 1.7673867057880892,\n",
       " 1.9335039843782302,\n",
       " 1.7166759548526067,\n",
       " 2.2197815966080348,\n",
       " 1.7181044397780765,\n",
       " 1.6168857461557915,\n",
       " 2.3824034321064569,\n",
       " 2.2364612122640923,\n",
       " 1.6688077204798046,\n",
       " 2.1886143105419724,\n",
       " 1.9972538875329251,\n",
       " 1.6771569887665114,\n",
       " 2.0613903704684531,\n",
       " 2.2142494145096552,\n",
       " 1.9335039843782302,\n",
       " 1.948032487262553,\n",
       " 2.1614773784629215,\n",
       " 2.4324627925071254,\n",
       " 2.3121223416650016,\n",
       " 2.3705432868993839,\n",
       " 1.7223970305596761,\n",
       " 2.3236901990672303,\n",
       " 1.8135515286980448,\n",
       " 2.2087310198211796,\n",
       " 1.9906198533967292,\n",
       " 1.959407866436766,\n",
       " 2.2364612122640923,\n",
       " 1.951275840002392,\n",
       " 1.6869506122335969,\n",
       " 2.3025264630712718,\n",
       " 1.9302901714889078,\n",
       " 2.3784434718893932,\n",
       " 1.9577787544135095,\n",
       " 2.0055775294684253,\n",
       " 1.6968014247779475,\n",
       " 2.4243831781419978,\n",
       " 2.3804226285473944,\n",
       " 1.6771569887665114,\n",
       " 2.0648224570222724,\n",
       " 1.7152486576134809,\n",
       " 1.9016051787740045,\n",
       " 1.9127094494109886,\n",
       " 1.8120436861243752,\n",
       " 1.7425713603807635,\n",
       " 2.0189675700870375,\n",
       " 2.0890075946710644,\n",
       " 2.0838013300384186,\n",
       " 2.0172889382925381,\n",
       " 2.3548215529943701,\n",
       " 2.2197815966080348,\n",
       " 2.4324627925071254,\n",
       " 2.0699813039697834,\n",
       " 2.4284196251081864,\n",
       " 1.8764654632933062,\n",
       " 2.2197815966080348,\n",
       " 2.3824034321064569,\n",
       " 1.7732767825488778,\n",
       " 2.0358309056498398,\n",
       " 1.6222742562804253,\n",
       " 1.8686776683109168,\n",
       " 2.2179360018495458,\n",
       " 2.0734276938927159,\n",
       " 2.2834540163954471,\n",
       " 2.0392204372869469,\n",
       " 1.8485803303017119,\n",
       " 1.959407866436766,\n",
       " 1.9577787544135095,\n",
       " 2.0528350914623026,\n",
       " 2.4304403680546796,\n",
       " 1.6925726238540164,\n",
       " 2.2216287271277042,\n",
       " 2.087270729443846,\n",
       " 1.6785525890656403,\n",
       " 1.6536085316901676,\n",
       " 2.1704854288977278,\n",
       " 1.7806669902148173,\n",
       " 1.948032487262553,\n",
       " 2.1904355060573164,\n",
       " 1.8135515286980448,\n",
       " 2.0734276938927159,\n",
       " 1.6317473964412894,\n",
       " 2.4103083760615611,\n",
       " 2.3764659607631691,\n",
       " 2.0511283011678727,\n",
       " 2.1777188915816517,\n",
       " 1.8485803303017119,\n",
       " 1.7324548296155262,\n",
       " 2.30061207168339,\n",
       " 1.8984443871318231,\n",
       " 2.192258217030679,\n",
       " 2.1082087660522606,\n",
       " 2.0426156122830812,\n",
       " 2.3725158696346043,\n",
       " 1.9989158477081181,\n",
       " 2.1995642407409925,\n",
       " 1.6453764929694381,\n",
       " 1.8952888492636204,\n",
       " 1.8105370972174422,\n",
       " 2.3411505922353766,\n",
       " 1.8686776683109168,\n",
       " 2.0734276938927159,\n",
       " 2.3784434718893932,\n",
       " 2.2457817610684891,\n",
       " 1.6968014247779475,\n",
       " 1.9063562362019808,\n",
       " 2.4203534404380567,\n",
       " 1.7483787363444852,\n",
       " 2.192258217030679,\n",
       " 1.9741310131533445,\n",
       " 1.7396749100275173,\n",
       " 2.3314342392345435,\n",
       " 2.063105700063069,\n",
       " 2.2439145489728172,\n",
       " 1.8937130477652351,\n",
       " 1.9286852688136598,\n",
       " 1.9351128968157894,\n",
       " 2.4143213893590665,\n",
       " 2.0977136241483993,\n",
       " 1.8424401269498638,\n",
       " 1.9367231480658114,\n",
       " 2.1777188915816517,\n",
       " 1.959407866436766,\n",
       " 1.9840078547209199,\n",
       " 2.1650761036501951,\n",
       " 2.0324470079915362,\n",
       " 2.3528636818587483,\n",
       " 1.9016051787740045,\n",
       " 2.3236901990672303,\n",
       " 2.2701973812107501,\n",
       " 2.1977354553145911,\n",
       " 2.4103083760615611,\n",
       " 2.0172889382925381,\n",
       " 1.6577399829425863,\n",
       " 2.1258174846791014,\n",
       " 2.3392040875574089,\n",
       " 2.287255825086421,\n",
       " 1.7880879968907495,\n",
       " 1.9367231480658114,\n",
       " 1.8811537105053111,\n",
       " 1.8378483624703206,\n",
       " 2.0105883561768949,\n",
       " 1.8165709790192808,\n",
       " 2.106455936380021,\n",
       " 1.9528995408033487,\n",
       " 2.4103083760615611,\n",
       " 2.4183410840737238,\n",
       " 1.8764654632933062,\n",
       " 2.2720864638461391,\n",
       " 2.2439145489728172,\n",
       " 1.7673867057880892,\n",
       " 2.1777188915816517,\n",
       " 1.843973263090082,\n",
       " 2.2420488893347654,\n",
       " 2.4063020330755549,\n",
       " 2.1777188915816517,\n",
       " 1.9955933091625873,\n",
       " 2.4264005622695906,\n",
       " 1.7324548296155262,\n",
       " 2.3430987166439525,\n",
       " 2.2607755015544111,\n",
       " 1.797034040358231,\n",
       " 2.4243831781419978,\n",
       " 1.8165709790192808,\n",
       " 1.9143010582452387,\n",
       " 2.192258217030679,\n",
       " 2.402302349313854,\n",
       " 1.7747523663044473,\n",
       " 2.2929704097429822,\n",
       " 2.2142494145096552,\n",
       " 1.8952888492636204,\n",
       " 2.003910030565927,\n",
       " 1.6453764929694381,\n",
       " 2.4123140482277061,\n",
       " 1.797034040358231,\n",
       " 2.1940824447231067,\n",
       " 1.7629819908784712,\n",
       " 2.2327438328697302,\n",
       " 2.3923322014224384,\n",
       " 2.2626567440304379,\n",
       " 1.8060248420780252,\n",
       " 2.106455936380021,\n",
       " 1.7644490081048305,\n",
       " 2.2383222222695554,\n",
       " 2.227179346038529,\n",
       " 2.2777631486761734,\n",
       " 1.8889934999329971,\n",
       " 1.6467456479985429,\n",
       " 2.3528636818587483,\n",
       " 1.6841466130357414,\n",
       " 2.0959695204602458,\n",
       " 2.0223290253209236,\n",
       " 1.9955933091625873,\n",
       " 1.8655716077985363,\n",
       " 2.2068946128524392,\n",
       " 2.0409173187782623,\n",
       " 1.964303340745619,\n",
       " 2.3646353736365393,\n",
       " 1.7469250804368135,\n",
       " 2.1117188023182041,\n",
       " 1.6344641542076912,\n",
       " 2.1169948172415651,\n",
       " 1.7556651803263019,\n",
       " 2.3314342392345435,\n",
       " 2.1117188023182041,\n",
       " 2.0358309056498398,\n",
       " 2.3025264630712718,\n",
       " 1.6605000167463213,\n",
       " 1.9955933091625873,\n",
       " 2.1047045640643343,\n",
       " 2.1258174846791014,\n",
       " 2.1489288809409572,\n",
       " 1.7542054662447801,\n",
       " 2.2383222222695554,\n",
       " 1.6331052103906272,\n",
       " 2.2910639635520336,\n",
       " 2.0579639886269554,\n",
       " 2.4426001863720925,\n",
       " 2.2327438328697302,\n",
       " 1.659119425911592,\n",
       " 2.3705432868993839,\n",
       " 1.8655716077985363,\n",
       " 2.4426001863720925,\n",
       " 1.9496534891962694,\n",
       " 2.4344868998647438,\n",
       " 1.8842857142480207,\n",
       " 2.3353159320076466,\n",
       " 1.7238302761217605,\n",
       " 1.8686776683109168,\n",
       " 2.0942268668735942,\n",
       " 2.087270729443846,\n",
       " 2.2815554824269038,\n",
       " 2.3784434718893932,\n",
       " 2.4183410840737238,\n",
       " 2.3626693429883048,\n",
       " 2.0768798218401789,\n",
       " 2.4284196251081864,\n",
       " 2.3392040875574089,\n",
       " 2.4304403680546796,\n",
       " 1.8241416171210074,\n",
       " 2.3587421841879848,\n",
       " 1.6536085316901676,\n",
       " 2.4043013594838953,\n",
       " 2.3607049469584767,\n",
       " 2.0890075946710644,\n",
       " 1.7267003461465853,\n",
       " 2.120519481735418,\n",
       " 2.2476505269136178,\n",
       " 2.3824034321064569,\n",
       " 2.4405693333782938,\n",
       " 2.2720864638461391,\n",
       " 1.7483787363444852,\n",
       " 2.1099630542937522,\n",
       " 2.0665406425338078,\n",
       " 1.946412833079749,\n",
       " 2.3275589984958649,\n",
       " 1.7600516145814959,\n",
       " 2.1813446578765125,\n",
       " 2.1222840140021297,\n",
       " 1.9254794654502114,\n",
       " 1.6249752418585832,\n",
       " 2.0977136241483993,\n",
       " 2.2532661598802224,\n",
       " 2.0838013300384186,\n",
       " 2.2142494145096552,\n",
       " 1.7038729180836609,\n",
       " 1.7762291779266652,\n",
       " 1.6358242288326703,\n",
       " 1.9206807487450022,\n",
       " 1.7777072184372671,\n",
       " 2.227179346038529,\n",
       " 1.8717889002205601,\n",
       " 1.7267003461465853,\n",
       " 1.6481159423325433,\n",
       " 2.1134760113403361,\n",
       " 2.3903431427788959,\n",
       " 1.6358242288326703,\n",
       " 2.2986992719794448,\n",
       " 2.3101999719682347,\n",
       " 2.4243831781419978,\n",
       " 2.3923322014224384,\n",
       " 2.1886143105419724,\n",
       " 1.7615161933753989,\n",
       " 2.4344868998647438,\n",
       " 1.8060248420780252,\n",
       " 2.2929704097429822,\n",
       " 2.1240500145760866,\n",
       " 1.8780269126861882,\n",
       " 2.368572344230178,\n",
       " 1.6168857461557915,\n",
       " 1.9095302005800006,\n",
       " 2.3705432868993839,\n",
       " 1.9143010582452387,\n",
       " 2.0172889382925381,\n",
       " 2.2758693462702522,\n",
       " 1.959407866436766,\n",
       " 2.0717037822746533,\n",
       " 1.8271786992797647,\n",
       " 2.2588958232012959,\n",
       " 2.2346017495596424,\n",
       " 2.2439145489728172,\n",
       " 1.7659172460694348,\n",
       " 2.1596802596263758,\n",
       " 2.0838013300384186,\n",
       " 1.6399112469687223,\n",
       " 1.8889934999329971,\n",
       " 2.2645395519309179,\n",
       " 2.174099151927825,\n",
       " 2.0392204372869469,\n",
       " 1.7718024256390705,\n",
       " 1.6331052103906272,\n",
       " 2.3469998300453105,\n",
       " 2.2626567440304379,\n",
       " 1.8937130477652351,\n",
       " 2.2401847808635744,\n",
       " 2.0358309056498398,\n",
       " 1.783631689828,\n",
       " 1.964303340745619,\n",
       " 1.8952888492636204,\n",
       " 2.0156117021641919,\n",
       " 2.3198278302420858,\n",
       " 2.1813446578765125,\n",
       " 1.9222789906778879,\n",
       " 1.8075276762353043,\n",
       " 2.0256960771683747,\n",
       " 1.8795896613964591,\n",
       " 1.915893991493232,\n",
       " 1.843973263090082,\n",
       " 1.9174882502570421,\n",
       " 2.3063600261978547,\n",
       " 1.7052907493123903,\n",
       " 1.6785525890656403,\n",
       " 1.7688573882774419,\n",
       " 1.843973263090082,\n",
       " 1.6344641542076912,\n",
       " 1.8749053121375208,\n",
       " 2.3275589984958649,\n",
       " 1.7038729180836609,\n",
       " 2.1867946292246474,\n",
       " 1.733896444499901,\n",
       " 2.3923322014224384,\n",
       " 2.2834540163954471,\n",
       " 1.7310144133341487,\n",
       " 1.6953906518349915,\n",
       " 2.2160919415753586,\n",
       " 1.8968659620221067,\n",
       " 2.4043013594838953,\n",
       " 1.8075276762353043,\n",
       " 1.9939341114482292,\n",
       " 1.9174882502570421,\n",
       " 1.6522336706482783,\n",
       " 1.9111191638893235,\n",
       " 2.0803376973656271,\n",
       " 1.6331052103906272,\n",
       " 1.783631689828,\n",
       " 2.0460164400340841,\n",
       " 1.7910650520177611,\n",
       " 1.7851158901363389,\n",
       " 2.2420488893347654,\n",
       " 1.7659172460694348,\n",
       " 2.1759082690510816,\n",
       " 1.959407866436766,\n",
       " 2.4063020330755549,\n",
       " 2.1222840140021297,\n",
       " 2.2457817610684891,\n",
       " 2.0256960771683747,\n",
       " 2.1759082690510816,\n",
       " 2.1152346825758759,\n",
       " 2.0358309056498398,\n",
       " 2.0699813039697834,\n",
       " 1.7851158901363389,\n",
       " 2.4183410840737238,\n",
       " 1.7367832740680103,\n",
       " 2.2050597327289885,\n",
       " 1.9302901714889078,\n",
       " 1.7585882534834925,\n",
       " 1.733896444499901,\n",
       " 1.6182311933894769,\n",
       " 2.1117188023182041,\n",
       " 2.0613903704684531,\n",
       " 1.7152486576134809,\n",
       " 2.2050597327289885,\n",
       " 2.1471421953115737,\n",
       " 2.2796585269579497,\n",
       " 2.3333742784458216,\n",
       " 2.0648224570222724,\n",
       " 2.30061207168339,\n",
       " 2.2327438328697302,\n",
       " 2.0820687934598978,\n",
       " 2.2124084193776792,\n",
       " 2.2683098692168224,\n",
       " 2.0324470079915362,\n",
       " 2.3744900938005755,\n",
       " 1.7955399309328812,\n",
       " 1.6563616868849336,\n",
       " 1.6827463616928642,\n",
       " 2.0665406425338078,\n",
       " 2.3121223416650016,\n",
       " 2.120519481735418,\n",
       " 2.3294958130315937,\n",
       " 1.7542054662447801,\n",
       " 1.8749053121375208,\n",
       " 2.2457817610684891,\n",
       " 2.4223674713296774,\n",
       " 1.7038729180836609,\n",
       " 1.839377677699364,\n",
       " 1.9610383340810176,\n",
       " 1.964303340745619,\n",
       " 1.8241416171210074,\n",
       " 1.9610383340810176,\n",
       " 1.9270817005039056,\n",
       " 2.1686808204907249,\n",
       " 2.3063600261978547,\n",
       " 2.0613903704684531,\n",
       " 2.0545433020155759,\n",
       " 1.6618817564019388,\n",
       " 2.1904355060573164,\n",
       " 1.9626701584743083,\n",
       " 1.9335039843782302,\n",
       " 1.9238785625440689,\n",
       " 1.6757625488124366,\n",
       " 1.7052907493123903,\n",
       " 2.1152346825758759,\n",
       " 1.7010407911316876,\n",
       " 2.3784434718893932,\n",
       " 2.3705432868993839,\n",
       " 1.8733464581394381,\n",
       " 1.9047712329373705,\n",
       " 1.7010407911316876,\n",
       " 2.2701973812107501,\n",
       " 2.2645395519309179,\n",
       " 2.2607755015544111,\n",
       " 1.7615161933753989,\n",
       " 1.8686776683109168,\n",
       " 1.9190838356396624,\n",
       " 1.7542054662447801,\n",
       " 2.1904355060573164,\n",
       " 2.120519481735418,\n",
       " 2.1777188915816517,\n",
       " 1.6618817564019388,\n",
       " 1.8609221946005545,\n",
       " 2.1152346825758759,\n",
       " 1.7542054662447801,\n",
       " 2.2476505269136178,\n",
       " 1.8578290250062042,\n",
       " 1.8531989080209592,\n",
       " 2.4223674713296774,\n",
       " 2.003910030565927,\n",
       " 1.667420222364427,\n",
       " 2.106455936380021,\n",
       " 2.0290687349474035,\n",
       " 2.2179360018495458,\n",
       " 2.3824034321064569,\n",
       " 1.959407866436766,\n",
       " 2.3725158696346043,\n",
       " ...]"
      ]
     },
     "execution_count": 208,
     "metadata": {},
     "output_type": "execute_result"
    }
   ],
   "source": [
    "observations=[x for x in samp/float(1000) if x < 1/float(2)]\n",
    "[pxn(x,.6,1) for x in observations]"
   ]
  },
  {
   "cell_type": "code",
   "execution_count": 205,
   "metadata": {
    "collapsed": false
   },
   "outputs": [
    {
     "data": {
      "text/plain": [
       "1.6128561126127094"
      ]
     },
     "execution_count": 205,
     "metadata": {},
     "output_type": "execute_result"
    }
   ],
   "source": [
    "pxn2(.5,.6)"
   ]
  },
  {
   "cell_type": "code",
   "execution_count": 228,
   "metadata": {
    "collapsed": false
   },
   "outputs": [],
   "source": [
    "import pymc\n",
    "import numpy as np\n",
    "\n",
    "\n",
    "n = 5*np.ones(4,dtype=int)\n",
    "x = np.array([-0.86,-0.3,-0.05,.73])\n",
    "\n",
    "\n",
    "alpha = pymc.Normal('alpha',mu=0,tau=.01)\n",
    "beta = pymc.Normal('beta',mu=0,tau=.01)\n",
    "\n",
    "\n",
    "@pymc.deterministic\n",
    "def theta(a=alpha, b=beta):\n",
    "\t    \"\"\"theta = logit^{−1}(a+b)\"\"\"\n",
    "            return pymc.invlogit(a+b*x)\n",
    "\n",
    "\n",
    "d = pymc.Binomial('d', n=n, p=theta, value=np.array([0.,1.,3.,5.]),\n",
    "                         observed=True)"
   ]
  },
  {
   "cell_type": "code",
   "execution_count": 230,
   "metadata": {
    "collapsed": false
   },
   "outputs": [
    {
     "name": "stdout",
     "output_type": "stream",
     "text": [
      " [-----------------100%-----------------] 10000 of 10000 complete in 0.1 secPlotting theta_0\n",
      "Plotting theta_1\n",
      "Plotting theta_2\n",
      "Plotting theta_3\n"
     ]
    },
    {
     "data": {
      "image/png": "[encoded data removed]",
      "text/plain": [
       "<matplotlib.figure.Figure at 0x10d770950>"
      ]
     },
     "metadata": {},
     "output_type": "display_data"
    }
   ],
   "source": [
    "S = pymc.MCMC([theta],db='pickle')\n",
    "S.sample(iter = 10000, burn = 5000, thin = 2)\n",
    "pymc.Matplot.plot(S)"
   ]
  },
  {
   "cell_type": "code",
   "execution_count": 226,
   "metadata": {
    "collapsed": true
   },
   "outputs": [],
   "source": [
    "pymc.Matplot.plot(S)"
   ]
  },
  {
   "cell_type": "code",
   "execution_count": null,
   "metadata": {
    "collapsed": true
   },
   "outputs": [],
   "source": []
  }
 ],
 "metadata": {
  "anaconda-cloud": {},
  "kernelspec": {
   "display_name": "Python 2",
   "language": "python",
   "name": "python2"
  },
  "language_info": {
   "codemirror_mode": {
    "name": "ipython",
    "version": 2
   },
   "file_extension": ".py",
   "mimetype": "text/x-python",
   "name": "python",
   "nbconvert_exporter": "python",
   "pygments_lexer": "ipython2",
   "version": "2.7.12"
  }
 },
 "nbformat": 4,
 "nbformat_minor": 0
}
